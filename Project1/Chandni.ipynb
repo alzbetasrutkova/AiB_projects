{
 "cells": [
  {
   "cell_type": "code",
   "execution_count": 4,
   "metadata": {},
   "outputs": [
    {
     "data": {
      "text/plain": [
       "5"
      ]
     },
     "execution_count": 4,
     "metadata": {},
     "output_type": "execute_result"
    }
   ],
   "source": [
    "import numpy as np\n",
    "subst_mat = np.array([\n",
    "        [10,2,5,2],\n",
    "        [2,10,2,5],\n",
    "        [5,2,10,2],\n",
    "        [2,5,2,10]\n",
    "    ])\n",
    "\n",
    "\n",
    "subst_mat[0,2]"
   ]
  },
  {
   "cell_type": "code",
   "execution_count": 5,
   "metadata": {},
   "outputs": [],
   "source": [
    "def C(i,j):\n",
    "    if T[i, j] == None:        \n",
    "        dict_subst = {\"A\":0, \"C\": 1, \"G\":2, \"T\":3}\n",
    "        v1,v2,v3,v4 = 0,0,0,0\n",
    "        if i>0 and j>0 : \n",
    "            v1 = C(i-1,j-1)+ subst_mat[dict_subst[seq1[i-1]], dict_subst[seq2[j-1]]]\n",
    "        if i>0 and j>=0 : \n",
    "            v2 = C(i-1,j)-5\n",
    "        if i>=0 and j>0 : \n",
    "            v3 = C(i, j-1)-5\n",
    "        if i==0 and j==0 : \n",
    "            v4 = 0\n",
    "        T[i,j] = max(v1,v2,v3,v4)\n",
    "    return T[i,j] "
   ]
  },
  {
   "cell_type": "code",
   "execution_count": 17,
   "metadata": {},
   "outputs": [
    {
     "data": {
      "text/plain": [
       "66"
      ]
     },
     "execution_count": 17,
     "metadata": {},
     "output_type": "execute_result"
    }
   ],
   "source": [
    "seq1 = \"CGTGTCAAGTCT\"\n",
    "seq2 = \"ACGTCGTAGCTAGG\"\n",
    "\n",
    "m = len(seq1)\n",
    "n = len(seq2)\n",
    "\n",
    "#T = np.empty((m-1,n-1)) * np.nan\n",
    "T = np.full([m+1,n+1], None)\n",
    "\n",
    "C(m,n)"
   ]
  },
  {
   "cell_type": "code",
   "execution_count": 10,
   "metadata": {},
   "outputs": [],
   "source": [
    "import Bio"
   ]
  },
  {
   "cell_type": "code",
   "execution_count": 11,
   "metadata": {},
   "outputs": [],
   "source": [
    "from Bio import SeqIO\n",
    "import numpy as np\n",
    "\n",
    "def read_FASTA(filename):\n",
    "    records_dict = {}\n",
    "    for seq_record in SeqIO.parse(filename, \"fasta\"):\n",
    "        records_dict[seq_record.id] = seq_record.seq        \n",
    "    return records_dict"
   ]
  },
  {
   "cell_type": "code",
   "execution_count": 13,
   "metadata": {},
   "outputs": [
    {
     "name": "stdout",
     "output_type": "stream",
     "text": [
      "GGCCTAAAGGCGCCGGTCTTTCGTACCCCAAAATCTCGGCATTTTAAGATAAGTGAGTGTTGCGTTACACTAGCGATCTACCGCGTCTTATACTTAAGCGTATGCCCAGATCTGACTAATCGTGCCCCCGGATTAGACGGGCTTGATGGGAAAGAACAGCTCGTCTGTTTACGTATAAACAGAATCGCCTGGGTTCGC\n",
      "GGGCTAAAGGTTAGGGTCTTTCACACTAAAGAGTGGTGCGTATCGTGGCTAATGTACCGCTTCTGGTATCGTGGCTTACGGCCAGACCTACAAGTACTAGACCTGAGAACTAATCTTGTCGAGCCTTCCATTGAGGGTAATGGGAGAGAACATCGAGTCAGAAGTTATTCTTGTTTACGTAGAATCGCCTGGGTCCGC\n"
     ]
    }
   ],
   "source": [
    "seq1 = list(read_FASTA(\"/Users/chandnishaw/Desktop/AiB/Project1/seq1.fasta\").values())[0]\n",
    "seq2 = list(read_FASTA(\"/Users/chandnishaw/Desktop/AiB/Project1/seq2.fasta\").values())[0]\n",
    "print(seq1)\n",
    "print(seq2)"
   ]
  },
  {
   "cell_type": "code",
   "execution_count": 42,
   "metadata": {},
   "outputs": [
    {
     "data": {
      "text/plain": [
       "22"
      ]
     },
     "execution_count": 42,
     "metadata": {},
     "output_type": "execute_result"
    }
   ],
   "source": [
    "m = len(seq1)\n",
    "n = len(seq2)\n",
    "\n",
    "#T = np.empty((m-1,n-1)) * np.nan\n",
    "T = np.full([m+1,n+1], None)\n",
    "\n",
    "C(m,n)\n",
    "\n"
   ]
  },
  {
   "cell_type": "code",
   "execution_count": null,
   "metadata": {},
   "outputs": [],
   "source": [
    "#Backtracking from slides\n",
    "\n",
    "def RecurBackTrack(i, j):\n",
    "    direction = \"\"\n",
    "    if i>0 and j>0 and T[i, j] ==  T[i-1, j-1]+ subst_mat[dict_subst[seq1[i-1]], dict_subst[seq2[j-1]]]: \n",
    "            direction = \"dia\"\n",
    "            #return RecurBackTrack(i-1, j-1)\n",
    "    elif i>0 and j>=0 and T[i,j] == T[i-1,j] -5:\n",
    "             direction = \"up\"\n",
    "            #return RecurBackTrack(i-1, j)\n",
    "    elif i>=0 and j>0 and T[i,j] == T[i,j-1] -5:\n",
    "            direction = \"left\"\n",
    "            #return RecurBackTrack(i, j-1)\n",
    "    else:\n",
    "        direction:\"x\" \n",
    "        B[i,j] = direction"
   ]
  },
  {
   "cell_type": "code",
   "execution_count": 44,
   "metadata": {},
   "outputs": [],
   "source": [
    "def C(i,j):\n",
    "    if T[i, j] == None:        \n",
    "        dict_subst = {\"A\":0, \"C\": 1, \"G\":2, \"T\":3}\n",
    "        v1,v2,v3,v4 = 0,0,0,0\n",
    "        if i>0 and j>0 :      #diagonal\n",
    "            v1 = C(i-1,j-1)+ subst_mat[dict_subst[seq1[i-1]], dict_subst[seq2[j-1]]]\n",
    "        if i>0 and j>=0 :     #up\n",
    "            v2 = C(i-1,j)-5\n",
    "        if i>=0 and j>0 :    #left\n",
    "            v3 = C(i, j-1)-5\n",
    "        if i==0 and j==0 : \n",
    "            v4 = 0\n",
    "        maximum = max(v1,v2,v3,v4)\n",
    "        T[i,j] = maximum\n",
    "        direction = \"\"\n",
    "        if maximum == v1:\n",
    "            direction = \"diagonal\"\n",
    "        elif maximum == v2:\n",
    "            direction = \"up\"\n",
    "        elif maximum == v3:\n",
    "            direction = \"left\"\n",
    "        else:\n",
    "            direction:\"x\"            \n",
    "        BT[i,j] = direction\n",
    "    return T[i,j] "
   ]
  },
  {
   "cell_type": "code",
   "execution_count": 64,
   "metadata": {},
   "outputs": [
    {
     "name": "stdout",
     "output_type": "stream",
     "text": [
      "22\n",
      "[[0 0 0 0 0]\n",
      " [0 10 10 5 5]\n",
      " [0 10 20 15 10]\n",
      " [0 5 15 22 17]\n",
      " [0 10 15 20 27]\n",
      " [0 10 20 20 25]\n",
      " [0 5 15 22 22]]\n",
      "[['diagonal' 'diagonal' 'diagonal' 'diagonal' 'diagonal']\n",
      " ['diagonal' 'diagonal' 'diagonal' 'diagonal' 'diagonal']\n",
      " ['diagonal' 'diagonal' 'diagonal' 'diagonal' 'diagonal']\n",
      " ['diagonal' 'up' 'up' 'diagonal' 'diagonal']\n",
      " ['diagonal' 'diagonal' 'diagonal' 'diagonal' 'diagonal']\n",
      " ['diagonal' 'diagonal' 'diagonal' 'diagonal' 'diagonal']\n",
      " ['diagonal' 'up' 'up' 'diagonal' 'diagonal']]\n"
     ]
    }
   ],
   "source": [
    "seq1 = \"AATAAT\" \n",
    "seq2 = \"AAGG\" \n",
    "\n",
    "m = len(seq1)\n",
    "n = len(seq2)\n",
    "\n",
    "T = np.full([m+1,n+1], None)\n",
    "#The backtrack matrix\n",
    "BT = np.full([m+1,n+1], None)\n",
    "\n",
    "print(C(m,n))\n",
    "print(T)\n",
    "print(BT)\n"
   ]
  },
  {
   "cell_type": "code",
   "execution_count": null,
   "metadata": {},
   "outputs": [],
   "source": []
  }
 ],
 "metadata": {
  "kernelspec": {
   "display_name": "Python 3",
   "language": "python",
   "name": "python3"
  },
  "language_info": {
   "codemirror_mode": {
    "name": "ipython",
    "version": 3
   },
   "file_extension": ".py",
   "mimetype": "text/x-python",
   "name": "python",
   "nbconvert_exporter": "python",
   "pygments_lexer": "ipython3",
   "version": "3.7.4"
  }
 },
 "nbformat": 4,
 "nbformat_minor": 4
}
