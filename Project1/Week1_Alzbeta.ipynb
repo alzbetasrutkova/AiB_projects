{
 "cells": [
  {
   "cell_type": "code",
   "execution_count": 43,
   "metadata": {},
   "outputs": [],
   "source": [
    "import numpy as np\n",
    "subst_mat = np.array([\n",
    "        [10,2,5,2],\n",
    "        [2,10,2,5],\n",
    "        [5,2,10,2],\n",
    "        [2,5,2,10]\n",
    "    ])"
   ]
  },
  {
   "cell_type": "code",
   "execution_count": 44,
   "metadata": {},
   "outputs": [],
   "source": [
    "def C(i,j):\n",
    "    if T[i, j] == None:        \n",
    "        dict_subst = {\"A\":0, \"C\": 1, \"G\":2, \"T\":3}\n",
    "        v1,v2,v3,v4 = 0,0,0,0\n",
    "        if i>0 and j>0 : \n",
    "            v1 = C(i-1,j-1)+ subst_mat[dict_subst[seq1[i-1]], dict_subst[seq2[j-1]]]\n",
    "        if i>0 and j>=0 : \n",
    "            v2 = C(i-1,j)-5\n",
    "        if i>=0 and j>0 : \n",
    "            v3 = C(i, j-1)-5\n",
    "        if i==0 and j==0 : \n",
    "            v4 = 0\n",
    "        T[i,j] = max(v1,v2,v3,v4)\n",
    "    return T[i,j] "
   ]
  },
  {
   "cell_type": "code",
   "execution_count": 69,
   "metadata": {},
   "outputs": [],
   "source": [
    "def C(i,j):\n",
    "    if T[i, j] == None:        \n",
    "        dict_subst = {\"A\":0, \"C\": 1, \"G\":2, \"T\":3}\n",
    "        v1,v2,v3,v4 = 0,0,0,0\n",
    "        if i>0 and j>0 : \n",
    "            v1 = C(i-1,j-1)+ subst_mat[dict_subst[seq1[i-1]], dict_subst[seq2[j-1]]]\n",
    "        if i>0 and j>=0 : \n",
    "            v2 = C(i-1,j)-5\n",
    "        if i>=0 and j>0 : \n",
    "            v3 = C(i, j-1)-5\n",
    "        if i==0 and j==0 : \n",
    "            v4 = 0\n",
    "        max_val = max(v1,v2,v3,v4)\n",
    "        T[i,j] = max_val\n",
    "        dir = \"\"\n",
    "        if max_val == v1:\n",
    "            dir = \"dia\"\n",
    "        elif max_val == v2:\n",
    "            dir = \"up\"\n",
    "        elif max_val == v3:\n",
    "            dir = \"left\"\n",
    "        else:\n",
    "            dir:\"x\"            \n",
    "        B[i,j] = dir\n",
    "    return T[i,j] "
   ]
  },
  {
   "cell_type": "code",
   "execution_count": 70,
   "metadata": {},
   "outputs": [
    {
     "name": "stdout",
     "output_type": "stream",
     "text": [
      "27\n",
      "[[0 0 0 0 0 0]\n",
      " [0 10 5 2 2 10]\n",
      " [0 5 20 15 10 7]\n",
      " [0 5 15 22 17 15]\n",
      " [0 2 10 20 32 27]\n",
      " [0 2 5 20 27 34]\n",
      " [0 2 4 15 30 29]\n",
      " [0 2 4 14 25 32]\n",
      " [0 2 4 9 24 27]]\n",
      "[['dia' 'dia' 'dia' 'dia' 'dia' 'dia']\n",
      " ['dia' 'dia' 'dia' 'dia' 'dia' 'dia']\n",
      " ['dia' 'dia' 'dia' 'left' 'left' 'dia']\n",
      " ['dia' 'dia' 'dia' 'dia' 'dia' 'dia']\n",
      " ['dia' 'dia' 'up' 'dia' 'dia' 'left']\n",
      " ['dia' 'dia' 'up' 'dia' 'up' 'dia']\n",
      " ['dia' 'dia' 'dia' 'up' 'dia' 'dia']\n",
      " ['dia' 'dia' 'dia' 'dia' 'up' 'dia']\n",
      " ['dia' 'dia' 'dia' 'dia' 'dia' 'dia']]\n"
     ]
    }
   ],
   "source": [
    "seq1 = \"TCCAGAGA\"\n",
    "seq2 = \"TCGAT\"\n",
    "\n",
    "m = len(seq1)\n",
    "n = len(seq2)\n",
    "\n",
    "T = np.full([m+1,n+1], None)\n",
    "#The backtrack matrix\n",
    "B = np.full([m+1,n+1], None)\n",
    "\n",
    "print(C(m,n))\n",
    "print(T)\n",
    "print(B)"
   ]
  },
  {
   "cell_type": "code",
   "execution_count": 71,
   "metadata": {},
   "outputs": [
    {
     "name": "stdout",
     "output_type": "stream",
     "text": [
      "A\n",
      "-\n",
      "STOP\n",
      "AG\n",
      "-T\n",
      "STOP\n",
      "AGA\n",
      "-TA\n",
      "STOP\n",
      "AGAG\n",
      "-TA-\n",
      "STOP\n",
      "AGAGA\n",
      "-TA-G\n",
      "STOP\n",
      "AGAGAC\n",
      "-TA-GC\n",
      "STOP\n",
      "AGAGACC\n",
      "-TA-GCT\n",
      "STOP\n",
      "AGAGACCT\n",
      "-TA-GCTT\n",
      "STOP\n",
      "TCCAGAGA\n",
      "TTCG-AT-\n"
     ]
    }
   ],
   "source": [
    "#func to translate the backtrack\n",
    "#print(n)\n",
    "def get_alignment():\n",
    "    alignseq1 = \"\"\n",
    "    alignseq2 = \"\"\n",
    "    i = m-1\n",
    "    j = n-1\n",
    "    while i>=0 & j >=0:\n",
    "        if B[i,j] == \"dia\":\n",
    "            alignseq1 += seq1[i]\n",
    "            alignseq2 += seq2[j]\n",
    "            i -= 1\n",
    "            j -= 1\n",
    "        elif B[i,j] == \"up\":\n",
    "            alignseq1 += seq1[i]\n",
    "            alignseq2 += \"-\"\n",
    "            i -= 1\n",
    "        else:\n",
    "            alignseq1 += \"-\"\n",
    "            alignseq2 += seq2[i]\n",
    "            j -= 1\n",
    "        print(alignseq1)\n",
    "        print(alignseq2)\n",
    "        print(\"STOP\")\n",
    "    print(alignseq1[::-1])\n",
    "    print(alignseq2[::-1])\n",
    "            \n",
    "get_alignment()"
   ]
  },
  {
   "cell_type": "code",
   "execution_count": 38,
   "metadata": {},
   "outputs": [],
   "source": [
    "import Bio"
   ]
  },
  {
   "cell_type": "code",
   "execution_count": 39,
   "metadata": {},
   "outputs": [],
   "source": [
    "from Bio import SeqIO\n",
    "import numpy as np\n",
    "\n",
    "def read_FASTA(filename):\n",
    "    records_dict = {}\n",
    "    for seq_record in SeqIO.parse(filename, \"fasta\"):\n",
    "        records_dict[seq_record.id] = seq_record.seq        \n",
    "    return records_dict"
   ]
  },
  {
   "cell_type": "code",
   "execution_count": 40,
   "metadata": {},
   "outputs": [
    {
     "name": "stdout",
     "output_type": "stream",
     "text": [
      "GGCCTAAAGGCGCCGGTCTTTCGTACCCCAAAATCTCGGCATTTTAAGATAAGTGAGTGTTGCGTTACACTAGCGATCTACCGCGTCTTATACTTAAGCGTATGCCCAGATCTGACTAATCGTGCCCCCGGATTAGACGGGCTTGATGGGAAAGAACAGCTCGTCTGTTTACGTATAAACAGAATCGCCTGGGTTCGC\n",
      "GGGCTAAAGGTTAGGGTCTTTCACACTAAAGAGTGGTGCGTATCGTGGCTAATGTACCGCTTCTGGTATCGTGGCTTACGGCCAGACCTACAAGTACTAGACCTGAGAACTAATCTTGTCGAGCCTTCCATTGAGGGTAATGGGAGAGAACATCGAGTCAGAAGTTATTCTTGTTTACGTAGAATCGCCTGGGTCCGC\n"
     ]
    }
   ],
   "source": [
    "seq1 = list(read_FASTA(\"seq1.fasta\").values())[0]\n",
    "seq2 = list(read_FASTA(\"seq2.fasta\").values())[0]\n",
    "print(seq1)\n",
    "print(seq2)"
   ]
  },
  {
   "cell_type": "code",
   "execution_count": 42,
   "metadata": {},
   "outputs": [
    {
     "name": "stdout",
     "output_type": "stream",
     "text": [
      "1346\n"
     ]
    }
   ],
   "source": [
    "m = len(seq1)\n",
    "n = len(seq2)\n",
    "\n",
    "T = np.full([m+1,n+1], None)\n",
    "B = np.full([m+1,n+1], None)\n",
    "\n",
    "print(C(m,n))\n",
    "#print(T)"
   ]
  }
 ],
 "metadata": {
  "kernelspec": {
   "display_name": "Python 3",
   "language": "python",
   "name": "python3"
  },
  "language_info": {
   "codemirror_mode": {
    "name": "ipython",
    "version": 3
   },
   "file_extension": ".py",
   "mimetype": "text/x-python",
   "name": "python",
   "nbconvert_exporter": "python",
   "pygments_lexer": "ipython3",
   "version": "3.8.5"
  }
 },
 "nbformat": 4,
 "nbformat_minor": 4
}
