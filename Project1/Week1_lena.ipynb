{
 "cells": [
  {
   "cell_type": "code",
   "execution_count": 9,
   "metadata": {},
   "outputs": [],
   "source": [
    "import numpy as np\n",
    "subst_mat = np.array([\n",
    "        [10,2,5,2],\n",
    "        [2,10,2,5],\n",
    "        [5,2,10,2],\n",
    "        [2,5,2,10]\n",
    "    ])"
   ]
  },
  {
   "cell_type": "code",
   "execution_count": 7,
   "metadata": {},
   "outputs": [
    {
     "data": {
      "text/plain": [
       "5"
      ]
     },
     "execution_count": 7,
     "metadata": {},
     "output_type": "execute_result"
    }
   ],
   "source": [
    "subst_mat[0,2]"
   ]
  },
  {
   "cell_type": "code",
   "execution_count": 32,
   "metadata": {},
   "outputs": [],
   "source": [
    "def C(i,j):\n",
    "    dict_subst = {\"A\":0, \"C\": 1, \"G\":2, \"T\":3}\n",
    "    v1,v2,v3,v4 = 0,0,0,0\n",
    "    if i>0 and j>0 : \n",
    "        v1 = C(i-1,j-1)+ subst_mat[dict_subst[seq1[i-1]], dict_subst[seq2[j-1]]]\n",
    "    if i>0 and j>=0 : \n",
    "        v2 = C(i-1,j)-5\n",
    "    if i>=0 and j>0 : \n",
    "        v3 = C(i, j-1)-5\n",
    "    if i==0 and j==0 : \n",
    "        v4 = 0\n",
    "    return max(v1,v2,v3,v4) "
   ]
  },
  {
   "cell_type": "code",
   "execution_count": 33,
   "metadata": {},
   "outputs": [
    {
     "data": {
      "text/plain": [
       "22"
      ]
     },
     "execution_count": 33,
     "metadata": {},
     "output_type": "execute_result"
    }
   ],
   "source": [
    "seq1 = \"AATAAT\"\n",
    "seq2 = \"AAGG\"\n",
    "C(len(seq1),len(seq2))"
   ]
  },
  {
   "cell_type": "code",
   "execution_count": 6,
   "metadata": {},
   "outputs": [],
   "source": [
    "import Bio"
   ]
  },
  {
   "cell_type": "code",
   "execution_count": 8,
   "metadata": {},
   "outputs": [
    {
     "name": "stdout",
     "output_type": "stream",
     "text": [
      "GGCCTAAAGGCGCCGGTCTTTCGTACCCCAAAATCTCGGCATTTTAAGATAAGTGAGTGTTGCGTTACACTAGCGATCTACCGCGTCTTATACTTAAGCGTATGCCCAGATCTGACTAATCGTGCCCCCGGATTAGACGGGCTTGATGGGAAAGAACAGCTCGTCTGTTTACGTATAAACAGAATCGCCTGGGTTCGC\n",
      "GGGCTAAAGGTTAGGGTCTTTCACACTAAAGAGTGGTGCGTATCGTGGCTAATGTACCGCTTCTGGTATCGTGGCTTACGGCCAGACCTACAAGTACTAGACCTGAGAACTAATCTTGTCGAGCCTTCCATTGAGGGTAATGGGAGAGAACATCGAGTCAGAAGTTATTCTTGTTTACGTAGAATCGCCTGGGTCCGC\n"
     ]
    }
   ],
   "source": [
    "from Bio import SeqIO\n",
    "\n",
    "def read_FASTA(filename):\n",
    "    records_dict = {}\n",
    "    for seq_record in SeqIO.parse(filename, \"fasta\"):\n",
    "        records_dict[seq_record.id] = seq_record.seq        \n",
    "    return records_dict\n",
    "\n",
    "seq1 = list(read_FASTA(\"seq1.fasta\").values())[0]\n",
    "seq2 = list(read_FASTA(\"seq2.fasta\").values())[0]\n",
    "print(seq1)\n",
    "print(seq2)"
   ]
  },
  {
   "cell_type": "code",
   "execution_count": 41,
   "metadata": {},
   "outputs": [],
   "source": [
    "T = np.full([len(seq1), len(seq2)],None)\n",
    "def C(i,j):\n",
    "    dict_subst = {\"A\":0, \"C\": 1, \"G\":2, \"T\":3}\n",
    "    if T[i,j]==None : \n",
    "        v1,v2,v3,v4 = 0,0,0,0\n",
    "        if i>0 and j>0 : \n",
    "            v1 = C(i-1,j-1)+ subst_mat[dict_subst[seq1[i-1]], dict_subst[seq2[j-1]]]\n",
    "        if i>0 and j>=0 : \n",
    "            v2 = C(i-1,j)-5\n",
    "        if i>=0 and j>0 : \n",
    "            v3 = C(i, j-1)-5\n",
    "        if i==0 and j==0 : \n",
    "            v4 = 0\n",
    "        T[i,j] = max(v1,v2,v3,v4)\n",
    "    return T[i,j]"
   ]
  },
  {
   "cell_type": "code",
   "execution_count": 71,
   "metadata": {},
   "outputs": [
    {
     "data": {
      "text/plain": [
       "66"
      ]
     },
     "execution_count": 71,
     "metadata": {},
     "output_type": "execute_result"
    }
   ],
   "source": [
    "seq1 = \"CGTGTCAAGTCT\"\n",
    "seq2 = \"ACGTCGTAGCTAGG\"\n",
    "T = np.full([len(seq1)+1, len(seq2)+1],None)\n",
    "C(len(seq1),len(seq2))"
   ]
  },
  {
   "cell_type": "code",
   "execution_count": 58,
   "metadata": {},
   "outputs": [],
   "source": [
    "seq1 = list(read_FASTA(\"seq1.fasta\").values())[0]\n",
    "seq2 = list(read_FASTA(\"seq2.fasta\").values())[0]\n",
    "T = np.full([len(seq1)+1, len(seq2)+1],None)\n",
    "mat=C(len(seq1),len(seq2))"
   ]
  },
  {
   "cell_type": "code",
   "execution_count": 63,
   "metadata": {},
   "outputs": [
    {
     "data": {
      "text/plain": [
       "array([[0, 0, 0, ..., 0, 0, 0],\n",
       "       [0, 10, 10, ..., 2, 10, 5],\n",
       "       [0, 10, 20, ..., 5, 12, 12],\n",
       "       ...,\n",
       "       [0, 2, 5, ..., 1326, 1321, 1316],\n",
       "       [0, 10, 12, ..., 1321, 1336, 1331],\n",
       "       [0, 5, 12, ..., 1321, 1331, 1346]], dtype=object)"
      ]
     },
     "execution_count": 63,
     "metadata": {},
     "output_type": "execute_result"
    }
   ],
   "source": [
    "T"
   ]
  },
  {
   "cell_type": "code",
   "execution_count": 82,
   "metadata": {},
   "outputs": [],
   "source": [
    "def backtrack(mat, n, m, path1=\"\", path2=\"\"):\n",
    "    if n==1 and m==1:\n",
    "        return (path1,path2)\n",
    "    elif n==1 :\n",
    "        for i in range(m):\n",
    "            path1+=\"_\"\n",
    "            path2+= seq2[m-i]\n",
    "        return(path1, path2)\n",
    "    elif m==1 : \n",
    "        for i in range(n):\n",
    "            path1+=seq1[n-i]\n",
    "            path2+=\"_\"\n",
    "        return(path1, path2)\n",
    "    else :\n",
    "        next_step = min(mat[n-1,m-1], mat[n-1,m], mat[n,m-1])\n",
    "        if mat[n-1,m-1]==next_step :\n",
    "            path1+=seq1[n]\n",
    "            path2 += seq2[m]\n",
    "            return backtrack(mat,n-1,m-1,path1,path2)\n",
    "        if mat[n-1,m]==next_step :\n",
    "            path1 += \"_\"\n",
    "            path2 += seq2[m]\n",
    "            return backtrack(mat,n-1,m,path1,path2)\n",
    "        if mat[n,m-1]==next_step :\n",
    "            path1 += \"_\"\n",
    "            path2 += seq2[m]\n",
    "            return backtrack(mat,n,m-1,path1,path2)"
   ]
  },
  {
   "cell_type": "code",
   "execution_count": 83,
   "metadata": {},
   "outputs": [
    {
     "name": "stdout",
     "output_type": "stream",
     "text": [
      "22 [[0 0 0 0 0]\n",
      " [0 10 10 5 5]\n",
      " [0 10 20 15 10]\n",
      " [0 5 15 22 17]\n",
      " [0 10 15 20 27]\n",
      " [0 10 20 20 25]\n",
      " [0 5 15 22 22]]\n"
     ]
    },
    {
     "data": {
      "text/plain": [
       "('TAATA', 'GG___')"
      ]
     },
     "execution_count": 83,
     "metadata": {},
     "output_type": "execute_result"
    }
   ],
   "source": [
    "seq1 = \"AATAAT\" # len = 6\n",
    "seq2 = \"AAGG\" # len = 4\n",
    "T = np.full([len(seq1)+1, len(seq2)+1],None) # shape = (7,5)\n",
    "mat = C(len(seq1),len(seq2))\n",
    "print(mat, T)\n",
    "backtrack(T, T.shape[0]-2, T.shape[1]-2)"
   ]
  },
  {
   "cell_type": "code",
   "execution_count": 81,
   "metadata": {},
   "outputs": [
    {
     "data": {
      "text/plain": [
       "'A'"
      ]
     },
     "execution_count": 81,
     "metadata": {},
     "output_type": "execute_result"
    }
   ],
   "source": [
    "seq1[0]"
   ]
  },
  {
   "cell_type": "code",
   "execution_count": 89,
   "metadata": {},
   "outputs": [],
   "source": [
    "def backtrack(mat, n, m):\n",
    "    if n==1 and m==1:\n",
    "        return B\n",
    "    elif n==1 :\n",
    "        for i in range(m-1):\n",
    "            B[1,m-i]=\"left\"\n",
    "        return(B)\n",
    "    elif m==1 : \n",
    "        for i in range(n-1):\n",
    "            B[n-i,1]=\"up\"\n",
    "        return B\n",
    "    else :\n",
    "        next_step = min(mat[n-1,m-1], mat[n-1,m], mat[n,m-1])\n",
    "        if mat[n-1,m-1]==next_step :\n",
    "            B[n,m]=\"diag\"\n",
    "            return backtrack(mat,n-1,m-1)\n",
    "        if mat[n-1,m]==next_step :\n",
    "            B[n,m]=\"up\"\n",
    "            return backtrack(mat,n-1,m)\n",
    "        if mat[n,m-1]==next_step :\n",
    "            B[n,m]=\"left\"\n",
    "            return backtrack(mat,n,m-1)"
   ]
  },
  {
   "cell_type": "code",
   "execution_count": 94,
   "metadata": {},
   "outputs": [
    {
     "name": "stdout",
     "output_type": "stream",
     "text": [
      "22 [[0 0 0 0 0]\n",
      " [0 10 10 5 5]\n",
      " [0 10 20 15 10]\n",
      " [0 5 15 22 17]\n",
      " [0 10 15 20 27]\n",
      " [0 10 20 20 25]\n",
      " [0 5 15 22 22]]\n"
     ]
    }
   ],
   "source": [
    "seq1 = \"AATAAT\" # len = 6\n",
    "seq2 = \"AAGG\" # len = 4\n",
    "T = np.full([len(seq1)+1, len(seq2)+1],None) # shape = (7,5)\n",
    "mat = C(len(seq1),len(seq2))\n",
    "print(mat, T)\n",
    "B = np.full([len(seq1)+1, len(seq2)+1],None)\n",
    "B[1,1]= \"Start\"\n",
    "mat = backtrack(T, T.shape[0]-1, T.shape[1]-1)"
   ]
  },
  {
   "cell_type": "code",
   "execution_count": 98,
   "metadata": {},
   "outputs": [],
   "source": [
    "def read_align (mat):\n",
    "    n,m=mat.shape[0]-1, mat.shape[1]-1\n",
    "    i,j=1,1\n",
    "    align1=\"\"\n",
    "    align2=\"\"\n",
    "    while (i,j)!=(n,m):\n",
    "        if mat[i+1,j+1]==\"diag\":\n",
    "            align1+=seq1[i]\n",
    "            align2+=seq2[j]\n",
    "            i+=1\n",
    "            j+=1\n",
    "        elif mat[i,m+1]==\"left\":\n",
    "            align1+=\"_\"\n",
    "            align2 += seq2[m]\n",
    "            j+=1\n",
    "        elif mat[i-1,j]==\"up\":\n",
    "            align1+= seq1[i]\n",
    "            align2+=\"_\"\n",
    "            i+=1\n",
    "    return (align1, align2)"
   ]
  },
  {
   "cell_type": "code",
   "execution_count": 99,
   "metadata": {},
   "outputs": [
    {
     "ename": "IndexError",
     "evalue": "index 5 is out of bounds for axis 1 with size 5",
     "output_type": "error",
     "traceback": [
      "\u001b[1;31m---------------------------------------------------------------------------\u001b[0m",
      "\u001b[1;31mIndexError\u001b[0m                                Traceback (most recent call last)",
      "\u001b[1;32m<ipython-input-99-19282a19ebd0>\u001b[0m in \u001b[0;36m<module>\u001b[1;34m\u001b[0m\n\u001b[1;32m----> 1\u001b[1;33m \u001b[0mread_align\u001b[0m\u001b[1;33m(\u001b[0m\u001b[0mmat\u001b[0m\u001b[1;33m)\u001b[0m\u001b[1;33m\u001b[0m\u001b[1;33m\u001b[0m\u001b[0m\n\u001b[0m",
      "\u001b[1;32m<ipython-input-98-2e8ceda616e9>\u001b[0m in \u001b[0;36mread_align\u001b[1;34m(mat)\u001b[0m\n\u001b[0;32m     10\u001b[0m             \u001b[0mi\u001b[0m\u001b[1;33m+=\u001b[0m\u001b[1;36m1\u001b[0m\u001b[1;33m\u001b[0m\u001b[1;33m\u001b[0m\u001b[0m\n\u001b[0;32m     11\u001b[0m             \u001b[0mj\u001b[0m\u001b[1;33m+=\u001b[0m\u001b[1;36m1\u001b[0m\u001b[1;33m\u001b[0m\u001b[1;33m\u001b[0m\u001b[0m\n\u001b[1;32m---> 12\u001b[1;33m         \u001b[1;32melif\u001b[0m \u001b[0mmat\u001b[0m\u001b[1;33m[\u001b[0m\u001b[0mi\u001b[0m\u001b[1;33m,\u001b[0m\u001b[0mm\u001b[0m\u001b[1;33m+\u001b[0m\u001b[1;36m1\u001b[0m\u001b[1;33m]\u001b[0m\u001b[1;33m==\u001b[0m\u001b[1;34m\"left\"\u001b[0m\u001b[1;33m:\u001b[0m\u001b[1;33m\u001b[0m\u001b[1;33m\u001b[0m\u001b[0m\n\u001b[0m\u001b[0;32m     13\u001b[0m             \u001b[0malign1\u001b[0m\u001b[1;33m+=\u001b[0m\u001b[1;34m\"_\"\u001b[0m\u001b[1;33m\u001b[0m\u001b[1;33m\u001b[0m\u001b[0m\n\u001b[0;32m     14\u001b[0m             \u001b[0malign2\u001b[0m \u001b[1;33m+=\u001b[0m \u001b[0mseq2\u001b[0m\u001b[1;33m[\u001b[0m\u001b[0mm\u001b[0m\u001b[1;33m]\u001b[0m\u001b[1;33m\u001b[0m\u001b[1;33m\u001b[0m\u001b[0m\n",
      "\u001b[1;31mIndexError\u001b[0m: index 5 is out of bounds for axis 1 with size 5"
     ]
    }
   ],
   "source": [
    "read_align(mat)"
   ]
  }
 ],
 "metadata": {
  "kernelspec": {
   "display_name": "Python 3",
   "language": "python",
   "name": "python3"
  },
  "language_info": {
   "codemirror_mode": {
    "name": "ipython",
    "version": 3
   },
   "file_extension": ".py",
   "mimetype": "text/x-python",
   "name": "python",
   "nbconvert_exporter": "python",
   "pygments_lexer": "ipython3",
   "version": "3.8.5"
  }
 },
 "nbformat": 4,
 "nbformat_minor": 4
}
