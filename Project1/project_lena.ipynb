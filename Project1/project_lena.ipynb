{
 "cells": [
  {
   "cell_type": "code",
   "execution_count": 2,
   "metadata": {},
   "outputs": [],
   "source": [
    "import numpy as np\n",
    "subst_mat = np.array([\n",
    "        [10,2,5,2],\n",
    "        [2,10,2,5],\n",
    "        [5,2,10,2],\n",
    "        [2,5,2,10]\n",
    "    ])"
   ]
  },
  {
   "cell_type": "code",
   "execution_count": 3,
   "metadata": {},
   "outputs": [
    {
     "data": {
      "text/plain": [
       "5"
      ]
     },
     "execution_count": 3,
     "metadata": {},
     "output_type": "execute_result"
    }
   ],
   "source": [
    "subst_mat[0,2]"
   ]
  },
  {
   "cell_type": "code",
   "execution_count": 4,
   "metadata": {},
   "outputs": [
    {
     "name": "stdout",
     "output_type": "stream",
     "text": [
      "GGCCTAAAGGCGCCGGTCTTTCGTACCCCAAAATCTCGGCATTTTAAGATAAGTGAGTGTTGCGTTACACTAGCGATCTACCGCGTCTTATACTTAAGCGTATGCCCAGATCTGACTAATCGTGCCCCCGGATTAGACGGGCTTGATGGGAAAGAACAGCTCGTCTGTTTACGTATAAACAGAATCGCCTGGGTTCGC\n",
      "GGGCTAAAGGTTAGGGTCTTTCACACTAAAGAGTGGTGCGTATCGTGGCTAATGTACCGCTTCTGGTATCGTGGCTTACGGCCAGACCTACAAGTACTAGACCTGAGAACTAATCTTGTCGAGCCTTCCATTGAGGGTAATGGGAGAGAACATCGAGTCAGAAGTTATTCTTGTTTACGTAGAATCGCCTGGGTCCGC\n"
     ]
    }
   ],
   "source": [
    "from Bio import SeqIO\n",
    "\n",
    "def read_FASTA(filename):\n",
    "    records_dict = {}\n",
    "    for seq_record in SeqIO.parse(filename, \"fasta\"):\n",
    "        records_dict[seq_record.id] = seq_record.seq        \n",
    "    return records_dict\n",
    "\n",
    "seq1 = list(read_FASTA(\"seq1.fasta\").values())[0]\n",
    "seq2 = list(read_FASTA(\"seq2.fasta\").values())[0]\n",
    "print(seq1)\n",
    "print(seq2)"
   ]
  },
  {
   "cell_type": "code",
   "execution_count": 5,
   "metadata": {},
   "outputs": [],
   "source": [
    "T = np.full([len(seq1), len(seq2)],None)\n",
    "def C(i,j):\n",
    "    dict_subst = {\"A\":0, \"C\": 1, \"G\":2, \"T\":3}\n",
    "    if T[i,j]==None : \n",
    "        v1,v2,v3,v4 = 0,0,0,0\n",
    "        if i>0 and j>0 : \n",
    "            v1 = C(i-1,j-1)+ subst_mat[dict_subst[seq1[i-1]], dict_subst[seq2[j-1]]]\n",
    "        if i>0 and j>=0 : \n",
    "            v2 = C(i-1,j)-5\n",
    "        if i>=0 and j>0 : \n",
    "            v3 = C(i, j-1)-5\n",
    "        if i==0 and j==0 : \n",
    "            v4 = 0\n",
    "        T[i,j] = max(v1,v2,v3,v4)\n",
    "    return T[i,j]"
   ]
  },
  {
   "cell_type": "code",
   "execution_count": 6,
   "metadata": {},
   "outputs": [
    {
     "data": {
      "text/plain": [
       "66"
      ]
     },
     "execution_count": 6,
     "metadata": {},
     "output_type": "execute_result"
    }
   ],
   "source": [
    "seq1 = \"CGTGTCAAGTCT\"\n",
    "seq2 = \"ACGTCGTAGCTAGG\"\n",
    "T = np.full([len(seq1)+1, len(seq2)+1],None)\n",
    "C(len(seq1),len(seq2))"
   ]
  },
  {
   "cell_type": "code",
   "execution_count": 7,
   "metadata": {},
   "outputs": [],
   "source": [
    "seq1 = list(read_FASTA(\"seq1.fasta\").values())[0]\n",
    "seq2 = list(read_FASTA(\"seq2.fasta\").values())[0]\n",
    "T = np.full([len(seq1)+1, len(seq2)+1],None)\n",
    "mat=C(len(seq1),len(seq2))"
   ]
  },
  {
   "cell_type": "code",
   "execution_count": 7,
   "metadata": {},
   "outputs": [
    {
     "data": {
      "text/plain": [
       "array([[0, 0, 0, ..., 0, 0, 0],\n",
       "       [0, 10, 10, ..., 2, 10, 5],\n",
       "       [0, 10, 20, ..., 5, 12, 12],\n",
       "       ...,\n",
       "       [0, 2, 5, ..., 1326, 1321, 1316],\n",
       "       [0, 10, 12, ..., 1321, 1336, 1331],\n",
       "       [0, 5, 12, ..., 1321, 1331, 1346]], dtype=object)"
      ]
     },
     "execution_count": 7,
     "metadata": {},
     "output_type": "execute_result"
    }
   ],
   "source": [
    "T"
   ]
  },
  {
   "cell_type": "code",
   "execution_count": 8,
   "metadata": {},
   "outputs": [],
   "source": [
    "def backtrack(mat, n, m):\n",
    "    if n==1 and m==1:\n",
    "        return B\n",
    "    elif n==1 :\n",
    "        for i in range(m-1):\n",
    "            B[1,m-i]=\"left\"\n",
    "        return(B)\n",
    "    elif m==1 : \n",
    "        for i in range(n-1):\n",
    "            B[n-i,1]=\"up\"\n",
    "        return B\n",
    "    else :\n",
    "        next_step = min(mat[n-1,m-1], mat[n-1,m], mat[n,m-1])\n",
    "        if mat[n-1,m-1]==next_step :\n",
    "            B[n,m]=\"diag\"\n",
    "            return backtrack(mat,n-1,m-1)\n",
    "        if mat[n-1,m]==next_step :\n",
    "            B[n,m]=\"up\"\n",
    "            return backtrack(mat,n-1,m)\n",
    "        if mat[n,m-1]==next_step :\n",
    "            B[n,m]=\"left\"\n",
    "            return backtrack(mat,n,m-1)"
   ]
  },
  {
   "cell_type": "code",
   "execution_count": 53,
   "metadata": {},
   "outputs": [
    {
     "name": "stdout",
     "output_type": "stream",
     "text": [
      "22 [[0 0 0 0 0]\n",
      " [0 10 10 5 5]\n",
      " [0 10 20 15 10]\n",
      " [0 5 15 22 17]\n",
      " [0 10 15 20 27]\n",
      " [0 10 20 20 25]\n",
      " [0 5 15 22 22]]\n"
     ]
    }
   ],
   "source": [
    "seq1 = \"AATAAT\" # len = 6\n",
    "seq2 = \"AAGG\" # len = 4\n",
    "T = np.full([len(seq1)+1, len(seq2)+1],None) # shape = (7,5)\n",
    "mat = C(len(seq1),len(seq2))\n",
    "print(mat, T)\n",
    "B = np.full([len(seq1)+1, len(seq2)+1],\"None\")\n",
    "B[1,1]= \"Start\"\n",
    "mat = backtrack(T, T.shape[0]-1, T.shape[1]-1)"
   ]
  },
  {
   "cell_type": "code",
   "execution_count": 60,
   "metadata": {},
   "outputs": [],
   "source": [
    "def read_align (mat):\n",
    "    print(mat)\n",
    "    n,m=mat.shape[0]-1, mat.shape[1]-1\n",
    "    i,j=1,1\n",
    "    align1=\"\"\n",
    "    align2=\"\"\n",
    "    while (i+1,j+1)!=(n,m):\n",
    "        print(i,j)\n",
    "        if mat[i+2,j+2]==\"diag\":\n",
    "            print(\"here1\")\n",
    "            align1+=seq1[i-1]\n",
    "            align2+=seq2[j-1]\n",
    "            i+=1\n",
    "            j+=1\n",
    "        elif mat[i,j+1]==\"left\":\n",
    "            print(\"here2\")\n",
    "            align1+=\"_\"\n",
    "            align2 += seq2[m-1]\n",
    "            j+=1\n",
    "        elif mat[i+1,j]==\"up\":\n",
    "            print(\"here3\")\n",
    "            align1+= seq1[i-1]\n",
    "            align2+=\"_\"\n",
    "            i+=1\n",
    "    return (align1, align2)"
   ]
  },
  {
   "cell_type": "code",
   "execution_count": 61,
   "metadata": {},
   "outputs": [
    {
     "name": "stdout",
     "output_type": "stream",
     "text": [
      "[['None' 'None' 'None' 'None' 'None']\n",
      " ['None' 'Star' 'None' 'None' 'None']\n",
      " ['None' 'up' 'None' 'None' 'None']\n",
      " ['None' 'up' 'None' 'None' 'None']\n",
      " ['None' 'None' 'diag' 'None' 'None']\n",
      " ['None' 'None' 'None' 'diag' 'None']\n",
      " ['None' 'None' 'None' 'None' 'diag']]\n",
      "1 1\n",
      "here3\n",
      "2 1\n",
      "here3\n",
      "3 1\n",
      "here1\n",
      "4 2\n",
      "here1\n"
     ]
    },
    {
     "data": {
      "text/plain": [
       "('AATA', '__AA')"
      ]
     },
     "execution_count": 61,
     "metadata": {},
     "output_type": "execute_result"
    }
   ],
   "source": [
    "read_align(mat)"
   ]
  },
  {
   "cell_type": "code",
   "execution_count": 52,
   "metadata": {},
   "outputs": [
    {
     "data": {
      "text/plain": [
       "array([[None, None, None, None, None],\n",
       "       [None, 'Start', None, None, None],\n",
       "       [None, 'up', None, None, None],\n",
       "       [None, 'up', None, None, None],\n",
       "       [None, None, 'diag', None, None],\n",
       "       [None, None, None, 'diag', None],\n",
       "       [None, None, None, None, 'diag']], dtype=object)"
      ]
     },
     "execution_count": 52,
     "metadata": {},
     "output_type": "execute_result"
    }
   ],
   "source": [
    "mat"
   ]
  },
  {
   "cell_type": "code",
   "execution_count": 76,
   "metadata": {},
   "outputs": [],
   "source": [
    "def RecurBackTrack(i,j, seq1, seq2, gap_cost, T, align1=\"\", align2=\"\"):\n",
    "    dict_subst = {\"A\":0, \"C\": 1, \"G\":2, \"T\":3}\n",
    "    print(i,j)\n",
    "    print(\"cost\",T[i,j], T[i-1,j]+ gap_cost )\n",
    "    if i>0 and j>0 and T[i,j]==T[i-1,j-1]+ subst_mat[dict_subst[seq1[i-1]], dict_subst[seq2[j-1]]] :\n",
    "        print(\"in 1\")\n",
    "        align1 = seq1[i-1] + align1\n",
    "        align2 = seq2[j-1] + align2\n",
    "        RecurBackTrack(i-1,j-1,seq1, seq2, gap_cost, T, align1, align2)\n",
    "    elif i>0 and j>=0 and T[i,j]==T[i-1,j]+ gap_cost :\n",
    "        print(\"in 2\")\n",
    "        align1 = seq1[i-1] + align1\n",
    "        align2 = \"_\" + align2\n",
    "        RecurBackTrack(i-1,j,seq1, seq2, gap_cost, T, align1, align2)\n",
    "    elif i>=0 and j>0 and T[i,j]==T[i,j-1]+gap_cost : \n",
    "        print (\"in 3\")\n",
    "        align1 = \"_\" + align1\n",
    "        align2 = seq2[j-1] + align2\n",
    "        RecurBackTrack(i,j-1, seq1, seq2, gap_cost, T, align1, align2)\n",
    "    else:\n",
    "        print( \"in 4\")\n",
    "        print(align1, align2)\n",
    "        return \"hey\""
   ]
  },
  {
   "cell_type": "code",
   "execution_count": 72,
   "metadata": {},
   "outputs": [],
   "source": [
    "def RecurBackTrack(i,j, seq1, seq2, gap_cost, T, align1=\"\", align2=\"\"):\n",
    "    dict_subst = {\"A\":0, \"C\": 1, \"G\":2, \"T\":3}\n",
    "    print(i,j)\n",
    "    if i>0 and j>0 and T[i,j]==T[i-1,j-1]+ subst_mat[dict_subst[seq1[i-1]], dict_subst[seq2[j-1]]] :\n",
    "        print(\"in 1\")\n",
    "        align1 = seq1[i-1] + align1\n",
    "        align2 = seq2[j-1] + align2\n",
    "        RecurBackTrack(i-1,j-1,seq1, seq2, gap_cost, T, align1, align2)\n",
    "    elif i>0 and j>=0:\n",
    "        print(\"in 2\")\n",
    "        align1 = seq1[i-1] + align1\n",
    "        align2 = \"_\" + align2\n",
    "        RecurBackTrack(i-1,j,seq1, seq2, gap_cost, T, align1, align2)\n",
    "    elif i>=0 and j>0: \n",
    "        print (\"in 3\")\n",
    "        align1 = \"_\" + align1\n",
    "        align2 = seq2[j-1] + align2\n",
    "        RecurBackTrack(i,j-1, seq1, seq2, gap_cost, T, align1, align2)\n",
    "    else:\n",
    "        print( \"in 4\")\n",
    "        print(align1, align2)\n",
    "        return align1"
   ]
  },
  {
   "cell_type": "code",
   "execution_count": 77,
   "metadata": {},
   "outputs": [
    {
     "name": "stdout",
     "output_type": "stream",
     "text": [
      "12 14\n",
      "cost 66 61\n",
      "in 1\n",
      "11 13\n",
      "cost 64 59\n",
      "in 1\n",
      "10 12\n",
      "cost 62 49\n",
      "in 3\n",
      "10 11\n",
      "cost 67 51\n",
      "in 1\n",
      "9 10\n",
      "cost 57 49\n",
      "in 1\n",
      "8 9\n",
      "cost 55 47\n",
      "in 1\n",
      "7 8\n",
      "cost 50 42\n",
      "in 1\n",
      "6 7\n",
      "cost 40 40\n",
      "in 2\n",
      "5 7\n",
      "cost 45 25\n",
      "in 1\n",
      "4 6\n",
      "cost 35 15\n",
      "in 1\n",
      "3 5\n",
      "cost 25 5\n",
      "in 3\n",
      "3 4\n",
      "cost 30 10\n",
      "in 1\n",
      "2 3\n",
      "cost 20 0\n",
      "in 1\n",
      "1 2\n",
      "cost 10 -5\n",
      "in 1\n",
      "0 1\n",
      "cost 0 -3\n",
      "in 4\n",
      "CGT_GTCAAGT_CT CGTCGT_AGCTAGG\n",
      "66\n"
     ]
    }
   ],
   "source": [
    "seq1 = \"CGTGTCAAGTCT\" \n",
    "seq2 = \"ACGTCGTAGCTAGG\" \n",
    "T = np.full([len(seq1)+1, len(seq2)+1],None)\n",
    "mat = C(len(seq1),len(seq2))\n",
    "RecurBackTrack(len(seq1),len(seq2), seq1, seq2, -5, T)\n",
    "print(mat)"
   ]
  },
  {
   "cell_type": "code",
   "execution_count": 74,
   "metadata": {},
   "outputs": [
    {
     "name": "stdout",
     "output_type": "stream",
     "text": [
      "6 4\n",
      "in 1\n",
      "5 3\n",
      "in 1\n",
      "4 2\n",
      "in 1\n",
      "3 1\n",
      "in 2\n",
      "2 1\n",
      "in 1\n",
      "1 0\n",
      "in 2\n",
      "0 0\n",
      "in 4\n",
      "AATAAT _A_AGG\n",
      "22\n"
     ]
    }
   ],
   "source": [
    "seq1 = \"AATAAT\" \n",
    "seq2 = \"AAGG\" \n",
    "T = np.full([len(seq1)+1, len(seq2)+1],None)\n",
    "mat = C(len(seq1),len(seq2))\n",
    "RecurBackTrack(len(seq1),len(seq2), seq1, seq2, -5, T)\n",
    "print(mat)"
   ]
  },
  {
   "cell_type": "code",
   "execution_count": 65,
   "metadata": {},
   "outputs": [
    {
     "data": {
      "text/plain": [
       "array([[0, 0, 0, 0, 0, 0],\n",
       "       [0, 10, 5, 2, 2, 10],\n",
       "       [0, 5, 20, 15, 10, 7],\n",
       "       [0, 5, 15, 22, 17, 15],\n",
       "       [0, 2, 10, 20, 32, 27],\n",
       "       [0, 2, 5, 20, 27, 34],\n",
       "       [0, 2, 4, 15, 30, 29],\n",
       "       [0, 2, 4, 14, 25, 32],\n",
       "       [0, 2, 4, 9, 24, 27]], dtype=object)"
      ]
     },
     "execution_count": 65,
     "metadata": {},
     "output_type": "execute_result"
    }
   ],
   "source": [
    "T"
   ]
  }
 ],
 "metadata": {
  "kernelspec": {
   "display_name": "Python 3",
   "language": "python",
   "name": "python3"
  },
  "language_info": {
   "codemirror_mode": {
    "name": "ipython",
    "version": 3
   },
   "file_extension": ".py",
   "mimetype": "text/x-python",
   "name": "python",
   "nbconvert_exporter": "python",
   "pygments_lexer": "ipython3",
   "version": "3.8.5"
  }
 },
 "nbformat": 4,
 "nbformat_minor": 4
}
