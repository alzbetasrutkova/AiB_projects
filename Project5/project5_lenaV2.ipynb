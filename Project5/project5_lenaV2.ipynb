{
 "cells": [
  {
   "cell_type": "code",
   "execution_count": 2,
   "metadata": {},
   "outputs": [],
   "source": [
    "import numpy as np\n",
    "import pandas as pd"
   ]
  },
  {
   "cell_type": "markdown",
   "metadata": {},
   "source": [
    "# Distance matrix"
   ]
  },
  {
   "cell_type": "code",
   "execution_count": 3,
   "metadata": {},
   "outputs": [],
   "source": [
    "#an improved version of the read_subst_mtrx from project_3\n",
    "#returns the matrix and a dictionary mapping the species name to indeces\n",
    "def read_mtrx(filename):\n",
    "    f = open(filename,'r')\n",
    "    num_species = int(f.readline())\n",
    "\n",
    "    dict_mat = {}\n",
    "    mat = np.zeros((num_species,num_species))\n",
    "    \n",
    "    for i in range(0,num_species):\n",
    "        line = f.readline()\n",
    "        nums_in_line = line.split()\n",
    "        dict_mat[nums_in_line[0]] = i\n",
    "        for j in range(1,num_species +1):\n",
    "            mat[i,j-1] = nums_in_line[j]\n",
    "    f.close()\n",
    "    return dict_mat, mat "
   ]
  },
  {
   "cell_type": "code",
   "execution_count": 4,
   "metadata": {},
   "outputs": [
    {
     "name": "stdout",
     "output_type": "stream",
     "text": [
      "{'A': 0, 'B': 1, 'C': 2, 'D': 3, 'E': 4}\n",
      "[[0.   0.23 0.16 0.2  0.17]\n",
      " [0.23 0.   0.23 0.17 0.24]\n",
      " [0.16 0.23 0.   0.2  0.11]\n",
      " [0.2  0.17 0.2  0.   0.21]\n",
      " [0.17 0.24 0.11 0.21 0.  ]]\n"
     ]
    }
   ],
   "source": [
    "species_dict, dist = read_mtrx(\"C:/Users/lenab/Documents/AU/Algorithms_in_bioinformatics/Brouillons_projets/example_slide4.phy\")\n",
    "print(species_dict)\n",
    "print(dist)"
   ]
  },
  {
   "cell_type": "code",
   "execution_count": 5,
   "metadata": {},
   "outputs": [
    {
     "data": {
      "text/plain": [
       "{'A': array([0.  , 0.23, 0.16, 0.2 , 0.17]),\n",
       " 'B': array([0.23, 0.  , 0.23, 0.17, 0.24]),\n",
       " 'C': array([0.16, 0.23, 0.  , 0.2 , 0.11]),\n",
       " 'D': array([0.2 , 0.17, 0.2 , 0.  , 0.21]),\n",
       " 'E': array([0.17, 0.24, 0.11, 0.21, 0.  ])}"
      ]
     },
     "execution_count": 5,
     "metadata": {},
     "output_type": "execute_result"
    }
   ],
   "source": [
    "species = list(species_dict.keys())\n",
    "dict_dist = {}\n",
    "for i in range(len(species)) :\n",
    "    dict_dist[species[i]] = dist[i]\n",
    "dict_dist"
   ]
  },
  {
   "cell_type": "code",
   "execution_count": 12,
   "metadata": {},
   "outputs": [
    {
     "name": "stdout",
     "output_type": "stream",
     "text": [
      "      A     B     C     D     E\n",
      "A  0.00  0.23  0.16  0.20  0.17\n",
      "B  0.23  0.00  0.23  0.17  0.24\n",
      "C  0.16  0.23  0.00  0.20  0.11\n",
      "D  0.20  0.17  0.20  0.00  0.21\n",
      "E  0.17  0.24  0.11  0.21  0.00\n"
     ]
    }
   ],
   "source": [
    "dist=pd.DataFrame.from_dict(dict_dist,\n",
    "orient='index', columns=species)\n",
    "print(dist)"
   ]
  },
  {
   "cell_type": "code",
   "execution_count": 16,
   "metadata": {},
   "outputs": [
    {
     "data": {
      "text/plain": [
       "0.23"
      ]
     },
     "execution_count": 16,
     "metadata": {},
     "output_type": "execute_result"
    }
   ],
   "source": [
    "dist.loc['A','B']"
   ]
  },
  {
   "cell_type": "markdown",
   "metadata": {},
   "source": [
    "# NJ algorithm"
   ]
  },
  {
   "cell_type": "markdown",
   "metadata": {},
   "source": [
    "## Step 1"
   ]
  },
  {
   "cell_type": "code",
   "execution_count": 8,
   "metadata": {},
   "outputs": [
    {
     "data": {
      "text/html": [
       "<div>\n",
       "<style scoped>\n",
       "    .dataframe tbody tr th:only-of-type {\n",
       "        vertical-align: middle;\n",
       "    }\n",
       "\n",
       "    .dataframe tbody tr th {\n",
       "        vertical-align: top;\n",
       "    }\n",
       "\n",
       "    .dataframe thead th {\n",
       "        text-align: right;\n",
       "    }\n",
       "</style>\n",
       "<table border=\"1\" class=\"dataframe\">\n",
       "  <thead>\n",
       "    <tr style=\"text-align: right;\">\n",
       "      <th></th>\n",
       "      <th>A</th>\n",
       "      <th>B</th>\n",
       "      <th>C</th>\n",
       "      <th>D</th>\n",
       "      <th>E</th>\n",
       "    </tr>\n",
       "  </thead>\n",
       "  <tbody>\n",
       "    <tr>\n",
       "      <th>A</th>\n",
       "      <td>NaN</td>\n",
       "      <td>NaN</td>\n",
       "      <td>NaN</td>\n",
       "      <td>NaN</td>\n",
       "      <td>NaN</td>\n",
       "    </tr>\n",
       "    <tr>\n",
       "      <th>B</th>\n",
       "      <td>NaN</td>\n",
       "      <td>NaN</td>\n",
       "      <td>NaN</td>\n",
       "      <td>NaN</td>\n",
       "      <td>NaN</td>\n",
       "    </tr>\n",
       "    <tr>\n",
       "      <th>C</th>\n",
       "      <td>NaN</td>\n",
       "      <td>NaN</td>\n",
       "      <td>NaN</td>\n",
       "      <td>NaN</td>\n",
       "      <td>NaN</td>\n",
       "    </tr>\n",
       "    <tr>\n",
       "      <th>D</th>\n",
       "      <td>NaN</td>\n",
       "      <td>NaN</td>\n",
       "      <td>NaN</td>\n",
       "      <td>NaN</td>\n",
       "      <td>NaN</td>\n",
       "    </tr>\n",
       "    <tr>\n",
       "      <th>E</th>\n",
       "      <td>NaN</td>\n",
       "      <td>NaN</td>\n",
       "      <td>NaN</td>\n",
       "      <td>NaN</td>\n",
       "      <td>NaN</td>\n",
       "    </tr>\n",
       "  </tbody>\n",
       "</table>\n",
       "</div>"
      ],
      "text/plain": [
       "     A    B    C    D    E\n",
       "A  NaN  NaN  NaN  NaN  NaN\n",
       "B  NaN  NaN  NaN  NaN  NaN\n",
       "C  NaN  NaN  NaN  NaN  NaN\n",
       "D  NaN  NaN  NaN  NaN  NaN\n",
       "E  NaN  NaN  NaN  NaN  NaN"
      ]
     },
     "execution_count": 8,
     "metadata": {},
     "output_type": "execute_result"
    }
   ],
   "source": [
    "N = pd.DataFrame(columns=species, index = species)\n",
    "N"
   ]
  },
  {
   "cell_type": "code",
   "execution_count": 23,
   "metadata": {},
   "outputs": [
    {
     "data": {
      "text/plain": [
       "0.23"
      ]
     },
     "execution_count": 23,
     "metadata": {},
     "output_type": "execute_result"
    }
   ],
   "source": [
    "dist.loc['A','B']"
   ]
  },
  {
   "cell_type": "code",
   "execution_count": 50,
   "metadata": {},
   "outputs": [],
   "source": [
    "current_nodes = species.copy\n",
    "def step1(dist):\n",
    "    S = len(dist.columns)\n",
    "    N = pd.DataFrame(columns=dist.columns, index = dist.index)\n",
    "    ris = []\n",
    "    for i in dist.index:\n",
    "        ri = 0\n",
    "        for j in dist.columns:\n",
    "            ri +=dist.loc[i,j]\n",
    "        ris.append(ri/(S-2))\n",
    "    \n",
    "    rjs = []\n",
    "    for j in dist.columns:\n",
    "        rj = 0\n",
    "        for i in dist.index:\n",
    "            rj +=dist.loc[i,j]\n",
    "        rjs.append(rj/(S-2))\n",
    "        \n",
    "    minN = dist.loc[dist.columns[0],dist.index[0]]-ris[0]-rjs[0]\n",
    "    mini = dist.index[0]\n",
    "    minj = dist.columns[0]\n",
    "    for i in range(len(dist.index)):\n",
    "        for j in range(len(dist.columns)):\n",
    "            ci = dist.index[i]\n",
    "            cj = dist.columns[j]\n",
    "            nij = dist.loc[ci,cj]+ris[i]+rjs[j]\n",
    "            N.loc[ci,cj]=nij\n",
    "            if nij<minN : \n",
    "                minN = nij\n",
    "                mini = ci\n",
    "                minj = cj\n",
    "    return(mini,minj,minN)\n",
    "        "
   ]
  },
  {
   "cell_type": "code",
   "execution_count": 36,
   "metadata": {},
   "outputs": [
    {
     "data": {
      "text/plain": [
       "'E'"
      ]
     },
     "execution_count": 36,
     "metadata": {},
     "output_type": "execute_result"
    }
   ],
   "source": [
    "dist.index[i]"
   ]
  },
  {
   "cell_type": "code",
   "execution_count": 51,
   "metadata": {},
   "outputs": [
    {
     "data": {
      "text/plain": [
       "('A', 'A', -0.5066666666666667)"
      ]
     },
     "execution_count": 51,
     "metadata": {},
     "output_type": "execute_result"
    }
   ],
   "source": [
    "step1(dist)"
   ]
  },
  {
   "cell_type": "code",
   "execution_count": 43,
   "metadata": {},
   "outputs": [
    {
     "name": "stdout",
     "output_type": "stream",
     "text": [
      "     A    B    C    D    E\n",
      "A  NaN    2  NaN  NaN  NaN\n",
      "B  NaN  NaN  NaN  NaN  NaN\n",
      "C  NaN  NaN  NaN  NaN  NaN\n",
      "D  NaN  NaN  NaN  NaN  NaN\n",
      "E  NaN  NaN  NaN  NaN  NaN\n"
     ]
    }
   ],
   "source": [
    "N.loc[\"A\",\"B\"] = 2\n",
    "print(N)"
   ]
  },
  {
   "cell_type": "markdown",
   "metadata": {},
   "source": [
    "## Step 2"
   ]
  },
  {
   "cell_type": "code",
   "execution_count": 30,
   "metadata": {},
   "outputs": [
    {
     "name": "stdout",
     "output_type": "stream",
     "text": [
      "['A', 'B', 'C', 'D', 'E']\n"
     ]
    }
   ],
   "source": [
    "nodes = list(dist.index).copy()\n",
    "print(nodes)"
   ]
  },
  {
   "cell_type": "code",
   "execution_count": null,
   "metadata": {},
   "outputs": [],
   "source": [
    "def step2(mini,minj,dist):\n",
    "    nodes = list(dist.index).copy()\n",
    "    nodes.remove(nodes[mini])\n",
    "    node_list.remove(nodes[minj])\n",
    "    node_list.append('('+nodes[mini]+','+nodes[minj]+')')\n",
    "    return node_list"
   ]
  }
 ],
 "metadata": {
  "kernelspec": {
   "display_name": "Python 3",
   "language": "python",
   "name": "python3"
  },
  "language_info": {
   "codemirror_mode": {
    "name": "ipython",
    "version": 3
   },
   "file_extension": ".py",
   "mimetype": "text/x-python",
   "name": "python",
   "nbconvert_exporter": "python",
   "pygments_lexer": "ipython3",
   "version": "3.8.5"
  }
 },
 "nbformat": 4,
 "nbformat_minor": 4
}
