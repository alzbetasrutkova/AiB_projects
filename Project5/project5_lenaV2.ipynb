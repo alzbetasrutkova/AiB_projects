{
 "cells": [
  {
   "cell_type": "code",
   "execution_count": 1,
   "metadata": {},
   "outputs": [],
   "source": [
    "import numpy as np\n",
    "import pandas as pd\n",
    "import sys\n",
    "import random"
   ]
  },
  {
   "cell_type": "markdown",
   "metadata": {},
   "source": [
    "# Distance matrix"
   ]
  },
  {
   "cell_type": "code",
   "execution_count": 2,
   "metadata": {},
   "outputs": [],
   "source": [
    "#an improved version of the read_subst_mtrx from project_3\n",
    "#returns the matrix and a dictionary mapping the species name to indeces\n",
    "def read_mtrx(filename):\n",
    "    f = open(filename,'r')\n",
    "    num_species = int(f.readline())\n",
    "\n",
    "    dict_mat = {}\n",
    "    mat = np.zeros((num_species,num_species))\n",
    "    \n",
    "    for i in range(0,num_species):\n",
    "        line = f.readline()\n",
    "        nums_in_line = line.split()\n",
    "        dict_mat[nums_in_line[0]] = i\n",
    "        for j in range(1,num_species +1):\n",
    "            mat[i,j-1] = nums_in_line[j]\n",
    "    f.close()\n",
    "    return dict_mat, mat "
   ]
  },
  {
   "cell_type": "code",
   "execution_count": 3,
   "metadata": {},
   "outputs": [
    {
     "name": "stdout",
     "output_type": "stream",
     "text": [
      "{'A': 0, 'B': 1, 'C': 2, 'D': 3, 'E': 4}\n",
      "[[0.   0.23 0.16 0.2  0.17]\n",
      " [0.23 0.   0.23 0.17 0.24]\n",
      " [0.16 0.23 0.   0.2  0.11]\n",
      " [0.2  0.17 0.2  0.   0.21]\n",
      " [0.17 0.24 0.11 0.21 0.  ]]\n"
     ]
    }
   ],
   "source": [
    "species_dict, dist = read_mtrx(\"C:/Users/lenab/Documents/AU/Algorithms_in_bioinformatics/Brouillons_projets/example_slide4.phy\")\n",
    "print(species_dict)\n",
    "print(dist)"
   ]
  },
  {
   "cell_type": "code",
   "execution_count": 4,
   "metadata": {},
   "outputs": [
    {
     "data": {
      "text/plain": [
       "{'A': array([0.  , 0.23, 0.16, 0.2 , 0.17]),\n",
       " 'B': array([0.23, 0.  , 0.23, 0.17, 0.24]),\n",
       " 'C': array([0.16, 0.23, 0.  , 0.2 , 0.11]),\n",
       " 'D': array([0.2 , 0.17, 0.2 , 0.  , 0.21]),\n",
       " 'E': array([0.17, 0.24, 0.11, 0.21, 0.  ])}"
      ]
     },
     "execution_count": 4,
     "metadata": {},
     "output_type": "execute_result"
    }
   ],
   "source": [
    "species = list(species_dict.keys())\n",
    "dict_dist = {}\n",
    "for i in range(len(species)) :\n",
    "    dict_dist[species[i]] = dist[i]\n",
    "dict_dist"
   ]
  },
  {
   "cell_type": "code",
   "execution_count": 5,
   "metadata": {},
   "outputs": [
    {
     "name": "stdout",
     "output_type": "stream",
     "text": [
      "      A     B     C     D     E\n",
      "A  0.00  0.23  0.16  0.20  0.17\n",
      "B  0.23  0.00  0.23  0.17  0.24\n",
      "C  0.16  0.23  0.00  0.20  0.11\n",
      "D  0.20  0.17  0.20  0.00  0.21\n",
      "E  0.17  0.24  0.11  0.21  0.00\n"
     ]
    }
   ],
   "source": [
    "dist=pd.DataFrame.from_dict(dict_dist,\n",
    "orient='index', columns=species)\n",
    "print(dist)"
   ]
  },
  {
   "cell_type": "code",
   "execution_count": 16,
   "metadata": {},
   "outputs": [
    {
     "data": {
      "text/plain": [
       "0.23"
      ]
     },
     "execution_count": 16,
     "metadata": {},
     "output_type": "execute_result"
    }
   ],
   "source": [
    "dist.loc['A','B']"
   ]
  },
  {
   "cell_type": "markdown",
   "metadata": {},
   "source": [
    "# NJ algorithm"
   ]
  },
  {
   "cell_type": "markdown",
   "metadata": {},
   "source": [
    "## Step 1"
   ]
  },
  {
   "cell_type": "code",
   "execution_count": 8,
   "metadata": {},
   "outputs": [
    {
     "data": {
      "text/html": [
       "<div>\n",
       "<style scoped>\n",
       "    .dataframe tbody tr th:only-of-type {\n",
       "        vertical-align: middle;\n",
       "    }\n",
       "\n",
       "    .dataframe tbody tr th {\n",
       "        vertical-align: top;\n",
       "    }\n",
       "\n",
       "    .dataframe thead th {\n",
       "        text-align: right;\n",
       "    }\n",
       "</style>\n",
       "<table border=\"1\" class=\"dataframe\">\n",
       "  <thead>\n",
       "    <tr style=\"text-align: right;\">\n",
       "      <th></th>\n",
       "      <th>A</th>\n",
       "      <th>B</th>\n",
       "      <th>C</th>\n",
       "      <th>D</th>\n",
       "      <th>E</th>\n",
       "    </tr>\n",
       "  </thead>\n",
       "  <tbody>\n",
       "    <tr>\n",
       "      <th>A</th>\n",
       "      <td>NaN</td>\n",
       "      <td>NaN</td>\n",
       "      <td>NaN</td>\n",
       "      <td>NaN</td>\n",
       "      <td>NaN</td>\n",
       "    </tr>\n",
       "    <tr>\n",
       "      <th>B</th>\n",
       "      <td>NaN</td>\n",
       "      <td>NaN</td>\n",
       "      <td>NaN</td>\n",
       "      <td>NaN</td>\n",
       "      <td>NaN</td>\n",
       "    </tr>\n",
       "    <tr>\n",
       "      <th>C</th>\n",
       "      <td>NaN</td>\n",
       "      <td>NaN</td>\n",
       "      <td>NaN</td>\n",
       "      <td>NaN</td>\n",
       "      <td>NaN</td>\n",
       "    </tr>\n",
       "    <tr>\n",
       "      <th>D</th>\n",
       "      <td>NaN</td>\n",
       "      <td>NaN</td>\n",
       "      <td>NaN</td>\n",
       "      <td>NaN</td>\n",
       "      <td>NaN</td>\n",
       "    </tr>\n",
       "    <tr>\n",
       "      <th>E</th>\n",
       "      <td>NaN</td>\n",
       "      <td>NaN</td>\n",
       "      <td>NaN</td>\n",
       "      <td>NaN</td>\n",
       "      <td>NaN</td>\n",
       "    </tr>\n",
       "  </tbody>\n",
       "</table>\n",
       "</div>"
      ],
      "text/plain": [
       "     A    B    C    D    E\n",
       "A  NaN  NaN  NaN  NaN  NaN\n",
       "B  NaN  NaN  NaN  NaN  NaN\n",
       "C  NaN  NaN  NaN  NaN  NaN\n",
       "D  NaN  NaN  NaN  NaN  NaN\n",
       "E  NaN  NaN  NaN  NaN  NaN"
      ]
     },
     "execution_count": 8,
     "metadata": {},
     "output_type": "execute_result"
    }
   ],
   "source": [
    "N = pd.DataFrame(columns=species, index = species)\n",
    "N"
   ]
  },
  {
   "cell_type": "code",
   "execution_count": 23,
   "metadata": {},
   "outputs": [
    {
     "data": {
      "text/plain": [
       "0.23"
      ]
     },
     "execution_count": 23,
     "metadata": {},
     "output_type": "execute_result"
    }
   ],
   "source": [
    "dist.loc['A','B']"
   ]
  },
  {
   "cell_type": "code",
   "execution_count": 6,
   "metadata": {},
   "outputs": [],
   "source": [
    "def step1(dist):\n",
    "    S = len(dist.columns)\n",
    "    N = pd.DataFrame(columns=dist.columns, index = dist.index)\n",
    "    ris = []\n",
    "    for i in dist.index:\n",
    "        ri = 0\n",
    "        for j in dist.columns:\n",
    "            ri +=dist.loc[i,j]\n",
    "        ris.append(ri/(S-2))\n",
    "    \n",
    "    rjs = []\n",
    "    for j in dist.columns:\n",
    "        rj = 0\n",
    "        for i in dist.index:\n",
    "            rj +=dist.loc[i,j]\n",
    "        rjs.append(rj/(S-2))\n",
    "        \n",
    "    minN = sys.maxsize\n",
    "    mini = dist.index[0]\n",
    "    minj = dist.columns[1]\n",
    "    rimin = ris[0]\n",
    "    rjmin = rjs[1]\n",
    "    index_mini = 0\n",
    "    index_minj = 1\n",
    "    for i in range(len(dist.index)):\n",
    "        for j in range(len(dist.columns)):\n",
    "            ci = dist.index[i]\n",
    "            cj = dist.columns[j]\n",
    "            nij = dist.loc[ci,cj]-ris[i]-rjs[j]\n",
    "            N.loc[ci,cj]=nij\n",
    "            if ci != cj:\n",
    "                if nij<minN : \n",
    "                    minN = nij\n",
    "                    mini = ci\n",
    "                    minj = cj\n",
    "                    rimin = ris[i]\n",
    "                    rjmin = rjs[j]\n",
    "                    index_mini = i\n",
    "                    index_minj = j\n",
    "    return(index_mini, index_minj, mini,minj,minN,rimin,rjmin)\n"
   ]
  },
  {
   "cell_type": "code",
   "execution_count": 161,
   "metadata": {},
   "outputs": [
    {
     "name": "stdout",
     "output_type": "stream",
     "text": [
      "1 3 B D -0.38 0.29 0.26\n"
     ]
    }
   ],
   "source": [
    "index_mini, index_minj, mini,minj, minN,rimin, rjmin = step1(dist)\n",
    "print (index_mini, index_minj, mini,minj, minN,rimin, rjmin )"
   ]
  },
  {
   "cell_type": "markdown",
   "metadata": {},
   "source": [
    "## Step 2"
   ]
  },
  {
   "cell_type": "code",
   "execution_count": 30,
   "metadata": {},
   "outputs": [
    {
     "name": "stdout",
     "output_type": "stream",
     "text": [
      "['A', 'B', 'C', 'D', 'E']\n"
     ]
    }
   ],
   "source": [
    "nodes = list(dist.index).copy()\n",
    "print(nodes)"
   ]
  },
  {
   "cell_type": "code",
   "execution_count": 7,
   "metadata": {},
   "outputs": [],
   "source": [
    "def step2(mini,minj,dist):\n",
    "    nodes = list(dist.index).copy()\n",
    "    nodes.remove(mini)\n",
    "    nodes.remove(minj)\n",
    "    nodes.append('('+mini+','+minj+')')\n",
    "    return nodes"
   ]
  },
  {
   "cell_type": "code",
   "execution_count": 163,
   "metadata": {},
   "outputs": [
    {
     "data": {
      "text/plain": [
       "['A', 'C', 'E', '(B,D)']"
      ]
     },
     "execution_count": 163,
     "metadata": {},
     "output_type": "execute_result"
    }
   ],
   "source": [
    "nodes = step2('B','D',dist)\n",
    "nodes"
   ]
  },
  {
   "cell_type": "markdown",
   "metadata": {},
   "source": [
    "## Step 3"
   ]
  },
  {
   "cell_type": "code",
   "execution_count": 164,
   "metadata": {},
   "outputs": [],
   "source": [
    "# This function works for the first iteration, but not for the next ones, because we do not keep in memory previous lengths\n",
    "def step3(mini, minj, dist, rimin, rjmin):\n",
    "    nodes = list(dist.index).copy()\n",
    "    nodes.remove(mini)\n",
    "    nodes.remove(minj)\n",
    "    #dik = (dist.loc[mini,minj] + rimin - rjmin)/2\n",
    "    #djk = (dist.loc[mini,minj] + rjmin - rimin)/2\n",
    "    dik = round((dist.loc[mini,minj] + rimin - rjmin)/2,4)\n",
    "    djk = round((dist.loc[mini,minj] + rjmin - rimin)/2,4)\n",
    "    nodes.append('(' + mini + ': '+ str(dik) + ','+ minj + \": \"+ str(djk) + ')')\n",
    "    return nodes"
   ]
  },
  {
   "cell_type": "code",
   "execution_count": 165,
   "metadata": {},
   "outputs": [
    {
     "data": {
      "text/plain": [
       "['A', 'C', 'E', '(B: 0.1,D: 0.07)']"
      ]
     },
     "execution_count": 165,
     "metadata": {},
     "output_type": "execute_result"
    }
   ],
   "source": [
    "nodes_length = step3(mini, minj, dist, rimin, rjmin)\n",
    "nodes_length"
   ]
  },
  {
   "cell_type": "markdown",
   "metadata": {},
   "source": [
    "Try to find a solution"
   ]
  },
  {
   "cell_type": "code",
   "execution_count": 48,
   "metadata": {},
   "outputs": [],
   "source": [
    "nodes_length = list(dist.index).copy()\n",
    "def step3(index_mini, index_minj, mini, minj, dist, rimin, rjmin, node_length):\n",
    "    nodes = node_length.copy()\n",
    "    nodes.remove(node_length[index_mini])\n",
    "    nodes.remove(node_length[index_minj])\n",
    "    #dik = (dist.loc[mini,minj] + rimin - rjmin)/2\n",
    "    #djk = (dist.loc[mini,minj] + rjmin - rimin)/2\n",
    "    dik = round((dist.loc[mini,minj] + rimin - rjmin)/2,4)\n",
    "    djk = round((dist.loc[mini,minj] + rjmin - rimin)/2,4)\n",
    "    nodes.append('(' + node_length[index_mini] + ': '+ str(dik) + ','+ node_length[index_minj]+ \": \"+ str(djk) + ')')\n",
    "    return nodes"
   ]
  },
  {
   "cell_type": "code",
   "execution_count": 197,
   "metadata": {},
   "outputs": [
    {
     "data": {
      "text/plain": [
       "['A', 'C', 'E', '(B: 0.1,D: 0.07)']"
      ]
     },
     "execution_count": 197,
     "metadata": {},
     "output_type": "execute_result"
    }
   ],
   "source": [
    "step3(index_mini, index_minj, mini, minj, dist, rimin, rjmin, nodes_length)"
   ]
  },
  {
   "cell_type": "markdown",
   "metadata": {},
   "source": [
    "This second function works. => Take this one"
   ]
  },
  {
   "cell_type": "markdown",
   "metadata": {},
   "source": [
    "## Step 4  "
   ]
  },
  {
   "cell_type": "code",
   "execution_count": 93,
   "metadata": {},
   "outputs": [
    {
     "data": {
      "text/plain": [
       "'(B,D)'"
      ]
     },
     "execution_count": 93,
     "metadata": {},
     "output_type": "execute_result"
    }
   ],
   "source": [
    "nodes[-1]"
   ]
  },
  {
   "cell_type": "code",
   "execution_count": 104,
   "metadata": {},
   "outputs": [
    {
     "data": {
      "text/plain": [
       "A    0.00\n",
       "B    0.23\n",
       "C    0.16\n",
       "D    0.20\n",
       "E    0.17\n",
       "Name: A, dtype: float64"
      ]
     },
     "execution_count": 104,
     "metadata": {},
     "output_type": "execute_result"
    }
   ],
   "source": [
    "dist.loc[\"A\",:]"
   ]
  },
  {
   "cell_type": "code",
   "execution_count": 111,
   "metadata": {},
   "outputs": [
    {
     "data": {
      "text/html": [
       "<div>\n",
       "<style scoped>\n",
       "    .dataframe tbody tr th:only-of-type {\n",
       "        vertical-align: middle;\n",
       "    }\n",
       "\n",
       "    .dataframe tbody tr th {\n",
       "        vertical-align: top;\n",
       "    }\n",
       "\n",
       "    .dataframe thead th {\n",
       "        text-align: right;\n",
       "    }\n",
       "</style>\n",
       "<table border=\"1\" class=\"dataframe\">\n",
       "  <thead>\n",
       "    <tr style=\"text-align: right;\">\n",
       "      <th></th>\n",
       "      <th>A</th>\n",
       "      <th>B</th>\n",
       "      <th>C</th>\n",
       "      <th>D</th>\n",
       "      <th>E</th>\n",
       "    </tr>\n",
       "  </thead>\n",
       "  <tbody>\n",
       "    <tr>\n",
       "      <th>A</th>\n",
       "      <td>0.00</td>\n",
       "      <td>460.00</td>\n",
       "      <td>0.16</td>\n",
       "      <td>0.20</td>\n",
       "      <td>0.17</td>\n",
       "    </tr>\n",
       "    <tr>\n",
       "      <th>B</th>\n",
       "      <td>0.23</td>\n",
       "      <td>0.00</td>\n",
       "      <td>0.23</td>\n",
       "      <td>0.17</td>\n",
       "      <td>0.24</td>\n",
       "    </tr>\n",
       "    <tr>\n",
       "      <th>C</th>\n",
       "      <td>0.16</td>\n",
       "      <td>0.23</td>\n",
       "      <td>0.00</td>\n",
       "      <td>0.20</td>\n",
       "      <td>0.11</td>\n",
       "    </tr>\n",
       "    <tr>\n",
       "      <th>D</th>\n",
       "      <td>0.20</td>\n",
       "      <td>0.17</td>\n",
       "      <td>0.20</td>\n",
       "      <td>0.00</td>\n",
       "      <td>0.21</td>\n",
       "    </tr>\n",
       "    <tr>\n",
       "      <th>E</th>\n",
       "      <td>0.17</td>\n",
       "      <td>0.24</td>\n",
       "      <td>0.11</td>\n",
       "      <td>0.21</td>\n",
       "      <td>0.00</td>\n",
       "    </tr>\n",
       "  </tbody>\n",
       "</table>\n",
       "</div>"
      ],
      "text/plain": [
       "      A       B     C     D     E\n",
       "A  0.00  460.00  0.16  0.20  0.17\n",
       "B  0.23    0.00  0.23  0.17  0.24\n",
       "C  0.16    0.23  0.00  0.20  0.11\n",
       "D  0.20    0.17  0.20  0.00  0.21\n",
       "E  0.17    0.24  0.11  0.21  0.00"
      ]
     },
     "execution_count": 111,
     "metadata": {},
     "output_type": "execute_result"
    }
   ],
   "source": [
    "dist.loc[\"A\",\"B\"]=460\n",
    "dist"
   ]
  },
  {
   "cell_type": "code",
   "execution_count": 117,
   "metadata": {},
   "outputs": [
    {
     "name": "stdout",
     "output_type": "stream",
     "text": [
      "A    0.00\n",
      "B    0.23\n",
      "C    0.16\n",
      "D    0.20\n",
      "E    0.17\n",
      "Name: A, dtype: float64\n"
     ]
    },
    {
     "data": {
      "text/plain": [
       "0.23"
      ]
     },
     "execution_count": 117,
     "metadata": {},
     "output_type": "execute_result"
    }
   ],
   "source": [
    "col_j = dist[\"A\"]\n",
    "print(col_j)\n",
    "col_j[\"B\"]"
   ]
  },
  {
   "cell_type": "code",
   "execution_count": 115,
   "metadata": {},
   "outputs": [
    {
     "name": "stdout",
     "output_type": "stream",
     "text": [
      "A      0.00\n",
      "B    460.00\n",
      "C      0.16\n",
      "D      0.20\n",
      "E      0.17\n",
      "Name: A, dtype: float64\n"
     ]
    },
    {
     "data": {
      "text/plain": [
       "0.17"
      ]
     },
     "execution_count": 115,
     "metadata": {},
     "output_type": "execute_result"
    }
   ],
   "source": [
    "row_i = dist.loc[\"A\",:]\n",
    "print(row_i)\n",
    "row_i[\"E\"]"
   ]
  },
  {
   "cell_type": "code",
   "execution_count": 30,
   "metadata": {},
   "outputs": [
    {
     "name": "stdout",
     "output_type": "stream",
     "text": [
      "      A     B     C     D     E\n",
      "A  0.00  0.23  0.16  0.20  0.17\n",
      "B  0.23  0.00  0.23  0.17  0.24\n",
      "C  0.16  0.23  0.00  0.20  0.11\n",
      "D  0.20  0.17  0.20  0.00  0.21\n",
      "E  0.17  0.24  0.11  0.21  0.00\n"
     ]
    }
   ],
   "source": [
    "# Reinitialize dist\n",
    "dist=pd.DataFrame.from_dict(dict_dist,\n",
    "orient='index', columns=species)\n",
    "print(dist)"
   ]
  },
  {
   "cell_type": "code",
   "execution_count": 216,
   "metadata": {},
   "outputs": [
    {
     "data": {
      "text/html": [
       "<div>\n",
       "<style scoped>\n",
       "    .dataframe tbody tr th:only-of-type {\n",
       "        vertical-align: middle;\n",
       "    }\n",
       "\n",
       "    .dataframe tbody tr th {\n",
       "        vertical-align: top;\n",
       "    }\n",
       "\n",
       "    .dataframe thead th {\n",
       "        text-align: right;\n",
       "    }\n",
       "</style>\n",
       "<table border=\"1\" class=\"dataframe\">\n",
       "  <thead>\n",
       "    <tr style=\"text-align: right;\">\n",
       "      <th></th>\n",
       "      <th>A</th>\n",
       "      <th>C</th>\n",
       "      <th>E</th>\n",
       "      <th>(B,D)</th>\n",
       "    </tr>\n",
       "  </thead>\n",
       "  <tbody>\n",
       "    <tr>\n",
       "      <th>A</th>\n",
       "      <td>0.00</td>\n",
       "      <td>0.16</td>\n",
       "      <td>0.17</td>\n",
       "      <td>0.13</td>\n",
       "    </tr>\n",
       "    <tr>\n",
       "      <th>C</th>\n",
       "      <td>0.16</td>\n",
       "      <td>0.00</td>\n",
       "      <td>0.11</td>\n",
       "      <td>0.13</td>\n",
       "    </tr>\n",
       "    <tr>\n",
       "      <th>E</th>\n",
       "      <td>0.17</td>\n",
       "      <td>0.11</td>\n",
       "      <td>0.00</td>\n",
       "      <td>0.14</td>\n",
       "    </tr>\n",
       "    <tr>\n",
       "      <th>(B,D)</th>\n",
       "      <td>0.13</td>\n",
       "      <td>0.13</td>\n",
       "      <td>0.14</td>\n",
       "      <td>0.00</td>\n",
       "    </tr>\n",
       "  </tbody>\n",
       "</table>\n",
       "</div>"
      ],
      "text/plain": [
       "          A     C     E  (B,D)\n",
       "A      0.00  0.16  0.17   0.13\n",
       "C      0.16  0.00  0.11   0.13\n",
       "E      0.17  0.11  0.00   0.14\n",
       "(B,D)  0.13  0.13  0.14   0.00"
      ]
     },
     "execution_count": 216,
     "metadata": {},
     "output_type": "execute_result"
    }
   ],
   "source": [
    "k = nodes[-1]\n",
    "row_mini = dist.loc[mini,:]\n",
    "col_minj = dist[minj]\n",
    "for i in dist.index : \n",
    "    if i != mini and i!=minj : \n",
    "        dist.loc[i,k] = (dist.loc[mini,i]+dist.loc[minj,i]-dist.loc[mini,minj])/2\n",
    "        dist.loc[k,i] = (dist.loc[mini,i]+dist.loc[minj,i]-dist.loc[mini,minj])/2\n",
    "dist.loc[k,k]=0\n",
    "dist = dist.drop(index = [mini,minj], columns = [mini,minj])\n",
    "dist"
   ]
  },
  {
   "cell_type": "code",
   "execution_count": 9,
   "metadata": {},
   "outputs": [],
   "source": [
    "def step4(mini, minj, dist):\n",
    "    k = nodes[-1]\n",
    "    row_mini = dist.loc[mini,:]\n",
    "    col_minj = dist[minj]\n",
    "    for i in dist.index : \n",
    "        if i != mini and i!=minj : \n",
    "            dist.loc[i,k] = (dist.loc[mini,i]+dist.loc[minj,i]-dist.loc[mini,minj])/2\n",
    "            dist.loc[k,i] = (dist.loc[mini,i]+dist.loc[minj,i]-dist.loc[mini,minj])/2\n",
    "    dist.loc[k,k]=0\n",
    "    dist = dist.drop(index = [mini,minj], columns = [mini,minj])\n",
    "    return(dist)"
   ]
  },
  {
   "cell_type": "markdown",
   "metadata": {},
   "source": [
    "## Try a second step"
   ]
  },
  {
   "cell_type": "code",
   "execution_count": 54,
   "metadata": {},
   "outputs": [
    {
     "name": "stdout",
     "output_type": "stream",
     "text": [
      "      A     B     C     D     E\n",
      "A  0.00  0.23  0.16  0.20  0.17\n",
      "B  0.23  0.00  0.23  0.17  0.24\n",
      "C  0.16  0.23  0.00  0.20  0.11\n",
      "D  0.20  0.17  0.20  0.00  0.21\n",
      "E  0.17  0.24  0.11  0.21  0.00\n"
     ]
    }
   ],
   "source": [
    "### Reinitialization\n",
    "nodes_length = list(dist.index).copy()\n",
    "# Reinitialize dist\n",
    "dist=pd.DataFrame.from_dict(dict_dist,\n",
    "orient='index', columns=species)\n",
    "print(dist)"
   ]
  },
  {
   "cell_type": "code",
   "execution_count": 60,
   "metadata": {},
   "outputs": [
    {
     "name": "stdout",
     "output_type": "stream",
     "text": [
      "0 3 A (B,D) -0.3 0.23 0.19999999999999998\n"
     ]
    }
   ],
   "source": [
    "index_mini, index_minj,mini,minj, minN,rimin, rjmin = step1(dist)\n",
    "print (index_mini, index_minj,mini,minj, minN,rimin, rjmin)"
   ]
  },
  {
   "cell_type": "code",
   "execution_count": 61,
   "metadata": {},
   "outputs": [
    {
     "data": {
      "text/plain": [
       "['C', 'E', '(A,(B,D))']"
      ]
     },
     "execution_count": 61,
     "metadata": {},
     "output_type": "execute_result"
    }
   ],
   "source": [
    "nodes = step2(mini,minj,dist)\n",
    "nodes"
   ]
  },
  {
   "cell_type": "code",
   "execution_count": 62,
   "metadata": {},
   "outputs": [
    {
     "data": {
      "text/plain": [
       "['A', 'C', 'E', '(B: 0.1,D: 0.07)']"
      ]
     },
     "execution_count": 62,
     "metadata": {},
     "output_type": "execute_result"
    }
   ],
   "source": [
    "nodes_length"
   ]
  },
  {
   "cell_type": "code",
   "execution_count": 63,
   "metadata": {},
   "outputs": [
    {
     "data": {
      "text/plain": [
       "['C', 'E', '(A: 0.08,(B: 0.1,D: 0.07): 0.05)']"
      ]
     },
     "execution_count": 63,
     "metadata": {},
     "output_type": "execute_result"
    }
   ],
   "source": [
    "nodes_length = step3(index_mini, index_minj, mini, minj, dist, rimin, rjmin, nodes_length)\n",
    "nodes_length"
   ]
  },
  {
   "cell_type": "code",
   "execution_count": 64,
   "metadata": {},
   "outputs": [
    {
     "data": {
      "text/html": [
       "<div>\n",
       "<style scoped>\n",
       "    .dataframe tbody tr th:only-of-type {\n",
       "        vertical-align: middle;\n",
       "    }\n",
       "\n",
       "    .dataframe tbody tr th {\n",
       "        vertical-align: top;\n",
       "    }\n",
       "\n",
       "    .dataframe thead th {\n",
       "        text-align: right;\n",
       "    }\n",
       "</style>\n",
       "<table border=\"1\" class=\"dataframe\">\n",
       "  <thead>\n",
       "    <tr style=\"text-align: right;\">\n",
       "      <th></th>\n",
       "      <th>C</th>\n",
       "      <th>E</th>\n",
       "      <th>(A,(B,D))</th>\n",
       "    </tr>\n",
       "  </thead>\n",
       "  <tbody>\n",
       "    <tr>\n",
       "      <th>C</th>\n",
       "      <td>0.00</td>\n",
       "      <td>0.11</td>\n",
       "      <td>0.08</td>\n",
       "    </tr>\n",
       "    <tr>\n",
       "      <th>E</th>\n",
       "      <td>0.11</td>\n",
       "      <td>0.00</td>\n",
       "      <td>0.09</td>\n",
       "    </tr>\n",
       "    <tr>\n",
       "      <th>(A,(B,D))</th>\n",
       "      <td>0.08</td>\n",
       "      <td>0.09</td>\n",
       "      <td>0.00</td>\n",
       "    </tr>\n",
       "  </tbody>\n",
       "</table>\n",
       "</div>"
      ],
      "text/plain": [
       "              C     E  (A,(B,D))\n",
       "C          0.00  0.11       0.08\n",
       "E          0.11  0.00       0.09\n",
       "(A,(B,D))  0.08  0.09       0.00"
      ]
     },
     "execution_count": 64,
     "metadata": {},
     "output_type": "execute_result"
    }
   ],
   "source": [
    "dist = step4(mini, minj, dist)\n",
    "dist"
   ]
  },
  {
   "cell_type": "markdown",
   "metadata": {},
   "source": [
    "## Termination step"
   ]
  },
  {
   "cell_type": "code",
   "execution_count": 67,
   "metadata": {},
   "outputs": [
    {
     "name": "stdout",
     "output_type": "stream",
     "text": [
      "C E (A,(B,D))\n",
      "(C:0.05, E:0.06, (A,(B,D)):0.03)\n"
     ]
    }
   ],
   "source": [
    "i = nodes[0]\n",
    "j = nodes[1]\n",
    "m = nodes[2]\n",
    "print(i,j,m)\n",
    "#dvi = (dist.loc[i,j]+dist.loc[i,m]-dist.loc[j,m])/2\n",
    "#dvj = (dist.loc[i,j]+dist.loc[j,m]-dist.loc[i,m])/2\n",
    "#dvm = (dist.loc[i,m]+dist.loc[j,m]-dist.loc[i,j])/2\n",
    "dvi = round((dist.loc[i,j]+dist.loc[i,m]-dist.loc[j,m])/2,3)\n",
    "dvj = round((dist.loc[i,j]+dist.loc[j,m]-dist.loc[i,m])/2,3)\n",
    "dvm = round((dist.loc[i,m]+dist.loc[j,m]-dist.loc[i,j])/2,3)\n",
    "tree = \"(\"+i+\":\"+str(dvi)+\", \"+j+\":\"+str(dvj)+\", \"+m+\":\"+str(dvm)+\")\"\n",
    "print(tree)"
   ]
  },
  {
   "cell_type": "code",
   "execution_count": null,
   "metadata": {},
   "outputs": [],
   "source": []
  }
 ],
 "metadata": {
  "kernelspec": {
   "display_name": "Python 3",
   "language": "python",
   "name": "python3"
  },
  "language_info": {
   "codemirror_mode": {
    "name": "ipython",
    "version": 3
   },
   "file_extension": ".py",
   "mimetype": "text/x-python",
   "name": "python",
   "nbconvert_exporter": "python",
   "pygments_lexer": "ipython3",
   "version": "3.8.5"
  }
 },
 "nbformat": 4,
 "nbformat_minor": 4
}
