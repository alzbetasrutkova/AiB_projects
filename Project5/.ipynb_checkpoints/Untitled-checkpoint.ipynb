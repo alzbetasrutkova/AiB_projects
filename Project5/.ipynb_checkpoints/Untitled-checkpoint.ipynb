{
 "cells": [
  {
   "cell_type": "code",
   "execution_count": null,
   "metadata": {},
   "outputs": [],
   "source": [
    "### time comparisons RapidNJ project 5\n",
    "\n",
    "import os\n",
    "import time\n",
    "\n",
    "dist_matrix = ['1347_FAINT.phy',\n",
    " '1493_Fe-ADH.phy',\n",
    " '1560_Ferritin.phy',\n",
    " '1689_FGGY_N.phy',\n",
    " '1756_FAD_binding_3.phy',\n",
    " '1849_FG-GAP.phy',\n",
    " '214_Arena_glycoprot.phy',\n",
    " '304_A1_Propeptide.phy',\n",
    " '401_DDE.phy',\n",
    " '494_Astro_capsid.phy',\n",
    " '608_Gemini_AL2.phy',\n",
    " '777_Gemini_V1.phy',\n",
    " '877_Glu_synthase.phy',\n",
    " '89_Adeno_E3_CR1.phy']\n",
    "\n",
    "times = []\n",
    "for i in range(len(dist_matrix)):\n",
    "    file = dist_matrix[i]\n",
    "    order = \"./rapidnj.exe \" + file\n",
    "    start_time = time.time()\n",
    "    os.system(order)\n",
    "    times.append(time.time() - start_time)\n",
    "print (times)"
   ]
  }
 ],
 "metadata": {
  "kernelspec": {
   "display_name": "Python 3",
   "language": "python",
   "name": "python3"
  },
  "language_info": {
   "codemirror_mode": {
    "name": "ipython",
    "version": 3
   },
   "file_extension": ".py",
   "mimetype": "text/x-python",
   "name": "python",
   "nbconvert_exporter": "python",
   "pygments_lexer": "ipython3",
   "version": "3.7.4"
  }
 },
 "nbformat": 4,
 "nbformat_minor": 2
}
