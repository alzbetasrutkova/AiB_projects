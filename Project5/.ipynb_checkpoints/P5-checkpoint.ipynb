{
 "cells": [
  {
   "cell_type": "code",
   "execution_count": 42,
   "metadata": {},
   "outputs": [],
   "source": [
    "import numpy as np\n",
    "from ete3 import Tree\n",
    "import pandas as pd"
   ]
  },
  {
   "cell_type": "code",
   "execution_count": 43,
   "metadata": {},
   "outputs": [],
   "source": [
    "#Distance matrix\n",
    "\n",
    "def read_mtrx(filename):\n",
    "    f = open(filename,'r')\n",
    "    num_species = int(f.readline())\n",
    "\n",
    "    dict_mat = {}\n",
    "    mat = np.zeros((num_species,num_species))\n",
    "    \n",
    "    for i in range(0,num_species):\n",
    "        line = f.readline()\n",
    "        nums_in_line = line.split()\n",
    "        dict_mat[nums_in_line[0]] = i\n",
    "        for j in range(1,num_species +1):\n",
    "            mat[i,j-1] = nums_in_line[j]\n",
    "    f.close()\n",
    "    return dict_mat, mat "
   ]
  },
  {
   "cell_type": "code",
   "execution_count": 44,
   "metadata": {},
   "outputs": [
    {
     "name": "stdout",
     "output_type": "stream",
     "text": [
      "{'A': 0, 'B': 1, 'C': 2, 'D': 3, 'E': 4}\n",
      "[[0.   0.23 0.16 0.2  0.17]\n",
      " [0.23 0.   0.23 0.17 0.24]\n",
      " [0.16 0.23 0.   0.2  0.11]\n",
      " [0.2  0.17 0.2  0.   0.21]\n",
      " [0.17 0.24 0.11 0.21 0.  ]]\n"
     ]
    }
   ],
   "source": [
    "species_dict, dist = read_mtrx(\"C:\\\\Users\\\\awila\\\\Downloads\\\\example_slide4.phy\")\n",
    "print(species_dict)\n",
    "print(dist)"
   ]
  },
  {
   "cell_type": "code",
   "execution_count": 45,
   "metadata": {},
   "outputs": [
    {
     "data": {
      "text/plain": [
       "['A', 'B', 'C', 'D', 'E']"
      ]
     },
     "execution_count": 45,
     "metadata": {},
     "output_type": "execute_result"
    }
   ],
   "source": [
    "species = list(species_dict.keys())\n",
    "species"
   ]
  },
  {
   "cell_type": "code",
   "execution_count": 46,
   "metadata": {},
   "outputs": [
    {
     "data": {
      "text/plain": [
       "['A', 'B', 'C', 'D', 'E']"
      ]
     },
     "execution_count": 46,
     "metadata": {},
     "output_type": "execute_result"
    }
   ],
   "source": [
    "list(species_dict.keys())"
   ]
  },
  {
   "cell_type": "code",
   "execution_count": 47,
   "metadata": {},
   "outputs": [
    {
     "data": {
      "text/plain": [
       "{'A': array([0.  , 0.23, 0.16, 0.2 , 0.17]),\n",
       " 'B': array([0.23, 0.  , 0.23, 0.17, 0.24]),\n",
       " 'C': array([0.16, 0.23, 0.  , 0.2 , 0.11]),\n",
       " 'D': array([0.2 , 0.17, 0.2 , 0.  , 0.21]),\n",
       " 'E': array([0.17, 0.24, 0.11, 0.21, 0.  ])}"
      ]
     },
     "execution_count": 47,
     "metadata": {},
     "output_type": "execute_result"
    }
   ],
   "source": [
    "dict_dist= {}\n",
    "for i in range(len(species)) :\n",
    "    dict_dist[species[i]] = dist[i]\n",
    "dict_dist"
   ]
  },
  {
   "cell_type": "code",
   "execution_count": 48,
   "metadata": {},
   "outputs": [
    {
     "name": "stdout",
     "output_type": "stream",
     "text": [
      "      A     B     C     D     E\n",
      "A  0.00  0.23  0.16  0.20  0.17\n",
      "B  0.23  0.00  0.23  0.17  0.24\n",
      "C  0.16  0.23  0.00  0.20  0.11\n",
      "D  0.20  0.17  0.20  0.00  0.21\n",
      "E  0.17  0.24  0.11  0.21  0.00\n"
     ]
    }
   ],
   "source": [
    "df=pd.DataFrame.from_dict(dict_dist,\n",
    "orient='index', columns=species)\n",
    "print(df)"
   ]
  },
  {
   "cell_type": "code",
   "execution_count": 49,
   "metadata": {},
   "outputs": [
    {
     "data": {
      "text/html": [
       "<div>\n",
       "<style scoped>\n",
       "    .dataframe tbody tr th:only-of-type {\n",
       "        vertical-align: middle;\n",
       "    }\n",
       "\n",
       "    .dataframe tbody tr th {\n",
       "        vertical-align: top;\n",
       "    }\n",
       "\n",
       "    .dataframe thead th {\n",
       "        text-align: right;\n",
       "    }\n",
       "</style>\n",
       "<table border=\"1\" class=\"dataframe\">\n",
       "  <thead>\n",
       "    <tr style=\"text-align: right;\">\n",
       "      <th></th>\n",
       "      <th>A</th>\n",
       "      <th>B</th>\n",
       "      <th>C</th>\n",
       "      <th>D</th>\n",
       "      <th>E</th>\n",
       "    </tr>\n",
       "  </thead>\n",
       "  <tbody>\n",
       "    <tr>\n",
       "      <td>B</td>\n",
       "      <td>0.23</td>\n",
       "      <td>0.00</td>\n",
       "      <td>0.23</td>\n",
       "      <td>0.17</td>\n",
       "      <td>0.24</td>\n",
       "    </tr>\n",
       "    <tr>\n",
       "      <td>C</td>\n",
       "      <td>0.16</td>\n",
       "      <td>0.23</td>\n",
       "      <td>0.00</td>\n",
       "      <td>0.20</td>\n",
       "      <td>0.11</td>\n",
       "    </tr>\n",
       "    <tr>\n",
       "      <td>D</td>\n",
       "      <td>0.20</td>\n",
       "      <td>0.17</td>\n",
       "      <td>0.20</td>\n",
       "      <td>0.00</td>\n",
       "      <td>0.21</td>\n",
       "    </tr>\n",
       "    <tr>\n",
       "      <td>E</td>\n",
       "      <td>0.17</td>\n",
       "      <td>0.24</td>\n",
       "      <td>0.11</td>\n",
       "      <td>0.21</td>\n",
       "      <td>0.00</td>\n",
       "    </tr>\n",
       "  </tbody>\n",
       "</table>\n",
       "</div>"
      ],
      "text/plain": [
       "      A     B     C     D     E\n",
       "B  0.23  0.00  0.23  0.17  0.24\n",
       "C  0.16  0.23  0.00  0.20  0.11\n",
       "D  0.20  0.17  0.20  0.00  0.21\n",
       "E  0.17  0.24  0.11  0.21  0.00"
      ]
     },
     "execution_count": 49,
     "metadata": {},
     "output_type": "execute_result"
    }
   ],
   "source": [
    "df.drop(\"A\")"
   ]
  },
  {
   "cell_type": "code",
   "execution_count": 79,
   "metadata": {},
   "outputs": [
    {
     "data": {
      "text/plain": [
       "0.17"
      ]
     },
     "execution_count": 79,
     "metadata": {},
     "output_type": "execute_result"
    }
   ],
   "source": [
    "df.loc['D','B']"
   ]
  },
  {
   "cell_type": "code",
   "execution_count": 80,
   "metadata": {},
   "outputs": [
    {
     "data": {
      "text/plain": [
       "25"
      ]
     },
     "execution_count": 80,
     "metadata": {},
     "output_type": "execute_result"
    }
   ],
   "source": [
    "df.size"
   ]
  },
  {
   "cell_type": "code",
   "execution_count": 50,
   "metadata": {},
   "outputs": [
    {
     "name": "stdout",
     "output_type": "stream",
     "text": [
      "(A,B,C,D,E)\n"
     ]
    }
   ],
   "source": [
    "#Initialization of starlike tree\n",
    "\n",
    "ntree = \"(\"\n",
    "species = list(species_dict.keys())\n",
    "for i in range(len(species)-1):\n",
    "    ntree += str(species[i]) + \",\"\n",
    "ntree += str(species[len(species)-1])+\")\"\n",
    "print(ntree)"
   ]
  },
  {
   "cell_type": "code",
   "execution_count": 51,
   "metadata": {},
   "outputs": [
    {
     "name": "stdout",
     "output_type": "stream",
     "text": [
      "\n",
      "   /-A\n",
      "  |\n",
      "  |--B\n",
      "  |\n",
      "--|--C\n",
      "  |\n",
      "  |--D\n",
      "  |\n",
      "   \\-E\n"
     ]
    }
   ],
   "source": [
    "t = Tree(\"(A,B,C,D,E);\", format=1)\n",
    "print(t)"
   ]
  },
  {
   "cell_type": "code",
   "execution_count": 52,
   "metadata": {},
   "outputs": [
    {
     "name": "stdout",
     "output_type": "stream",
     "text": [
      "Tree(rooted=False, weight=1.0)\n",
      "    Clade()\n",
      "        Clade(name='A')\n",
      "        Clade(name='B')\n",
      "        Clade(name='C')\n",
      "        Clade(name='D')\n",
      "        Clade(name='E')\n"
     ]
    }
   ],
   "source": [
    "from Bio import Phylo\n",
    "from io import StringIO\n",
    "tree = Phylo.read(StringIO(\"(A, B, C, D, E)\"), \"newick\")\n",
    "print(tree)"
   ]
  },
  {
   "cell_type": "code",
   "execution_count": 53,
   "metadata": {},
   "outputs": [
    {
     "name": "stdout",
     "output_type": "stream",
     "text": [
      "Tree(rooted=False, weight=1.0)\n",
      "    Clade()\n",
      "        Clade(name='A')\n",
      "        Clade(name='B')\n",
      "        Clade(name='C')\n",
      "        Clade(name='D')\n",
      "        Clade(name='E')\n"
     ]
    }
   ],
   "source": [
    "t1 = Phylo.read(StringIO(ntree), \"newick\")\n",
    "print(t1)"
   ]
  },
  {
   "cell_type": "code",
   "execution_count": 54,
   "metadata": {},
   "outputs": [
    {
     "data": {
      "text/plain": [
       "5"
      ]
     },
     "execution_count": 54,
     "metadata": {},
     "output_type": "execute_result"
    }
   ],
   "source": [
    "#NJ algorithm Step 1: finding the two neighbours\n",
    "\n",
    "dist.shape[0]"
   ]
  },
  {
   "cell_type": "code",
   "execution_count": 55,
   "metadata": {},
   "outputs": [
    {
     "data": {
      "text/plain": [
       "array([[None, None, None, None, None],\n",
       "       [None, None, None, None, None],\n",
       "       [None, None, None, None, None],\n",
       "       [None, None, None, None, None],\n",
       "       [None, None, None, None, None]], dtype=object)"
      ]
     },
     "execution_count": 55,
     "metadata": {},
     "output_type": "execute_result"
    }
   ],
   "source": [
    "new_N = np.full([5,5], None)\n",
    "new_N"
   ]
  },
  {
   "cell_type": "code",
   "execution_count": 65,
   "metadata": {},
   "outputs": [
    {
     "data": {
      "text/plain": [
       "[0.25333333333333335, 0.29, 0.23333333333333336, 0.26, 0.24333333333333332]"
      ]
     },
     "execution_count": 65,
     "metadata": {},
     "output_type": "execute_result"
    }
   ],
   "source": [
    "ris = []\n",
    "for i in range(5):\n",
    "    ri = 0\n",
    "    for j in range(5):\n",
    "        ri +=dist[i,j]\n",
    "    ris.append(ri/3)\n",
    "ris"
   ]
  },
  {
   "cell_type": "code",
   "execution_count": 66,
   "metadata": {},
   "outputs": [
    {
     "data": {
      "text/plain": [
       "[0.25333333333333335, 0.29, 0.23333333333333336, 0.26, 0.24333333333333332]"
      ]
     },
     "execution_count": 66,
     "metadata": {},
     "output_type": "execute_result"
    }
   ],
   "source": [
    "rjs = []\n",
    "for j in range(5):\n",
    "    rj = 0\n",
    "    for i in range(5):\n",
    "        rj +=dist[i,j]\n",
    "    rjs.append(rj/3)\n",
    "rjs"
   ]
  },
  {
   "cell_type": "code",
   "execution_count": 67,
   "metadata": {},
   "outputs": [
    {
     "name": "stdout",
     "output_type": "stream",
     "text": [
      "[[0.5066666666666667 0.7733333333333334 0.6466666666666667\n",
      "  0.7133333333333334 0.6666666666666666]\n",
      " [0.7733333333333334 0.58 0.7533333333333334 0.72 0.7733333333333333]\n",
      " [0.6466666666666667 0.7533333333333334 0.46666666666666673\n",
      "  0.6933333333333334 0.5866666666666667]\n",
      " [0.7133333333333334 0.72 0.6933333333333334 0.52 0.7133333333333333]\n",
      " [0.6666666666666667 0.7733333333333332 0.5866666666666667\n",
      "  0.7133333333333334 0.48666666666666664]]\n",
      "2 2 0.46666666666666673\n"
     ]
    }
   ],
   "source": [
    "minN = dist[0,0]+ris[0]+rjs[0]\n",
    "mini = 0\n",
    "minj = 0\n",
    "for i in range(5):\n",
    "    for j in range(5):\n",
    "        nij = dist[i,j]+ris[i]+rjs[j]\n",
    "        new_N[i,j]=nij\n",
    "        if nij<minN : \n",
    "            minN = nij\n",
    "            mini = i\n",
    "            minj = j\n",
    "print(new_N)\n",
    "print(mini,minj,minN)"
   ]
  },
  {
   "cell_type": "code",
   "execution_count": 68,
   "metadata": {},
   "outputs": [],
   "source": [
    "def step1(dist):\n",
    "    S = dist.shape[0]\n",
    "    new_N = np.full([S,S], None)\n",
    "    ris = []\n",
    "    for i in range(S):\n",
    "        ri = 0\n",
    "        for j in range(S):\n",
    "            ri +=dist[i,j]\n",
    "        ris.append(ri/(S-2))\n",
    "    \n",
    "    rjs = []\n",
    "    for j in range(5):\n",
    "        rj = 0\n",
    "        for i in range(5):\n",
    "            rj +=dist[i,j]\n",
    "        rjs.append(rj/3)\n",
    "        \n",
    "    minN = dist[0,0]+ris[0]+rjs[0]\n",
    "    mini = 0\n",
    "    minj = 0\n",
    "    for i in range(5):\n",
    "        for j in range(5):\n",
    "            nij = dist[i,j]+ris[i]+rjs[j]\n",
    "            new_N[i,j]=nij\n",
    "            if nij<minN : \n",
    "                minN = nij\n",
    "                mini = i\n",
    "                minj = j\n",
    "    return(mini,minj,minN)"
   ]
  },
  {
   "cell_type": "code",
   "execution_count": 69,
   "metadata": {},
   "outputs": [
    {
     "data": {
      "text/plain": [
       "(2, 2, 0.46666666666666673)"
      ]
     },
     "execution_count": 69,
     "metadata": {},
     "output_type": "execute_result"
    }
   ],
   "source": [
    "step1(dist)"
   ]
  },
  {
   "cell_type": "code",
   "execution_count": 70,
   "metadata": {},
   "outputs": [
    {
     "name": "stdout",
     "output_type": "stream",
     "text": [
      "{'A': 0, 'B': 1, 'C': 2, 'D': 3, 'E': 4}\n",
      "[[0.   0.23 0.16 0.2  0.17]\n",
      " [0.23 0.   0.23 0.17 0.24]\n",
      " [0.16 0.23 0.   0.2  0.11]\n",
      " [0.2  0.17 0.2  0.   0.21]\n",
      " [0.17 0.24 0.11 0.21 0.  ]]\n"
     ]
    }
   ],
   "source": [
    "#Step 2: Adding a new node k\n",
    "\n",
    "species_dict, dist = read_mtrx(\"C:\\\\Users\\\\awila\\\\Downloads\\\\example_slide4.phy\")\n",
    "print(species_dict)\n",
    "print(dist)"
   ]
  },
  {
   "cell_type": "code",
   "execution_count": 71,
   "metadata": {},
   "outputs": [
    {
     "data": {
      "text/plain": [
       "['A', 'B', 'C', 'D', 'E']"
      ]
     },
     "execution_count": 71,
     "metadata": {},
     "output_type": "execute_result"
    }
   ],
   "source": [
    "species = list(species_dict.keys())\n",
    "species"
   ]
  },
  {
   "cell_type": "code",
   "execution_count": 73,
   "metadata": {},
   "outputs": [
    {
     "data": {
      "text/plain": [
       "['A', 'B', 'C', 'D', 'E']"
      ]
     },
     "execution_count": 73,
     "metadata": {},
     "output_type": "execute_result"
    }
   ],
   "source": [
    "node_list = list(species_dict.keys())\n",
    "node_list"
   ]
  },
  {
   "cell_type": "code",
   "execution_count": 74,
   "metadata": {},
   "outputs": [
    {
     "ename": "ValueError",
     "evalue": "list.remove(x): x not in list",
     "output_type": "error",
     "traceback": [
      "\u001b[1;31m---------------------------------------------------------------------------\u001b[0m",
      "\u001b[1;31mValueError\u001b[0m                                Traceback (most recent call last)",
      "\u001b[1;32m<ipython-input-74-5014c32bf487>\u001b[0m in \u001b[0;36m<module>\u001b[1;34m\u001b[0m\n\u001b[0;32m      1\u001b[0m \u001b[0mnode_list\u001b[0m \u001b[1;33m=\u001b[0m \u001b[0mlist\u001b[0m\u001b[1;33m(\u001b[0m\u001b[0mspecies_dict\u001b[0m\u001b[1;33m.\u001b[0m\u001b[0mkeys\u001b[0m\u001b[1;33m(\u001b[0m\u001b[1;33m)\u001b[0m\u001b[1;33m)\u001b[0m\u001b[1;33m\u001b[0m\u001b[1;33m\u001b[0m\u001b[0m\n\u001b[0;32m      2\u001b[0m \u001b[0mnode_list\u001b[0m\u001b[1;33m.\u001b[0m\u001b[0mremove\u001b[0m\u001b[1;33m(\u001b[0m\u001b[0mspecies\u001b[0m\u001b[1;33m[\u001b[0m\u001b[0mmini\u001b[0m\u001b[1;33m]\u001b[0m\u001b[1;33m)\u001b[0m\u001b[1;33m\u001b[0m\u001b[1;33m\u001b[0m\u001b[0m\n\u001b[1;32m----> 3\u001b[1;33m \u001b[0mnode_list\u001b[0m\u001b[1;33m.\u001b[0m\u001b[0mremove\u001b[0m\u001b[1;33m(\u001b[0m\u001b[0mspecies\u001b[0m\u001b[1;33m[\u001b[0m\u001b[0mminj\u001b[0m\u001b[1;33m]\u001b[0m\u001b[1;33m)\u001b[0m\u001b[1;33m\u001b[0m\u001b[1;33m\u001b[0m\u001b[0m\n\u001b[0m\u001b[0;32m      4\u001b[0m \u001b[0mnode_list\u001b[0m\u001b[1;33m.\u001b[0m\u001b[0mappend\u001b[0m\u001b[1;33m(\u001b[0m\u001b[1;34m'('\u001b[0m\u001b[1;33m+\u001b[0m\u001b[0mspecies\u001b[0m\u001b[1;33m[\u001b[0m\u001b[0mmini\u001b[0m\u001b[1;33m]\u001b[0m\u001b[1;33m+\u001b[0m\u001b[1;34m','\u001b[0m\u001b[1;33m+\u001b[0m\u001b[0mspecies\u001b[0m\u001b[1;33m[\u001b[0m\u001b[0mminj\u001b[0m\u001b[1;33m]\u001b[0m\u001b[1;33m+\u001b[0m\u001b[1;34m')'\u001b[0m\u001b[1;33m)\u001b[0m\u001b[1;33m\u001b[0m\u001b[1;33m\u001b[0m\u001b[0m\n\u001b[0;32m      5\u001b[0m \u001b[0mnode_list\u001b[0m\u001b[1;33m\u001b[0m\u001b[1;33m\u001b[0m\u001b[0m\n",
      "\u001b[1;31mValueError\u001b[0m: list.remove(x): x not in list"
     ]
    }
   ],
   "source": [
    "node_list = list(species_dict.keys())\n",
    "node_list.remove(species[mini])\n",
    "node_list.remove(species[minj])\n",
    "node_list.append('('+species[mini]+','+species[minj]+')')\n",
    "node_list"
   ]
  },
  {
   "cell_type": "code",
   "execution_count": 41,
   "metadata": {},
   "outputs": [],
   "source": [
    "def step2(mini,minj,node_list):\n",
    "    nodes = node_list.copy()\n",
    "    node_list.remove(nodes[mini])\n",
    "    node_list.remove(nodes[minj])\n",
    "    node_list.append('('+nodes[mini]+','+nodes[minj]+')')\n",
    "    return node_list"
   ]
  },
  {
   "cell_type": "code",
   "execution_count": 75,
   "metadata": {},
   "outputs": [
    {
     "ename": "ValueError",
     "evalue": "list.remove(x): x not in list",
     "output_type": "error",
     "traceback": [
      "\u001b[1;31m---------------------------------------------------------------------------\u001b[0m",
      "\u001b[1;31mValueError\u001b[0m                                Traceback (most recent call last)",
      "\u001b[1;32m<ipython-input-75-585137d7f5d3>\u001b[0m in \u001b[0;36m<module>\u001b[1;34m\u001b[0m\n\u001b[1;32m----> 1\u001b[1;33m \u001b[0mstep2\u001b[0m\u001b[1;33m(\u001b[0m\u001b[0mmini\u001b[0m\u001b[1;33m,\u001b[0m\u001b[0mminj\u001b[0m\u001b[1;33m,\u001b[0m\u001b[0mnode_list\u001b[0m\u001b[1;33m)\u001b[0m\u001b[1;33m\u001b[0m\u001b[1;33m\u001b[0m\u001b[0m\n\u001b[0m",
      "\u001b[1;32m<ipython-input-41-029fa5bca8d1>\u001b[0m in \u001b[0;36mstep2\u001b[1;34m(mini, minj, node_list)\u001b[0m\n\u001b[0;32m      2\u001b[0m     \u001b[0mnodes\u001b[0m \u001b[1;33m=\u001b[0m \u001b[0mnode_list\u001b[0m\u001b[1;33m.\u001b[0m\u001b[0mcopy\u001b[0m\u001b[1;33m(\u001b[0m\u001b[1;33m)\u001b[0m\u001b[1;33m\u001b[0m\u001b[1;33m\u001b[0m\u001b[0m\n\u001b[0;32m      3\u001b[0m     \u001b[0mnode_list\u001b[0m\u001b[1;33m.\u001b[0m\u001b[0mremove\u001b[0m\u001b[1;33m(\u001b[0m\u001b[0mnodes\u001b[0m\u001b[1;33m[\u001b[0m\u001b[0mmini\u001b[0m\u001b[1;33m]\u001b[0m\u001b[1;33m)\u001b[0m\u001b[1;33m\u001b[0m\u001b[1;33m\u001b[0m\u001b[0m\n\u001b[1;32m----> 4\u001b[1;33m     \u001b[0mnode_list\u001b[0m\u001b[1;33m.\u001b[0m\u001b[0mremove\u001b[0m\u001b[1;33m(\u001b[0m\u001b[0mnodes\u001b[0m\u001b[1;33m[\u001b[0m\u001b[0mminj\u001b[0m\u001b[1;33m]\u001b[0m\u001b[1;33m)\u001b[0m\u001b[1;33m\u001b[0m\u001b[1;33m\u001b[0m\u001b[0m\n\u001b[0m\u001b[0;32m      5\u001b[0m     \u001b[0mnode_list\u001b[0m\u001b[1;33m.\u001b[0m\u001b[0mappend\u001b[0m\u001b[1;33m(\u001b[0m\u001b[1;34m'('\u001b[0m\u001b[1;33m+\u001b[0m\u001b[0mnodes\u001b[0m\u001b[1;33m[\u001b[0m\u001b[0mmini\u001b[0m\u001b[1;33m]\u001b[0m\u001b[1;33m+\u001b[0m\u001b[1;34m','\u001b[0m\u001b[1;33m+\u001b[0m\u001b[0mnodes\u001b[0m\u001b[1;33m[\u001b[0m\u001b[0mminj\u001b[0m\u001b[1;33m]\u001b[0m\u001b[1;33m+\u001b[0m\u001b[1;34m')'\u001b[0m\u001b[1;33m)\u001b[0m\u001b[1;33m\u001b[0m\u001b[1;33m\u001b[0m\u001b[0m\n\u001b[0;32m      6\u001b[0m     \u001b[1;32mreturn\u001b[0m \u001b[0mnode_list\u001b[0m\u001b[1;33m\u001b[0m\u001b[1;33m\u001b[0m\u001b[0m\n",
      "\u001b[1;31mValueError\u001b[0m: list.remove(x): x not in list"
     ]
    }
   ],
   "source": [
    "step2(mini,minj,node_list)"
   ]
  },
  {
   "cell_type": "code",
   "execution_count": null,
   "metadata": {},
   "outputs": [],
   "source": []
  }
 ],
 "metadata": {
  "kernelspec": {
   "display_name": "Python 3",
   "language": "python",
   "name": "python3"
  },
  "language_info": {
   "codemirror_mode": {
    "name": "ipython",
    "version": 3
   },
   "file_extension": ".py",
   "mimetype": "text/x-python",
   "name": "python",
   "nbconvert_exporter": "python",
   "pygments_lexer": "ipython3",
   "version": "3.7.4"
  }
 },
 "nbformat": 4,
 "nbformat_minor": 2
}
