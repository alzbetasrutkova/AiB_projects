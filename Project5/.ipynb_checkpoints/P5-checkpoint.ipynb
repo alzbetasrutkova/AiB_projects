{
 "cells": [
  {
   "cell_type": "code",
   "execution_count": 24,
   "metadata": {},
   "outputs": [],
   "source": [
    "import numpy as np\n",
    "from ete3 import Tree"
   ]
  },
  {
   "cell_type": "code",
   "execution_count": 25,
   "metadata": {},
   "outputs": [],
   "source": [
    "#Distance matrix\n",
    "\n",
    "def read_mtrx(filename):\n",
    "    f = open(filename,'r')\n",
    "    num_species = int(f.readline())\n",
    "\n",
    "    dict_mat = {}\n",
    "    mat = np.zeros((num_species,num_species))\n",
    "    \n",
    "    for i in range(0,num_species):\n",
    "        line = f.readline()\n",
    "        nums_in_line = line.split()\n",
    "        dict_mat[nums_in_line[0]] = i\n",
    "        for j in range(1,num_species +1):\n",
    "            mat[i,j-1] = nums_in_line[j]\n",
    "    f.close()\n",
    "    return dict_mat, mat "
   ]
  },
  {
   "cell_type": "code",
   "execution_count": 26,
   "metadata": {},
   "outputs": [
    {
     "name": "stdout",
     "output_type": "stream",
     "text": [
      "{'A': 0, 'B': 1, 'C': 2, 'D': 3, 'E': 4}\n",
      "[[0.   0.23 0.16 0.2  0.17]\n",
      " [0.23 0.   0.23 0.17 0.24]\n",
      " [0.16 0.23 0.   0.2  0.11]\n",
      " [0.2  0.17 0.2  0.   0.21]\n",
      " [0.17 0.24 0.11 0.21 0.  ]]\n"
     ]
    }
   ],
   "source": [
    "species_dict, dist = read_mtrx(\"C:\\\\Users\\\\awila\\\\Downloads\\\\example_slide4.phy\")\n",
    "print(species_dict)\n",
    "print(dist)"
   ]
  },
  {
   "cell_type": "code",
   "execution_count": 27,
   "metadata": {},
   "outputs": [
    {
     "data": {
      "text/plain": [
       "['A', 'B', 'C', 'D', 'E']"
      ]
     },
     "execution_count": 27,
     "metadata": {},
     "output_type": "execute_result"
    }
   ],
   "source": [
    "list(species_dict.keys())"
   ]
  },
  {
   "cell_type": "code",
   "execution_count": 28,
   "metadata": {},
   "outputs": [
    {
     "name": "stdout",
     "output_type": "stream",
     "text": [
      "(A,B,C,D,E)\n"
     ]
    }
   ],
   "source": [
    "ntree = \"(\"\n",
    "species = list(species_dict.keys())\n",
    "for i in range(len(species)-1):\n",
    "    ntree += str(species[i]) + \",\"\n",
    "ntree += str(species[len(species)-1])+\")\"\n",
    "print(ntree)"
   ]
  },
  {
   "cell_type": "code",
   "execution_count": 29,
   "metadata": {},
   "outputs": [
    {
     "name": "stdout",
     "output_type": "stream",
     "text": [
      "\n",
      "   /-A\n",
      "  |\n",
      "  |--B\n",
      "  |\n",
      "--|--C\n",
      "  |\n",
      "  |--D\n",
      "  |\n",
      "   \\-E\n"
     ]
    }
   ],
   "source": [
    "t2 =  Tree(\"(A,B,C,D,E);\", format=1)\n",
    "print(t2)"
   ]
  },
  {
   "cell_type": "code",
   "execution_count": 30,
   "metadata": {},
   "outputs": [
    {
     "name": "stdout",
     "output_type": "stream",
     "text": [
      "Tree(rooted=False, weight=1.0)\n",
      "    Clade()\n",
      "        Clade(name='A')\n",
      "        Clade(name='B')\n",
      "        Clade(name='C')\n",
      "        Clade(name='D')\n",
      "        Clade(name='E')\n"
     ]
    }
   ],
   "source": [
    "from Bio import Phylo\n",
    "from io import StringIO\n",
    "tree = Phylo.read(StringIO(\"(A, B, C, D, E)\"), \"newick\")\n",
    "print(tree)"
   ]
  },
  {
   "cell_type": "code",
   "execution_count": 31,
   "metadata": {},
   "outputs": [
    {
     "name": "stdout",
     "output_type": "stream",
     "text": [
      "Tree(rooted=False, weight=1.0)\n",
      "    Clade()\n",
      "        Clade(name='A')\n",
      "        Clade(name='B')\n",
      "        Clade(name='C')\n",
      "        Clade(name='D')\n",
      "        Clade(name='E')\n"
     ]
    }
   ],
   "source": [
    "t1 = Phylo.read(StringIO(ntree), \"newick\")\n",
    "print(t1)"
   ]
  },
  {
   "cell_type": "code",
   "execution_count": 32,
   "metadata": {},
   "outputs": [
    {
     "data": {
      "text/plain": [
       "5"
      ]
     },
     "execution_count": 32,
     "metadata": {},
     "output_type": "execute_result"
    }
   ],
   "source": [
    "#NJ algorithm\n",
    "\n",
    "dist.shape[0]"
   ]
  },
  {
   "cell_type": "code",
   "execution_count": 16,
   "metadata": {},
   "outputs": [
    {
     "data": {
      "text/plain": [
       "array([[None, None, None, None, None],\n",
       "       [None, None, None, None, None],\n",
       "       [None, None, None, None, None],\n",
       "       [None, None, None, None, None],\n",
       "       [None, None, None, None, None]], dtype=object)"
      ]
     },
     "execution_count": 16,
     "metadata": {},
     "output_type": "execute_result"
    }
   ],
   "source": [
    "new_N = np.full([5,5], None)\n",
    "new_N"
   ]
  },
  {
   "cell_type": "code",
   "execution_count": 17,
   "metadata": {},
   "outputs": [
    {
     "data": {
      "text/plain": [
       "[0.25333333333333335, 0.29, 0.23333333333333336, 0.26, 0.24333333333333332]"
      ]
     },
     "execution_count": 17,
     "metadata": {},
     "output_type": "execute_result"
    }
   ],
   "source": [
    "ris = []\n",
    "for i in range(5):\n",
    "    ri = 0\n",
    "    for j in range(5):\n",
    "        ri +=dist[i,j]\n",
    "    ris.append(ri/3)\n",
    "ris"
   ]
  },
  {
   "cell_type": "code",
   "execution_count": 18,
   "metadata": {},
   "outputs": [
    {
     "data": {
      "text/plain": [
       "[0.25333333333333335, 0.29, 0.23333333333333336, 0.26, 0.24333333333333332]"
      ]
     },
     "execution_count": 18,
     "metadata": {},
     "output_type": "execute_result"
    }
   ],
   "source": [
    "rjs = []\n",
    "for j in range(5):\n",
    "    rj = 0\n",
    "    for i in range(5):\n",
    "        rj +=dist[i,j]\n",
    "    rjs.appehttp://localhost:8889/notebooks/OneDrive/Documents/GitHub/AiB_projects/Project5/P5.ipynb#nd(rj/3)\n",
    "rjs"
   ]
  },
  {
   "cell_type": "code",
   "execution_count": 19,
   "metadata": {},
   "outputs": [
    {
     "name": "stdout",
     "output_type": "stream",
     "text": [
      "[[0.5066666666666667 0.7733333333333334 0.6466666666666667\n",
      "  0.7133333333333334 0.6666666666666666]\n",
      " [0.7733333333333334 0.58 0.7533333333333334 0.72 0.7733333333333333]\n",
      " [0.6466666666666667 0.7533333333333334 0.46666666666666673\n",
      "  0.6933333333333334 0.5866666666666667]\n",
      " [0.7133333333333334 0.72 0.6933333333333334 0.52 0.7133333333333333]\n",
      " [0.6666666666666667 0.7733333333333332 0.5866666666666667\n",
      "  0.7133333333333334 0.48666666666666664]]\n",
      "2 2 0.46666666666666673\n"
     ]
    }
   ],
   "source": [
    "minN = dist[0,0]+ris[0]+rjs[0]\n",
    "mini = 0\n",
    "minj = 0\n",
    "for i in range(5):\n",
    "    for j in range(5):\n",
    "        nij = dist[i,j]+ris[i]+rjs[j]\n",
    "        new_N[i,j]=nij\n",
    "        if nij<minN : \n",
    "            minN = nij\n",
    "            mini = i\n",
    "            minj = j\n",
    "print(new_N)\n",
    "print(mini,minj,minN)"
   ]
  },
  {
   "cell_type": "code",
   "execution_count": 20,
   "metadata": {},
   "outputs": [],
   "source": [
    "def step1(dist):\n",
    "    S = dist.shape[0]\n",
    "    new_N = np.full([S,S], None)\n",
    "    ris = []\n",
    "    for i in range(S):\n",
    "        ri = 0\n",
    "        for j in range(S):\n",
    "            ri +=dist[i,j]\n",
    "        ris.append(ri/(S-2))\n",
    "    \n",
    "    rjs = []\n",
    "    for j in range(5):\n",
    "        rj = 0\n",
    "        for i in range(5):\n",
    "            rj +=dist[i,j]\n",
    "        rjs.append(rj/3)\n",
    "        \n",
    "    minN = dist[0,0]+ris[0]+rjs[0]\n",
    "    mini = 0\n",
    "    minj = 0\n",
    "    for i in range(5):\n",
    "        for j in range(5):\n",
    "            nij = dist[i,j]+ris[i]+rjs[j]\n",
    "            new_N[i,j]=nij\n",
    "            if nij<minN : \n",
    "                minN = nij\n",
    "                mini = i\n",
    "                minj = j\n",
    "    return(mini,minj,minN)"
   ]
  },
  {
   "cell_type": "code",
   "execution_count": 21,
   "metadata": {},
   "outputs": [
    {
     "data": {
      "text/plain": [
       "(2, 2, 0.46666666666666673)"
      ]
     },
     "execution_count": 21,
     "metadata": {},
     "output_type": "execute_result"
    }
   ],
   "source": [
    "step1(dist)"
   ]
  },
  {
   "cell_type": "code",
   "execution_count": 22,
   "metadata": {},
   "outputs": [
    {
     "name": "stdout",
     "output_type": "stream",
     "text": [
      "Tree(rooted=False, weight=1.0)\n",
      "    Clade()\n",
      "        Clade(name='A')\n",
      "        Clade(name='B')\n",
      "        Clade(name='C')\n",
      "        Clade(name='D')\n",
      "        Clade(name='E')\n"
     ]
    }
   ],
   "source": [
    "#Step 2\n",
    "\n",
    "t1 = Phylo.read(StringIO(ntree), \"newick\")\n",
    "print(t1)"
   ]
  },
  {
   "cell_type": "code",
   "execution_count": 23,
   "metadata": {},
   "outputs": [
    {
     "name": "stdout",
     "output_type": "stream",
     "text": [
      "None\n"
     ]
    }
   ],
   "source": [
    "outgroup = [{\"name\": taxon_name} for taxon_name in (\"C\", \"D\", \"E\")]\n",
    "t1=t1.root_with_outgroup(*outgroup)\n",
    "print(t1)"
   ]
  },
  {
   "cell_type": "code",
   "execution_count": 37,
   "metadata": {},
   "outputs": [
    {
     "ename": "ModuleNotFoundError",
     "evalue": "No module named 'dendropy'",
     "output_type": "error",
     "traceback": [
      "\u001b[1;31m---------------------------------------------------------------------------\u001b[0m",
      "\u001b[1;31mModuleNotFoundError\u001b[0m                       Traceback (most recent call last)",
      "\u001b[1;32m<ipython-input-37-901f4fac275a>\u001b[0m in \u001b[0;36m<module>\u001b[1;34m\u001b[0m\n\u001b[0;32m      1\u001b[0m \u001b[1;31m# Explicitly create and add the taxon to the taxon set\u001b[0m\u001b[1;33m\u001b[0m\u001b[1;33m\u001b[0m\u001b[1;33m\u001b[0m\u001b[0m\n\u001b[1;32m----> 2\u001b[1;33m \u001b[1;32mimport\u001b[0m \u001b[0mdendropy\u001b[0m\u001b[1;33m\u001b[0m\u001b[1;33m\u001b[0m\u001b[0m\n\u001b[0m\u001b[0;32m      3\u001b[0m \u001b[0mtaxon_1\u001b[0m \u001b[1;33m=\u001b[0m \u001b[0mdendropy\u001b[0m\u001b[1;33m.\u001b[0m\u001b[0mTaxon\u001b[0m\u001b[1;33m(\u001b[0m\u001b[0mlabel\u001b[0m\u001b[1;33m=\u001b[0m\u001b[1;34m\"6\"\u001b[0m\u001b[1;33m)\u001b[0m\u001b[1;33m\u001b[0m\u001b[1;33m\u001b[0m\u001b[0m\n\u001b[0;32m      4\u001b[0m \u001b[0mt1\u001b[0m\u001b[1;33m.\u001b[0m\u001b[0mtaxon_set\u001b[0m\u001b[1;33m.\u001b[0m\u001b[0madd_taxon\u001b[0m\u001b[1;33m(\u001b[0m\u001b[0mtaxon_1\u001b[0m\u001b[1;33m)\u001b[0m\u001b[1;33m\u001b[0m\u001b[1;33m\u001b[0m\u001b[0m\n",
      "\u001b[1;31mModuleNotFoundError\u001b[0m: No module named 'dendropy'"
     ]
    }
   ],
   "source": [
    "# Explicitly create and add the taxon to the taxon set\n",
    "import dendropy\n",
    "taxon_1 = dendropy.Taxon(label=\"6\")\n",
    "t1.taxon_set.add_taxon(taxon_1)\n",
    "\n",
    "# Create a new node and assign a taxon OBJECT to it (not a label)\n",
    "n = dendropy.Node(taxon=taxon_1, label='6')\n",
    "\n",
    "# Now this works\n",
    "print t1.find_node_with_taxon_label(\"6\")"
   ]
  },
  {
   "cell_type": "code",
   "execution_count": null,
   "metadata": {},
   "outputs": [],
   "source": []
  }
 ],
 "metadata": {
  "kernelspec": {
   "display_name": "Python 3",
   "language": "python",
   "name": "python3"
  },
  "language_info": {
   "codemirror_mode": {
    "name": "ipython",
    "version": 3
   },
   "file_extension": ".py",
   "mimetype": "text/x-python",
   "name": "python",
   "nbconvert_exporter": "python",
   "pygments_lexer": "ipython3",
   "version": "3.7.4"
  }
 },
 "nbformat": 4,
 "nbformat_minor": 2
}
