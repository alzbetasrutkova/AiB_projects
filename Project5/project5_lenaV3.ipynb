{
 "cells": [
  {
   "cell_type": "code",
   "execution_count": 39,
   "metadata": {},
   "outputs": [],
   "source": [
    "import numpy as np\n",
    "import pandas as pd\n",
    "import sys\n",
    "import random"
   ]
  },
  {
   "cell_type": "markdown",
   "metadata": {},
   "source": [
    "# Distance matrix"
   ]
  },
  {
   "cell_type": "code",
   "execution_count": 40,
   "metadata": {},
   "outputs": [],
   "source": [
    "#an improved version of the read_subst_mtrx from project_3\n",
    "#returns the matrix and a dictionary mapping the species name to indeces\n",
    "def read_mtrx(filename):\n",
    "    f = open(filename,'r')\n",
    "    num_species = int(f.readline())\n",
    "\n",
    "    dict_mat = {}\n",
    "    mat = np.zeros((num_species,num_species))\n",
    "    \n",
    "    for i in range(0,num_species):\n",
    "        line = f.readline()\n",
    "        nums_in_line = line.split()\n",
    "        dict_mat[nums_in_line[0]] = i\n",
    "        for j in range(1,num_species +1):\n",
    "            mat[i,j-1] = nums_in_line[j]\n",
    "    f.close()\n",
    "    return dict_mat, mat "
   ]
  },
  {
   "cell_type": "code",
   "execution_count": 232,
   "metadata": {},
   "outputs": [
    {
     "name": "stdout",
     "output_type": "stream",
     "text": [
      "{'A': 0, 'B': 1, 'C': 2, 'D': 3, 'E': 4}\n",
      "[[0.   0.23 0.16 0.2  0.17]\n",
      " [0.23 0.   0.23 0.17 0.24]\n",
      " [0.16 0.23 0.   0.2  0.11]\n",
      " [0.2  0.17 0.2  0.   0.21]\n",
      " [0.17 0.24 0.11 0.21 0.  ]]\n"
     ]
    }
   ],
   "source": [
    "species_dict, dist = read_mtrx(\"C:/Users/lenab/Documents/AU/Algorithms_in_bioinformatics/Brouillons_projets/example_slide4.phy\")\n",
    "print(species_dict)\n",
    "print(dist)"
   ]
  },
  {
   "cell_type": "code",
   "execution_count": 233,
   "metadata": {},
   "outputs": [
    {
     "data": {
      "text/plain": [
       "{'A': array([0.  , 0.23, 0.16, 0.2 , 0.17]),\n",
       " 'B': array([0.23, 0.  , 0.23, 0.17, 0.24]),\n",
       " 'C': array([0.16, 0.23, 0.  , 0.2 , 0.11]),\n",
       " 'D': array([0.2 , 0.17, 0.2 , 0.  , 0.21]),\n",
       " 'E': array([0.17, 0.24, 0.11, 0.21, 0.  ])}"
      ]
     },
     "execution_count": 233,
     "metadata": {},
     "output_type": "execute_result"
    }
   ],
   "source": [
    "species = list(species_dict.keys())\n",
    "dict_dist = {}\n",
    "for i in range(len(species)) :\n",
    "    dict_dist[species[i]] = dist[i]\n",
    "dict_dist"
   ]
  },
  {
   "cell_type": "code",
   "execution_count": 234,
   "metadata": {},
   "outputs": [
    {
     "name": "stdout",
     "output_type": "stream",
     "text": [
      "      A     B     C     D     E\n",
      "A  0.00  0.23  0.16  0.20  0.17\n",
      "B  0.23  0.00  0.23  0.17  0.24\n",
      "C  0.16  0.23  0.00  0.20  0.11\n",
      "D  0.20  0.17  0.20  0.00  0.21\n",
      "E  0.17  0.24  0.11  0.21  0.00\n"
     ]
    }
   ],
   "source": [
    "dist=pd.DataFrame.from_dict(dict_dist,\n",
    "orient='index', columns=species)\n",
    "print(dist)"
   ]
  },
  {
   "cell_type": "code",
   "execution_count": 44,
   "metadata": {},
   "outputs": [
    {
     "data": {
      "text/plain": [
       "0.23"
      ]
     },
     "execution_count": 44,
     "metadata": {},
     "output_type": "execute_result"
    }
   ],
   "source": [
    "dist.loc['A','B']"
   ]
  },
  {
   "cell_type": "markdown",
   "metadata": {},
   "source": [
    "# NJ algorithm"
   ]
  },
  {
   "cell_type": "markdown",
   "metadata": {},
   "source": [
    "## Step 1"
   ]
  },
  {
   "cell_type": "code",
   "execution_count": 45,
   "metadata": {},
   "outputs": [
    {
     "data": {
      "text/html": [
       "<div>\n",
       "<style scoped>\n",
       "    .dataframe tbody tr th:only-of-type {\n",
       "        vertical-align: middle;\n",
       "    }\n",
       "\n",
       "    .dataframe tbody tr th {\n",
       "        vertical-align: top;\n",
       "    }\n",
       "\n",
       "    .dataframe thead th {\n",
       "        text-align: right;\n",
       "    }\n",
       "</style>\n",
       "<table border=\"1\" class=\"dataframe\">\n",
       "  <thead>\n",
       "    <tr style=\"text-align: right;\">\n",
       "      <th></th>\n",
       "      <th>A</th>\n",
       "      <th>B</th>\n",
       "      <th>C</th>\n",
       "      <th>D</th>\n",
       "      <th>E</th>\n",
       "    </tr>\n",
       "  </thead>\n",
       "  <tbody>\n",
       "    <tr>\n",
       "      <th>A</th>\n",
       "      <td>NaN</td>\n",
       "      <td>NaN</td>\n",
       "      <td>NaN</td>\n",
       "      <td>NaN</td>\n",
       "      <td>NaN</td>\n",
       "    </tr>\n",
       "    <tr>\n",
       "      <th>B</th>\n",
       "      <td>NaN</td>\n",
       "      <td>NaN</td>\n",
       "      <td>NaN</td>\n",
       "      <td>NaN</td>\n",
       "      <td>NaN</td>\n",
       "    </tr>\n",
       "    <tr>\n",
       "      <th>C</th>\n",
       "      <td>NaN</td>\n",
       "      <td>NaN</td>\n",
       "      <td>NaN</td>\n",
       "      <td>NaN</td>\n",
       "      <td>NaN</td>\n",
       "    </tr>\n",
       "    <tr>\n",
       "      <th>D</th>\n",
       "      <td>NaN</td>\n",
       "      <td>NaN</td>\n",
       "      <td>NaN</td>\n",
       "      <td>NaN</td>\n",
       "      <td>NaN</td>\n",
       "    </tr>\n",
       "    <tr>\n",
       "      <th>E</th>\n",
       "      <td>NaN</td>\n",
       "      <td>NaN</td>\n",
       "      <td>NaN</td>\n",
       "      <td>NaN</td>\n",
       "      <td>NaN</td>\n",
       "    </tr>\n",
       "  </tbody>\n",
       "</table>\n",
       "</div>"
      ],
      "text/plain": [
       "     A    B    C    D    E\n",
       "A  NaN  NaN  NaN  NaN  NaN\n",
       "B  NaN  NaN  NaN  NaN  NaN\n",
       "C  NaN  NaN  NaN  NaN  NaN\n",
       "D  NaN  NaN  NaN  NaN  NaN\n",
       "E  NaN  NaN  NaN  NaN  NaN"
      ]
     },
     "execution_count": 45,
     "metadata": {},
     "output_type": "execute_result"
    }
   ],
   "source": [
    "N = pd.DataFrame(columns=species, index = species)\n",
    "N"
   ]
  },
  {
   "cell_type": "code",
   "execution_count": 46,
   "metadata": {},
   "outputs": [
    {
     "data": {
      "text/plain": [
       "0.23"
      ]
     },
     "execution_count": 46,
     "metadata": {},
     "output_type": "execute_result"
    }
   ],
   "source": [
    "dist.loc['A','B']"
   ]
  },
  {
   "cell_type": "code",
   "execution_count": 235,
   "metadata": {},
   "outputs": [],
   "source": [
    "def step1(dist):\n",
    "    S = len(dist.columns)\n",
    "    N = pd.DataFrame(columns=dist.columns, index = dist.index)\n",
    "    rs = []\n",
    "    for i in dist.index:\n",
    "        ri = 0\n",
    "        for j in dist.columns:\n",
    "            ri +=dist.loc[i,j]\n",
    "        ris.append(ri/(S-2))\n",
    "        \n",
    "    minN = sys.maxsize\n",
    "    mini = dist.index[0]\n",
    "    minj = dist.columns[1]\n",
    "    rimin = rs[0]\n",
    "    rjmin = rs[1]\n",
    "    index_mini = 0\n",
    "    index_minj = 1\n",
    "    for i in range(len(dist.index)):\n",
    "        for j in range(len(dist.columns)):\n",
    "            ci = dist.index[i]\n",
    "            cj = dist.columns[j]\n",
    "            nij = dist.loc[ci,cj]-rs[i]-rs[j]\n",
    "            N.loc[ci,cj]=nij\n",
    "            if ci != cj:\n",
    "                if nij<minN : \n",
    "                    minN = nij\n",
    "                    mini = ci\n",
    "                    minj = cj\n",
    "                    rimin = rs[i]\n",
    "                    rjmin = rs[j]\n",
    "                    index_mini = i\n",
    "                    index_minj = j\n",
    "                    \n",
    "    return(index_mini, index_minj, mini,minj,minN,rimin,rjmin)\n"
   ]
  },
  {
   "cell_type": "code",
   "execution_count": 236,
   "metadata": {},
   "outputs": [
    {
     "name": "stdout",
     "output_type": "stream",
     "text": [
      "[0.25333333333333335, 0.29, 0.23333333333333336, 0.26, 0.24333333333333332] [0.25333333333333335, 0.29, 0.23333333333333336, 0.26, 0.24333333333333332]\n",
      "1 3 B D -0.38 0.29 0.26\n"
     ]
    }
   ],
   "source": [
    "index_mini, index_minj, mini,minj, minN,rimin, rjmin = step1(dist)\n",
    "print (index_mini, index_minj, mini,minj, minN,rimin, rjmin )"
   ]
  },
  {
   "cell_type": "markdown",
   "metadata": {},
   "source": [
    "## Step 2"
   ]
  },
  {
   "cell_type": "code",
   "execution_count": 49,
   "metadata": {},
   "outputs": [
    {
     "name": "stdout",
     "output_type": "stream",
     "text": [
      "['A', 'B', 'C', 'D', 'E']\n"
     ]
    }
   ],
   "source": [
    "nodes = list(dist.index).copy()\n",
    "print(nodes)"
   ]
  },
  {
   "cell_type": "code",
   "execution_count": 50,
   "metadata": {},
   "outputs": [],
   "source": [
    "def step2(mini,minj,dist):\n",
    "    nodes = list(dist.index).copy()\n",
    "    nodes.remove(mini)\n",
    "    nodes.remove(minj)\n",
    "    nodes.append('('+mini+','+minj+')')\n",
    "    return nodes"
   ]
  },
  {
   "cell_type": "code",
   "execution_count": 51,
   "metadata": {},
   "outputs": [
    {
     "data": {
      "text/plain": [
       "['A', 'C', 'E', '(B,D)']"
      ]
     },
     "execution_count": 51,
     "metadata": {},
     "output_type": "execute_result"
    }
   ],
   "source": [
    "nodes = step2('B','D',dist)\n",
    "nodes"
   ]
  },
  {
   "cell_type": "markdown",
   "metadata": {},
   "source": [
    "## Step 3"
   ]
  },
  {
   "cell_type": "code",
   "execution_count": 52,
   "metadata": {},
   "outputs": [],
   "source": [
    "# This function works for the first iteration, but not for the next ones, because we do not keep in memory previous lengths\n",
    "def step3(mini, minj, dist, rimin, rjmin):\n",
    "    nodes = list(dist.index).copy()\n",
    "    nodes.remove(mini)\n",
    "    nodes.remove(minj)\n",
    "    #dik = (dist.loc[mini,minj] + rimin - rjmin)/2\n",
    "    #djk = (dist.loc[mini,minj] + rjmin - rimin)/2\n",
    "    dik = round((dist.loc[mini,minj] + rimin - rjmin)/2,4)\n",
    "    djk = round((dist.loc[mini,minj] + rjmin - rimin)/2,4)\n",
    "    nodes.append('(' + mini + ': '+ str(dik) + ','+ minj + \": \"+ str(djk) + ')')\n",
    "    return nodes"
   ]
  },
  {
   "cell_type": "code",
   "execution_count": 53,
   "metadata": {},
   "outputs": [
    {
     "data": {
      "text/plain": [
       "['A', 'C', 'E', '(B: 0.1,D: 0.07)']"
      ]
     },
     "execution_count": 53,
     "metadata": {},
     "output_type": "execute_result"
    }
   ],
   "source": [
    "nodes_length = step3(mini, minj, dist, rimin, rjmin)\n",
    "nodes_length"
   ]
  },
  {
   "cell_type": "markdown",
   "metadata": {},
   "source": [
    "Try to find a solution"
   ]
  },
  {
   "cell_type": "code",
   "execution_count": 54,
   "metadata": {},
   "outputs": [],
   "source": [
    "nodes_length = list(dist.index).copy()\n",
    "def step3(index_mini, index_minj, mini, minj, dist, rimin, rjmin, node_length):\n",
    "    nodes = node_length.copy()\n",
    "    nodes.remove(node_length[index_mini])\n",
    "    nodes.remove(node_length[index_minj])\n",
    "    #dik = (dist.loc[mini,minj] + rimin - rjmin)/2\n",
    "    #djk = (dist.loc[mini,minj] + rjmin - rimin)/2\n",
    "    dik = round((dist.loc[mini,minj] + rimin - rjmin)/2,4)\n",
    "    djk = round((dist.loc[mini,minj] + rjmin - rimin)/2,4)\n",
    "    nodes.append('(' + node_length[index_mini] + ': '+ str(dik) + ','+ node_length[index_minj]+ \": \"+ str(djk) + ')')\n",
    "    return nodes"
   ]
  },
  {
   "cell_type": "code",
   "execution_count": 55,
   "metadata": {},
   "outputs": [
    {
     "data": {
      "text/plain": [
       "['A', 'C', 'E', '(B: 0.1,D: 0.07)']"
      ]
     },
     "execution_count": 55,
     "metadata": {},
     "output_type": "execute_result"
    }
   ],
   "source": [
    "step3(index_mini, index_minj, mini, minj, dist, rimin, rjmin, nodes_length)"
   ]
  },
  {
   "cell_type": "markdown",
   "metadata": {},
   "source": [
    "This second function works. => Take this one"
   ]
  },
  {
   "cell_type": "markdown",
   "metadata": {},
   "source": [
    "## Step 4  "
   ]
  },
  {
   "cell_type": "code",
   "execution_count": 56,
   "metadata": {},
   "outputs": [
    {
     "data": {
      "text/plain": [
       "'(B,D)'"
      ]
     },
     "execution_count": 56,
     "metadata": {},
     "output_type": "execute_result"
    }
   ],
   "source": [
    "nodes[-1]"
   ]
  },
  {
   "cell_type": "code",
   "execution_count": 57,
   "metadata": {},
   "outputs": [
    {
     "data": {
      "text/plain": [
       "A    0.00\n",
       "B    0.23\n",
       "C    0.16\n",
       "D    0.20\n",
       "E    0.17\n",
       "Name: A, dtype: float64"
      ]
     },
     "execution_count": 57,
     "metadata": {},
     "output_type": "execute_result"
    }
   ],
   "source": [
    "dist.loc[\"A\",:]"
   ]
  },
  {
   "cell_type": "code",
   "execution_count": 58,
   "metadata": {},
   "outputs": [
    {
     "data": {
      "text/html": [
       "<div>\n",
       "<style scoped>\n",
       "    .dataframe tbody tr th:only-of-type {\n",
       "        vertical-align: middle;\n",
       "    }\n",
       "\n",
       "    .dataframe tbody tr th {\n",
       "        vertical-align: top;\n",
       "    }\n",
       "\n",
       "    .dataframe thead th {\n",
       "        text-align: right;\n",
       "    }\n",
       "</style>\n",
       "<table border=\"1\" class=\"dataframe\">\n",
       "  <thead>\n",
       "    <tr style=\"text-align: right;\">\n",
       "      <th></th>\n",
       "      <th>A</th>\n",
       "      <th>B</th>\n",
       "      <th>C</th>\n",
       "      <th>D</th>\n",
       "      <th>E</th>\n",
       "    </tr>\n",
       "  </thead>\n",
       "  <tbody>\n",
       "    <tr>\n",
       "      <th>A</th>\n",
       "      <td>0.00</td>\n",
       "      <td>460.00</td>\n",
       "      <td>0.16</td>\n",
       "      <td>0.20</td>\n",
       "      <td>0.17</td>\n",
       "    </tr>\n",
       "    <tr>\n",
       "      <th>B</th>\n",
       "      <td>0.23</td>\n",
       "      <td>0.00</td>\n",
       "      <td>0.23</td>\n",
       "      <td>0.17</td>\n",
       "      <td>0.24</td>\n",
       "    </tr>\n",
       "    <tr>\n",
       "      <th>C</th>\n",
       "      <td>0.16</td>\n",
       "      <td>0.23</td>\n",
       "      <td>0.00</td>\n",
       "      <td>0.20</td>\n",
       "      <td>0.11</td>\n",
       "    </tr>\n",
       "    <tr>\n",
       "      <th>D</th>\n",
       "      <td>0.20</td>\n",
       "      <td>0.17</td>\n",
       "      <td>0.20</td>\n",
       "      <td>0.00</td>\n",
       "      <td>0.21</td>\n",
       "    </tr>\n",
       "    <tr>\n",
       "      <th>E</th>\n",
       "      <td>0.17</td>\n",
       "      <td>0.24</td>\n",
       "      <td>0.11</td>\n",
       "      <td>0.21</td>\n",
       "      <td>0.00</td>\n",
       "    </tr>\n",
       "  </tbody>\n",
       "</table>\n",
       "</div>"
      ],
      "text/plain": [
       "      A       B     C     D     E\n",
       "A  0.00  460.00  0.16  0.20  0.17\n",
       "B  0.23    0.00  0.23  0.17  0.24\n",
       "C  0.16    0.23  0.00  0.20  0.11\n",
       "D  0.20    0.17  0.20  0.00  0.21\n",
       "E  0.17    0.24  0.11  0.21  0.00"
      ]
     },
     "execution_count": 58,
     "metadata": {},
     "output_type": "execute_result"
    }
   ],
   "source": [
    "dist.loc[\"A\",\"B\"]=460\n",
    "dist"
   ]
  },
  {
   "cell_type": "code",
   "execution_count": 59,
   "metadata": {},
   "outputs": [
    {
     "name": "stdout",
     "output_type": "stream",
     "text": [
      "A    0.00\n",
      "B    0.23\n",
      "C    0.16\n",
      "D    0.20\n",
      "E    0.17\n",
      "Name: A, dtype: float64\n"
     ]
    },
    {
     "data": {
      "text/plain": [
       "0.23"
      ]
     },
     "execution_count": 59,
     "metadata": {},
     "output_type": "execute_result"
    }
   ],
   "source": [
    "col_j = dist[\"A\"]\n",
    "print(col_j)\n",
    "col_j[\"B\"]"
   ]
  },
  {
   "cell_type": "code",
   "execution_count": 60,
   "metadata": {},
   "outputs": [
    {
     "name": "stdout",
     "output_type": "stream",
     "text": [
      "A      0.00\n",
      "B    460.00\n",
      "C      0.16\n",
      "D      0.20\n",
      "E      0.17\n",
      "Name: A, dtype: float64\n"
     ]
    },
    {
     "data": {
      "text/plain": [
       "0.17"
      ]
     },
     "execution_count": 60,
     "metadata": {},
     "output_type": "execute_result"
    }
   ],
   "source": [
    "row_i = dist.loc[\"A\",:]\n",
    "print(row_i)\n",
    "row_i[\"E\"]"
   ]
  },
  {
   "cell_type": "code",
   "execution_count": 61,
   "metadata": {},
   "outputs": [
    {
     "name": "stdout",
     "output_type": "stream",
     "text": [
      "      A     B     C     D     E\n",
      "A  0.00  0.23  0.16  0.20  0.17\n",
      "B  0.23  0.00  0.23  0.17  0.24\n",
      "C  0.16  0.23  0.00  0.20  0.11\n",
      "D  0.20  0.17  0.20  0.00  0.21\n",
      "E  0.17  0.24  0.11  0.21  0.00\n"
     ]
    }
   ],
   "source": [
    "# Reinitialize dist\n",
    "dist=pd.DataFrame.from_dict(dict_dist,\n",
    "orient='index', columns=species)\n",
    "print(dist)"
   ]
  },
  {
   "cell_type": "code",
   "execution_count": 62,
   "metadata": {},
   "outputs": [
    {
     "data": {
      "text/html": [
       "<div>\n",
       "<style scoped>\n",
       "    .dataframe tbody tr th:only-of-type {\n",
       "        vertical-align: middle;\n",
       "    }\n",
       "\n",
       "    .dataframe tbody tr th {\n",
       "        vertical-align: top;\n",
       "    }\n",
       "\n",
       "    .dataframe thead th {\n",
       "        text-align: right;\n",
       "    }\n",
       "</style>\n",
       "<table border=\"1\" class=\"dataframe\">\n",
       "  <thead>\n",
       "    <tr style=\"text-align: right;\">\n",
       "      <th></th>\n",
       "      <th>A</th>\n",
       "      <th>C</th>\n",
       "      <th>E</th>\n",
       "      <th>(B,D)</th>\n",
       "    </tr>\n",
       "  </thead>\n",
       "  <tbody>\n",
       "    <tr>\n",
       "      <th>A</th>\n",
       "      <td>0.00</td>\n",
       "      <td>0.16</td>\n",
       "      <td>0.17</td>\n",
       "      <td>0.13</td>\n",
       "    </tr>\n",
       "    <tr>\n",
       "      <th>C</th>\n",
       "      <td>0.16</td>\n",
       "      <td>0.00</td>\n",
       "      <td>0.11</td>\n",
       "      <td>0.13</td>\n",
       "    </tr>\n",
       "    <tr>\n",
       "      <th>E</th>\n",
       "      <td>0.17</td>\n",
       "      <td>0.11</td>\n",
       "      <td>0.00</td>\n",
       "      <td>0.14</td>\n",
       "    </tr>\n",
       "    <tr>\n",
       "      <th>(B,D)</th>\n",
       "      <td>0.13</td>\n",
       "      <td>0.13</td>\n",
       "      <td>0.14</td>\n",
       "      <td>0.00</td>\n",
       "    </tr>\n",
       "  </tbody>\n",
       "</table>\n",
       "</div>"
      ],
      "text/plain": [
       "          A     C     E  (B,D)\n",
       "A      0.00  0.16  0.17   0.13\n",
       "C      0.16  0.00  0.11   0.13\n",
       "E      0.17  0.11  0.00   0.14\n",
       "(B,D)  0.13  0.13  0.14   0.00"
      ]
     },
     "execution_count": 62,
     "metadata": {},
     "output_type": "execute_result"
    }
   ],
   "source": [
    "k = nodes[-1]\n",
    "row_mini = dist.loc[mini,:]\n",
    "col_minj = dist[minj]\n",
    "for i in dist.index : \n",
    "    if i != mini and i!=minj : \n",
    "        dist.loc[i,k] = (dist.loc[mini,i]+dist.loc[minj,i]-dist.loc[mini,minj])/2\n",
    "        dist.loc[k,i] = (dist.loc[mini,i]+dist.loc[minj,i]-dist.loc[mini,minj])/2\n",
    "dist.loc[k,k]=0\n",
    "dist = dist.drop(index = [mini,minj], columns = [mini,minj])\n",
    "dist"
   ]
  },
  {
   "cell_type": "code",
   "execution_count": 63,
   "metadata": {},
   "outputs": [],
   "source": [
    "def step4(mini, minj, dist):\n",
    "    k = nodes[-1]\n",
    "    row_mini = dist.loc[mini,:]\n",
    "    col_minj = dist[minj]\n",
    "    for i in dist.index : \n",
    "        if i != mini and i!=minj : \n",
    "            dist.loc[i,k] = (dist.loc[mini,i]+dist.loc[minj,i]-dist.loc[mini,minj])/2\n",
    "            dist.loc[k,i] = (dist.loc[mini,i]+dist.loc[minj,i]-dist.loc[mini,minj])/2\n",
    "    dist.loc[k,k]=0\n",
    "    dist = dist.drop(index = [mini,minj], columns = [mini,minj])\n",
    "    return(dist)"
   ]
  },
  {
   "cell_type": "markdown",
   "metadata": {},
   "source": [
    "## Try a second step"
   ]
  },
  {
   "cell_type": "code",
   "execution_count": 167,
   "metadata": {},
   "outputs": [
    {
     "name": "stdout",
     "output_type": "stream",
     "text": [
      "      A     B     C     D     E\n",
      "A  0.00  0.23  0.16  0.20  0.17\n",
      "B  0.23  0.00  0.23  0.17  0.24\n",
      "C  0.16  0.23  0.00  0.20  0.11\n",
      "D  0.20  0.17  0.20  0.00  0.21\n",
      "E  0.17  0.24  0.11  0.21  0.00\n",
      "['A', 'B', 'C', 'D', 'E']\n"
     ]
    }
   ],
   "source": [
    "# Reinitialize dist\n",
    "dist=pd.DataFrame.from_dict(dict_dist,\n",
    "orient='index', columns=species)\n",
    "### Reinitialize node_length\n",
    "nodes_length = list(dist.index).copy()\n",
    "print(dist)\n",
    "print(nodes_length)"
   ]
  },
  {
   "cell_type": "code",
   "execution_count": 173,
   "metadata": {},
   "outputs": [
    {
     "name": "stdout",
     "output_type": "stream",
     "text": [
      "0 3 A (B,D) -0.3 0.23 0.19999999999999998\n"
     ]
    }
   ],
   "source": [
    "index_mini, index_minj,mini,minj, minN,rimin, rjmin = step1(dist)\n",
    "print (index_mini, index_minj,mini,minj, minN,rimin, rjmin)"
   ]
  },
  {
   "cell_type": "code",
   "execution_count": 174,
   "metadata": {},
   "outputs": [
    {
     "data": {
      "text/plain": [
       "['C', 'E', '(A,(B,D))']"
      ]
     },
     "execution_count": 174,
     "metadata": {},
     "output_type": "execute_result"
    }
   ],
   "source": [
    "nodes = step2(mini,minj,dist)\n",
    "nodes"
   ]
  },
  {
   "cell_type": "code",
   "execution_count": 175,
   "metadata": {},
   "outputs": [
    {
     "data": {
      "text/plain": [
       "['A', 'C', 'E', '(B: 0.1,D: 0.07)']"
      ]
     },
     "execution_count": 175,
     "metadata": {},
     "output_type": "execute_result"
    }
   ],
   "source": [
    "nodes_length"
   ]
  },
  {
   "cell_type": "code",
   "execution_count": 176,
   "metadata": {},
   "outputs": [
    {
     "data": {
      "text/plain": [
       "['C', 'E', '(A: 0.08,(B: 0.1,D: 0.07): 0.05)']"
      ]
     },
     "execution_count": 176,
     "metadata": {},
     "output_type": "execute_result"
    }
   ],
   "source": [
    "nodes_length = step3(index_mini, index_minj, mini, minj, dist, rimin, rjmin, nodes_length)\n",
    "nodes_length"
   ]
  },
  {
   "cell_type": "code",
   "execution_count": 177,
   "metadata": {},
   "outputs": [
    {
     "data": {
      "text/html": [
       "<div>\n",
       "<style scoped>\n",
       "    .dataframe tbody tr th:only-of-type {\n",
       "        vertical-align: middle;\n",
       "    }\n",
       "\n",
       "    .dataframe tbody tr th {\n",
       "        vertical-align: top;\n",
       "    }\n",
       "\n",
       "    .dataframe thead th {\n",
       "        text-align: right;\n",
       "    }\n",
       "</style>\n",
       "<table border=\"1\" class=\"dataframe\">\n",
       "  <thead>\n",
       "    <tr style=\"text-align: right;\">\n",
       "      <th></th>\n",
       "      <th>C</th>\n",
       "      <th>E</th>\n",
       "      <th>(A,(B,D))</th>\n",
       "    </tr>\n",
       "  </thead>\n",
       "  <tbody>\n",
       "    <tr>\n",
       "      <th>C</th>\n",
       "      <td>0.00</td>\n",
       "      <td>0.11</td>\n",
       "      <td>0.08</td>\n",
       "    </tr>\n",
       "    <tr>\n",
       "      <th>E</th>\n",
       "      <td>0.11</td>\n",
       "      <td>0.00</td>\n",
       "      <td>0.09</td>\n",
       "    </tr>\n",
       "    <tr>\n",
       "      <th>(A,(B,D))</th>\n",
       "      <td>0.08</td>\n",
       "      <td>0.09</td>\n",
       "      <td>0.00</td>\n",
       "    </tr>\n",
       "  </tbody>\n",
       "</table>\n",
       "</div>"
      ],
      "text/plain": [
       "              C     E  (A,(B,D))\n",
       "C          0.00  0.11       0.08\n",
       "E          0.11  0.00       0.09\n",
       "(A,(B,D))  0.08  0.09       0.00"
      ]
     },
     "execution_count": 177,
     "metadata": {},
     "output_type": "execute_result"
    }
   ],
   "source": [
    "dist = step4(mini, minj, dist)\n",
    "dist"
   ]
  },
  {
   "cell_type": "code",
   "execution_count": 150,
   "metadata": {},
   "outputs": [
    {
     "data": {
      "text/plain": [
       "3"
      ]
     },
     "execution_count": 150,
     "metadata": {},
     "output_type": "execute_result"
    }
   ],
   "source": [
    "len(dist.index)"
   ]
  },
  {
   "cell_type": "markdown",
   "metadata": {},
   "source": [
    "## Termination step"
   ]
  },
  {
   "cell_type": "code",
   "execution_count": 151,
   "metadata": {},
   "outputs": [
    {
     "name": "stdout",
     "output_type": "stream",
     "text": [
      "C E (A,(B,D))\n",
      "(C:0.05, E:0.06, (A,(B,D)):0.03)\n"
     ]
    }
   ],
   "source": [
    "i = nodes[0]\n",
    "j = nodes[1]\n",
    "m = nodes[2]\n",
    "print(i,j,m)\n",
    "#dvi = (dist.loc[i,j]+dist.loc[i,m]-dist.loc[j,m])/2\n",
    "#dvj = (dist.loc[i,j]+dist.loc[j,m]-dist.loc[i,m])/2\n",
    "#dvm = (dist.loc[i,m]+dist.loc[j,m]-dist.loc[i,j])/2\n",
    "dvi = round((dist.loc[i,j]+dist.loc[i,m]-dist.loc[j,m])/2,3)\n",
    "dvj = round((dist.loc[i,j]+dist.loc[j,m]-dist.loc[i,m])/2,3)\n",
    "dvm = round((dist.loc[i,m]+dist.loc[j,m]-dist.loc[i,j])/2,3)\n",
    "tree = \"(\"+i+\":\"+str(dvi)+\", \"+j+\":\"+str(dvj)+\", \"+m+\":\"+str(dvm)+\")\"\n",
    "print(tree)"
   ]
  },
  {
   "cell_type": "markdown",
   "metadata": {},
   "source": [
    "## Full NJ"
   ]
  },
  {
   "cell_type": "code",
   "execution_count": 230,
   "metadata": {},
   "outputs": [],
   "source": [
    "def NJ(dist_mat):\n",
    "    # create the distance dataframe\n",
    "    species_dict, dist = read_mtrx(dist_mat)\n",
    "    species = list(species_dict.keys())\n",
    "    dict_dist = {}\n",
    "    for i in range(len(species)) :\n",
    "        dict_dist[species[i]] = dist[i]\n",
    "    dist=pd.DataFrame.from_dict(dict_dist, orient='index', columns=species) \n",
    "    \n",
    "    # initializing variables\n",
    "    nodes_length = list(dist.index).copy()\n",
    "    nodes = list(dist.index).copy()\n",
    "    \n",
    "    while len(dist.index)>3 : \n",
    "        \n",
    "        #step 1 \n",
    "        index_mini, index_minj,mini,minj, minN,rimin, rjmin = step1(dist)\n",
    "        \n",
    "        # step 2 \n",
    "        nodes = list(dist.index).copy()\n",
    "        nodes.remove(mini)\n",
    "        nodes.remove(minj)\n",
    "        nodes.append('('+mini+','+minj+')')\n",
    "        \n",
    "        #step 3 \n",
    "        nodes2 = nodes_length.copy()\n",
    "        nodes_length.remove(nodes2[index_mini])\n",
    "        nodes_length.remove(nodes2[index_minj])\n",
    "        dik = round((dist.loc[mini,minj] + rimin - rjmin)/2,4)\n",
    "        djk = round((dist.loc[mini,minj] + rjmin - rimin)/2,4)\n",
    "        nodes_length.append('(' + nodes2[index_mini] + ': '+ str(dik) + ','+ nodes2[index_minj]+ \": \"+ str(djk) + ')')\n",
    "        \n",
    "        # step 4\n",
    "        k = nodes[-1]\n",
    "        row_mini = dist.loc[mini,:]\n",
    "        col_minj = dist[minj]\n",
    "        for i in dist.index : \n",
    "            if i != mini and i!=minj : \n",
    "                dist.loc[i,k] = (dist.loc[mini,i]+dist.loc[minj,i]-dist.loc[mini,minj])/2\n",
    "                dist.loc[k,i] = (dist.loc[mini,i]+dist.loc[minj,i]-dist.loc[mini,minj])/2\n",
    "        dist.loc[k,k]=0\n",
    "        dist = dist.drop(index = [mini,minj], columns = [mini,minj])\n",
    "        \n",
    "    # Termination step\n",
    "    i = nodes[0]\n",
    "    j = nodes[1]\n",
    "    m = nodes[2]\n",
    "    dvi = (dist.loc[i,j]+dist.loc[i,m]-dist.loc[j,m])/2\n",
    "    dvj = (dist.loc[i,j]+dist.loc[j,m]-dist.loc[i,m])/2\n",
    "    dvm = (dist.loc[i,m]+dist.loc[j,m]-dist.loc[i,j])/2\n",
    "    tree = \"(\"+nodes_length[0]+\":\"+str(dvi)+\", \"+nodes_length[1]+\":\"+str(dvj)+\", \"+nodes_length[2]+\":\"+str(dvm)+\")\"\n",
    "    return (tree)"
   ]
  },
  {
   "cell_type": "code",
   "execution_count": 228,
   "metadata": {},
   "outputs": [
    {
     "data": {
      "text/plain": [
       "'(C:0.05000000000000002, E:0.05999999999999997, (A: 0.08,(B: 0.1,D: 0.07): 0.05):0.029999999999999992)'"
      ]
     },
     "execution_count": 228,
     "metadata": {},
     "output_type": "execute_result"
    }
   ],
   "source": [
    "NJ(\"C:/Users/lenab/Documents/AU/Algorithms_in_bioinformatics/Brouillons_projets/example_slide4.phy\")"
   ]
  },
  {
   "cell_type": "code",
   "execution_count": 229,
   "metadata": {},
   "outputs": [
    {
     "data": {
      "text/plain": [
       "'((39_E321_A: 0.0,40_Q5EY51: 0.0):0.0, (41_Q77SL0: 0.0,42_Q77SL8: 0.0):0.0, (43_Q9PX39: 0.0,(38_Q6RK78: 0.0118,(((20_Q6QP93: 0.3281,((63_Q6QP95: 0.0,64_Q8UY72: 0.0): 0.3044,(((53_Q76EL6: 0.011,((54_Q7TBH0: 0.0,55_Q91CB8: 0.0): 0.0108,(51_Q91CB6: 0.0088,52_Q8JZH6: 0.0051): 0.003): 0.0029): 0.2467,((47_Q8JZH7: 0.0312,(45_Q76C87: 0.0276,(44_Q91CB7: 0.0289,46_Q80IV8: 0.0275): 0.0146): 0.0111): 0.1135,(50_Q4KSJ0: 0.1112,(48_Q67812: 0.0,49_Q77N38: 0.0): 0.1): 0.0268): 0.0709): 0.0396,((((0_Q91PL0_: 0.0293,(1_E320_AD: 0.0083,((6_Q76Y40_: 0.0,7_Q781A8_: 0.0): 0.0,((2_E320_AD: 0.0,3_E320_AD: 0.0): 0.0,(4_Q32UG3_: 0.0,5_Q5UVZ8_: 0.0): 0.0): 0.0): 0.0046): 0.0091): 0.0633,(((8_Q6RK79_: 0.0,9_Q77SL1_: 0.0): 0.0,(10_Q9PX68: 0.0,11_Q9QL93: 0.0): 0.0): 0.0096,((12_Q3ZKT4: 0.0,13_Q91CL3: 0.0): 0.007,((18_Q83127: 0.0,19_Q91CK4: 0.0): 0.0,((14_E320_A: 0.0,15_Q2KSH6: 0.0): 0.0,(16_Q2Y0G4: 0.0,17_Q83118: 0.0): 0.0): 0.0): 0.0058): 0.0032): 0.0713): 0.2194,((((77_Q91CB8: 0.0068,78_Q7TBH0: 0.0062): 0.0367,(80_Q76EL6: 0.0182,(79_Q91CB6: 0.0099,81_Q8JZH6: 0.016): 0.0077): 0.0088): 0.1572,((86_Q67812: 0.0,87_Q77N38: 0.0): 0.0881,(88_Q4KSJ0: 0.084,(85_Q8JZH7: 0.0573,(82_Q91CB7: 0.0065,(83_Q76C87: 0.0,84_Q80IV8: 0.0): 0.0065): 0.0466): 0.0264): 0.0125): 0.0946): 0.0873,((69_Q7TBH0: 0.0743,((66_Q91CB6: 0.004,67_Q8JZH6: 0.009): 0.0328,(65_Q91CB8: 0.0385,68_Q76EL6: 0.0395): 0.0126): 0.0255): 0.1183,(76_Q4KSJ0: 0.1496,((74_Q67812: 0.0,75_Q77N38: 0.0): 0.1201,((72_Q76C87: 0.04,(70_Q91CB7: 0.0043,71_Q80IV8: 0.0087): 0.0249): 0.0624,73_Q8JZH7: 0.1032): 0.0147): 0.046): 0.0649): 0.0638): 0.0809): 0.0281,((60_Q6QPD0: 0.1205,(61_Q6QP94: 0.0188,62_Q6QPG6: -0.0045): 0.1051): 0.2101,(56_Q6QPD1: 0.2217,(59_Q2KSD8: 0.0369,(57_Q6H1B4: 0.0,58_Q8BEL4: 0.0): 0.0345): 0.1971): 0.1084): 0.0123): 0.0168): 0.0183): 0.0212): 0.1711,(21_Q91PK9: 0.0129,(((22_E321_A: 0.0,23_E321_A: 0.0): 0.0,(24_E321_A: 0.0,25_Q32UG2: 0.0): 0.0): 0.0,((26_Q5UVZ7: 0.0,27_Q6YL61: 0.0): 0.0,(28_Q76Y39: 0.0,29_Q781A7: 0.0): 0.0): 0.0): 0.0005): 0.107): 0.1117,((30_Q91CK3: 0.0123,(34_Q91CL2: 0.0,(32_Q2KSA1: 0.0,33_Q3ZKT3: 0.0): 0.0): 0.0009): 0.0121,(31_Q83119: 0.0122,(37_Q2Y0G3: 0.0,(35_E321_A: 0.0,36_Q2KSH5: 0.0): 0.0): 0.001): 0.0011): 0.0063): 0.0191): 0.0014):0.0)'"
      ]
     },
     "execution_count": 229,
     "metadata": {},
     "output_type": "execute_result"
    }
   ],
   "source": [
    "NJ(\"C:/Users/lenab/Documents/AU/Algorithms_in_bioinformatics/Brouillons_projets/Project5/expe_matrix/89_Adeno_E3_CR1.phy\")"
   ]
  },
  {
   "cell_type": "code",
   "execution_count": null,
   "metadata": {},
   "outputs": [],
   "source": []
  }
 ],
 "metadata": {
  "kernelspec": {
   "display_name": "Python 3",
   "language": "python",
   "name": "python3"
  },
  "language_info": {
   "codemirror_mode": {
    "name": "ipython",
    "version": 3
   },
   "file_extension": ".py",
   "mimetype": "text/x-python",
   "name": "python",
   "nbconvert_exporter": "python",
   "pygments_lexer": "ipython3",
   "version": "3.8.5"
  }
 },
 "nbformat": 4,
 "nbformat_minor": 4
}
