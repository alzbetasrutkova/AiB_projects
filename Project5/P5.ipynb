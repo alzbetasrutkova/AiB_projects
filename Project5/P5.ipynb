{
 "cells": [
  {
   "cell_type": "code",
   "execution_count": 1,
   "metadata": {},
   "outputs": [],
   "source": [
    "import sys\n",
    "import numpy as np\n",
    "from ete3 import Tree\n",
    "\n",
    "\n",
    "#an improved version of the matrix reader for project_3\n",
    "def read_subst_mtrx(filename):\n",
    "    f = open(filename,'r')\n",
    "    num_species = int(f.readline())\n",
    "\n",
    "    dict_mat = {}\n",
    "    mat = np.zeros((num_species,num_species))\n",
    "    \n",
    "    for i in range(0,num_species):\n",
    "        line = f.readline()\n",
    "        nums_in_line = line.split()\n",
    "        dict_mat[nums_in_line[0]] = i\n",
    "        for j in range(1,num_species):\n",
    "            mat[i,j-1] = nums_in_line[j]\n",
    "    f.close()\n",
    "    return dict_mat, mat "
   ]
  },
  {
   "cell_type": "code",
   "execution_count": 4,
   "metadata": {},
   "outputs": [
    {
     "ename": "IndentationError",
     "evalue": "expected an indented block (<ipython-input-4-995f8a40ea1a>, line 13)",
     "output_type": "error",
     "traceback": [
      "\u001b[1;36m  File \u001b[1;32m\"<ipython-input-4-995f8a40ea1a>\"\u001b[1;36m, line \u001b[1;32m13\u001b[0m\n\u001b[1;33m    matr_filename = \"C:\\\\Users\\\\awila\\\\Downloads\\\\example_slide4.phy\"\u001b[0m\n\u001b[1;37m                                                                     ^\u001b[0m\n\u001b[1;31mIndentationError\u001b[0m\u001b[1;31m:\u001b[0m expected an indented block\n"
     ]
    }
   ],
   "source": [
    "def tree_contruct_nj(dict_subst, mat ):\n",
    "    start = True\n",
    "\n",
    "    while(dict_mat.size > 3):\n",
    "        if start:\n",
    "            mat = 1\n",
    "            start = False\n",
    "            pass\n",
    "        else:\n",
    "\n",
    "\n",
    "### main ###\n",
    "matr_filename = \"C:\\\\Users\\\\awila\\\\Downloads\\\\example_slide4.phy\"\n",
    "\n",
    "print(read_subst_mtrx(matr_filename))"
   ]
  },
  {
   "cell_type": "code",
   "execution_count": null,
   "metadata": {},
   "outputs": [],
   "source": []
  },
  {
   "cell_type": "code",
   "execution_count": null,
   "metadata": {},
   "outputs": [],
   "source": [
    "def print_newick(r):    \n",
    "    \"\"\"\n",
    "    Print out the tree r in newick format using a depth-first traversal of the tree\n",
    "    \"\"\"\n",
    "    df_print_newick(r)\n",
    "    print(\";\")\n",
    "    \n",
    "def df_print_newick(r):\n",
    "    if r.children != None:\n",
    "        print(\"(\", end=\"\")\n",
    "        for c in r.children[:-1]:\n",
    "            df_print_newick(c)\n",
    "            print(\",\", end=\"\")\n",
    "        df_print_newick(r.children[-1])\n",
    "        print(\")\", end=\"\")\n",
    "    if r.name != None: print(r.name, end=\"\")\n",
    "    if r.length != None: print(\":\", r.length, sep=\"\", end=\"\")"
   ]
  }
 ],
 "metadata": {
  "kernelspec": {
   "display_name": "Python 3",
   "language": "python",
   "name": "python3"
  },
  "language_info": {
   "codemirror_mode": {
    "name": "ipython",
    "version": 3
   },
   "file_extension": ".py",
   "mimetype": "text/x-python",
   "name": "python",
   "nbconvert_exporter": "python",
   "pygments_lexer": "ipython3",
   "version": "3.7.4"
  }
 },
 "nbformat": 4,
 "nbformat_minor": 2
}
