{
 "cells": [
  {
   "cell_type": "code",
   "execution_count": 32,
   "metadata": {},
   "outputs": [
    {
     "name": "stderr",
     "output_type": "stream",
     "text": [
      "C:\\Users\\lenab\\Anaconda3\\lib\\site-packages\\ete3-3.1.2-py3.7.egg\\ete3\\evol\\parser\\codemlparser.py:221: SyntaxWarning: \"is\" with a literal. Did you mean \"==\"?\n",
      "C:\\Users\\lenab\\Anaconda3\\lib\\site-packages\\ete3-3.1.2-py3.7.egg\\ete3\\evol\\parser\\codemlparser.py:221: SyntaxWarning: \"is\" with a literal. Did you mean \"==\"?\n"
     ]
    }
   ],
   "source": [
    "import numpy as np\n",
    "from ete3 import Tree\n",
    "import pandas as pd"
   ]
  },
  {
   "cell_type": "markdown",
   "metadata": {},
   "source": [
    "# Distance matrix"
   ]
  },
  {
   "cell_type": "code",
   "execution_count": 34,
   "metadata": {},
   "outputs": [],
   "source": [
    "#an improved version of the read_subst_mtrx from project_3\n",
    "#returns the matrix and a dictionary mapping the species name to indeces\n",
    "def read_mtrx(filename):\n",
    "    f = open(filename,'r')\n",
    "    num_species = int(f.readline())\n",
    "\n",
    "    dict_mat = {}\n",
    "    mat = np.zeros((num_species,num_species))\n",
    "    \n",
    "    for i in range(0,num_species):\n",
    "        line = f.readline()\n",
    "        nums_in_line = line.split()\n",
    "        dict_mat[nums_in_line[0]] = i\n",
    "        for j in range(1,num_species +1):\n",
    "            mat[i,j-1] = nums_in_line[j]\n",
    "    f.close()\n",
    "    return dict_mat, mat "
   ]
  },
  {
   "cell_type": "code",
   "execution_count": 36,
   "metadata": {},
   "outputs": [
    {
     "name": "stdout",
     "output_type": "stream",
     "text": [
      "{'A': 0, 'B': 1, 'C': 2, 'D': 3, 'E': 4}\n",
      "[[0.   0.23 0.16 0.2  0.17]\n",
      " [0.23 0.   0.23 0.17 0.24]\n",
      " [0.16 0.23 0.   0.2  0.11]\n",
      " [0.2  0.17 0.2  0.   0.21]\n",
      " [0.17 0.24 0.11 0.21 0.  ]]\n"
     ]
    }
   ],
   "source": [
    "species_dict, dist = read_mtrx(\"C:/Users/lenab/Documents/AU/Algorithms_in_bioinformatics/Brouillons_projets/example_slide4.phy\")\n",
    "print(species_dict)\n",
    "print(dist)"
   ]
  },
  {
   "cell_type": "code",
   "execution_count": 43,
   "metadata": {},
   "outputs": [
    {
     "data": {
      "text/plain": [
       "['A', 'B', 'C', 'D', 'E']"
      ]
     },
     "execution_count": 43,
     "metadata": {},
     "output_type": "execute_result"
    }
   ],
   "source": [
    "list(species_dict.keys())"
   ]
  },
  {
   "cell_type": "markdown",
   "metadata": {},
   "source": [
    "I propose to stor it in a database, I think it would be easier to remove columns and rows "
   ]
  },
  {
   "cell_type": "code",
   "execution_count": null,
   "metadata": {},
   "outputs": [],
   "source": [
    "dict_dist= {}\n",
    "for i in range(len(species)) :\n",
    "    dict_dist[species[i]] = dist[i]\n",
    "dict_dist"
   ]
  },
  {
   "cell_type": "code",
   "execution_count": null,
   "metadata": {},
   "outputs": [],
   "source": [
    "df=pd.DataFrame.from_dict(dict_dist,\n",
    "orient='index', columns=species)\n",
    "print(df)"
   ]
  },
  {
   "cell_type": "code",
   "execution_count": null,
   "metadata": {},
   "outputs": [],
   "source": [
    "df.drop(columns=\"A\")"
   ]
  },
  {
   "cell_type": "code",
   "execution_count": null,
   "metadata": {},
   "outputs": [],
   "source": [
    "df.drop(\"A\")"
   ]
  },
  {
   "cell_type": "markdown",
   "metadata": {},
   "source": [
    "# Initialize a star like tree"
   ]
  },
  {
   "cell_type": "code",
   "execution_count": 76,
   "metadata": {},
   "outputs": [
    {
     "name": "stdout",
     "output_type": "stream",
     "text": [
      "(A,B,C,D,E)\n"
     ]
    }
   ],
   "source": [
    "ntree = \"(\"\n",
    "species = list(species_dict.keys())\n",
    "for i in range(len(species)-1):\n",
    "    ntree += str(species[i]) + \",\"\n",
    "ntree += str(species[len(species)-1])+\")\"\n",
    "print(ntree)"
   ]
  },
  {
   "cell_type": "code",
   "execution_count": 61,
   "metadata": {},
   "outputs": [
    {
     "ename": "NewickError",
     "evalue": "Unexisting tree file or Malformed newick tree structure.\nYou may want to check other newick loading flags like 'format' or 'quoted_node_names'.",
     "output_type": "error",
     "traceback": [
      "\u001b[1;31m---------------------------------------------------------------------------\u001b[0m",
      "\u001b[1;31mNewickError\u001b[0m                               Traceback (most recent call last)",
      "\u001b[1;32m<ipython-input-61-d797040c661e>\u001b[0m in \u001b[0;36m<module>\u001b[1;34m\u001b[0m\n\u001b[1;32m----> 1\u001b[1;33m \u001b[0mt\u001b[0m \u001b[1;33m=\u001b[0m \u001b[0mTree\u001b[0m\u001b[1;33m(\u001b[0m\u001b[0mntree\u001b[0m\u001b[1;33m,\u001b[0m \u001b[0mformat\u001b[0m\u001b[1;33m=\u001b[0m\u001b[1;36m1\u001b[0m\u001b[1;33m)\u001b[0m\u001b[1;33m\u001b[0m\u001b[1;33m\u001b[0m\u001b[0m\n\u001b[0m\u001b[0;32m      2\u001b[0m \u001b[0mprint\u001b[0m\u001b[1;33m(\u001b[0m\u001b[0mt\u001b[0m\u001b[1;33m)\u001b[0m\u001b[1;33m\u001b[0m\u001b[1;33m\u001b[0m\u001b[0m\n",
      "\u001b[1;32m~\\Anaconda3\\lib\\site-packages\\ete3-3.1.2-py3.7.egg\\ete3\\coretype\\tree.py\u001b[0m in \u001b[0;36m__init__\u001b[1;34m(self, newick, format, dist, support, name, quoted_node_names)\u001b[0m\n\u001b[0;32m    210\u001b[0m         \u001b[1;32mif\u001b[0m \u001b[0mnewick\u001b[0m \u001b[1;32mis\u001b[0m \u001b[1;32mnot\u001b[0m \u001b[1;32mNone\u001b[0m\u001b[1;33m:\u001b[0m\u001b[1;33m\u001b[0m\u001b[1;33m\u001b[0m\u001b[0m\n\u001b[0;32m    211\u001b[0m             \u001b[0mself\u001b[0m\u001b[1;33m.\u001b[0m\u001b[0m_dist\u001b[0m \u001b[1;33m=\u001b[0m \u001b[1;36m0.0\u001b[0m\u001b[1;33m\u001b[0m\u001b[1;33m\u001b[0m\u001b[0m\n\u001b[1;32m--> 212\u001b[1;33m             read_newick(newick, root_node = self, format=format,\n\u001b[0m\u001b[0;32m    213\u001b[0m                         quoted_names=quoted_node_names)\n\u001b[0;32m    214\u001b[0m \u001b[1;33m\u001b[0m\u001b[0m\n",
      "\u001b[1;32m~\\Anaconda3\\lib\\site-packages\\ete3-3.1.2-py3.7.egg\\ete3\\parser\\newick.py\u001b[0m in \u001b[0;36mread_newick\u001b[1;34m(newick, root_node, format, quoted_names)\u001b[0m\n\u001b[0;32m    262\u001b[0m             \u001b[1;32mreturn\u001b[0m \u001b[0m_read_newick_from_string\u001b[0m\u001b[1;33m(\u001b[0m\u001b[0mnw\u001b[0m\u001b[1;33m,\u001b[0m \u001b[0mroot_node\u001b[0m\u001b[1;33m,\u001b[0m \u001b[0mmatcher\u001b[0m\u001b[1;33m,\u001b[0m \u001b[0mformat\u001b[0m\u001b[1;33m,\u001b[0m \u001b[0mquoted_names\u001b[0m\u001b[1;33m)\u001b[0m\u001b[1;33m\u001b[0m\u001b[1;33m\u001b[0m\u001b[0m\n\u001b[0;32m    263\u001b[0m         \u001b[1;32melif\u001b[0m \u001b[1;32mnot\u001b[0m \u001b[0mnw\u001b[0m\u001b[1;33m.\u001b[0m\u001b[0mstartswith\u001b[0m\u001b[1;33m(\u001b[0m\u001b[1;34m'('\u001b[0m\u001b[1;33m)\u001b[0m \u001b[1;32mor\u001b[0m \u001b[1;32mnot\u001b[0m \u001b[0mnw\u001b[0m\u001b[1;33m.\u001b[0m\u001b[0mendswith\u001b[0m\u001b[1;33m(\u001b[0m\u001b[1;34m';'\u001b[0m\u001b[1;33m)\u001b[0m\u001b[1;33m:\u001b[0m\u001b[1;33m\u001b[0m\u001b[1;33m\u001b[0m\u001b[0m\n\u001b[1;32m--> 264\u001b[1;33m             \u001b[1;32mraise\u001b[0m \u001b[0mNewickError\u001b[0m\u001b[1;33m(\u001b[0m\u001b[1;34m'Unexisting tree file or Malformed newick tree structure.'\u001b[0m\u001b[1;33m)\u001b[0m\u001b[1;33m\u001b[0m\u001b[1;33m\u001b[0m\u001b[0m\n\u001b[0m\u001b[0;32m    265\u001b[0m         \u001b[1;32melse\u001b[0m\u001b[1;33m:\u001b[0m\u001b[1;33m\u001b[0m\u001b[1;33m\u001b[0m\u001b[0m\n\u001b[0;32m    266\u001b[0m             \u001b[1;32mreturn\u001b[0m \u001b[0m_read_newick_from_string\u001b[0m\u001b[1;33m(\u001b[0m\u001b[0mnw\u001b[0m\u001b[1;33m,\u001b[0m \u001b[0mroot_node\u001b[0m\u001b[1;33m,\u001b[0m \u001b[0mmatcher\u001b[0m\u001b[1;33m,\u001b[0m \u001b[0mformat\u001b[0m\u001b[1;33m,\u001b[0m \u001b[0mquoted_names\u001b[0m\u001b[1;33m)\u001b[0m\u001b[1;33m\u001b[0m\u001b[1;33m\u001b[0m\u001b[0m\n",
      "\u001b[1;31mNewickError\u001b[0m: Unexisting tree file or Malformed newick tree structure.\nYou may want to check other newick loading flags like 'format' or 'quoted_node_names'."
     ]
    }
   ],
   "source": [
    "t = Tree(ntree, format=1)\n",
    "print(t)"
   ]
  },
  {
   "cell_type": "code",
   "execution_count": 53,
   "metadata": {},
   "outputs": [
    {
     "name": "stdout",
     "output_type": "stream",
     "text": [
      "\n",
      "   /-A\n",
      "  |\n",
      "--|--B\n",
      "  |\n",
      "   \\-C\n"
     ]
    }
   ],
   "source": [
    "t = Tree(\"(A,B,C);\", format=1)\n",
    "print(t)"
   ]
  },
  {
   "cell_type": "code",
   "execution_count": 80,
   "metadata": {},
   "outputs": [],
   "source": [
    "t2 = Tree(\"(A,B,C,D,E);\", format=1)"
   ]
  },
  {
   "cell_type": "code",
   "execution_count": 72,
   "metadata": {},
   "outputs": [
    {
     "name": "stdout",
     "output_type": "stream",
     "text": [
      "Tree(rooted=False, weight=1.0)\n",
      "    Clade()\n",
      "        Clade(name='A')\n",
      "        Clade(name='B')\n",
      "        Clade(name='C')\n",
      "        Clade(name='D')\n",
      "        Clade(name='E')\n"
     ]
    }
   ],
   "source": [
    "from Bio import Phylo\n",
    "from io import StringIO\n",
    "tree = Phylo.read(StringIO(\"(A, B, C, D, E)\"), \"newick\")\n",
    "print(tree)"
   ]
  },
  {
   "cell_type": "code",
   "execution_count": 78,
   "metadata": {},
   "outputs": [
    {
     "name": "stdout",
     "output_type": "stream",
     "text": [
      "Tree(rooted=False, weight=1.0)\n",
      "    Clade()\n",
      "        Clade(name='A')\n",
      "        Clade(name='B')\n",
      "        Clade(name='C')\n",
      "        Clade(name='D')\n",
      "        Clade(name='E')\n"
     ]
    }
   ],
   "source": [
    "t1 = Phylo.read(StringIO(ntree), \"newick\")\n",
    "print(t1)"
   ]
  },
  {
   "cell_type": "markdown",
   "metadata": {},
   "source": [
    "# NJ algorithm"
   ]
  },
  {
   "cell_type": "markdown",
   "metadata": {},
   "source": [
    "## Step 1 finding the two neighboors"
   ]
  },
  {
   "cell_type": "code",
   "execution_count": 29,
   "metadata": {},
   "outputs": [
    {
     "data": {
      "text/plain": [
       "5"
      ]
     },
     "execution_count": 29,
     "metadata": {},
     "output_type": "execute_result"
    }
   ],
   "source": [
    "dist.shape[0]"
   ]
  },
  {
   "cell_type": "code",
   "execution_count": 18,
   "metadata": {},
   "outputs": [
    {
     "data": {
      "text/plain": [
       "array([[None, None, None, None, None],\n",
       "       [None, None, None, None, None],\n",
       "       [None, None, None, None, None],\n",
       "       [None, None, None, None, None],\n",
       "       [None, None, None, None, None]], dtype=object)"
      ]
     },
     "execution_count": 18,
     "metadata": {},
     "output_type": "execute_result"
    }
   ],
   "source": [
    "new_N = np.full([5,5], None)\n",
    "new_N"
   ]
  },
  {
   "cell_type": "code",
   "execution_count": 24,
   "metadata": {},
   "outputs": [
    {
     "data": {
      "text/plain": [
       "[0.19666666666666668,\n",
       " 0.21,\n",
       " 0.19666666666666668,\n",
       " 0.19000000000000003,\n",
       " 0.24333333333333332]"
      ]
     },
     "execution_count": 24,
     "metadata": {},
     "output_type": "execute_result"
    }
   ],
   "source": [
    "ris = []\n",
    "for i in range(5):\n",
    "    ri = 0\n",
    "    for j in range(5):\n",
    "        ri +=dist[i,j]\n",
    "    ris.append(ri/3)\n",
    "ris"
   ]
  },
  {
   "cell_type": "code",
   "execution_count": 25,
   "metadata": {},
   "outputs": [
    {
     "data": {
      "text/plain": [
       "[0.25333333333333335, 0.29, 0.23333333333333336, 0.26, 0.0]"
      ]
     },
     "execution_count": 25,
     "metadata": {},
     "output_type": "execute_result"
    }
   ],
   "source": [
    "rjs = []\n",
    "for j in range(5):\n",
    "    rj = 0\n",
    "    for i in range(5):\n",
    "        rj +=dist[i,j]\n",
    "    rjs.append(rj/3)\n",
    "rjs"
   ]
  },
  {
   "cell_type": "code",
   "execution_count": 28,
   "metadata": {},
   "outputs": [
    {
     "name": "stdout",
     "output_type": "stream",
     "text": [
      "[[0.45000000000000007 0.7166666666666667 0.5900000000000001\n",
      "  0.6566666666666667 0.19666666666666668]\n",
      " [0.6933333333333334 0.5 0.6733333333333333 0.64 0.21]\n",
      " [0.6100000000000001 0.7166666666666667 0.43000000000000005\n",
      "  0.6566666666666667 0.19666666666666668]\n",
      " [0.6433333333333333 0.65 0.6233333333333334 0.45000000000000007\n",
      "  0.19000000000000003]\n",
      " [0.6666666666666667 0.7733333333333332 0.5866666666666667\n",
      "  0.7133333333333334 0.24333333333333332]]\n",
      "3 4 0.19000000000000003\n"
     ]
    }
   ],
   "source": [
    "minN = dist[0,0]+ris[0]+rjs[0]\n",
    "mini = 0\n",
    "minj = 0\n",
    "for i in range(5):\n",
    "    for j in range(5):\n",
    "        nij = dist[i,j]+ris[i]+rjs[j]\n",
    "        new_N[i,j]=nij\n",
    "        if nij<minN : \n",
    "            minN = nij\n",
    "            mini = i\n",
    "            minj = j\n",
    "print(new_N)\n",
    "print(mini,minj,minN)"
   ]
  },
  {
   "cell_type": "code",
   "execution_count": 116,
   "metadata": {},
   "outputs": [],
   "source": [
    "def step1(dist):\n",
    "    S = dist.shape[0]\n",
    "    new_N = np.full([S,S], None)\n",
    "    ris = []\n",
    "    for i in range(S):\n",
    "        ri = 0\n",
    "        for j in range(S):\n",
    "            ri +=dist[i,j]\n",
    "        ris.append(ri/(S-2))\n",
    "    \n",
    "    rjs = []\n",
    "    for j in range(S):\n",
    "        rj = 0\n",
    "        for i in range(S):\n",
    "            rj +=dist[i,j]\n",
    "        rjs.append(rj/(S-2))\n",
    "        \n",
    "    minN = dist[0,0]-ris[0]-rjs[0]\n",
    "    mini = 0\n",
    "    minj = 0\n",
    "    for i in range(5):\n",
    "        for j in range(5):\n",
    "            nij = dist[i,j]+ris[i]+rjs[j]\n",
    "            new_N[i,j]=nij\n",
    "            if nij<minN : \n",
    "                minN = nij\n",
    "                mini = i\n",
    "                minj = j\n",
    "    return(mini,minj,minN)"
   ]
  },
  {
   "cell_type": "code",
   "execution_count": 117,
   "metadata": {},
   "outputs": [
    {
     "data": {
      "text/plain": [
       "(0, 0, -0.5066666666666667)"
      ]
     },
     "execution_count": 117,
     "metadata": {},
     "output_type": "execute_result"
    }
   ],
   "source": [
    "step1(dist)"
   ]
  },
  {
   "cell_type": "markdown",
   "metadata": {},
   "source": [
    "## Step 2 : add node k"
   ]
  },
  {
   "cell_type": "code",
   "execution_count": null,
   "metadata": {},
   "outputs": [],
   "source": [
    "species_dict, dist = read_mtrx(\"C:/Users/lenab/Documents/AU/Algorithms_in_bioinformatics/Brouillons_projets/example_slide4.phy\")\n",
    "print(species_dict)\n",
    "print(dist)"
   ]
  },
  {
   "cell_type": "code",
   "execution_count": 104,
   "metadata": {},
   "outputs": [
    {
     "data": {
      "text/plain": [
       "['A', 'B', 'C', 'D', 'E']"
      ]
     },
     "execution_count": 104,
     "metadata": {},
     "output_type": "execute_result"
    }
   ],
   "source": [
    "species = list(species_dict.keys())\n",
    "species"
   ]
  },
  {
   "cell_type": "code",
   "execution_count": 111,
   "metadata": {},
   "outputs": [],
   "source": [
    "node_list = list(species_dict.keys())"
   ]
  },
  {
   "cell_type": "code",
   "execution_count": 115,
   "metadata": {},
   "outputs": [
    {
     "data": {
      "text/plain": [
       "['A', 'B', 'C', '(D,E)']"
      ]
     },
     "execution_count": 115,
     "metadata": {},
     "output_type": "execute_result"
    }
   ],
   "source": [
    "node_list = list(species_dict.keys())\n",
    "node_list.remove(species[mini])\n",
    "node_list.remove(species[minj])\n",
    "node_list.append('('+species[mini]+','+species[minj]+')')\n",
    "node_list"
   ]
  },
  {
   "cell_type": "code",
   "execution_count": null,
   "metadata": {},
   "outputs": [],
   "source": [
    "def step2(mini,minj,node_list):\n",
    "    nodes = node_list.copy()\n",
    "    node_list.remove(nodes[mini])\n",
    "    node_list.remove(nodes[minj])\n",
    "    node_list.append('('+nodes[mini]+','+nodes[minj]+')')\n",
    "    return node_list"
   ]
  },
  {
   "cell_type": "markdown",
   "metadata": {},
   "source": [
    "## Step 3"
   ]
  },
  {
   "cell_type": "code",
   "execution_count": 119,
   "metadata": {},
   "outputs": [],
   "source": [
    "df.drop(node_list[])\n",
    "\n",
    "    "
   ]
  }
 ],
 "metadata": {
  "kernelspec": {
   "display_name": "Python 3",
   "language": "python",
   "name": "python3"
  },
  "language_info": {
   "codemirror_mode": {
    "name": "ipython",
    "version": 3
   },
   "file_extension": ".py",
   "mimetype": "text/x-python",
   "name": "python",
   "nbconvert_exporter": "python",
   "pygments_lexer": "ipython3",
   "version": "3.8.5"
  }
 },
 "nbformat": 4,
 "nbformat_minor": 4
}
