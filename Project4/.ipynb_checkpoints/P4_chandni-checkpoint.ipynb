{
 "cells": [
  {
   "cell_type": "code",
   "execution_count": 3,
   "metadata": {
    "scrolled": true
   },
   "outputs": [
    {
     "name": "stdout",
     "output_type": "stream",
     "text": [
      "\n",
      "   /-aaaaaaaaaa\n",
      "--|\n",
      "  |   /-aaaaaaaaab\n",
      "   \\-|\n",
      "     |   /-aaaaaaaaac\n",
      "      \\-|\n",
      "        |   /-aaaaaaaaad\n",
      "         \\-|\n",
      "            \\-aaaaaaaaae\n",
      "\n",
      "   /-aaaaaaaaaa\n",
      "  |\n",
      "--|      /-aaaaaaaaab\n",
      "  |   /-|\n",
      "  |  |   \\-aaaaaaaaac\n",
      "   \\-|\n",
      "     |   /-aaaaaaaaad\n",
      "      \\-|\n",
      "         \\-aaaaaaaaae\n"
     ]
    }
   ],
   "source": [
    "from ete3 import Tree\n",
    "\n",
    "# generate 2 random trees\n",
    "t1 = Tree()\n",
    "t2 = Tree()\n",
    "t1.populate(5)\n",
    "t2.populate(5)\n",
    "# root both to the same tip name\n",
    "root = t1.get_leaf_names()[0]\n",
    "t1.set_outgroup(root)\n",
    "t2.set_outgroup(root)\n",
    "\n",
    "print (t1)\n",
    "print (t2)"
   ]
  },
  {
   "cell_type": "code",
   "execution_count": 19,
   "metadata": {},
   "outputs": [
    {
     "name": "stdout",
     "output_type": "stream",
     "text": [
      "\n",
      "   /-seq2\n",
      "  |\n",
      "  |      /-seq10\n",
      "--|   /-|\n",
      "  |  |   \\-seq7\n",
      "  |  |\n",
      "   \\-|   /-seq3\n",
      "     |  |\n",
      "     |  |         /-seq5\n",
      "     |  |      /-|\n",
      "      \\-|     |   \\-seq4\n",
      "        |   /-|\n",
      "        |  |  |   /-seq1\n",
      "        |  |   \\-|\n",
      "         \\-|     |   /-seq8\n",
      "           |      \\-|\n",
      "           |         \\-seq6\n",
      "           |\n",
      "            \\-seq9\n",
      "\n",
      "   /-seq2\n",
      "  |\n",
      "  |      /-seq8\n",
      "--|   /-|\n",
      "  |  |   \\-seq6\n",
      "  |  |\n",
      "   \\-|      /-seq5\n",
      "     |   /-|\n",
      "     |  |   \\-seq4\n",
      "      \\-|\n",
      "        |   /-seq9\n",
      "        |  |\n",
      "         \\-|      /-seq1\n",
      "           |   /-|\n",
      "           |  |  |   /-seq10\n",
      "            \\-|   \\-|\n",
      "              |      \\-seq7\n",
      "              |\n",
      "               \\-seq3\n"
     ]
    }
   ],
   "source": [
    "from ete3 import Tree\n",
    "\n",
    "t1 = Tree(r\"C:\\Users\\awila\\Downloads\\testdata\\Testdata\\tree1.new\")\n",
    "t2 = Tree(r\"C:\\Users\\awila\\Downloads\\testdata\\Testdata\\tree2.new\")\n",
    "\n",
    "\n",
    "# root both to the same tip name\n",
    "root = t1.get_leaf_names()[0]\n",
    "t1.set_outgroup(root)\n",
    "t2.set_outgroup(root)\n",
    "\n",
    "\n",
    "\n",
    "print (t1)\n",
    "print (t2)"
   ]
  },
  {
   "cell_type": "code",
   "execution_count": 10,
   "metadata": {},
   "outputs": [
    {
     "data": {
      "text/plain": [
       "[Tree node '' (-0x7fffffe0550ca348),\n",
       " Tree node 'seq2' (-0x7fffffe0550c8bbc),\n",
       " Tree node '' (-0x7fffffe0550c90e8),\n",
       " Tree node '' (-0x7fffffe0550c8b30),\n",
       " Tree node '' (-0x7fffffe0550ca1e0),\n",
       " Tree node 'seq10' (-0x7fffffe0550c90f8),\n",
       " Tree node 'seq7' (-0x7fffffe0550c9d28),\n",
       " Tree node 'seq3' (-0x7fffffe0550c8464),\n",
       " Tree node '' (-0x7fffffe0550c842c),\n",
       " Tree node '' (-0x7fffffe0550c8ba0),\n",
       " Tree node 'seq9' (-0x7fffffe0550c94dc),\n",
       " Tree node '' (-0x7fffffe0550c9d5c),\n",
       " Tree node '' (-0x7fffffe0550c8824),\n",
       " Tree node 'seq5' (-0x7fffffe0550c8bc8),\n",
       " Tree node 'seq4' (-0x7fffffe0550c9964),\n",
       " Tree node 'seq1' (-0x7fffffe0550c8808),\n",
       " Tree node '' (-0x7fffffe0550c8814),\n",
       " Tree node 'seq8' (-0x7fffffe0550c8034),\n",
       " Tree node 'seq6' (-0x7fffffe0550c77f8)]"
      ]
     },
     "execution_count": 10,
     "metadata": {},
     "output_type": "execute_result"
    }
   ],
   "source": [
    "t1.search_nodes()"
   ]
  },
  {
   "cell_type": "code",
   "execution_count": 11,
   "metadata": {},
   "outputs": [
    {
     "data": {
      "text/plain": [
       "[Tree node '' (-0x7fffffe0550cd2f4),\n",
       " Tree node 'seq2' (-0x7fffffe054e3d6a8),\n",
       " Tree node '' (-0x7fffffe0550c6ff4),\n",
       " Tree node '' (-0x7fffffe054e3d628),\n",
       " Tree node '' (-0x7fffffe0550c701c),\n",
       " Tree node 'seq8' (-0x7fffffe054e3d6b8),\n",
       " Tree node 'seq6' (-0x7fffffe054e3d694),\n",
       " Tree node '' (-0x7fffffe054e3d680),\n",
       " Tree node '' (-0x7fffffe0550c70c8),\n",
       " Tree node 'seq5' (-0x7fffffe0550c70f8),\n",
       " Tree node 'seq4' (-0x7fffffe054e3d698),\n",
       " Tree node 'seq9' (-0x7fffffe054e3d6d8),\n",
       " Tree node '' (-0x7fffffe0550c9018),\n",
       " Tree node '' (-0x7fffffe0550c903c),\n",
       " Tree node 'seq3' (-0x7fffffe0550c6fb8),\n",
       " Tree node 'seq1' (-0x7fffffe0550c9438),\n",
       " Tree node '' (-0x7fffffe0550c7940),\n",
       " Tree node 'seq10' (-0x7fffffe0550c7958),\n",
       " Tree node 'seq7' (-0x7fffffe0550c6fc4)]"
      ]
     },
     "execution_count": 11,
     "metadata": {},
     "output_type": "execute_result"
    }
   ],
   "source": [
    "t2.search_nodes()"
   ]
  },
  {
   "cell_type": "code",
   "execution_count": 12,
   "metadata": {},
   "outputs": [
    {
     "data": {
      "text/plain": [
       "['seq2',\n",
       " 'seq10',\n",
       " 'seq7',\n",
       " 'seq3',\n",
       " 'seq5',\n",
       " 'seq4',\n",
       " 'seq1',\n",
       " 'seq8',\n",
       " 'seq6',\n",
       " 'seq9']"
      ]
     },
     "execution_count": 12,
     "metadata": {},
     "output_type": "execute_result"
    }
   ],
   "source": [
    "depth_first_names = []\n",
    "for node in t1.traverse(\"preorder\"):\n",
    "  # Do some analysis on node\n",
    "    if node.name != \"\":\n",
    "        depth_first_names.append(node.name)\n",
    "depth_first_names"
   ]
  },
  {
   "cell_type": "code",
   "execution_count": 23,
   "metadata": {},
   "outputs": [
    {
     "data": {
      "text/plain": [
       "Tree node '' (-0x7fffffe054e123dc)"
      ]
     },
     "execution_count": 23,
     "metadata": {},
     "output_type": "execute_result"
    }
   ],
   "source": [
    " t1.get_common_ancestor(\"seq4\", \"seq5\")"
   ]
  },
  {
   "cell_type": "code",
   "execution_count": 13,
   "metadata": {},
   "outputs": [],
   "source": [
    "def step2(t1,t2):\n",
    "    \"\"\"Assume that t1 and t2 are rooted on the same node\"\"\"\n",
    "    t1_depth_first_names = []\n",
    "    for node in t1.traverse(\"preorder\"):\n",
    "        if node.name != \"\":\n",
    "            t1_depth_first_names.append(node.name)\n",
    "    return (t1_depth_first_names)"
   ]
  },
  {
   "cell_type": "code",
   "execution_count": 14,
   "metadata": {},
   "outputs": [
    {
     "data": {
      "text/plain": [
       "['seq2',\n",
       " 'seq10',\n",
       " 'seq7',\n",
       " 'seq3',\n",
       " 'seq5',\n",
       " 'seq4',\n",
       " 'seq1',\n",
       " 'seq8',\n",
       " 'seq6',\n",
       " 'seq9']"
      ]
     },
     "execution_count": 14,
     "metadata": {},
     "output_type": "execute_result"
    }
   ],
   "source": [
    "step2(t1,t2)"
   ]
  },
  {
   "cell_type": "code",
   "execution_count": 15,
   "metadata": {},
   "outputs": [],
   "source": [
    "def step3(t1,t2):\n",
    "    t1_ordering = step2(t1,t2)\n",
    "    t2_reordering = []\n",
    "    for node in t2.traverse(\"preorder\"):\n",
    "        if node.name != \"\":\n",
    "            t2_reordering.append(t1_ordering.index(node.name))\n",
    "    return t2_reordering"
   ]
  },
  {
   "cell_type": "code",
   "execution_count": 16,
   "metadata": {},
   "outputs": [
    {
     "data": {
      "text/plain": [
       "[0, 7, 8, 4, 5, 9, 6, 1, 2, 3]"
      ]
     },
     "execution_count": 16,
     "metadata": {},
     "output_type": "execute_result"
    }
   ],
   "source": [
    "step3(t1,t2)"
   ]
  },
  {
   "cell_type": "code",
   "execution_count": 17,
   "metadata": {},
   "outputs": [
    {
     "data": {
      "text/plain": [
       "['seq2',\n",
       " 'seq8',\n",
       " 'seq6',\n",
       " 'seq5',\n",
       " 'seq4',\n",
       " 'seq9',\n",
       " 'seq1',\n",
       " 'seq10',\n",
       " 'seq7',\n",
       " 'seq3']"
      ]
     },
     "execution_count": 17,
     "metadata": {},
     "output_type": "execute_result"
    }
   ],
   "source": [
    "depth_first_names = []\n",
    "for node in t2.traverse(\"preorder\"):\n",
    "  # Do some analysis on node\n",
    "    if node.name != \"\":\n",
    "        depth_first_names.append(node.name)\n",
    "depth_first_names"
   ]
  },
  {
   "cell_type": "code",
   "execution_count": 30,
   "metadata": {},
   "outputs": [
    {
     "data": {
      "text/plain": [
       "'seq1'"
      ]
     },
     "execution_count": 30,
     "metadata": {},
     "output_type": "execute_result"
    }
   ],
   "source": [
    "minleaf = min(depth_first_names)\n",
    "minleaf"
   ]
  },
  {
   "cell_type": "code",
   "execution_count": 28,
   "metadata": {},
   "outputs": [
    {
     "data": {
      "text/plain": [
       "'seq9'"
      ]
     },
     "execution_count": 28,
     "metadata": {},
     "output_type": "execute_result"
    }
   ],
   "source": [
    "maxleaf = max(depth_first_names)\n",
    "maxleaf"
   ]
  },
  {
   "cell_type": "code",
   "execution_count": 54,
   "metadata": {},
   "outputs": [],
   "source": [
    "def all_parents(t1):\n",
    "    parents = {}\n",
    "    for clade in t1.find_clades(order=\"level\"):\n",
    "        for child in clade:\n",
    "            parents[child] = clade\n",
    "    return parents"
   ]
  },
  {
   "cell_type": "code",
   "execution_count": 55,
   "metadata": {},
   "outputs": [
    {
     "ename": "AttributeError",
     "evalue": "'TreeNode' object has no attribute 'find_clades'",
     "output_type": "error",
     "traceback": [
      "\u001b[1;31m---------------------------------------------------------------------------\u001b[0m",
      "\u001b[1;31mAttributeError\u001b[0m                            Traceback (most recent call last)",
      "\u001b[1;32m<ipython-input-55-2aa07068b8e4>\u001b[0m in \u001b[0;36m<module>\u001b[1;34m\u001b[0m\n\u001b[1;32m----> 1\u001b[1;33m \u001b[0mall_parents\u001b[0m\u001b[1;33m(\u001b[0m\u001b[0mt1\u001b[0m\u001b[1;33m)\u001b[0m\u001b[1;33m\u001b[0m\u001b[1;33m\u001b[0m\u001b[0m\n\u001b[0m",
      "\u001b[1;32m<ipython-input-54-81d028e2085c>\u001b[0m in \u001b[0;36mall_parents\u001b[1;34m(t1)\u001b[0m\n\u001b[0;32m      1\u001b[0m \u001b[1;32mdef\u001b[0m \u001b[0mall_parents\u001b[0m\u001b[1;33m(\u001b[0m\u001b[0mt1\u001b[0m\u001b[1;33m)\u001b[0m\u001b[1;33m:\u001b[0m\u001b[1;33m\u001b[0m\u001b[1;33m\u001b[0m\u001b[0m\n\u001b[0;32m      2\u001b[0m     \u001b[0mparents\u001b[0m \u001b[1;33m=\u001b[0m \u001b[1;33m{\u001b[0m\u001b[1;33m}\u001b[0m\u001b[1;33m\u001b[0m\u001b[1;33m\u001b[0m\u001b[0m\n\u001b[1;32m----> 3\u001b[1;33m     \u001b[1;32mfor\u001b[0m \u001b[0mclade\u001b[0m \u001b[1;32min\u001b[0m \u001b[0mt1\u001b[0m\u001b[1;33m.\u001b[0m\u001b[0mfind_clades\u001b[0m\u001b[1;33m(\u001b[0m\u001b[0morder\u001b[0m\u001b[1;33m=\u001b[0m\u001b[1;34m\"level\"\u001b[0m\u001b[1;33m)\u001b[0m\u001b[1;33m:\u001b[0m\u001b[1;33m\u001b[0m\u001b[1;33m\u001b[0m\u001b[0m\n\u001b[0m\u001b[0;32m      4\u001b[0m         \u001b[1;32mfor\u001b[0m \u001b[0mchild\u001b[0m \u001b[1;32min\u001b[0m \u001b[0mclade\u001b[0m\u001b[1;33m:\u001b[0m\u001b[1;33m\u001b[0m\u001b[1;33m\u001b[0m\u001b[0m\n\u001b[0;32m      5\u001b[0m             \u001b[0mparents\u001b[0m\u001b[1;33m[\u001b[0m\u001b[0mchild\u001b[0m\u001b[1;33m]\u001b[0m \u001b[1;33m=\u001b[0m \u001b[0mclade\u001b[0m\u001b[1;33m\u001b[0m\u001b[1;33m\u001b[0m\u001b[0m\n",
      "\u001b[1;31mAttributeError\u001b[0m: 'TreeNode' object has no attribute 'find_clades'"
     ]
    }
   ],
   "source": [
    "all_parents(t1)"
   ]
  },
  {
   "cell_type": "code",
   "execution_count": 56,
   "metadata": {},
   "outputs": [],
   "source": [
    "def get_parent(t1, child_clade):\n",
    "    node_path = t1.get_path(child_clade)\n",
    "    return node_path[-2]"
   ]
  },
  {
   "cell_type": "code",
   "execution_count": 57,
   "metadata": {},
   "outputs": [
    {
     "ename": "AttributeError",
     "evalue": "'TreeNode' object has no attribute 'find_clades'",
     "output_type": "error",
     "traceback": [
      "\u001b[1;31m---------------------------------------------------------------------------\u001b[0m",
      "\u001b[1;31mAttributeError\u001b[0m                            Traceback (most recent call last)",
      "\u001b[1;32m<ipython-input-57-8b4005e68d67>\u001b[0m in \u001b[0;36m<module>\u001b[1;34m\u001b[0m\n\u001b[1;32m----> 1\u001b[1;33m \u001b[0mmyclade\u001b[0m \u001b[1;33m=\u001b[0m \u001b[0mt1\u001b[0m\u001b[1;33m.\u001b[0m\u001b[0mfind_clades\u001b[0m\u001b[1;33m(\u001b[0m\u001b[1;34m\"seq8\"\u001b[0m\u001b[1;33m)\u001b[0m\u001b[1;33m.\u001b[0m\u001b[0mnext\u001b[0m\u001b[1;33m(\u001b[0m\u001b[1;33m)\u001b[0m\u001b[1;33m\u001b[0m\u001b[1;33m\u001b[0m\u001b[0m\n\u001b[0m\u001b[0;32m      2\u001b[0m \u001b[1;31m# Test the function\u001b[0m\u001b[1;33m\u001b[0m\u001b[1;33m\u001b[0m\u001b[1;33m\u001b[0m\u001b[0m\n\u001b[0;32m      3\u001b[0m \u001b[0mparent\u001b[0m \u001b[1;33m=\u001b[0m \u001b[0mget_parent\u001b[0m\u001b[1;33m(\u001b[0m\u001b[0mt1\u001b[0m\u001b[1;33m,\u001b[0m \u001b[0mmyclade\u001b[0m\u001b[1;33m)\u001b[0m\u001b[1;33m\u001b[0m\u001b[1;33m\u001b[0m\u001b[0m\n\u001b[0;32m      4\u001b[0m \u001b[0mparent\u001b[0m\u001b[1;33m\u001b[0m\u001b[1;33m\u001b[0m\u001b[0m\n",
      "\u001b[1;31mAttributeError\u001b[0m: 'TreeNode' object has no attribute 'find_clades'"
     ]
    }
   ],
   "source": [
    "myclade = t1.find_clades(\"seq8\").next()\n",
    "# Test the function\n",
    "parent = get_parent(t1, myclade)\n",
    "parent"
   ]
  },
  {
   "cell_type": "code",
   "execution_count": 58,
   "metadata": {},
   "outputs": [],
   "source": [
    "from Bio import Phylo\n",
    "\n",
    "t1 = Phylo.read(r\"C:\\Users\\awila\\Downloads\\testdata\\Testdata\\tree1.new\" , \"newick\")\n",
    "t2 = Phylo.read(r\"C:\\Users\\awila\\Downloads\\testdata\\Testdata\\tree2.new\", \"newick\")"
   ]
  },
  {
   "cell_type": "code",
   "execution_count": 60,
   "metadata": {},
   "outputs": [
    {
     "name": "stdout",
     "output_type": "stream",
     "text": [
      "   ___________________________________ seq2\n",
      " ,|\n",
      " ||     ___________________________ seq10\n",
      " ||____|\n",
      " |     |_____________________________ seq7\n",
      " |\n",
      " |_______________________________________ seq3\n",
      "_|\n",
      " |          ___________________________________________________________ seq5\n",
      " |     ____|\n",
      " |    |    |________________________________________________ seq4\n",
      " | ___|\n",
      " ||   |    ______________________________________ seq1\n",
      " ||   |___|\n",
      " ||       |            ________________________ seq8\n",
      "  |       |___________|\n",
      "  |                   |_______________________ seq6\n",
      "  |\n",
      "  |__________________________________ seq9\n",
      "\n"
     ]
    }
   ],
   "source": [
    "Phylo.draw_ascii(t1)"
   ]
  },
  {
   "cell_type": "code",
   "execution_count": null,
   "metadata": {},
   "outputs": [],
   "source": [
    "def get_parent(t1, child_clade):\n",
    "    node_path = t1.get_path(child_clade)\n",
    "    return node_path[-2]\n",
    "\n",
    "\n",
    "# Select a clade\n",
    "myclade = t1.find_clades(\"seq5\").next()\n",
    "# Test the function\n",
    "parent = get_parent(t1, myclade)"
   ]
  }
 ],
 "metadata": {
  "kernelspec": {
   "display_name": "Python 3",
   "language": "python",
   "name": "python3"
  },
  "language_info": {
   "codemirror_mode": {
    "name": "ipython",
    "version": 3
   },
   "file_extension": ".py",
   "mimetype": "text/x-python",
   "name": "python",
   "nbconvert_exporter": "python",
   "pygments_lexer": "ipython3",
   "version": "3.7.4"
  }
 },
 "nbformat": 4,
 "nbformat_minor": 2
}
