{
 "cells": [
  {
   "cell_type": "code",
   "execution_count": 3,
   "metadata": {
    "scrolled": true
   },
   "outputs": [
    {
     "name": "stdout",
     "output_type": "stream",
     "text": [
      "\n",
      "   /-aaaaaaaaaa\n",
      "--|\n",
      "  |   /-aaaaaaaaab\n",
      "   \\-|\n",
      "     |   /-aaaaaaaaac\n",
      "      \\-|\n",
      "        |   /-aaaaaaaaad\n",
      "         \\-|\n",
      "            \\-aaaaaaaaae\n",
      "\n",
      "   /-aaaaaaaaaa\n",
      "--|\n",
      "  |   /-aaaaaaaaab\n",
      "   \\-|\n",
      "     |   /-aaaaaaaaac\n",
      "      \\-|\n",
      "        |   /-aaaaaaaaad\n",
      "         \\-|\n",
      "            \\-aaaaaaaaae\n"
     ]
    }
   ],
   "source": [
    "from ete3 import Tree\n",
    "\n",
    "# generate 2 random trees\n",
    "t1 = Tree()\n",
    "t2 = Tree()\n",
    "t1.populate(5)\n",
    "t2.populate(5)\n",
    "# root both to the same tip name\n",
    "root = t1.get_leaf_names()[0]\n",
    "t1.set_outgroup(root)\n",
    "t2.set_outgroup(root)\n",
    "\n",
    "print (t1)\n",
    "print (t2)"
   ]
  },
  {
   "cell_type": "code",
   "execution_count": 18,
   "metadata": {},
   "outputs": [
    {
     "name": "stdout",
     "output_type": "stream",
     "text": [
      "\n",
      "   /-seq2\n",
      "  |\n",
      "  |      /-seq10\n",
      "--|   /-|\n",
      "  |  |   \\-seq7\n",
      "  |  |\n",
      "   \\-|   /-seq3\n",
      "     |  |\n",
      "     |  |         /-seq5\n",
      "     |  |      /-|\n",
      "      \\-|     |   \\-seq4\n",
      "        |   /-|\n",
      "        |  |  |   /-seq1\n",
      "        |  |   \\-|\n",
      "         \\-|     |   /-seq8\n",
      "           |      \\-|\n",
      "           |         \\-seq6\n",
      "           |\n",
      "            \\-seq9\n",
      "\n",
      "   /-seq2\n",
      "  |\n",
      "  |      /-seq8\n",
      "--|   /-|\n",
      "  |  |   \\-seq6\n",
      "  |  |\n",
      "   \\-|      /-seq5\n",
      "     |   /-|\n",
      "     |  |   \\-seq4\n",
      "      \\-|\n",
      "        |   /-seq9\n",
      "        |  |\n",
      "         \\-|      /-seq1\n",
      "           |   /-|\n",
      "           |  |  |   /-seq10\n",
      "            \\-|   \\-|\n",
      "              |      \\-seq7\n",
      "              |\n",
      "               \\-seq3\n"
     ]
    }
   ],
   "source": [
    "from ete3 import Tree\n",
    "\n",
    "t1 = Tree(r\"C:\\Users\\awila\\Downloads\\testdata\\Testdata\\tree1.new\")\n",
    "t2 = Tree(r\"C:\\Users\\awila\\Downloads\\testdata\\Testdata\\tree2.new\")\n",
    "\n",
    "\n",
    "# root both to the same tip name\n",
    "root = t1.get_leaf_names()[0]\n",
    "t1.set_outgroup(root)\n",
    "t2.set_outgroup(root)\n",
    "\n",
    "\n",
    "\n",
    "print (t1)\n",
    "print (t2)"
   ]
  },
  {
   "cell_type": "code",
   "execution_count": 19,
   "metadata": {},
   "outputs": [],
   "source": [
    "#Step 1: Rooting the two input trees at the same leaf\n",
    "\n",
    "def get_node_list(t):\n",
    "    node_list = []\n",
    "    for node in t : \n",
    "        node_list.append(node.name)\n",
    "    return node_list"
   ]
  },
  {
   "cell_type": "code",
   "execution_count": 20,
   "metadata": {},
   "outputs": [],
   "source": [
    "t1.set_outgroup(get_node_list(t1)[0])\n",
    "t2.set_outgroup(get_node_list(t1)[0])"
   ]
  },
  {
   "cell_type": "code",
   "execution_count": 21,
   "metadata": {},
   "outputs": [],
   "source": [
    "def step1(t1,t2):\n",
    "    t1_nodes = get_node_list(t1)\n",
    "    root = t1_nodes[0]\n",
    "    t1.set_outgroup(root)\n",
    "    t2.set_outgroup(root)\n",
    "    return t1,t2"
   ]
  },
  {
   "cell_type": "code",
   "execution_count": 22,
   "metadata": {},
   "outputs": [
    {
     "name": "stdout",
     "output_type": "stream",
     "text": [
      "\n",
      "   /-seq2\n",
      "  |\n",
      "  |      /-seq10\n",
      "--|   /-|\n",
      "  |  |   \\-seq7\n",
      "  |  |\n",
      "   \\-|   /-seq3\n",
      "     |  |\n",
      "     |  |         /-seq5\n",
      "     |  |      /-|\n",
      "      \\-|     |   \\-seq4\n",
      "        |   /-|\n",
      "        |  |  |   /-seq1\n",
      "        |  |   \\-|\n",
      "         \\-|     |   /-seq8\n",
      "           |      \\-|\n",
      "           |         \\-seq6\n",
      "           |\n",
      "            \\-seq9\n",
      "\n",
      "   /-seq2\n",
      "  |\n",
      "  |      /-seq8\n",
      "--|   /-|\n",
      "  |  |   \\-seq6\n",
      "  |  |\n",
      "   \\-|      /-seq5\n",
      "     |   /-|\n",
      "     |  |   \\-seq4\n",
      "      \\-|\n",
      "        |   /-seq9\n",
      "        |  |\n",
      "         \\-|      /-seq1\n",
      "           |   /-|\n",
      "           |  |  |   /-seq10\n",
      "            \\-|   \\-|\n",
      "              |      \\-seq7\n",
      "              |\n",
      "               \\-seq3\n"
     ]
    }
   ],
   "source": [
    "print(t1)\n",
    "print(t2)"
   ]
  },
  {
   "cell_type": "code",
   "execution_count": 23,
   "metadata": {},
   "outputs": [],
   "source": [
    "#Step 2: Make a Depth-First numbering of the leaves in T1\n",
    "def step2(t1,t2):\n",
    "    \"\"\"Assume that t1 and t2 are rooted on the same node\"\"\"\n",
    "    t1_depth_first_names = []\n",
    "    for node in t1.traverse(\"preorder\"):\n",
    "        if node.name != \"\":\n",
    "            t1_depth_first_names.append(node.name)\n",
    "    return (t1_depth_first_names)"
   ]
  },
  {
   "cell_type": "code",
   "execution_count": 24,
   "metadata": {},
   "outputs": [
    {
     "data": {
      "text/plain": [
       "['seq2',\n",
       " 'seq10',\n",
       " 'seq7',\n",
       " 'seq3',\n",
       " 'seq5',\n",
       " 'seq4',\n",
       " 'seq1',\n",
       " 'seq8',\n",
       " 'seq6',\n",
       " 'seq9']"
      ]
     },
     "execution_count": 24,
     "metadata": {},
     "output_type": "execute_result"
    }
   ],
   "source": [
    "step2(t1,t2)"
   ]
  },
  {
   "cell_type": "code",
   "execution_count": 89,
   "metadata": {},
   "outputs": [],
   "source": [
    "def step21(t1,t2):\n",
    "    \"\"\"Assume that t1 and t2 are rooted on the same node\"\"\"\n",
    "    t2_depth_first_names = []\n",
    "    for node in t2.traverse(\"preorder\"):\n",
    "        if node.name != \"\":\n",
    "            t2_depth_first_names.append(node.name)\n",
    "    return (t2_depth_first_names)"
   ]
  },
  {
   "cell_type": "code",
   "execution_count": 90,
   "metadata": {},
   "outputs": [
    {
     "data": {
      "text/plain": [
       "['seq2',\n",
       " 'seq8',\n",
       " 'seq6',\n",
       " 'seq5',\n",
       " 'seq4',\n",
       " 'seq9',\n",
       " 'seq1',\n",
       " 'seq10',\n",
       " 'seq7',\n",
       " 'seq3']"
      ]
     },
     "execution_count": 90,
     "metadata": {},
     "output_type": "execute_result"
    }
   ],
   "source": [
    "step21(t1,t2)"
   ]
  },
  {
   "cell_type": "code",
   "execution_count": 25,
   "metadata": {},
   "outputs": [],
   "source": [
    "#Step 3:  Rename the leaves in T2 cf. the DF-numbering of leaves in T1\n",
    "\n",
    "def step3(t1,t2):\n",
    "    t1_ordering = step2(t1,t2)\n",
    "    t2_reordering = []\n",
    "    for node in t2.traverse(\"preorder\"):\n",
    "        if node.name != \"\":\n",
    "            t2_reordering.append(t1_ordering.index(node.name))\n",
    "    return t2_reordering"
   ]
  },
  {
   "cell_type": "code",
   "execution_count": 26,
   "metadata": {},
   "outputs": [
    {
     "data": {
      "text/plain": [
       "[0, 7, 8, 4, 5, 9, 6, 1, 2, 3]"
      ]
     },
     "execution_count": 26,
     "metadata": {},
     "output_type": "execute_result"
    }
   ],
   "source": [
    "step3(t1,t2)"
   ]
  },
  {
   "cell_type": "code",
   "execution_count": 27,
   "metadata": {},
   "outputs": [
    {
     "data": {
      "text/plain": [
       "['seq2',\n",
       " 'seq8',\n",
       " 'seq6',\n",
       " 'seq5',\n",
       " 'seq4',\n",
       " 'seq9',\n",
       " 'seq1',\n",
       " 'seq10',\n",
       " 'seq7',\n",
       " 'seq3']"
      ]
     },
     "execution_count": 27,
     "metadata": {},
     "output_type": "execute_result"
    }
   ],
   "source": [
    "depth_first_names = []\n",
    "for node in t2.traverse(\"preorder\"):\n",
    "  # Do some analysis on node\n",
    "    if node.name != \"\":\n",
    "        depth_first_names.append(node.name)\n",
    "depth_first_names"
   ]
  },
  {
   "cell_type": "code",
   "execution_count": 28,
   "metadata": {},
   "outputs": [],
   "source": [
    "#Step 4: Annotate internal nodes\n",
    "\n",
    "t1_nodes_children = []\n",
    "for node in t1.traverse(\"preorder\"):\n",
    "    if node.name == \"\":\n",
    "        t1_nodes_children.append(node.get_leaf_names())"
   ]
  },
  {
   "cell_type": "code",
   "execution_count": 29,
   "metadata": {},
   "outputs": [
    {
     "data": {
      "text/plain": [
       "['[0,9]',\n",
       " '[1,9]',\n",
       " '[1,2]',\n",
       " '[3,9]',\n",
       " '[4,9]',\n",
       " '[4,8]',\n",
       " '[4,5]',\n",
       " '[6,8]',\n",
       " '[7,8]']"
      ]
     },
     "execution_count": 29,
     "metadata": {},
     "output_type": "execute_result"
    }
   ],
   "source": [
    "list_intervals = []\n",
    "for l in t1_nodes_children:\n",
    "    order_t1 = step2(t1,t2)\n",
    "    m = order_t1.index(l[0])\n",
    "    M = order_t1.index(l[0])\n",
    "    for i in range(len(l)):\n",
    "        if order_t1.index(l[i])<m:\n",
    "            m= order_t1.index(l[i])\n",
    "        if order_t1.index(l[i])>M : \n",
    "            M= order_t1.index(l[i])\n",
    "    list_intervals.append(\"[\"+str(m)+\",\"+str(M)+\"]\")\n",
    "list_intervals"
   ]
  },
  {
   "cell_type": "code",
   "execution_count": 32,
   "metadata": {},
   "outputs": [
    {
     "data": {
      "text/plain": [
       "[['seq2',\n",
       "  'seq8',\n",
       "  'seq6',\n",
       "  'seq5',\n",
       "  'seq4',\n",
       "  'seq9',\n",
       "  'seq1',\n",
       "  'seq10',\n",
       "  'seq7',\n",
       "  'seq3'],\n",
       " ['seq8', 'seq6', 'seq5', 'seq4', 'seq9', 'seq1', 'seq10', 'seq7', 'seq3'],\n",
       " ['seq8', 'seq6'],\n",
       " ['seq5', 'seq4', 'seq9', 'seq1', 'seq10', 'seq7', 'seq3'],\n",
       " ['seq5', 'seq4'],\n",
       " ['seq9', 'seq1', 'seq10', 'seq7', 'seq3'],\n",
       " ['seq1', 'seq10', 'seq7', 'seq3'],\n",
       " ['seq1', 'seq10', 'seq7'],\n",
       " ['seq10', 'seq7']]"
      ]
     },
     "execution_count": 32,
     "metadata": {},
     "output_type": "execute_result"
    }
   ],
   "source": [
    "t2_nodes_children = []\n",
    "for node in t2.traverse(\"preorder\"):\n",
    "    if node.name == \"\":\n",
    "        t2_nodes_children.append(node.get_leaf_names())\n",
    "t2_nodes_children"
   ]
  },
  {
   "cell_type": "code",
   "execution_count": 34,
   "metadata": {},
   "outputs": [
    {
     "data": {
      "text/plain": [
       "['[0,9]', '[1,9]', '[7,8]', '[4,5]', '[1,2]']"
      ]
     },
     "execution_count": 34,
     "metadata": {},
     "output_type": "execute_result"
    }
   ],
   "source": [
    "list_intervals2 = []\n",
    "for l in t2_nodes_children:\n",
    "    order_t1 = step2(t1,t2)\n",
    "    m = order_t1.index(l[0])\n",
    "    M = order_t1.index(l[0])\n",
    "    for i in range(len(l)):\n",
    "        if order_t1.index(l[i])<m:\n",
    "            m= order_t1.index(l[i])\n",
    "        if order_t1.index(l[i])>M : \n",
    "            M= order_t1.index(l[i])\n",
    "    if M-m+1 == len(l):\n",
    "        list_intervals2.append(\"[\"+str(m)+\",\"+str(M)+\"]\")\n",
    "list_intervals2 "
   ]
  },
  {
   "cell_type": "code",
   "execution_count": 35,
   "metadata": {},
   "outputs": [],
   "source": [
    "def RF_dist(t1,t2):\n",
    "    step1(t1,t2)\n",
    "    order_t1 = step2(t1,t2) #step2\n",
    "    #skip step3 because I do not use it\n",
    "    #step 4.1\n",
    "    t1_nodes_children = []\n",
    "    for node in t1.traverse(\"preorder\"):\n",
    "        if node.name == \"\":\n",
    "            t1_nodes_children.append(node.get_leaf_names())\n",
    "    list_intervals = []\n",
    "    for l in t1_nodes_children:\n",
    "        m = order_t1.index(l[0])\n",
    "        M = order_t1.index(l[0])\n",
    "        for i in range(len(l)):\n",
    "            if order_t1.index(l[i])<m:\n",
    "                m= order_t1.index(l[i])\n",
    "            if order_t1.index(l[i])>M : \n",
    "                M= order_t1.index(l[i])\n",
    "        list_intervals.append(\"[\"+str(m)+\",\"+str(M)+\"]\")\n",
    "    \n",
    "    # Step 4.2 \n",
    "    t2_nodes_children = []\n",
    "    for node in t2.traverse(\"preorder\"):\n",
    "        if node.name == \"\":\n",
    "            t2_nodes_children.append(node.get_leaf_names())\n",
    "    list_intervals2 = []\n",
    "    for l in t2_nodes_children:\n",
    "        order_t1 = step2(t1,t2)\n",
    "        m = order_t1.index(l[0])\n",
    "        M = order_t1.index(l[0])\n",
    "        for i in range(len(l)):\n",
    "            if order_t1.index(l[i])<m:\n",
    "                m= order_t1.index(l[i])\n",
    "            if order_t1.index(l[i])>M : \n",
    "                M= order_t1.index(l[i])\n",
    "        if M-m+1 == len(l):\n",
    "            list_intervals2.append(\"[\"+str(m)+\",\"+str(M)+\"]\")\n",
    "        \n",
    "    \n",
    "\n",
    "    # Step 5 \n",
    "    l1 = sorted(list_intervals)\n",
    "    l2 = sorted(list_intervals2)\n",
    "    share = len(list(set(list_intervals) & set(list_intervals2)))\n",
    "    #print(\"Num of shared intervals:\",share)\n",
    "    return(2*len(l1)-2*share)"
   ]
  },
  {
   "cell_type": "code",
   "execution_count": 36,
   "metadata": {},
   "outputs": [
    {
     "data": {
      "text/plain": [
       "8"
      ]
     },
     "execution_count": 36,
     "metadata": {},
     "output_type": "execute_result"
    }
   ],
   "source": [
    "t1 = Tree(r\"C:\\Users\\awila\\Downloads\\testdata\\Testdata\\tree1.new\")\n",
    "t2 = Tree(r\"C:\\Users\\awila\\Downloads\\testdata\\Testdata\\tree2.new\")\n",
    "RF_dist(t1,t2)"
   ]
  },
  {
   "cell_type": "code",
   "execution_count": 82,
   "metadata": {},
   "outputs": [
    {
     "data": {
      "text/plain": [
       "8"
      ]
     },
     "execution_count": 82,
     "metadata": {},
     "output_type": "execute_result"
    }
   ],
   "source": [
    "t1 = Tree(r\"C:\\Users\\awila\\Downloads\\testdata\\Testdata\\tree2.new\")\n",
    "t2 = Tree(r\"C:\\Users\\awila\\Downloads\\testdata\\Testdata\\tree1.new\")\n",
    "RF_dist(t1,t2)"
   ]
  },
  {
   "cell_type": "code",
   "execution_count": 92,
   "metadata": {},
   "outputs": [
    {
     "data": {
      "text/plain": [
       "16"
      ]
     },
     "execution_count": 92,
     "metadata": {},
     "output_type": "execute_result"
    }
   ],
   "source": [
    "t1 = Tree(r\"C:\\Users\\awila\\Downloads\\AiB_project5\\89_Adeno_E3_CR1_NJtree.newick\")\n",
    "t2 = Tree(r\"C:\\Users\\awila\\Downloads\\AiB_project5\\89_Adeno_E3_CR1_Qtree.newick\")\n",
    "RF_dist(t1,t2)"
   ]
  },
  {
   "cell_type": "code",
   "execution_count": 106,
   "metadata": {},
   "outputs": [
    {
     "ename": "ValueError",
     "evalue": "Node names not found: ['193_Q9YJ7']",
     "output_type": "error",
     "traceback": [
      "\u001b[1;31m---------------------------------------------------------------------------\u001b[0m",
      "\u001b[1;31mValueError\u001b[0m                                Traceback (most recent call last)",
      "\u001b[1;32m<ipython-input-106-ea9c8e5d4769>\u001b[0m in \u001b[0;36m<module>\u001b[1;34m\u001b[0m\n\u001b[0;32m      1\u001b[0m \u001b[0mt1\u001b[0m \u001b[1;33m=\u001b[0m \u001b[0mTree\u001b[0m\u001b[1;33m(\u001b[0m\u001b[1;34mr\"C:\\Users\\awila\\Downloads\\AiB_project5\\214_Arena_glycoprot_NJtree.newick\"\u001b[0m\u001b[1;33m)\u001b[0m\u001b[1;33m\u001b[0m\u001b[1;33m\u001b[0m\u001b[0m\n\u001b[0;32m      2\u001b[0m \u001b[0mt2\u001b[0m \u001b[1;33m=\u001b[0m \u001b[0mTree\u001b[0m\u001b[1;33m(\u001b[0m\u001b[1;34mr\"C:\\Users\\awila\\Downloads\\AiB_project5\\214_Arena_glycoprot_RNJ.newick\"\u001b[0m\u001b[1;33m)\u001b[0m\u001b[1;33m\u001b[0m\u001b[1;33m\u001b[0m\u001b[0m\n\u001b[1;32m----> 3\u001b[1;33m \u001b[0mRF_dist\u001b[0m\u001b[1;33m(\u001b[0m\u001b[0mt1\u001b[0m\u001b[1;33m,\u001b[0m\u001b[0mt2\u001b[0m\u001b[1;33m)\u001b[0m\u001b[1;33m\u001b[0m\u001b[1;33m\u001b[0m\u001b[0m\n\u001b[0m",
      "\u001b[1;32m<ipython-input-35-5f0be923dae2>\u001b[0m in \u001b[0;36mRF_dist\u001b[1;34m(t1, t2)\u001b[0m\n\u001b[0;32m      1\u001b[0m \u001b[1;32mdef\u001b[0m \u001b[0mRF_dist\u001b[0m\u001b[1;33m(\u001b[0m\u001b[0mt1\u001b[0m\u001b[1;33m,\u001b[0m\u001b[0mt2\u001b[0m\u001b[1;33m)\u001b[0m\u001b[1;33m:\u001b[0m\u001b[1;33m\u001b[0m\u001b[1;33m\u001b[0m\u001b[0m\n\u001b[1;32m----> 2\u001b[1;33m     \u001b[0mstep1\u001b[0m\u001b[1;33m(\u001b[0m\u001b[0mt1\u001b[0m\u001b[1;33m,\u001b[0m\u001b[0mt2\u001b[0m\u001b[1;33m)\u001b[0m\u001b[1;33m\u001b[0m\u001b[1;33m\u001b[0m\u001b[0m\n\u001b[0m\u001b[0;32m      3\u001b[0m     \u001b[0morder_t1\u001b[0m \u001b[1;33m=\u001b[0m \u001b[0mstep2\u001b[0m\u001b[1;33m(\u001b[0m\u001b[0mt1\u001b[0m\u001b[1;33m,\u001b[0m\u001b[0mt2\u001b[0m\u001b[1;33m)\u001b[0m \u001b[1;31m#step2\u001b[0m\u001b[1;33m\u001b[0m\u001b[1;33m\u001b[0m\u001b[0m\n\u001b[0;32m      4\u001b[0m     \u001b[1;31m#skip step3 because I do not use it\u001b[0m\u001b[1;33m\u001b[0m\u001b[1;33m\u001b[0m\u001b[1;33m\u001b[0m\u001b[0m\n\u001b[0;32m      5\u001b[0m     \u001b[1;31m#step 4.1\u001b[0m\u001b[1;33m\u001b[0m\u001b[1;33m\u001b[0m\u001b[1;33m\u001b[0m\u001b[0m\n",
      "\u001b[1;32m<ipython-input-21-1f7d7060b094>\u001b[0m in \u001b[0;36mstep1\u001b[1;34m(t1, t2)\u001b[0m\n\u001b[0;32m      3\u001b[0m     \u001b[0mroot\u001b[0m \u001b[1;33m=\u001b[0m \u001b[0mt1_nodes\u001b[0m\u001b[1;33m[\u001b[0m\u001b[1;36m0\u001b[0m\u001b[1;33m]\u001b[0m\u001b[1;33m\u001b[0m\u001b[1;33m\u001b[0m\u001b[0m\n\u001b[0;32m      4\u001b[0m     \u001b[0mt1\u001b[0m\u001b[1;33m.\u001b[0m\u001b[0mset_outgroup\u001b[0m\u001b[1;33m(\u001b[0m\u001b[0mroot\u001b[0m\u001b[1;33m)\u001b[0m\u001b[1;33m\u001b[0m\u001b[1;33m\u001b[0m\u001b[0m\n\u001b[1;32m----> 5\u001b[1;33m     \u001b[0mt2\u001b[0m\u001b[1;33m.\u001b[0m\u001b[0mset_outgroup\u001b[0m\u001b[1;33m(\u001b[0m\u001b[0mroot\u001b[0m\u001b[1;33m)\u001b[0m\u001b[1;33m\u001b[0m\u001b[1;33m\u001b[0m\u001b[0m\n\u001b[0m\u001b[0;32m      6\u001b[0m     \u001b[1;32mreturn\u001b[0m \u001b[0mt1\u001b[0m\u001b[1;33m,\u001b[0m\u001b[0mt2\u001b[0m\u001b[1;33m\u001b[0m\u001b[1;33m\u001b[0m\u001b[0m\n",
      "\u001b[1;32m~\\Anaconda3\\lib\\site-packages\\ete3-3.1.2-py3.7.egg\\ete3\\coretype\\tree.py\u001b[0m in \u001b[0;36mset_outgroup\u001b[1;34m(self, outgroup)\u001b[0m\n\u001b[0;32m   1251\u001b[0m         \"\"\"\n\u001b[0;32m   1252\u001b[0m \u001b[1;33m\u001b[0m\u001b[0m\n\u001b[1;32m-> 1253\u001b[1;33m         \u001b[0moutgroup\u001b[0m \u001b[1;33m=\u001b[0m \u001b[0m_translate_nodes\u001b[0m\u001b[1;33m(\u001b[0m\u001b[0mself\u001b[0m\u001b[1;33m,\u001b[0m \u001b[0moutgroup\u001b[0m\u001b[1;33m)\u001b[0m\u001b[1;33m\u001b[0m\u001b[1;33m\u001b[0m\u001b[0m\n\u001b[0m\u001b[0;32m   1254\u001b[0m \u001b[1;33m\u001b[0m\u001b[0m\n\u001b[0;32m   1255\u001b[0m         \u001b[1;32mif\u001b[0m \u001b[0mself\u001b[0m \u001b[1;33m==\u001b[0m \u001b[0moutgroup\u001b[0m\u001b[1;33m:\u001b[0m\u001b[1;33m\u001b[0m\u001b[1;33m\u001b[0m\u001b[0m\n",
      "\u001b[1;32m~\\Anaconda3\\lib\\site-packages\\ete3-3.1.2-py3.7.egg\\ete3\\coretype\\tree.py\u001b[0m in \u001b[0;36m_translate_nodes\u001b[1;34m(root, *nodes)\u001b[0m\n\u001b[0;32m   2599\u001b[0m     \u001b[1;32mif\u001b[0m \u001b[1;32mNone\u001b[0m \u001b[1;32min\u001b[0m \u001b[0mlist\u001b[0m\u001b[1;33m(\u001b[0m\u001b[0mname2node\u001b[0m\u001b[1;33m.\u001b[0m\u001b[0mvalues\u001b[0m\u001b[1;33m(\u001b[0m\u001b[1;33m)\u001b[0m\u001b[1;33m)\u001b[0m\u001b[1;33m:\u001b[0m\u001b[1;33m\u001b[0m\u001b[1;33m\u001b[0m\u001b[0m\n\u001b[0;32m   2600\u001b[0m         \u001b[0mnotfound\u001b[0m \u001b[1;33m=\u001b[0m \u001b[1;33m[\u001b[0m\u001b[0mkey\u001b[0m \u001b[1;32mfor\u001b[0m \u001b[0mkey\u001b[0m\u001b[1;33m,\u001b[0m \u001b[0mvalue\u001b[0m \u001b[1;32min\u001b[0m \u001b[0msix\u001b[0m\u001b[1;33m.\u001b[0m\u001b[0miteritems\u001b[0m\u001b[1;33m(\u001b[0m\u001b[0mname2node\u001b[0m\u001b[1;33m)\u001b[0m \u001b[1;32mif\u001b[0m \u001b[0mvalue\u001b[0m \u001b[1;32mis\u001b[0m \u001b[1;32mNone\u001b[0m\u001b[1;33m]\u001b[0m\u001b[1;33m\u001b[0m\u001b[1;33m\u001b[0m\u001b[0m\n\u001b[1;32m-> 2601\u001b[1;33m         \u001b[1;32mraise\u001b[0m \u001b[0mValueError\u001b[0m\u001b[1;33m(\u001b[0m\u001b[1;34m\"Node names not found: \"\u001b[0m\u001b[1;33m+\u001b[0m\u001b[0mstr\u001b[0m\u001b[1;33m(\u001b[0m\u001b[0mnotfound\u001b[0m\u001b[1;33m)\u001b[0m\u001b[1;33m)\u001b[0m\u001b[1;33m\u001b[0m\u001b[1;33m\u001b[0m\u001b[0m\n\u001b[0m\u001b[0;32m   2602\u001b[0m \u001b[1;33m\u001b[0m\u001b[0m\n\u001b[0;32m   2603\u001b[0m     \u001b[0mvalid_nodes\u001b[0m \u001b[1;33m=\u001b[0m \u001b[1;33m[\u001b[0m\u001b[1;33m]\u001b[0m\u001b[1;33m\u001b[0m\u001b[1;33m\u001b[0m\u001b[0m\n",
      "\u001b[1;31mValueError\u001b[0m: Node names not found: ['193_Q9YJ7']"
     ]
    }
   ],
   "source": [
    "t1 = Tree(r\"C:\\Users\\awila\\Downloads\\AiB_project5\\214_Arena_glycoprot_NJtree.newick\")\n",
    "t2 = Tree(r\"C:\\Users\\awila\\Downloads\\AiB_project5\\214_Arena_glycoprot_RNJ.newick\")\n",
    "RF_dist(t1,t2)"
   ]
  },
  {
   "cell_type": "code",
   "execution_count": 95,
   "metadata": {},
   "outputs": [
    {
     "data": {
      "text/plain": [
       "12"
      ]
     },
     "execution_count": 95,
     "metadata": {},
     "output_type": "execute_result"
    }
   ],
   "source": [
    "t1 = Tree(r\"C:\\Users\\awila\\Downloads\\AiB_project5\\304_A1_Propeptide_Qtree.newick\")\n",
    "t2 = Tree(r\"C:\\Users\\awila\\Downloads\\AiB_project5\\304_A1_Propeptide_NJtree.newick\")\n",
    "RF_dist(t1,t2)"
   ]
  },
  {
   "cell_type": "code",
   "execution_count": 96,
   "metadata": {},
   "outputs": [
    {
     "data": {
      "text/plain": [
       "32"
      ]
     },
     "execution_count": 96,
     "metadata": {},
     "output_type": "execute_result"
    }
   ],
   "source": [
    "t1 = Tree(r\"C:\\Users\\awila\\Downloads\\AiB_project5\\401_DDE_Qtree.newick\")\n",
    "t2 = Tree(r\"C:\\Users\\awila\\Downloads\\AiB_project5\\401_DDE_NJtree.newick\")\n",
    "RF_dist(t1,t2)"
   ]
  },
  {
   "cell_type": "code",
   "execution_count": 99,
   "metadata": {},
   "outputs": [
    {
     "data": {
      "text/plain": [
       "208"
      ]
     },
     "execution_count": 99,
     "metadata": {},
     "output_type": "execute_result"
    }
   ],
   "source": [
    "t1 = Tree(r\"C:\\Users\\awila\\Downloads\\AiB_project5\\494_Astro_capsid_Qtree.newick\")\n",
    "t2 = Tree(r\"C:\\Users\\awila\\Downloads\\AiB_project5\\494_Astro_capsid_NJtree.newick\")\n",
    "RF_dist(t1,t2)"
   ]
  },
  {
   "cell_type": "code",
   "execution_count": 98,
   "metadata": {},
   "outputs": [
    {
     "data": {
      "text/plain": [
       "20"
      ]
     },
     "execution_count": 98,
     "metadata": {},
     "output_type": "execute_result"
    }
   ],
   "source": [
    "t1 = Tree(r\"C:\\Users\\awila\\Downloads\\AiB_project5\\608_Gemini_AL2_Qtree.newick\")\n",
    "t2 = Tree(r\"C:\\Users\\awila\\Downloads\\AiB_project5\\608_Gemini_AL2_NJtree.newick\")\n",
    "RF_dist(t1,t2)"
   ]
  },
  {
   "cell_type": "code",
   "execution_count": 100,
   "metadata": {},
   "outputs": [
    {
     "data": {
      "text/plain": [
       "208"
      ]
     },
     "execution_count": 100,
     "metadata": {},
     "output_type": "execute_result"
    }
   ],
   "source": [
    "t1 = Tree(r\"C:\\Users\\awila\\Downloads\\AiB_project5\\777_Gemini_V1_Qtree.newick\")\n",
    "t2 = Tree(r\"C:\\Users\\awila\\Downloads\\AiB_project5\\777_Gemini_V1_NJtree.newick\")\n",
    "RF_dist(t1,t2)"
   ]
  },
  {
   "cell_type": "code",
   "execution_count": 101,
   "metadata": {},
   "outputs": [
    {
     "data": {
      "text/plain": [
       "32"
      ]
     },
     "execution_count": 101,
     "metadata": {},
     "output_type": "execute_result"
    }
   ],
   "source": [
    "t1 = Tree(r\"C:\\Users\\awila\\Downloads\\AiB_project5\\877_Glu_synthase_Qtree.newick\")\n",
    "t2 = Tree(r\"C:\\Users\\awila\\Downloads\\AiB_project5\\877_Glu_synthase_NJtree.newick\")\n",
    "RF_dist(t1,t2)"
   ]
  },
  {
   "cell_type": "code",
   "execution_count": 102,
   "metadata": {},
   "outputs": [
    {
     "data": {
      "text/plain": [
       "2"
      ]
     },
     "execution_count": 102,
     "metadata": {},
     "output_type": "execute_result"
    }
   ],
   "source": [
    "t1 = Tree(r\"C:\\Users\\awila\\Downloads\\AiB_project5\\1347_FAINT_Qtree.newick\")\n",
    "t2 = Tree(r\"C:\\Users\\awila\\Downloads\\AiB_project5\\1347_FAINT_NJtree.newick\")\n",
    "RF_dist(t1,t2)"
   ]
  },
  {
   "cell_type": "code",
   "execution_count": 103,
   "metadata": {},
   "outputs": [
    {
     "data": {
      "text/plain": [
       "34"
      ]
     },
     "execution_count": 103,
     "metadata": {},
     "output_type": "execute_result"
    }
   ],
   "source": [
    "t1 = Tree(r\"C:\\Users\\awila\\Downloads\\AiB_project5\\1493_Fe-ADH_Qtree.newick\")\n",
    "t2 = Tree(r\"C:\\Users\\awila\\Downloads\\AiB_project5\\1493_Fe-ADH_NJtree.newick\")\n",
    "RF_dist(t1,t2)"
   ]
  },
  {
   "cell_type": "code",
   "execution_count": 104,
   "metadata": {},
   "outputs": [
    {
     "data": {
      "text/plain": [
       "76"
      ]
     },
     "execution_count": 104,
     "metadata": {},
     "output_type": "execute_result"
    }
   ],
   "source": [
    "t1 = Tree(r\"C:\\Users\\awila\\Downloads\\AiB_project5\\1560_Ferritin_Qtree.newick\")\n",
    "t2 = Tree(r\"C:\\Users\\awila\\Downloads\\AiB_project5\\1560_Ferritin_NJtree.newick\")\n",
    "RF_dist(t1,t2)"
   ]
  },
  {
   "cell_type": "code",
   "execution_count": 107,
   "metadata": {},
   "outputs": [
    {
     "ename": "ValueError",
     "evalue": "Node names not found: ['754_Q5FJ1']",
     "output_type": "error",
     "traceback": [
      "\u001b[1;31m---------------------------------------------------------------------------\u001b[0m",
      "\u001b[1;31mValueError\u001b[0m                                Traceback (most recent call last)",
      "\u001b[1;32m<ipython-input-107-1e33e47c08df>\u001b[0m in \u001b[0;36m<module>\u001b[1;34m\u001b[0m\n\u001b[0;32m      1\u001b[0m \u001b[0mt1\u001b[0m \u001b[1;33m=\u001b[0m \u001b[0mTree\u001b[0m\u001b[1;33m(\u001b[0m\u001b[1;34mr\"C:\\Users\\awila\\Downloads\\AiB_project5\\1689_FGGY_N_Qtree.newick\"\u001b[0m\u001b[1;33m)\u001b[0m\u001b[1;33m\u001b[0m\u001b[1;33m\u001b[0m\u001b[0m\n\u001b[0;32m      2\u001b[0m \u001b[0mt2\u001b[0m \u001b[1;33m=\u001b[0m \u001b[0mTree\u001b[0m\u001b[1;33m(\u001b[0m\u001b[1;34mr\"C:\\Users\\awila\\Downloads\\AiB_project5\\1689_FGGY_N_RNJ.newick\"\u001b[0m\u001b[1;33m)\u001b[0m\u001b[1;33m\u001b[0m\u001b[1;33m\u001b[0m\u001b[0m\n\u001b[1;32m----> 3\u001b[1;33m \u001b[0mRF_dist\u001b[0m\u001b[1;33m(\u001b[0m\u001b[0mt1\u001b[0m\u001b[1;33m,\u001b[0m\u001b[0mt2\u001b[0m\u001b[1;33m)\u001b[0m\u001b[1;33m\u001b[0m\u001b[1;33m\u001b[0m\u001b[0m\n\u001b[0m",
      "\u001b[1;32m<ipython-input-35-5f0be923dae2>\u001b[0m in \u001b[0;36mRF_dist\u001b[1;34m(t1, t2)\u001b[0m\n\u001b[0;32m      1\u001b[0m \u001b[1;32mdef\u001b[0m \u001b[0mRF_dist\u001b[0m\u001b[1;33m(\u001b[0m\u001b[0mt1\u001b[0m\u001b[1;33m,\u001b[0m\u001b[0mt2\u001b[0m\u001b[1;33m)\u001b[0m\u001b[1;33m:\u001b[0m\u001b[1;33m\u001b[0m\u001b[1;33m\u001b[0m\u001b[0m\n\u001b[1;32m----> 2\u001b[1;33m     \u001b[0mstep1\u001b[0m\u001b[1;33m(\u001b[0m\u001b[0mt1\u001b[0m\u001b[1;33m,\u001b[0m\u001b[0mt2\u001b[0m\u001b[1;33m)\u001b[0m\u001b[1;33m\u001b[0m\u001b[1;33m\u001b[0m\u001b[0m\n\u001b[0m\u001b[0;32m      3\u001b[0m     \u001b[0morder_t1\u001b[0m \u001b[1;33m=\u001b[0m \u001b[0mstep2\u001b[0m\u001b[1;33m(\u001b[0m\u001b[0mt1\u001b[0m\u001b[1;33m,\u001b[0m\u001b[0mt2\u001b[0m\u001b[1;33m)\u001b[0m \u001b[1;31m#step2\u001b[0m\u001b[1;33m\u001b[0m\u001b[1;33m\u001b[0m\u001b[0m\n\u001b[0;32m      4\u001b[0m     \u001b[1;31m#skip step3 because I do not use it\u001b[0m\u001b[1;33m\u001b[0m\u001b[1;33m\u001b[0m\u001b[1;33m\u001b[0m\u001b[0m\n\u001b[0;32m      5\u001b[0m     \u001b[1;31m#step 4.1\u001b[0m\u001b[1;33m\u001b[0m\u001b[1;33m\u001b[0m\u001b[1;33m\u001b[0m\u001b[0m\n",
      "\u001b[1;32m<ipython-input-21-1f7d7060b094>\u001b[0m in \u001b[0;36mstep1\u001b[1;34m(t1, t2)\u001b[0m\n\u001b[0;32m      3\u001b[0m     \u001b[0mroot\u001b[0m \u001b[1;33m=\u001b[0m \u001b[0mt1_nodes\u001b[0m\u001b[1;33m[\u001b[0m\u001b[1;36m0\u001b[0m\u001b[1;33m]\u001b[0m\u001b[1;33m\u001b[0m\u001b[1;33m\u001b[0m\u001b[0m\n\u001b[0;32m      4\u001b[0m     \u001b[0mt1\u001b[0m\u001b[1;33m.\u001b[0m\u001b[0mset_outgroup\u001b[0m\u001b[1;33m(\u001b[0m\u001b[0mroot\u001b[0m\u001b[1;33m)\u001b[0m\u001b[1;33m\u001b[0m\u001b[1;33m\u001b[0m\u001b[0m\n\u001b[1;32m----> 5\u001b[1;33m     \u001b[0mt2\u001b[0m\u001b[1;33m.\u001b[0m\u001b[0mset_outgroup\u001b[0m\u001b[1;33m(\u001b[0m\u001b[0mroot\u001b[0m\u001b[1;33m)\u001b[0m\u001b[1;33m\u001b[0m\u001b[1;33m\u001b[0m\u001b[0m\n\u001b[0m\u001b[0;32m      6\u001b[0m     \u001b[1;32mreturn\u001b[0m \u001b[0mt1\u001b[0m\u001b[1;33m,\u001b[0m\u001b[0mt2\u001b[0m\u001b[1;33m\u001b[0m\u001b[1;33m\u001b[0m\u001b[0m\n",
      "\u001b[1;32m~\\Anaconda3\\lib\\site-packages\\ete3-3.1.2-py3.7.egg\\ete3\\coretype\\tree.py\u001b[0m in \u001b[0;36mset_outgroup\u001b[1;34m(self, outgroup)\u001b[0m\n\u001b[0;32m   1251\u001b[0m         \"\"\"\n\u001b[0;32m   1252\u001b[0m \u001b[1;33m\u001b[0m\u001b[0m\n\u001b[1;32m-> 1253\u001b[1;33m         \u001b[0moutgroup\u001b[0m \u001b[1;33m=\u001b[0m \u001b[0m_translate_nodes\u001b[0m\u001b[1;33m(\u001b[0m\u001b[0mself\u001b[0m\u001b[1;33m,\u001b[0m \u001b[0moutgroup\u001b[0m\u001b[1;33m)\u001b[0m\u001b[1;33m\u001b[0m\u001b[1;33m\u001b[0m\u001b[0m\n\u001b[0m\u001b[0;32m   1254\u001b[0m \u001b[1;33m\u001b[0m\u001b[0m\n\u001b[0;32m   1255\u001b[0m         \u001b[1;32mif\u001b[0m \u001b[0mself\u001b[0m \u001b[1;33m==\u001b[0m \u001b[0moutgroup\u001b[0m\u001b[1;33m:\u001b[0m\u001b[1;33m\u001b[0m\u001b[1;33m\u001b[0m\u001b[0m\n",
      "\u001b[1;32m~\\Anaconda3\\lib\\site-packages\\ete3-3.1.2-py3.7.egg\\ete3\\coretype\\tree.py\u001b[0m in \u001b[0;36m_translate_nodes\u001b[1;34m(root, *nodes)\u001b[0m\n\u001b[0;32m   2599\u001b[0m     \u001b[1;32mif\u001b[0m \u001b[1;32mNone\u001b[0m \u001b[1;32min\u001b[0m \u001b[0mlist\u001b[0m\u001b[1;33m(\u001b[0m\u001b[0mname2node\u001b[0m\u001b[1;33m.\u001b[0m\u001b[0mvalues\u001b[0m\u001b[1;33m(\u001b[0m\u001b[1;33m)\u001b[0m\u001b[1;33m)\u001b[0m\u001b[1;33m:\u001b[0m\u001b[1;33m\u001b[0m\u001b[1;33m\u001b[0m\u001b[0m\n\u001b[0;32m   2600\u001b[0m         \u001b[0mnotfound\u001b[0m \u001b[1;33m=\u001b[0m \u001b[1;33m[\u001b[0m\u001b[0mkey\u001b[0m \u001b[1;32mfor\u001b[0m \u001b[0mkey\u001b[0m\u001b[1;33m,\u001b[0m \u001b[0mvalue\u001b[0m \u001b[1;32min\u001b[0m \u001b[0msix\u001b[0m\u001b[1;33m.\u001b[0m\u001b[0miteritems\u001b[0m\u001b[1;33m(\u001b[0m\u001b[0mname2node\u001b[0m\u001b[1;33m)\u001b[0m \u001b[1;32mif\u001b[0m \u001b[0mvalue\u001b[0m \u001b[1;32mis\u001b[0m \u001b[1;32mNone\u001b[0m\u001b[1;33m]\u001b[0m\u001b[1;33m\u001b[0m\u001b[1;33m\u001b[0m\u001b[0m\n\u001b[1;32m-> 2601\u001b[1;33m         \u001b[1;32mraise\u001b[0m \u001b[0mValueError\u001b[0m\u001b[1;33m(\u001b[0m\u001b[1;34m\"Node names not found: \"\u001b[0m\u001b[1;33m+\u001b[0m\u001b[0mstr\u001b[0m\u001b[1;33m(\u001b[0m\u001b[0mnotfound\u001b[0m\u001b[1;33m)\u001b[0m\u001b[1;33m)\u001b[0m\u001b[1;33m\u001b[0m\u001b[1;33m\u001b[0m\u001b[0m\n\u001b[0m\u001b[0;32m   2602\u001b[0m \u001b[1;33m\u001b[0m\u001b[0m\n\u001b[0;32m   2603\u001b[0m     \u001b[0mvalid_nodes\u001b[0m \u001b[1;33m=\u001b[0m \u001b[1;33m[\u001b[0m\u001b[1;33m]\u001b[0m\u001b[1;33m\u001b[0m\u001b[1;33m\u001b[0m\u001b[0m\n",
      "\u001b[1;31mValueError\u001b[0m: Node names not found: ['754_Q5FJ1']"
     ]
    }
   ],
   "source": [
    "t1 = Tree(r\"C:\\Users\\awila\\Downloads\\AiB_project5\\1689_FGGY_N_Qtree.newick\")\n",
    "t2 = Tree(r\"C:\\Users\\awila\\Downloads\\AiB_project5\\1689_FGGY_N_RNJ.newick\")\n",
    "RF_dist(t1,t2)"
   ]
  },
  {
   "cell_type": "code",
   "execution_count": 50,
   "metadata": {},
   "outputs": [
    {
     "data": {
      "text/plain": [
       "264"
      ]
     },
     "execution_count": 50,
     "metadata": {},
     "output_type": "execute_result"
    }
   ],
   "source": [
    "t1 = Tree(r\"C:\\Users\\awila\\Downloads\\Tree\\Tree\\rapidnj_kalign.newick\")\n",
    "t2 = Tree(r\"C:\\Users\\awila\\Downloads\\Tree\\Tree\\rapidnj_muscle.newick\")\n",
    "RF_dist(t1,t2)"
   ]
  },
  {
   "cell_type": "code",
   "execution_count": 51,
   "metadata": {},
   "outputs": [
    {
     "data": {
      "text/plain": [
       "772"
      ]
     },
     "execution_count": 51,
     "metadata": {},
     "output_type": "execute_result"
    }
   ],
   "source": [
    "t1 = Tree(r\"C:\\Users\\awila\\Downloads\\Tree\\Tree\\quicktree_permuted_kalign.newick\")\n",
    "t2 = Tree(r\"C:\\Users\\awila\\Downloads\\Tree\\Tree\\quicktree_permuted_clustal.newick\")\n",
    "RF_dist(t1,t2)"
   ]
  },
  {
   "cell_type": "code",
   "execution_count": 24,
   "metadata": {},
   "outputs": [
    {
     "data": {
      "text/plain": [
       "780"
      ]
     },
     "execution_count": 24,
     "metadata": {},
     "output_type": "execute_result"
    }
   ],
   "source": [
    "t1 = Tree(r\"C:\\Users\\awila\\Downloads\\Tree\\Tree\\quicktree_permuted_clustal.newick\")\n",
    "t2 = Tree(r\"C:\\Users\\awila\\Downloads\\Tree\\Tree\\quicktree_permuted_muscle.newick\")\n",
    "RF_dist(t1,t2)"
   ]
  },
  {
   "cell_type": "code",
   "execution_count": 25,
   "metadata": {},
   "outputs": [
    {
     "data": {
      "text/plain": [
       "770"
      ]
     },
     "execution_count": 25,
     "metadata": {},
     "output_type": "execute_result"
    }
   ],
   "source": [
    "t1 = Tree(r\"C:\\Users\\awila\\Downloads\\Tree\\Tree\\quicktree_permuted_muscle.newick\")\n",
    "t2 = Tree(r\"C:\\Users\\awila\\Downloads\\Tree\\Tree\\quicktree_permuted_clustal.newick\")\n",
    "RF_dist(t1,t2)"
   ]
  },
  {
   "cell_type": "code",
   "execution_count": null,
   "metadata": {},
   "outputs": [],
   "source": []
  }
 ],
 "metadata": {
  "kernelspec": {
   "display_name": "Python 3",
   "language": "python",
   "name": "python3"
  },
  "language_info": {
   "codemirror_mode": {
    "name": "ipython",
    "version": 3
   },
   "file_extension": ".py",
   "mimetype": "text/x-python",
   "name": "python",
   "nbconvert_exporter": "python",
   "pygments_lexer": "ipython3",
   "version": "3.7.4"
  }
 },
 "nbformat": 4,
 "nbformat_minor": 2
}
