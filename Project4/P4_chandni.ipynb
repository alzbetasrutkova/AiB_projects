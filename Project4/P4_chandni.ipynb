{
 "cells": [
  {
   "cell_type": "code",
   "execution_count": 3,
   "metadata": {
    "scrolled": true
   },
   "outputs": [
    {
     "name": "stdout",
     "output_type": "stream",
     "text": [
      "\n",
      "   /-aaaaaaaaaa\n",
      "--|\n",
      "  |   /-aaaaaaaaab\n",
      "   \\-|\n",
      "     |   /-aaaaaaaaac\n",
      "      \\-|\n",
      "        |   /-aaaaaaaaad\n",
      "         \\-|\n",
      "            \\-aaaaaaaaae\n",
      "\n",
      "   /-aaaaaaaaaa\n",
      "  |\n",
      "--|      /-aaaaaaaaab\n",
      "  |   /-|\n",
      "  |  |   \\-aaaaaaaaac\n",
      "   \\-|\n",
      "     |   /-aaaaaaaaad\n",
      "      \\-|\n",
      "         \\-aaaaaaaaae\n"
     ]
    }
   ],
   "source": [
    "from ete3 import Tree\n",
    "\n",
    "# generate 2 random trees\n",
    "t1 = Tree()\n",
    "t2 = Tree()\n",
    "t1.populate(5)\n",
    "t2.populate(5)\n",
    "# root both to the same tip name\n",
    "root = t1.get_leaf_names()[0]\n",
    "t1.set_outgroup(root)\n",
    "t2.set_outgroup(root)\n",
    "\n",
    "print (t1)\n",
    "print (t2)"
   ]
  },
  {
   "cell_type": "code",
   "execution_count": 1,
   "metadata": {},
   "outputs": [
    {
     "name": "stdout",
     "output_type": "stream",
     "text": [
      "\n",
      "   /-seq2\n",
      "  |\n",
      "  |      /-seq10\n",
      "--|   /-|\n",
      "  |  |   \\-seq7\n",
      "  |  |\n",
      "   \\-|   /-seq3\n",
      "     |  |\n",
      "     |  |         /-seq5\n",
      "     |  |      /-|\n",
      "      \\-|     |   \\-seq4\n",
      "        |   /-|\n",
      "        |  |  |   /-seq1\n",
      "        |  |   \\-|\n",
      "         \\-|     |   /-seq8\n",
      "           |      \\-|\n",
      "           |         \\-seq6\n",
      "           |\n",
      "            \\-seq9\n",
      "\n",
      "   /-seq2\n",
      "  |\n",
      "  |      /-seq8\n",
      "--|   /-|\n",
      "  |  |   \\-seq6\n",
      "  |  |\n",
      "   \\-|      /-seq5\n",
      "     |   /-|\n",
      "     |  |   \\-seq4\n",
      "      \\-|\n",
      "        |   /-seq9\n",
      "        |  |\n",
      "         \\-|      /-seq1\n",
      "           |   /-|\n",
      "           |  |  |   /-seq10\n",
      "            \\-|   \\-|\n",
      "              |      \\-seq7\n",
      "              |\n",
      "               \\-seq3\n"
     ]
    }
   ],
   "source": [
    "from ete3 import Tree\n",
    "\n",
    "t1 = Tree(r\"C:\\Users\\awila\\Downloads\\testdata\\Testdata\\tree1.new\")\n",
    "t2 = Tree(r\"C:\\Users\\awila\\Downloads\\testdata\\Testdata\\tree2.new\")\n",
    "\n",
    "\n",
    "# root both to the same tip name\n",
    "root = t1.get_leaf_names()[0]\n",
    "t1.set_outgroup(root)\n",
    "t2.set_outgroup(root)\n",
    "\n",
    "\n",
    "\n",
    "print (t1)\n",
    "print (t2)"
   ]
  },
  {
   "cell_type": "code",
   "execution_count": 2,
   "metadata": {},
   "outputs": [],
   "source": [
    "#Step 1: Rooting the two input trees at the same leaf\n",
    "\n",
    "def get_node_list(t):\n",
    "    node_list = []\n",
    "    for node in t : \n",
    "        node_list.append(node.name)\n",
    "    return node_list"
   ]
  },
  {
   "cell_type": "code",
   "execution_count": 4,
   "metadata": {},
   "outputs": [],
   "source": [
    "t1.set_outgroup(get_node_list(t1)[0])\n",
    "t2.set_outgroup(get_node_list(t1)[0])"
   ]
  },
  {
   "cell_type": "code",
   "execution_count": 6,
   "metadata": {},
   "outputs": [],
   "source": [
    "def step1(t1,t2):\n",
    "    t1_nodes = get_node_list(t1)\n",
    "    root = t1_nodes[0]\n",
    "    t1.set_outgroup(root)\n",
    "    t2.set_outgroup(root)\n",
    "    return t1,t2"
   ]
  },
  {
   "cell_type": "code",
   "execution_count": 7,
   "metadata": {},
   "outputs": [
    {
     "name": "stdout",
     "output_type": "stream",
     "text": [
      "\n",
      "   /-seq2\n",
      "  |\n",
      "  |      /-seq10\n",
      "--|   /-|\n",
      "  |  |   \\-seq7\n",
      "  |  |\n",
      "   \\-|   /-seq3\n",
      "     |  |\n",
      "     |  |         /-seq5\n",
      "     |  |      /-|\n",
      "      \\-|     |   \\-seq4\n",
      "        |   /-|\n",
      "        |  |  |   /-seq1\n",
      "        |  |   \\-|\n",
      "         \\-|     |   /-seq8\n",
      "           |      \\-|\n",
      "           |         \\-seq6\n",
      "           |\n",
      "            \\-seq9\n",
      "\n",
      "   /-seq2\n",
      "  |\n",
      "  |      /-seq8\n",
      "--|   /-|\n",
      "  |  |   \\-seq6\n",
      "  |  |\n",
      "   \\-|      /-seq5\n",
      "     |   /-|\n",
      "     |  |   \\-seq4\n",
      "      \\-|\n",
      "        |   /-seq9\n",
      "        |  |\n",
      "         \\-|      /-seq1\n",
      "           |   /-|\n",
      "           |  |  |   /-seq10\n",
      "            \\-|   \\-|\n",
      "              |      \\-seq7\n",
      "              |\n",
      "               \\-seq3\n"
     ]
    }
   ],
   "source": [
    "print(t1)\n",
    "print(t2)"
   ]
  },
  {
   "cell_type": "code",
   "execution_count": 8,
   "metadata": {},
   "outputs": [],
   "source": [
    "#Step 2: Make a Depth-First numbering of the leaves in T1\n",
    "def step2(t1,t2):\n",
    "    \"\"\"Assume that t1 and t2 are rooted on the same node\"\"\"\n",
    "    t1_depth_first_names = []\n",
    "    for node in t1.traverse(\"preorder\"):\n",
    "        if node.name != \"\":\n",
    "            t1_depth_first_names.append(node.name)\n",
    "    return (t1_depth_first_names)"
   ]
  },
  {
   "cell_type": "code",
   "execution_count": null,
   "metadata": {},
   "outputs": [],
   "source": []
  },
  {
   "cell_type": "code",
   "execution_count": 9,
   "metadata": {},
   "outputs": [
    {
     "data": {
      "text/plain": [
       "['seq2',\n",
       " 'seq10',\n",
       " 'seq7',\n",
       " 'seq3',\n",
       " 'seq5',\n",
       " 'seq4',\n",
       " 'seq1',\n",
       " 'seq8',\n",
       " 'seq6',\n",
       " 'seq9']"
      ]
     },
     "execution_count": 9,
     "metadata": {},
     "output_type": "execute_result"
    }
   ],
   "source": [
    "step2(t1,t2)"
   ]
  },
  {
   "cell_type": "code",
   "execution_count": 89,
   "metadata": {},
   "outputs": [],
   "source": [
    "def step21(t1,t2):\n",
    "    \"\"\"Assume that t1 and t2 are rooted on the same node\"\"\"\n",
    "    t2_depth_first_names = []\n",
    "    for node in t2.traverse(\"preorder\"):\n",
    "        if node.name != \"\":\n",
    "            t2_depth_first_names.append(node.name)\n",
    "    return (t2_depth_first_names)"
   ]
  },
  {
   "cell_type": "code",
   "execution_count": 90,
   "metadata": {},
   "outputs": [
    {
     "data": {
      "text/plain": [
       "['seq2',\n",
       " 'seq8',\n",
       " 'seq6',\n",
       " 'seq5',\n",
       " 'seq4',\n",
       " 'seq9',\n",
       " 'seq1',\n",
       " 'seq10',\n",
       " 'seq7',\n",
       " 'seq3']"
      ]
     },
     "execution_count": 90,
     "metadata": {},
     "output_type": "execute_result"
    }
   ],
   "source": [
    "step21(t1,t2)"
   ]
  },
  {
   "cell_type": "code",
   "execution_count": 10,
   "metadata": {},
   "outputs": [],
   "source": [
    "#Step 3:  Rename the leaves in T2 cf. the DF-numbering of leaves in T1\n",
    "\n",
    "def step3(t1,t2):\n",
    "    t1_ordering = step2(t1,t2)\n",
    "    t2_reordering = []\n",
    "    for node in t2.traverse(\"preorder\"):\n",
    "        if node.name != \"\":\n",
    "            t2_reordering.append(t1_ordering.index(node.name))\n",
    "    return t2_reordering"
   ]
  },
  {
   "cell_type": "code",
   "execution_count": 11,
   "metadata": {},
   "outputs": [
    {
     "data": {
      "text/plain": [
       "[0, 7, 8, 4, 5, 9, 6, 1, 2, 3]"
      ]
     },
     "execution_count": 11,
     "metadata": {},
     "output_type": "execute_result"
    }
   ],
   "source": [
    "step3(t1,t2)"
   ]
  },
  {
   "cell_type": "code",
   "execution_count": 12,
   "metadata": {},
   "outputs": [
    {
     "data": {
      "text/plain": [
       "['seq2',\n",
       " 'seq8',\n",
       " 'seq6',\n",
       " 'seq5',\n",
       " 'seq4',\n",
       " 'seq9',\n",
       " 'seq1',\n",
       " 'seq10',\n",
       " 'seq7',\n",
       " 'seq3']"
      ]
     },
     "execution_count": 12,
     "metadata": {},
     "output_type": "execute_result"
    }
   ],
   "source": [
    "depth_first_names = []\n",
    "for node in t2.traverse(\"preorder\"):\n",
    "  # Do some analysis on node\n",
    "    if node.name != \"\":\n",
    "        depth_first_names.append(node.name)\n",
    "depth_first_names"
   ]
  },
  {
   "cell_type": "code",
   "execution_count": null,
   "metadata": {},
   "outputs": [],
   "source": []
  },
  {
   "cell_type": "code",
   "execution_count": 81,
   "metadata": {},
   "outputs": [],
   "source": [
    "#Step 4: Annotate internal nodes\n",
    "\n",
    "t1_nodes_children = []\n",
    "for node in t1.traverse(\"preorder\"):\n",
    "    if node.name == \"\":\n",
    "        t1_nodes_children.append(node.get_leaf_names())"
   ]
  },
  {
   "cell_type": "code",
   "execution_count": 82,
   "metadata": {},
   "outputs": [
    {
     "data": {
      "text/plain": [
       "['[0,9]',\n",
       " '[1,9]',\n",
       " '[1,2]',\n",
       " '[3,9]',\n",
       " '[4,9]',\n",
       " '[4,8]',\n",
       " '[4,5]',\n",
       " '[6,8]',\n",
       " '[7,8]']"
      ]
     },
     "execution_count": 82,
     "metadata": {},
     "output_type": "execute_result"
    }
   ],
   "source": [
    "list_intervals = []\n",
    "for l in t1_nodes_children:\n",
    "    order_t1 = step2(t1,t2)\n",
    "    m = order_t1.index(l[0])\n",
    "    M = order_t1.index(l[0])\n",
    "    for i in range(len(l)):\n",
    "        if order_t1.index(l[i])<m:\n",
    "            m= order_t1.index(l[i])\n",
    "        if order_t1.index(l[i])>M : \n",
    "            M= order_t1.index(l[i])\n",
    "    list_intervals.append(\"[\"+str(m)+\",\"+str(M)+\"]\")\n",
    "list_intervals"
   ]
  },
  {
   "cell_type": "code",
   "execution_count": 93,
   "metadata": {},
   "outputs": [],
   "source": [
    "t2_nodes_children = []\n",
    "for node in t2.traverse(\"preorder\"):\n",
    "    if node.name == \"\":\n",
    "        t2_nodes_children.append(node.get_leaf_names())"
   ]
  },
  {
   "cell_type": "code",
   "execution_count": 94,
   "metadata": {},
   "outputs": [
    {
     "data": {
      "text/plain": [
       "['[0,9]',\n",
       " '[1,9]',\n",
       " '[1,2]',\n",
       " '[3,9]',\n",
       " '[3,4]',\n",
       " '[5,9]',\n",
       " '[6,9]',\n",
       " '[6,8]',\n",
       " '[7,8]']"
      ]
     },
     "execution_count": 94,
     "metadata": {},
     "output_type": "execute_result"
    }
   ],
   "source": [
    "list_intervals2 = []\n",
    "for l in t2_nodes_children:\n",
    "    order_t2 = step21(t1,t2)\n",
    "    m = order_t2.index(l[0])\n",
    "    M = order_t2.index(l[0])\n",
    "    for i in range(len(l)):\n",
    "        if order_t2.index(l[i])<m:\n",
    "            m= order_t1.index(l[i])\n",
    "        if order_t2.index(l[i])>M : \n",
    "            M= order_t2.index(l[i])\n",
    "    list_intervals2.append(\"[\"+str(m)+\",\"+str(M)+\"]\")\n",
    "list_intervals2"
   ]
  },
  {
   "cell_type": "code",
   "execution_count": 97,
   "metadata": {},
   "outputs": [
    {
     "ename": "SyntaxError",
     "evalue": "'return' outside function (<ipython-input-97-f0068ff7cd3a>, line 55)",
     "output_type": "error",
     "traceback": [
      "\u001b[1;36m  File \u001b[1;32m\"<ipython-input-97-f0068ff7cd3a>\"\u001b[1;36m, line \u001b[1;32m55\u001b[0m\n\u001b[1;33m    return(2*len(l1)+2*len(l2)-2*share)\u001b[0m\n\u001b[1;37m    ^\u001b[0m\n\u001b[1;31mSyntaxError\u001b[0m\u001b[1;31m:\u001b[0m 'return' outside function\n"
     ]
    }
   ],
   "source": [
    "def RF_dist(t1,t2):\n",
    "    step1(t1,t2)\n",
    "    order_t1 = step2(t1,t2) #step2\n",
    "    order_t2 = step21(t1,t2)\n",
    "    \n",
    "    #skip step3 because I do not use it\n",
    "    #step 4.1\n",
    "    t1_nodes_children = []\n",
    "    for node in t1.traverse(\"preorder\"):\n",
    "        if node.name == \"\":\n",
    "            t1_nodes_children.append(node.get_leaf_names())\n",
    "    list_intervals = []\n",
    "    for l in t1_nodes_children:\n",
    "        m = order_t1.index(l[0])\n",
    "        M = order_t1.index(l[0])\n",
    "        for i in range(len(l)):\n",
    "            if order_t1.index(l[i])<m:\n",
    "                m= order_t1.index(l[i])\n",
    "            if order_t1.index(l[i])>M : \n",
    "                M= order_t1.index(l[i])\n",
    "        list_intervals.append(\"[\"+str(m)+\",\"+str(M)+\"]\")\n",
    "    \n",
    "    # Step 4.2 \n",
    "    t2_nodes_children = []\n",
    "    for node in t2.traverse(\"preorder\"):\n",
    "        if node.name == \"\":\n",
    "            t2_nodes_children.append(node.get_leaf_names())\n",
    "    list_intervals2 = []\n",
    "    for l in t2_nodes_children:\n",
    "        order_t2 = step21(t1,t2)\n",
    "        m = order_t2.index(l[0])\n",
    "        M = order_t2.index(l[0])\n",
    "        for i in range(len(l)):\n",
    "            if order_t2.index(l[i])<m:\n",
    "                m= order_t1.index(l[i])\n",
    "            if order_t2.index(l[i])>M : \n",
    "                M= order_t2.index(l[i])\n",
    "        if M-m+1 == len(l):\n",
    "            list_intervals2.append(\"[\"+str(m)+\",\"+str(M)+\"]\")\n",
    "        \n",
    "    \n",
    "\n",
    "    # Step 5 \n",
    "    l1 = sorted(list_intervals)\n",
    "    l2 = sorted(list_intervals2)\n",
    "    i=0\n",
    "    j=0\n",
    "    share = 0\n",
    "    while i<len(l1) and j<len(l2):\n",
    "        if l1[i]==l2[j]:\n",
    "            share+=1\n",
    "            i+=1\n",
    "            j+=1\n",
    "        else : \n",
    "            i+=1\n",
    "    return(2*len(l1)+2*len(l2)-2*share)"
   ]
  },
  {
   "cell_type": "code",
   "execution_count": 80,
   "metadata": {},
   "outputs": [
    {
     "data": {
      "text/plain": [
       "8"
      ]
     },
     "execution_count": 80,
     "metadata": {},
     "output_type": "execute_result"
    }
   ],
   "source": [
    "t1 = Tree(r\"C:\\Users\\awila\\Downloads\\testdata\\Testdata\\tree1.new\")\n",
    "t2 = Tree(r\"C:\\Users\\awila\\Downloads\\testdata\\Testdata\\tree2.new\")\n",
    "RF_dist(t1,t2)"
   ]
  },
  {
   "cell_type": "code",
   "execution_count": 63,
   "metadata": {},
   "outputs": [
    {
     "data": {
      "text/plain": [
       "8"
      ]
     },
     "execution_count": 63,
     "metadata": {},
     "output_type": "execute_result"
    }
   ],
   "source": [
    "t1 = Tree(r\"C:\\Users\\awila\\Downloads\\testdata\\Testdata\\tree2.new\")\n",
    "t2 = Tree(r\"C:\\Users\\awila\\Downloads\\testdata\\Testdata\\tree1.new\")\n",
    "RF_dist(t1,t2)"
   ]
  },
  {
   "cell_type": "code",
   "execution_count": 74,
   "metadata": {},
   "outputs": [
    {
     "data": {
      "text/plain": [
       "754"
      ]
     },
     "execution_count": 74,
     "metadata": {},
     "output_type": "execute_result"
    }
   ],
   "source": [
    "t1 = Tree(r\"C:\\Users\\awila\\Downloads\\Tree\\Tree\\quicktree_clustal.newick\")\n",
    "t2 = Tree(r\"C:\\Users\\awila\\Downloads\\Tree\\Tree\\quicktree_kalign.newick\")\n",
    "RF_dist(t1,t2)"
   ]
  },
  {
   "cell_type": "code",
   "execution_count": 75,
   "metadata": {},
   "outputs": [
    {
     "data": {
      "text/plain": [
       "776"
      ]
     },
     "execution_count": 75,
     "metadata": {},
     "output_type": "execute_result"
    }
   ],
   "source": [
    "t1 = Tree(r\"C:\\Users\\awila\\Downloads\\Tree\\Tree\\quicktree_kalign.newick\")\n",
    "t2 = Tree(r\"C:\\Users\\awila\\Downloads\\Tree\\Tree\\quicktree_clustal.newick\")\n",
    "RF_dist(t1,t2)"
   ]
  },
  {
   "cell_type": "code",
   "execution_count": 51,
   "metadata": {},
   "outputs": [
    {
     "data": {
      "text/plain": [
       "772"
      ]
     },
     "execution_count": 51,
     "metadata": {},
     "output_type": "execute_result"
    }
   ],
   "source": [
    "t1 = Tree(r\"C:\\Users\\awila\\Downloads\\Tree\\Tree\\quicktree_permuted_kalign.newick\")\n",
    "t2 = Tree(r\"C:\\Users\\awila\\Downloads\\Tree\\Tree\\quicktree_permuted_clustal.newick\")\n",
    "RF_dist(t1,t2)"
   ]
  },
  {
   "cell_type": "code",
   "execution_count": 24,
   "metadata": {},
   "outputs": [
    {
     "data": {
      "text/plain": [
       "780"
      ]
     },
     "execution_count": 24,
     "metadata": {},
     "output_type": "execute_result"
    }
   ],
   "source": [
    "t1 = Tree(r\"C:\\Users\\awila\\Downloads\\Tree\\Tree\\quicktree_permuted_clustal.newick\")\n",
    "t2 = Tree(r\"C:\\Users\\awila\\Downloads\\Tree\\Tree\\quicktree_permuted_muscle.newick\")\n",
    "RF_dist(t1,t2)"
   ]
  },
  {
   "cell_type": "code",
   "execution_count": 25,
   "metadata": {},
   "outputs": [
    {
     "data": {
      "text/plain": [
       "770"
      ]
     },
     "execution_count": 25,
     "metadata": {},
     "output_type": "execute_result"
    }
   ],
   "source": [
    "t1 = Tree(r\"C:\\Users\\awila\\Downloads\\Tree\\Tree\\quicktree_permuted_muscle.newick\")\n",
    "t2 = Tree(r\"C:\\Users\\awila\\Downloads\\Tree\\Tree\\quicktree_permuted_clustal.newick\")\n",
    "RF_dist(t1,t2)"
   ]
  },
  {
   "cell_type": "code",
   "execution_count": null,
   "metadata": {},
   "outputs": [],
   "source": []
  }
 ],
 "metadata": {
  "kernelspec": {
   "display_name": "Python 3",
   "language": "python",
   "name": "python3"
  },
  "language_info": {
   "codemirror_mode": {
    "name": "ipython",
    "version": 3
   },
   "file_extension": ".py",
   "mimetype": "text/x-python",
   "name": "python",
   "nbconvert_exporter": "python",
   "pygments_lexer": "ipython3",
   "version": "3.7.4"
  }
 },
 "nbformat": 4,
 "nbformat_minor": 2
}
