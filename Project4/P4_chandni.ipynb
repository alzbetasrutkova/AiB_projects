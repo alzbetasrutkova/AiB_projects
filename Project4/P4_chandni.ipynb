{
 "cells": [
  {
   "cell_type": "code",
   "execution_count": 14,
   "metadata": {
    "scrolled": true
   },
   "outputs": [
    {
     "name": "stdout",
     "output_type": "stream",
     "text": [
      "\n",
      "   /-aaaaaaaaad\n",
      "--|\n",
      "  |   /-aaaaaaaaae\n",
      "   \\-|\n",
      "     |   /-aaaaaaaaaa\n",
      "      \\-|\n",
      "        |   /-aaaaaaaaab\n",
      "         \\-|\n",
      "            \\-aaaaaaaaac\n",
      "\n",
      "   /-aaaaaaaaad\n",
      "--|\n",
      "  |   /-aaaaaaaaae\n",
      "   \\-|\n",
      "     |   /-aaaaaaaaac\n",
      "      \\-|\n",
      "        |   /-aaaaaaaaaa\n",
      "         \\-|\n",
      "            \\-aaaaaaaaab\n"
     ]
    }
   ],
   "source": [
    "from ete3 import Tree\n",
    "\n",
    "# generate 2 random trees\n",
    "t1 = Tree()\n",
    "t2 = Tree()\n",
    "t1.populate(5)\n",
    "t2.populate(5)\n",
    "# root both to the same tip name\n",
    "root = t1.get_leaf_names()[0]\n",
    "t1.set_outgroup(root)\n",
    "t2.set_outgroup(root)\n",
    "\n",
    "print (t1)\n",
    "print (t2)"
   ]
  },
  {
   "cell_type": "code",
   "execution_count": 16,
   "metadata": {},
   "outputs": [
    {
     "name": "stdout",
     "output_type": "stream",
     "text": [
      "\n",
      "   /-seq2\n",
      "  |\n",
      "  |      /-seq10\n",
      "--|   /-|\n",
      "  |  |   \\-seq7\n",
      "  |  |\n",
      "   \\-|   /-seq3\n",
      "     |  |\n",
      "     |  |         /-seq5\n",
      "     |  |      /-|\n",
      "      \\-|     |   \\-seq4\n",
      "        |   /-|\n",
      "        |  |  |   /-seq1\n",
      "        |  |   \\-|\n",
      "         \\-|     |   /-seq8\n",
      "           |      \\-|\n",
      "           |         \\-seq6\n",
      "           |\n",
      "            \\-seq9\n",
      "\n",
      "   /-seq2\n",
      "  |\n",
      "  |      /-seq8\n",
      "--|   /-|\n",
      "  |  |   \\-seq6\n",
      "  |  |\n",
      "   \\-|      /-seq5\n",
      "     |   /-|\n",
      "     |  |   \\-seq4\n",
      "      \\-|\n",
      "        |   /-seq9\n",
      "        |  |\n",
      "         \\-|      /-seq1\n",
      "           |   /-|\n",
      "           |  |  |   /-seq10\n",
      "            \\-|   \\-|\n",
      "              |      \\-seq7\n",
      "              |\n",
      "               \\-seq3\n"
     ]
    }
   ],
   "source": [
    "from ete3 import Tree\n",
    "\n",
    "t1 = Tree(r\"C:\\Users\\awila\\Downloads\\testdata\\Testdata\\tree1.new\")\n",
    "t2 = Tree(r\"C:\\Users\\awila\\Downloads\\testdata\\Testdata\\tree2.new\")\n",
    "\n",
    "\n",
    "# root both to the same tip name\n",
    "root = t1.get_leaf_names()[0]\n",
    "t1.set_outgroup(root)\n",
    "t2.set_outgroup(root)\n",
    "\n",
    "\n",
    "\n",
    "print (t1)\n",
    "print (t2)"
   ]
  },
  {
   "cell_type": "code",
   "execution_count": 17,
   "metadata": {},
   "outputs": [
    {
     "data": {
      "text/plain": [
       "[Tree node '' (-0x7fffffe3de35ba4c),\n",
       " Tree node 'seq2' (-0x7fffffe3de362370),\n",
       " Tree node '' (-0x7fffffe3de362390),\n",
       " Tree node '' (-0x7fffffe3de36235c),\n",
       " Tree node '' (-0x7fffffe3de3623b8),\n",
       " Tree node 'seq10' (-0x7fffffe3de362364),\n",
       " Tree node 'seq7' (-0x7fffffe3de362344),\n",
       " Tree node 'seq3' (-0x7fffffe3de362354),\n",
       " Tree node '' (-0x7fffffe3de36237c),\n",
       " Tree node '' (-0x7fffffe3de362350),\n",
       " Tree node 'seq9' (-0x7fffffe3de36230c),\n",
       " Tree node '' (-0x7fffffe3de36233c),\n",
       " Tree node '' (-0x7fffffe3de362334),\n",
       " Tree node 'seq5' (-0x7fffffe3de362358),\n",
       " Tree node 'seq4' (-0x7fffffe3de362324),\n",
       " Tree node 'seq1' (-0x7fffffe3de36232c),\n",
       " Tree node '' (-0x7fffffe3de362338),\n",
       " Tree node 'seq8' (-0x7fffffe3de36231c),\n",
       " Tree node 'seq6' (-0x7fffffe3de361ff8)]"
      ]
     },
     "execution_count": 17,
     "metadata": {},
     "output_type": "execute_result"
    }
   ],
   "source": [
    "t1.search_nodes()"
   ]
  },
  {
   "cell_type": "code",
   "execution_count": 18,
   "metadata": {},
   "outputs": [
    {
     "data": {
      "text/plain": [
       "[Tree node '' (-0x7fffffe3de3623f8),\n",
       " Tree node 'seq2' (-0x7fffffe3de361fb8),\n",
       " Tree node '' (-0x7fffffe3de361fc0),\n",
       " Tree node '' (-0x7fffffe3de361fc4),\n",
       " Tree node '' (-0x7fffffe3de361fec),\n",
       " Tree node 'seq8' (-0x7fffffe3de361fa8),\n",
       " Tree node 'seq6' (-0x7fffffe3de361f88),\n",
       " Tree node '' (-0x7fffffe3de361fc8),\n",
       " Tree node '' (-0x7fffffe3de361fe4),\n",
       " Tree node 'seq5' (-0x7fffffe3de361fe8),\n",
       " Tree node 'seq4' (-0x7fffffe3de361fb0),\n",
       " Tree node 'seq9' (-0x7fffffe3de361f98),\n",
       " Tree node '' (-0x7fffffe3de362318),\n",
       " Tree node '' (-0x7fffffe3de3623c8),\n",
       " Tree node 'seq3' (-0x7fffffe3de361fdc),\n",
       " Tree node 'seq1' (-0x7fffffe3de361ff0),\n",
       " Tree node '' (-0x7fffffe3de362304),\n",
       " Tree node 'seq10' (-0x7fffffe3de362314),\n",
       " Tree node 'seq7' (-0x7fffffe3de361fd0)]"
      ]
     },
     "execution_count": 18,
     "metadata": {},
     "output_type": "execute_result"
    }
   ],
   "source": [
    "t2.search_nodes()"
   ]
  },
  {
   "cell_type": "code",
   "execution_count": 27,
   "metadata": {},
   "outputs": [
    {
     "data": {
      "text/plain": [
       "['seq2',\n",
       " 'seq10',\n",
       " 'seq7',\n",
       " 'seq3',\n",
       " 'seq5',\n",
       " 'seq4',\n",
       " 'seq1',\n",
       " 'seq8',\n",
       " 'seq6',\n",
       " 'seq9']"
      ]
     },
     "execution_count": 27,
     "metadata": {},
     "output_type": "execute_result"
    }
   ],
   "source": [
    "depth_first_names = []\n",
    "for node in t1.traverse(\"preorder\"):\n",
    "  # Do some analysis on node\n",
    "    if node.name != \"\":\n",
    "        depth_first_names.append(node.name)\n",
    "depth_first_names"
   ]
  },
  {
   "cell_type": "code",
   "execution_count": null,
   "metadata": {},
   "outputs": [],
   "source": [
    "ORIG = []\n",
    "for i in range(1,depth_first_names):\n",
    "    ORIG[DF[i]] = i"
   ]
  }
 ],
 "metadata": {
  "kernelspec": {
   "display_name": "Python 3",
   "language": "python",
   "name": "python3"
  },
  "language_info": {
   "codemirror_mode": {
    "name": "ipython",
    "version": 3
   },
   "file_extension": ".py",
   "mimetype": "text/x-python",
   "name": "python",
   "nbconvert_exporter": "python",
   "pygments_lexer": "ipython3",
   "version": "3.7.4"
  }
 },
 "nbformat": 4,
 "nbformat_minor": 2
}
