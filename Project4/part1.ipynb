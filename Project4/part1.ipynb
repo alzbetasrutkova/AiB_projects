{
 "cells": [
  {
   "cell_type": "code",
   "execution_count": 2,
   "metadata": {},
   "outputs": [],
   "source": [
    "from Bio import Phylo\n",
    "\n",
    "tree1 = Phylo.read(\"/Users/chandnishaw/Desktop/AiB/Ptoject4_tree/Testdata/tree1.new\", \"newick\")"
   ]
  },
  {
   "cell_type": "code",
   "execution_count": 3,
   "metadata": {},
   "outputs": [
    {
     "name": "stdout",
     "output_type": "stream",
     "text": [
      "   ___________________________________ seq2\n",
      " ,|\n",
      " ||     ___________________________ seq10\n",
      " ||____|\n",
      " |     |_____________________________ seq7\n",
      " |\n",
      " |_______________________________________ seq3\n",
      "_|\n",
      " |          ___________________________________________________________ seq5\n",
      " |     ____|\n",
      " |    |    |________________________________________________ seq4\n",
      " | ___|\n",
      " ||   |    ______________________________________ seq1\n",
      " ||   |___|\n",
      " ||       |            ________________________ seq8\n",
      "  |       |___________|\n",
      "  |                   |_______________________ seq6\n",
      "  |\n",
      "  |__________________________________ seq9\n",
      "\n"
     ]
    }
   ],
   "source": [
    "Phylo.draw_ascii(tree1)"
   ]
  },
  {
   "cell_type": "code",
   "execution_count": 4,
   "metadata": {},
   "outputs": [],
   "source": [
    "from Bio import Phylo\n",
    "\n",
    "tree2 = Phylo.read(\"/Users/chandnishaw/Desktop/AiB/Ptoject4_tree/Testdata/tree2.new\", \"newick\")"
   ]
  },
  {
   "cell_type": "code",
   "execution_count": 5,
   "metadata": {},
   "outputs": [
    {
     "name": "stdout",
     "output_type": "stream",
     "text": [
      "   ___________________________________ seq1\n",
      " ,|\n",
      " ||     ___________________________ seq10\n",
      " ||____|\n",
      " |     |_____________________________ seq7\n",
      " |\n",
      " |_______________________________________ seq3\n",
      "_|\n",
      " |          ___________________________________________________________ seq5\n",
      " |     ____|\n",
      " |    |    |________________________________________________ seq4\n",
      " | ___|\n",
      " ||   |    ______________________________________ seq2\n",
      " ||   |___|\n",
      " ||       |            ________________________ seq8\n",
      "  |       |___________|\n",
      "  |                   |_______________________ seq6\n",
      "  |\n",
      "  |__________________________________ seq9\n",
      "\n"
     ]
    }
   ],
   "source": [
    "Phylo.draw_ascii(tree2)"
   ]
  },
  {
   "cell_type": "code",
   "execution_count": 8,
   "metadata": {},
   "outputs": [
    {
     "ename": "ModuleNotFoundError",
     "evalue": "No module named 'ete3'",
     "output_type": "error",
     "traceback": [
      "\u001b[0;31m---------------------------------------------------------------------------\u001b[0m",
      "\u001b[0;31mModuleNotFoundError\u001b[0m                       Traceback (most recent call last)",
      "\u001b[0;32m<ipython-input-8-0bb6178a1279>\u001b[0m in \u001b[0;36m<module>\u001b[0;34m\u001b[0m\n\u001b[1;32m      1\u001b[0m \u001b[0;32mfrom\u001b[0m \u001b[0mBio\u001b[0m \u001b[0;32mimport\u001b[0m \u001b[0mPhylo\u001b[0m\u001b[0;34m\u001b[0m\u001b[0;34m\u001b[0m\u001b[0m\n\u001b[0;32m----> 2\u001b[0;31m \u001b[0;32mfrom\u001b[0m \u001b[0mete3\u001b[0m \u001b[0;32mimport\u001b[0m \u001b[0mTree\u001b[0m\u001b[0;34m\u001b[0m\u001b[0;34m\u001b[0m\u001b[0m\n\u001b[0m\u001b[1;32m      3\u001b[0m \u001b[0mt1\u001b[0m \u001b[0;34m=\u001b[0m \u001b[0mPhylo\u001b[0m\u001b[0;34m.\u001b[0m\u001b[0mread\u001b[0m\u001b[0;34m(\u001b[0m\u001b[0;34m\"/Users/chandnishaw/Desktop/AiB/Ptoject4_tree/Testdata/tree1.new\"\u001b[0m\u001b[0;34m,\u001b[0m \u001b[0;34m\"newick\"\u001b[0m\u001b[0;34m)\u001b[0m\u001b[0;34m\u001b[0m\u001b[0;34m\u001b[0m\u001b[0m\n\u001b[1;32m      4\u001b[0m \u001b[0mt2\u001b[0m \u001b[0;34m=\u001b[0m \u001b[0mPhylo\u001b[0m\u001b[0;34m.\u001b[0m\u001b[0mread\u001b[0m\u001b[0;34m(\u001b[0m\u001b[0;34m\"/Users/chandnishaw/Desktop/AiB/Ptoject4_tree/Testdata/tree2.new\"\u001b[0m\u001b[0;34m,\u001b[0m \u001b[0;34m\"newick\"\u001b[0m\u001b[0;34m)\u001b[0m\u001b[0;34m\u001b[0m\u001b[0;34m\u001b[0m\u001b[0m\n\u001b[1;32m      5\u001b[0m \u001b[0mrf\u001b[0m\u001b[0;34m,\u001b[0m \u001b[0mmax_rf\u001b[0m\u001b[0;34m,\u001b[0m \u001b[0mcommon_leaves\u001b[0m\u001b[0;34m,\u001b[0m \u001b[0mparts_t1\u001b[0m\u001b[0;34m,\u001b[0m \u001b[0mparts_t2\u001b[0m \u001b[0;34m=\u001b[0m \u001b[0mt1\u001b[0m\u001b[0;34m.\u001b[0m\u001b[0mrobinson_foulds\u001b[0m\u001b[0;34m(\u001b[0m\u001b[0mt2\u001b[0m\u001b[0;34m)\u001b[0m\u001b[0;34m\u001b[0m\u001b[0;34m\u001b[0m\u001b[0m\n",
      "\u001b[0;31mModuleNotFoundError\u001b[0m: No module named 'ete3'"
     ]
    }
   ],
   "source": [
    "from Bio import Phylo\n",
    "from ete3 import Tree\n",
    "t1 = Phylo.read(\"/Users/chandnishaw/Desktop/AiB/Ptoject4_tree/Testdata/tree1.new\", \"newick\")\n",
    "t2 = Phylo.read(\"/Users/chandnishaw/Desktop/AiB/Ptoject4_tree/Testdata/tree2.new\", \"newick\")\n",
    "rf, max_rf, common_leaves, parts_t1, parts_t2 = t1.robinson_foulds(t2)\n",
    "print (t1, t2)\n",
    "print (\"RF distance is %s over a total of %s\" %(rf, max_rf))\n",
    "print (\"Partitions in tree2 that were not found in tree1:\", parts_t1 - parts_t2)\n",
    "print (\"Partitions in tree1 that were not found in tree2:\", parts_t2 - parts_t1)\n",
    "\n"
   ]
  },
  {
   "cell_type": "code",
   "execution_count": null,
   "metadata": {},
   "outputs": [],
   "source": [
    "# We can also compare trees sharing only part of their labels\n",
    "\n",
    "t1 = Tree('(((a,b),c), ((e, f), g));')\n",
    "t2 = Tree('(((a,c),b), (g, H));')\n",
    "rf, max_rf, common_leaves, parts_t1, parts_t2 = t1.robinson_foulds(t2)\n",
    "\n",
    "print (t1, t2)\n",
    "print \"Same distance holds even for partially overlapping trees\"\n",
    "print \"RF distance is %s over a total of %s\" %(rf, max_rf)\n",
    "print \"Partitions in tree2 that were not found in tree1:\", parts_t1 - parts_t2\n",
    "print \"Partitions in tree1 that were not found in tree2:\", parts_t2 - parts_t1"
   ]
  }
 ],
 "metadata": {
  "kernelspec": {
   "display_name": "Python 3",
   "language": "python",
   "name": "python3"
  },
  "language_info": {
   "codemirror_mode": {
    "name": "ipython",
    "version": 3
   },
   "file_extension": ".py",
   "mimetype": "text/x-python",
   "name": "python",
   "nbconvert_exporter": "python",
   "pygments_lexer": "ipython3",
   "version": "3.7.4"
  }
 },
 "nbformat": 4,
 "nbformat_minor": 2
}
