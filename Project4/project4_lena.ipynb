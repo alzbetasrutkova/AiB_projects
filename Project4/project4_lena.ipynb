{
 "cells": [
  {
   "cell_type": "code",
   "execution_count": 1,
   "metadata": {},
   "outputs": [
    {
     "name": "stderr",
     "output_type": "stream",
     "text": [
      "C:\\Users\\lenab\\Anaconda3\\lib\\site-packages\\ete3-3.1.2-py3.7.egg\\ete3\\evol\\parser\\codemlparser.py:221: SyntaxWarning: \"is\" with a literal. Did you mean \"==\"?\n",
      "C:\\Users\\lenab\\Anaconda3\\lib\\site-packages\\ete3-3.1.2-py3.7.egg\\ete3\\evol\\parser\\codemlparser.py:221: SyntaxWarning: \"is\" with a literal. Did you mean \"==\"?\n"
     ]
    }
   ],
   "source": [
    "from ete3 import Tree\n"
   ]
  },
  {
   "cell_type": "code",
   "execution_count": 30,
   "metadata": {},
   "outputs": [],
   "source": [
    "t1 = Tree(\"C:/Users/lenab/Documents/AU/Algorithms_in_bioinformatics/Brouillons_projets/Project4/Testdata/tree1.new\")\n",
    "t2 = Tree(\"C:/Users/lenab/Documents/AU/Algorithms_in_bioinformatics/Brouillons_projets/Project4/Testdata/tree2.new\")"
   ]
  },
  {
   "cell_type": "code",
   "execution_count": 15,
   "metadata": {},
   "outputs": [
    {
     "name": "stdout",
     "output_type": "stream",
     "text": [
      "\n",
      "      /-seq2\n",
      "   /-|\n",
      "  |  |   /-seq10\n",
      "  |   \\-|\n",
      "  |      \\-seq7\n",
      "  |\n",
      "  |--seq3\n",
      "--|\n",
      "  |         /-seq5\n",
      "  |      /-|\n",
      "  |     |   \\-seq4\n",
      "  |   /-|\n",
      "  |  |  |   /-seq1\n",
      "  |  |   \\-|\n",
      "   \\-|     |   /-seq8\n",
      "     |      \\-|\n",
      "     |         \\-seq6\n",
      "     |\n",
      "      \\-seq9\n"
     ]
    }
   ],
   "source": [
    "print (t1)"
   ]
  },
  {
   "cell_type": "markdown",
   "metadata": {},
   "source": [
    "## Step 1"
   ]
  },
  {
   "cell_type": "code",
   "execution_count": 13,
   "metadata": {},
   "outputs": [
    {
     "data": {
      "text/plain": [
       "Tree node ''2c_gi|114373|sp|P18907.1|AT1A1_HORSE'' (0x175a3ce916)"
      ]
     },
     "execution_count": 13,
     "metadata": {},
     "output_type": "execute_result"
    }
   ],
   "source": [
    "node = t1.search_nodes()[2]\n",
    "node"
   ]
  },
  {
   "cell_type": "code",
   "execution_count": 20,
   "metadata": {},
   "outputs": [
    {
     "name": "stdout",
     "output_type": "stream",
     "text": [
      "seq2\n",
      "seq10\n",
      "seq7\n",
      "seq3\n",
      "seq5\n",
      "seq4\n",
      "seq1\n",
      "seq8\n",
      "seq6\n",
      "seq9\n"
     ]
    }
   ],
   "source": [
    "for node in t1 : \n",
    "    print(node.name)"
   ]
  },
  {
   "cell_type": "code",
   "execution_count": 23,
   "metadata": {},
   "outputs": [],
   "source": [
    "def get_node_list(t):\n",
    "    node_list = []\n",
    "    for node in t : \n",
    "        node_list.append(node.name)\n",
    "    return node_list"
   ]
  },
  {
   "cell_type": "code",
   "execution_count": 24,
   "metadata": {},
   "outputs": [
    {
     "data": {
      "text/plain": [
       "['seq2',\n",
       " 'seq10',\n",
       " 'seq7',\n",
       " 'seq3',\n",
       " 'seq5',\n",
       " 'seq4',\n",
       " 'seq1',\n",
       " 'seq8',\n",
       " 'seq6',\n",
       " 'seq9']"
      ]
     },
     "execution_count": 24,
     "metadata": {},
     "output_type": "execute_result"
    }
   ],
   "source": [
    "get_node_list(t1)"
   ]
  },
  {
   "cell_type": "code",
   "execution_count": 31,
   "metadata": {},
   "outputs": [],
   "source": [
    "t1.set_outgroup(get_node_list(t1)[0])\n",
    "t2.set_outgroup(get_node_list(t1)[0])"
   ]
  },
  {
   "cell_type": "code",
   "execution_count": 32,
   "metadata": {},
   "outputs": [
    {
     "name": "stdout",
     "output_type": "stream",
     "text": [
      "\n",
      "   /-seq2\n",
      "  |\n",
      "  |      /-seq10\n",
      "--|   /-|\n",
      "  |  |   \\-seq7\n",
      "  |  |\n",
      "   \\-|   /-seq3\n",
      "     |  |\n",
      "     |  |         /-seq5\n",
      "     |  |      /-|\n",
      "      \\-|     |   \\-seq4\n",
      "        |   /-|\n",
      "        |  |  |   /-seq1\n",
      "        |  |   \\-|\n",
      "         \\-|     |   /-seq8\n",
      "           |      \\-|\n",
      "           |         \\-seq6\n",
      "           |\n",
      "            \\-seq9\n"
     ]
    }
   ],
   "source": [
    "print(t1)"
   ]
  },
  {
   "cell_type": "code",
   "execution_count": 44,
   "metadata": {},
   "outputs": [],
   "source": [
    "def step1(t1,t2):\n",
    "    t1_nodes = get_node_list(t1)\n",
    "    root = t1_nodes[0]\n",
    "    t1.set_outgroup(root)\n",
    "    t2.set_outgroup(root)\n",
    "    return t1,t2"
   ]
  },
  {
   "cell_type": "code",
   "execution_count": 45,
   "metadata": {},
   "outputs": [
    {
     "data": {
      "text/plain": [
       "(Tree node '' (0x175a4b84cd), Tree node '' (0x175a4b8410))"
      ]
     },
     "execution_count": 45,
     "metadata": {},
     "output_type": "execute_result"
    }
   ],
   "source": [
    "step1(t1,t2)"
   ]
  },
  {
   "cell_type": "code",
   "execution_count": 47,
   "metadata": {},
   "outputs": [
    {
     "name": "stdout",
     "output_type": "stream",
     "text": [
      "\n",
      "   /-seq2\n",
      "  |\n",
      "  |      /-seq8\n",
      "--|   /-|\n",
      "  |  |   \\-seq6\n",
      "  |  |\n",
      "   \\-|      /-seq5\n",
      "     |   /-|\n",
      "     |  |   \\-seq4\n",
      "      \\-|\n",
      "        |   /-seq9\n",
      "        |  |\n",
      "         \\-|      /-seq1\n",
      "           |   /-|\n",
      "           |  |  |   /-seq10\n",
      "            \\-|   \\-|\n",
      "              |      \\-seq7\n",
      "              |\n",
      "               \\-seq3\n"
     ]
    }
   ],
   "source": [
    "print (t2)"
   ]
  },
  {
   "cell_type": "markdown",
   "metadata": {},
   "source": [
    "## Step 2"
   ]
  },
  {
   "cell_type": "code",
   "execution_count": 37,
   "metadata": {},
   "outputs": [
    {
     "data": {
      "text/plain": [
       "['seq2',\n",
       " 'seq10',\n",
       " 'seq7',\n",
       " 'seq3',\n",
       " 'seq5',\n",
       " 'seq4',\n",
       " 'seq1',\n",
       " 'seq8',\n",
       " 'seq6',\n",
       " 'seq9']"
      ]
     },
     "execution_count": 37,
     "metadata": {},
     "output_type": "execute_result"
    }
   ],
   "source": [
    "depth_first_names = []\n",
    "for node in t1.traverse(\"preorder\"):\n",
    "  # Do some analysis on node\n",
    "    if node.name != \"\":\n",
    "        depth_first_names.append(node.name)\n",
    "depth_first_names"
   ]
  },
  {
   "cell_type": "code",
   "execution_count": 49,
   "metadata": {},
   "outputs": [],
   "source": [
    "def step2(t1,t2):\n",
    "    \"\"\"Assume that t1 and t2 are rooted on the same node\"\"\"\n",
    "    t1_depth_first_names = []\n",
    "    for node in t1.traverse(\"preorder\"):\n",
    "        if node.name != \"\":\n",
    "            t1_depth_first_names.append(node.name)\n",
    "    return (t1_depth_first_names)"
   ]
  },
  {
   "cell_type": "code",
   "execution_count": 50,
   "metadata": {},
   "outputs": [
    {
     "data": {
      "text/plain": [
       "['seq2',\n",
       " 'seq10',\n",
       " 'seq7',\n",
       " 'seq3',\n",
       " 'seq5',\n",
       " 'seq4',\n",
       " 'seq1',\n",
       " 'seq8',\n",
       " 'seq6',\n",
       " 'seq9']"
      ]
     },
     "execution_count": 50,
     "metadata": {},
     "output_type": "execute_result"
    }
   ],
   "source": [
    "step2(t1,t2)"
   ]
  },
  {
   "cell_type": "markdown",
   "metadata": {},
   "source": [
    "## Step 3"
   ]
  },
  {
   "cell_type": "code",
   "execution_count": 53,
   "metadata": {},
   "outputs": [],
   "source": [
    "def step3(t1,t2):\n",
    "    t1_ordering = step2(t1,t2)\n",
    "    t2_reordering = []\n",
    "    for node in t2.traverse(\"preorder\"):\n",
    "        if node.name != \"\":\n",
    "            t2_reordering.append(t1_ordering.index(node.name))\n",
    "    return t2_reordering"
   ]
  },
  {
   "cell_type": "code",
   "execution_count": 54,
   "metadata": {},
   "outputs": [
    {
     "data": {
      "text/plain": [
       "[0, 7, 8, 4, 5, 9, 6, 1, 2, 3]"
      ]
     },
     "execution_count": 54,
     "metadata": {},
     "output_type": "execute_result"
    }
   ],
   "source": [
    "step3(t1,t2)"
   ]
  },
  {
   "cell_type": "code",
   "execution_count": 55,
   "metadata": {},
   "outputs": [
    {
     "data": {
      "text/plain": [
       "['seq2',\n",
       " 'seq8',\n",
       " 'seq6',\n",
       " 'seq5',\n",
       " 'seq4',\n",
       " 'seq9',\n",
       " 'seq1',\n",
       " 'seq10',\n",
       " 'seq7',\n",
       " 'seq3']"
      ]
     },
     "execution_count": 55,
     "metadata": {},
     "output_type": "execute_result"
    }
   ],
   "source": [
    "depth_first_names = []\n",
    "for node in t2.traverse(\"preorder\"):\n",
    "  # Do some analysis on node\n",
    "    if node.name != \"\":\n",
    "        depth_first_names.append(node.name)\n",
    "depth_first_names"
   ]
  },
  {
   "cell_type": "markdown",
   "metadata": {},
   "source": [
    "## Step 4"
   ]
  },
  {
   "cell_type": "code",
   "execution_count": null,
   "metadata": {},
   "outputs": [],
   "source": []
  }
 ],
 "metadata": {
  "kernelspec": {
   "display_name": "Python 3",
   "language": "python",
   "name": "python3"
  },
  "language_info": {
   "codemirror_mode": {
    "name": "ipython",
    "version": 3
   },
   "file_extension": ".py",
   "mimetype": "text/x-python",
   "name": "python",
   "nbconvert_exporter": "python",
   "pygments_lexer": "ipython3",
   "version": "3.7.4"
  }
 },
 "nbformat": 4,
 "nbformat_minor": 4
}
