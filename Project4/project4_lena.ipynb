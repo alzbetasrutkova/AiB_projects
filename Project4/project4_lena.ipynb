{
 "cells": [
  {
   "cell_type": "code",
   "execution_count": 1,
   "metadata": {},
   "outputs": [
    {
     "name": "stderr",
     "output_type": "stream",
     "text": [
      "C:\\Users\\lenab\\Anaconda3\\lib\\site-packages\\ete3-3.1.2-py3.7.egg\\ete3\\evol\\parser\\codemlparser.py:221: SyntaxWarning: \"is\" with a literal. Did you mean \"==\"?\n",
      "C:\\Users\\lenab\\Anaconda3\\lib\\site-packages\\ete3-3.1.2-py3.7.egg\\ete3\\evol\\parser\\codemlparser.py:221: SyntaxWarning: \"is\" with a literal. Did you mean \"==\"?\n"
     ]
    }
   ],
   "source": [
    "from ete3 import Tree\n"
   ]
  },
  {
   "cell_type": "code",
   "execution_count": 62,
   "metadata": {},
   "outputs": [],
   "source": [
    "t1 = Tree(\"C:/Users/lenab/Documents/AU/Algorithms_in_bioinformatics/Brouillons_projets/Project4/Testdata/tree1.new\")\n",
    "t2 = Tree(\"C:/Users/lenab/Documents/AU/Algorithms_in_bioinformatics/Brouillons_projets/Project4/Testdata/tree2.new\")"
   ]
  },
  {
   "cell_type": "code",
   "execution_count": 15,
   "metadata": {},
   "outputs": [
    {
     "name": "stdout",
     "output_type": "stream",
     "text": [
      "\n",
      "      /-seq2\n",
      "   /-|\n",
      "  |  |   /-seq10\n",
      "  |   \\-|\n",
      "  |      \\-seq7\n",
      "  |\n",
      "  |--seq3\n",
      "--|\n",
      "  |         /-seq5\n",
      "  |      /-|\n",
      "  |     |   \\-seq4\n",
      "  |   /-|\n",
      "  |  |  |   /-seq1\n",
      "  |  |   \\-|\n",
      "   \\-|     |   /-seq8\n",
      "     |      \\-|\n",
      "     |         \\-seq6\n",
      "     |\n",
      "      \\-seq9\n"
     ]
    }
   ],
   "source": [
    "print (t1)"
   ]
  },
  {
   "cell_type": "markdown",
   "metadata": {},
   "source": [
    "## Step 1"
   ]
  },
  {
   "cell_type": "code",
   "execution_count": 13,
   "metadata": {},
   "outputs": [
    {
     "data": {
      "text/plain": [
       "Tree node ''2c_gi|114373|sp|P18907.1|AT1A1_HORSE'' (0x175a3ce916)"
      ]
     },
     "execution_count": 13,
     "metadata": {},
     "output_type": "execute_result"
    }
   ],
   "source": [
    "node = t1.search_nodes()[2]\n",
    "node"
   ]
  },
  {
   "cell_type": "code",
   "execution_count": 20,
   "metadata": {},
   "outputs": [
    {
     "name": "stdout",
     "output_type": "stream",
     "text": [
      "seq2\n",
      "seq10\n",
      "seq7\n",
      "seq3\n",
      "seq5\n",
      "seq4\n",
      "seq1\n",
      "seq8\n",
      "seq6\n",
      "seq9\n"
     ]
    }
   ],
   "source": [
    "for node in t1 : \n",
    "    print(node.name)"
   ]
  },
  {
   "cell_type": "code",
   "execution_count": 63,
   "metadata": {},
   "outputs": [],
   "source": [
    "def get_node_list(t):\n",
    "    node_list = []\n",
    "    for node in t : \n",
    "        node_list.append(node.name)\n",
    "    return node_list"
   ]
  },
  {
   "cell_type": "code",
   "execution_count": 4,
   "metadata": {},
   "outputs": [
    {
     "data": {
      "text/plain": [
       "['seq2',\n",
       " 'seq10',\n",
       " 'seq7',\n",
       " 'seq3',\n",
       " 'seq5',\n",
       " 'seq4',\n",
       " 'seq1',\n",
       " 'seq8',\n",
       " 'seq6',\n",
       " 'seq9']"
      ]
     },
     "execution_count": 4,
     "metadata": {},
     "output_type": "execute_result"
    }
   ],
   "source": [
    "get_node_list(t1)"
   ]
  },
  {
   "cell_type": "code",
   "execution_count": 31,
   "metadata": {},
   "outputs": [],
   "source": [
    "t1.set_outgroup(get_node_list(t1)[0])\n",
    "t2.set_outgroup(get_node_list(t1)[0])"
   ]
  },
  {
   "cell_type": "code",
   "execution_count": 32,
   "metadata": {},
   "outputs": [
    {
     "name": "stdout",
     "output_type": "stream",
     "text": [
      "\n",
      "   /-seq2\n",
      "  |\n",
      "  |      /-seq10\n",
      "--|   /-|\n",
      "  |  |   \\-seq7\n",
      "  |  |\n",
      "   \\-|   /-seq3\n",
      "     |  |\n",
      "     |  |         /-seq5\n",
      "     |  |      /-|\n",
      "      \\-|     |   \\-seq4\n",
      "        |   /-|\n",
      "        |  |  |   /-seq1\n",
      "        |  |   \\-|\n",
      "         \\-|     |   /-seq8\n",
      "           |      \\-|\n",
      "           |         \\-seq6\n",
      "           |\n",
      "            \\-seq9\n"
     ]
    }
   ],
   "source": [
    "print(t1)"
   ]
  },
  {
   "cell_type": "code",
   "execution_count": 64,
   "metadata": {},
   "outputs": [],
   "source": [
    "def step1(t1,t2):\n",
    "    t1_nodes = get_node_list(t1)\n",
    "    root = t1_nodes[0]\n",
    "    t1.set_outgroup(root)\n",
    "    t2.set_outgroup(root)\n",
    "    return t1,t2"
   ]
  },
  {
   "cell_type": "code",
   "execution_count": 65,
   "metadata": {},
   "outputs": [
    {
     "data": {
      "text/plain": [
       "(Tree node '' (0x1632dcf8f1), Tree node '' (0x1632dc6491))"
      ]
     },
     "execution_count": 65,
     "metadata": {},
     "output_type": "execute_result"
    }
   ],
   "source": [
    "step1(t1,t2)"
   ]
  },
  {
   "cell_type": "code",
   "execution_count": 7,
   "metadata": {},
   "outputs": [
    {
     "name": "stdout",
     "output_type": "stream",
     "text": [
      "\n",
      "   /-seq2\n",
      "  |\n",
      "  |      /-seq8\n",
      "--|   /-|\n",
      "  |  |   \\-seq6\n",
      "  |  |\n",
      "   \\-|      /-seq5\n",
      "     |   /-|\n",
      "     |  |   \\-seq4\n",
      "      \\-|\n",
      "        |   /-seq9\n",
      "        |  |\n",
      "         \\-|      /-seq1\n",
      "           |   /-|\n",
      "           |  |  |   /-seq10\n",
      "            \\-|   \\-|\n",
      "              |      \\-seq7\n",
      "              |\n",
      "               \\-seq3\n"
     ]
    }
   ],
   "source": [
    "print (t2)"
   ]
  },
  {
   "cell_type": "markdown",
   "metadata": {},
   "source": [
    "## Step 2"
   ]
  },
  {
   "cell_type": "code",
   "execution_count": 37,
   "metadata": {},
   "outputs": [
    {
     "data": {
      "text/plain": [
       "['seq2',\n",
       " 'seq10',\n",
       " 'seq7',\n",
       " 'seq3',\n",
       " 'seq5',\n",
       " 'seq4',\n",
       " 'seq1',\n",
       " 'seq8',\n",
       " 'seq6',\n",
       " 'seq9']"
      ]
     },
     "execution_count": 37,
     "metadata": {},
     "output_type": "execute_result"
    }
   ],
   "source": [
    "depth_first_names = []\n",
    "for node in t1.traverse(\"preorder\"):\n",
    "  # Do some analysis on node\n",
    "    if node.name != \"\":\n",
    "        depth_first_names.append(node.name)\n",
    "depth_first_names"
   ]
  },
  {
   "cell_type": "code",
   "execution_count": 66,
   "metadata": {},
   "outputs": [],
   "source": [
    "def step2(t1,t2):\n",
    "    \"\"\"Assume that t1 and t2 are rooted on the same node\"\"\"\n",
    "    t1_depth_first_names = []\n",
    "    for node in t1.traverse(\"preorder\"):\n",
    "        if node.name != \"\":\n",
    "            t1_depth_first_names.append(node.name)\n",
    "    return (t1_depth_first_names)"
   ]
  },
  {
   "cell_type": "code",
   "execution_count": 67,
   "metadata": {},
   "outputs": [
    {
     "data": {
      "text/plain": [
       "['seq2',\n",
       " 'seq10',\n",
       " 'seq7',\n",
       " 'seq3',\n",
       " 'seq5',\n",
       " 'seq4',\n",
       " 'seq1',\n",
       " 'seq8',\n",
       " 'seq6',\n",
       " 'seq9']"
      ]
     },
     "execution_count": 67,
     "metadata": {},
     "output_type": "execute_result"
    }
   ],
   "source": [
    "step2(t1,t2)"
   ]
  },
  {
   "cell_type": "markdown",
   "metadata": {},
   "source": [
    "## Step 3"
   ]
  },
  {
   "cell_type": "code",
   "execution_count": 68,
   "metadata": {},
   "outputs": [],
   "source": [
    "def step3(t1,t2):\n",
    "    t1_ordering = step2(t1,t2)\n",
    "    t2_reordering = []\n",
    "    for node in t2.traverse(\"preorder\"):\n",
    "        if node.name != \"\":\n",
    "            t2_reordering.append(t1_ordering.index(node.name))\n",
    "    return t2_reordering"
   ]
  },
  {
   "cell_type": "code",
   "execution_count": 69,
   "metadata": {},
   "outputs": [
    {
     "data": {
      "text/plain": [
       "[0, 7, 8, 4, 5, 9, 6, 1, 2, 3]"
      ]
     },
     "execution_count": 69,
     "metadata": {},
     "output_type": "execute_result"
    }
   ],
   "source": [
    "step3(t1,t2)"
   ]
  },
  {
   "cell_type": "code",
   "execution_count": 12,
   "metadata": {},
   "outputs": [
    {
     "data": {
      "text/plain": [
       "['seq2',\n",
       " 'seq8',\n",
       " 'seq6',\n",
       " 'seq5',\n",
       " 'seq4',\n",
       " 'seq9',\n",
       " 'seq1',\n",
       " 'seq10',\n",
       " 'seq7',\n",
       " 'seq3']"
      ]
     },
     "execution_count": 12,
     "metadata": {},
     "output_type": "execute_result"
    }
   ],
   "source": [
    "depth_first_names = []\n",
    "for node in t2.traverse(\"preorder\"):\n",
    "  # Do some analysis on node\n",
    "    if node.name != \"\":\n",
    "        depth_first_names.append(node.name)\n",
    "depth_first_names"
   ]
  },
  {
   "cell_type": "code",
   "execution_count": 81,
   "metadata": {},
   "outputs": [
    {
     "name": "stdout",
     "output_type": "stream",
     "text": [
      "\n",
      "   /-seq2\n",
      "  |\n",
      "  |      /-seq8\n",
      "--|   /-|\n",
      "  |  |   \\-seq6\n",
      "  |  |\n",
      "   \\-|      /-seq5\n",
      "     |   /-|\n",
      "     |  |   \\-seq4\n",
      "      \\-|\n",
      "        |   /-seq9\n",
      "        |  |\n",
      "         \\-|      /-seq1\n",
      "           |   /-|\n",
      "           |  |  |   /-seq10\n",
      "            \\-|   \\-|\n",
      "              |      \\-seq7\n",
      "              |\n",
      "               \\-seq3\n"
     ]
    }
   ],
   "source": [
    "print(t2)"
   ]
  },
  {
   "cell_type": "markdown",
   "metadata": {},
   "source": [
    "## Step 4"
   ]
  },
  {
   "cell_type": "code",
   "execution_count": 21,
   "metadata": {},
   "outputs": [
    {
     "name": "stdout",
     "output_type": "stream",
     "text": [
      "\n"
     ]
    }
   ],
   "source": [
    "#A = t.get_descendants_by_name(\"A\")[0]\n",
    "#C = t.get_descendants_by_name(\"C\")[0]\n",
    "common = t1.get_common_ancestor(['seq3','seq7'])\n",
    "print (common.name)"
   ]
  },
  {
   "cell_type": "code",
   "execution_count": 70,
   "metadata": {},
   "outputs": [
    {
     "data": {
      "text/plain": [
       "[['seq2',\n",
       "  'seq10',\n",
       "  'seq7',\n",
       "  'seq3',\n",
       "  'seq5',\n",
       "  'seq4',\n",
       "  'seq1',\n",
       "  'seq8',\n",
       "  'seq6',\n",
       "  'seq9'],\n",
       " ['seq10', 'seq7', 'seq3', 'seq5', 'seq4', 'seq1', 'seq8', 'seq6', 'seq9'],\n",
       " ['seq10', 'seq7'],\n",
       " ['seq3', 'seq5', 'seq4', 'seq1', 'seq8', 'seq6', 'seq9'],\n",
       " ['seq5', 'seq4', 'seq1', 'seq8', 'seq6', 'seq9'],\n",
       " ['seq5', 'seq4', 'seq1', 'seq8', 'seq6'],\n",
       " ['seq5', 'seq4'],\n",
       " ['seq1', 'seq8', 'seq6'],\n",
       " ['seq8', 'seq6']]"
      ]
     },
     "execution_count": 70,
     "metadata": {},
     "output_type": "execute_result"
    }
   ],
   "source": [
    "t1_nodes_children = []\n",
    "for node in t1.traverse(\"preorder\"):\n",
    "    if node.name == \"\":\n",
    "        t1_nodes_children.append(node.get_leaf_names())\n",
    "t1_nodes_children\n"
   ]
  },
  {
   "cell_type": "code",
   "execution_count": 71,
   "metadata": {},
   "outputs": [
    {
     "data": {
      "text/plain": [
       "['[0,9]',\n",
       " '[1,9]',\n",
       " '[1,2]',\n",
       " '[3,9]',\n",
       " '[4,9]',\n",
       " '[4,8]',\n",
       " '[4,5]',\n",
       " '[6,8]',\n",
       " '[7,8]']"
      ]
     },
     "execution_count": 71,
     "metadata": {},
     "output_type": "execute_result"
    }
   ],
   "source": [
    "list_intervals = []\n",
    "for l in t1_nodes_children:\n",
    "    order_t1 = step2(t1,t2)\n",
    "    m = order_t1.index(l[0])\n",
    "    M = order_t1.index(l[0])\n",
    "    for i in range(len(l)):\n",
    "        if order_t1.index(l[i])<m:\n",
    "            m= order_t1.index(l[i])\n",
    "        if order_t1.index(l[i])>M : \n",
    "            M= order_t1.index(l[i])\n",
    "    list_intervals.append(\"[\"+str(m)+\",\"+str(M)+\"]\")\n",
    "list_intervals       \n",
    "        "
   ]
  },
  {
   "cell_type": "code",
   "execution_count": 72,
   "metadata": {},
   "outputs": [
    {
     "name": "stdout",
     "output_type": "stream",
     "text": [
      "\n",
      "   /-seq2\n",
      "  |\n",
      "  |      /-seq10\n",
      "--|   /-|\n",
      "  |  |   \\-seq7\n",
      "  |  |\n",
      "   \\-|   /-seq3\n",
      "     |  |\n",
      "     |  |         /-seq5\n",
      "     |  |      /-|\n",
      "      \\-|     |   \\-seq4\n",
      "        |   /-|\n",
      "        |  |  |   /-seq1\n",
      "        |  |   \\-|\n",
      "         \\-|     |   /-seq8\n",
      "           |      \\-|\n",
      "           |         \\-seq6\n",
      "           |\n",
      "            \\-seq9\n"
     ]
    }
   ],
   "source": [
    "print(t1)"
   ]
  },
  {
   "cell_type": "code",
   "execution_count": 73,
   "metadata": {},
   "outputs": [
    {
     "name": "stdout",
     "output_type": "stream",
     "text": [
      "['seq2', 'seq10', 'seq7', 'seq3', 'seq5', 'seq4', 'seq1', 'seq8', 'seq6', 'seq9']\n"
     ]
    }
   ],
   "source": [
    "print(step2(t1,t2))"
   ]
  },
  {
   "cell_type": "markdown",
   "metadata": {},
   "source": [
    "This code works, but it is in O(n^2) instead of O(n)! <br>\n",
    "Lets try to find a way to do it in linear time"
   ]
  },
  {
   "cell_type": "code",
   "execution_count": null,
   "metadata": {},
   "outputs": [],
   "source": [
    "a = t1.get_common_ancestor(\"seq10\", \"seq7\")\n",
    "#a.add_features(interval = \"[7,10]\")\n",
    "#print(a.interval)"
   ]
  },
  {
   "cell_type": "code",
   "execution_count": 74,
   "metadata": {},
   "outputs": [
    {
     "data": {
      "text/plain": [
       "['seq2',\n",
       " 'seq10',\n",
       " 'seq7',\n",
       " 'seq3',\n",
       " 'seq5',\n",
       " 'seq4',\n",
       " 'seq1',\n",
       " 'seq8',\n",
       " 'seq6',\n",
       " 'seq9']"
      ]
     },
     "execution_count": 74,
     "metadata": {},
     "output_type": "execute_result"
    }
   ],
   "source": [
    "t1_list = step2(t1,t2)\n",
    "t1_list"
   ]
  },
  {
   "cell_type": "code",
   "execution_count": 75,
   "metadata": {},
   "outputs": [
    {
     "data": {
      "text/plain": [
       "['[0;1]',\n",
       " '[1;2]',\n",
       " '[2;3]',\n",
       " '[3;4]',\n",
       " '[4;5]',\n",
       " '[5;6]',\n",
       " '[6;7]',\n",
       " '[7;8]',\n",
       " '[8;9]']"
      ]
     },
     "execution_count": 75,
     "metadata": {},
     "output_type": "execute_result"
    }
   ],
   "source": [
    "list_inter = []\n",
    "n = len(t1_list)\n",
    "for i in range(n-1):\n",
    "    seq1 = t1_list[n-i-1]\n",
    "    seq2 = t1_list[n-i-2]\n",
    "    a = t1.get_common_ancestor(seq1, seq2)\n",
    "    list_inter.append(\"[\"+str(i)+\";\"+str(i+1)+\"]\")\n",
    "list_inter"
   ]
  },
  {
   "cell_type": "code",
   "execution_count": 58,
   "metadata": {},
   "outputs": [
    {
     "name": "stdout",
     "output_type": "stream",
     "text": [
      "\n",
      "   /-seq2\n",
      "  |\n",
      "  |      /-seq10\n",
      "--|   /-|\n",
      "  |  |   \\-seq7\n",
      "  |  |\n",
      "   \\-|   /-seq3\n",
      "     |  |\n",
      "     |  |         /-seq5\n",
      "     |  |      /-|\n",
      "      \\-|     |   \\-seq4\n",
      "        |   /-|\n",
      "        |  |  |   /-seq1\n",
      "        |  |   \\-|\n",
      "         \\-|     |   /-seq8\n",
      "           |      \\-|\n",
      "           |         \\-seq6\n",
      "           |\n",
      "            \\-seq9\n"
     ]
    }
   ],
   "source": [
    "print(t1)"
   ]
  },
  {
   "cell_type": "markdown",
   "metadata": {},
   "source": [
    "### Step 4.2"
   ]
  },
  {
   "cell_type": "code",
   "execution_count": 76,
   "metadata": {},
   "outputs": [
    {
     "data": {
      "text/plain": [
       "[['seq2',\n",
       "  'seq8',\n",
       "  'seq6',\n",
       "  'seq5',\n",
       "  'seq4',\n",
       "  'seq9',\n",
       "  'seq1',\n",
       "  'seq10',\n",
       "  'seq7',\n",
       "  'seq3'],\n",
       " ['seq8', 'seq6', 'seq5', 'seq4', 'seq9', 'seq1', 'seq10', 'seq7', 'seq3'],\n",
       " ['seq8', 'seq6'],\n",
       " ['seq5', 'seq4', 'seq9', 'seq1', 'seq10', 'seq7', 'seq3'],\n",
       " ['seq5', 'seq4'],\n",
       " ['seq9', 'seq1', 'seq10', 'seq7', 'seq3'],\n",
       " ['seq1', 'seq10', 'seq7', 'seq3'],\n",
       " ['seq1', 'seq10', 'seq7'],\n",
       " ['seq10', 'seq7']]"
      ]
     },
     "execution_count": 76,
     "metadata": {},
     "output_type": "execute_result"
    }
   ],
   "source": [
    "t2_nodes_children = []\n",
    "for node in t2.traverse(\"preorder\"):\n",
    "    if node.name == \"\":\n",
    "        t2_nodes_children.append(node.get_leaf_names())\n",
    "t2_nodes_children"
   ]
  },
  {
   "cell_type": "code",
   "execution_count": 79,
   "metadata": {},
   "outputs": [
    {
     "data": {
      "text/plain": [
       "['[0,9]', '[1,9]', '[7,8]', '[4,5]', '[1,2]']"
      ]
     },
     "execution_count": 79,
     "metadata": {},
     "output_type": "execute_result"
    }
   ],
   "source": [
    "list_intervals2 = []\n",
    "for l in t2_nodes_children:\n",
    "    order_t1 = step2(t1,t2)\n",
    "    m = order_t1.index(l[0])\n",
    "    M = order_t1.index(l[0])\n",
    "    for i in range(len(l)):\n",
    "        if order_t1.index(l[i])<m:\n",
    "            m= order_t1.index(l[i])\n",
    "        if order_t1.index(l[i])>M : \n",
    "            M= order_t1.index(l[i])\n",
    "    if M-m+1 == len(l):\n",
    "        list_intervals2.append(\"[\"+str(m)+\",\"+str(M)+\"]\")\n",
    "list_intervals2 "
   ]
  },
  {
   "cell_type": "code",
   "execution_count": 80,
   "metadata": {},
   "outputs": [
    {
     "name": "stdout",
     "output_type": "stream",
     "text": [
      "\n",
      "   /-seq2\n",
      "  |\n",
      "  |      /-seq8\n",
      "--|   /-|\n",
      "  |  |   \\-seq6\n",
      "  |  |\n",
      "   \\-|      /-seq5\n",
      "     |   /-|\n",
      "     |  |   \\-seq4\n",
      "      \\-|\n",
      "        |   /-seq9\n",
      "        |  |\n",
      "         \\-|      /-seq1\n",
      "           |   /-|\n",
      "           |  |  |   /-seq10\n",
      "            \\-|   \\-|\n",
      "              |      \\-seq7\n",
      "              |\n",
      "               \\-seq3\n"
     ]
    }
   ],
   "source": [
    "print(t2)"
   ]
  },
  {
   "cell_type": "markdown",
   "metadata": {},
   "source": [
    "This step also works but in O(n^2). Plus, I have the feeling, that I do not use step 3 ..."
   ]
  },
  {
   "cell_type": "markdown",
   "metadata": {},
   "source": [
    "## Step 5"
   ]
  },
  {
   "cell_type": "code",
   "execution_count": 83,
   "metadata": {},
   "outputs": [
    {
     "data": {
      "text/plain": [
       "[(1, 2), (1, 9), (4, 5), (7, 8)]"
      ]
     },
     "execution_count": 83,
     "metadata": {},
     "output_type": "execute_result"
    }
   ],
   "source": [
    "l = [(1,2),(7,8),(4,5),(1,9)]\n",
    "sorted(l)"
   ]
  },
  {
   "cell_type": "code",
   "execution_count": 84,
   "metadata": {},
   "outputs": [
    {
     "name": "stdout",
     "output_type": "stream",
     "text": [
      "['[0,9]', '[1,2]', '[1,9]', '[3,9]', '[4,5]', '[4,8]', '[4,9]', '[6,8]', '[7,8]']\n",
      "['[0,9]', '[1,2]', '[1,9]', '[4,5]', '[7,8]']\n"
     ]
    }
   ],
   "source": [
    "print(sorted(list_intervals))\n",
    "print(sorted(list_intervals2))"
   ]
  },
  {
   "cell_type": "code",
   "execution_count": 86,
   "metadata": {},
   "outputs": [
    {
     "data": {
      "text/plain": [
       "5"
      ]
     },
     "execution_count": 86,
     "metadata": {},
     "output_type": "execute_result"
    }
   ],
   "source": [
    "l1 = sorted(list_intervals)\n",
    "l2 = sorted(list_intervals2)\n",
    "i=0\n",
    "j=0\n",
    "share = 0\n",
    "while i<len(l1) and j<len(l2):\n",
    "    if l1[i]==l2[j]:\n",
    "        share+=1\n",
    "        i+=1\n",
    "        j+=1\n",
    "    else : \n",
    "        i+=1\n",
    "share"
   ]
  },
  {
   "cell_type": "markdown",
   "metadata": {},
   "source": [
    "## Full function"
   ]
  },
  {
   "cell_type": "code",
   "execution_count": 89,
   "metadata": {},
   "outputs": [],
   "source": [
    "def RF_dist(t1,t2):\n",
    "    step1(t1,t2)\n",
    "    order_t1 = step2(t1,t2) #step2\n",
    "    #skip step3 because I do not use it\n",
    "    #step 4.1\n",
    "    t1_nodes_children = []\n",
    "    for node in t1.traverse(\"preorder\"):\n",
    "        if node.name == \"\":\n",
    "            t1_nodes_children.append(node.get_leaf_names())\n",
    "    list_intervals = []\n",
    "    for l in t1_nodes_children:\n",
    "        m = order_t1.index(l[0])\n",
    "        M = order_t1.index(l[0])\n",
    "        for i in range(len(l)):\n",
    "            if order_t1.index(l[i])<m:\n",
    "                m= order_t1.index(l[i])\n",
    "            if order_t1.index(l[i])>M : \n",
    "                M= order_t1.index(l[i])\n",
    "        list_intervals.append(\"[\"+str(m)+\",\"+str(M)+\"]\")\n",
    "    \n",
    "    # Step 4.2 \n",
    "    t2_nodes_children = []\n",
    "    for node in t2.traverse(\"preorder\"):\n",
    "        if node.name == \"\":\n",
    "            t2_nodes_children.append(node.get_leaf_names())\n",
    "    list_intervals2 = []\n",
    "    for l in t2_nodes_children:\n",
    "        order_t1 = step2(t1,t2)\n",
    "        m = order_t1.index(l[0])\n",
    "        M = order_t1.index(l[0])\n",
    "        for i in range(len(l)):\n",
    "            if order_t1.index(l[i])<m:\n",
    "                m= order_t1.index(l[i])\n",
    "            if order_t1.index(l[i])>M : \n",
    "                M= order_t1.index(l[i])\n",
    "        if M-m+1 == len(l):\n",
    "            list_intervals2.append(\"[\"+str(m)+\",\"+str(M)+\"]\")\n",
    "\n",
    "    # Step 5 \n",
    "    l1 = sorted(list_intervals)\n",
    "    l2 = sorted(list_intervals2)\n",
    "    i=0\n",
    "    j=0\n",
    "    share = 0\n",
    "    while i<len(l1) and j<len(l2):\n",
    "        if l1[i]==l2[j]:\n",
    "            share+=1\n",
    "            i+=1\n",
    "            j+=1\n",
    "        else : \n",
    "            i+=1\n",
    "    return(2*len(l1)-2*share)"
   ]
  },
  {
   "cell_type": "code",
   "execution_count": 90,
   "metadata": {},
   "outputs": [
    {
     "data": {
      "text/plain": [
       "8"
      ]
     },
     "execution_count": 90,
     "metadata": {},
     "output_type": "execute_result"
    }
   ],
   "source": [
    "t1 = Tree(\"C:/Users/lenab/Documents/AU/Algorithms_in_bioinformatics/Brouillons_projets/Project4/Testdata/tree1.new\")\n",
    "t2 = Tree(\"C:/Users/lenab/Documents/AU/Algorithms_in_bioinformatics/Brouillons_projets/Project4/Testdata/tree2.new\")\n",
    "RF_dist(t1,t2)"
   ]
  }
 ],
 "metadata": {
  "kernelspec": {
   "display_name": "Python 3",
   "language": "python",
   "name": "python3"
  },
  "language_info": {
   "codemirror_mode": {
    "name": "ipython",
    "version": 3
   },
   "file_extension": ".py",
   "mimetype": "text/x-python",
   "name": "python",
   "nbconvert_exporter": "python",
   "pygments_lexer": "ipython3",
   "version": "3.7.4"
  }
 },
 "nbformat": 4,
 "nbformat_minor": 4
}
