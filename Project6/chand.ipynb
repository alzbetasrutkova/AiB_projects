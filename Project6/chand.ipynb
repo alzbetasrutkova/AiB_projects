{
 "cells": [
  {
   "cell_type": "code",
   "execution_count": 1,
   "metadata": {},
   "outputs": [],
   "source": [
    "def score(seq, fold):\n",
    "    if seq[0]==\"h\" or seq[0]==\"H\":\n",
    "        grid={(0,0):0}\n",
    "    else : \n",
    "        grid = {}\n",
    "    i=0\n",
    "    j=0\n",
    "    flag = \"right\"\n",
    "    for k in range(len(fold)):\n",
    "        if fold[k]==\"f\" : \n",
    "            if flag == \"right\":\n",
    "                i+=1\n",
    "            elif flag==\"left\":\n",
    "                i-=1\n",
    "            elif flag == \"up\":\n",
    "                j+=1\n",
    "            else : \n",
    "                j-=1\n",
    "            \n",
    "        elif fold[k]==\"l\":\n",
    "            if flag == \"right\":\n",
    "                j+=1\n",
    "                flag = \"up\"\n",
    "            elif flag==\"left\":\n",
    "                j-=1\n",
    "                flag = \"down\"\n",
    "            elif flag == \"up\":\n",
    "                i-=1\n",
    "                flag=\"left\"\n",
    "            else : \n",
    "                i+=1\n",
    "                flag = \"right\"\n",
    "            \n",
    "        else : #fold[k]==\"r\"\n",
    "            if flag == \"right\":\n",
    "                j-=1\n",
    "                flag = \"down\"\n",
    "            elif flag==\"left\":\n",
    "                j+=1\n",
    "                flag = \"up\"\n",
    "            elif flag == \"up\":\n",
    "                i+=1\n",
    "                flag = \"right\"\n",
    "            else : \n",
    "                i-=1\n",
    "                flag = \"left\"\n",
    "            \n",
    "        # If it is an \"h\", we add it to the dictionnary because it can be used for the score\n",
    "        if seq[k+1]==\"h\" or seq[k+1]==\"H\":\n",
    "            if seq[k]=='h'or seq[k]=='H':\n",
    "                grid[(i,j)]= k+1\n",
    "            else : \n",
    "                grid[(i,j)]= k+1\n",
    "        \n",
    "     # Calculate the score : \n",
    "    keys = list(grid.keys())\n",
    "    score = 0\n",
    "    for k in range(len(keys)):\n",
    "        i,j = keys[k]\n",
    "        if (i-1,j) in grid and grid[i-1,j]%2!=grid[i,j]%2 and grid[i-1,j]!=grid[i,j]-1 and grid[i-1,j]!=grid[i,j]+1: \n",
    "            # the 2 last conditions are to avoid scoring H-h that are linked\n",
    "            score+=1\n",
    "        if (i,j+1) in grid and grid[i,j]%2 != grid[i,j+1]%2 and grid[i,j]!=grid[i,j+1]-1 and grid[i,j]!=grid[i,j+1]+1: \n",
    "            # the 2 last conditions are to avoid scoring H-h that are linked\n",
    "            score +=1\n",
    "    return(score)\n",
    "    "
   ]
  },
  {
   "cell_type": "code",
   "execution_count": 2,
   "metadata": {},
   "outputs": [
    {
     "data": {
      "text/plain": [
       "5"
      ]
     },
     "execution_count": 2,
     "metadata": {},
     "output_type": "execute_result"
    }
   ],
   "source": [
    "#Sequence 5\n",
    "seq = \"hhhpphphphpphphphpph\"\n",
    "fold = \"flrrffffffrrfffffff\"\n",
    "score(seq, fold)"
   ]
  },
  {
   "cell_type": "code",
   "execution_count": null,
   "metadata": {},
   "outputs": [],
   "source": []
  }
 ],
 "metadata": {
  "kernelspec": {
   "display_name": "Python 3",
   "language": "python",
   "name": "python3"
  },
  "language_info": {
   "codemirror_mode": {
    "name": "ipython",
    "version": 3
   },
   "file_extension": ".py",
   "mimetype": "text/x-python",
   "name": "python",
   "nbconvert_exporter": "python",
   "pygments_lexer": "ipython3",
   "version": "3.7.4"
  }
 },
 "nbformat": 4,
 "nbformat_minor": 2
}
