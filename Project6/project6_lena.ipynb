{
 "cells": [
  {
   "cell_type": "code",
   "execution_count": 5,
   "metadata": {},
   "outputs": [
    {
     "data": {
      "text/plain": [
       "20"
      ]
     },
     "execution_count": 5,
     "metadata": {},
     "output_type": "execute_result"
    }
   ],
   "source": [
    "seq = \"HPHPPHHPHPPHPHHPPHPH\"\n",
    "len(seq)"
   ]
  },
  {
   "cell_type": "markdown",
   "metadata": {},
   "source": [
    "## Step 1"
   ]
  },
  {
   "cell_type": "code",
   "execution_count": 16,
   "metadata": {},
   "outputs": [
    {
     "data": {
      "text/plain": [
       "[(0, 19), (2, 17), (6, 13), (8, 11)]"
      ]
     },
     "execution_count": 16,
     "metadata": {},
     "output_type": "execute_result"
    }
   ],
   "source": [
    "i = 0\n",
    "j = len(seq)-1\n",
    "match_evens = []\n",
    "while i<j :\n",
    "    if i%2 == 0 and seq[i]==\"H\": \n",
    "        if j%2 == 1 and seq[j]==\"H\" : \n",
    "            match_evens.append((i,j))\n",
    "            i+=1\n",
    "            j-=1\n",
    "        else : j-=1\n",
    "    else : \n",
    "        i+=1\n",
    "match_evens"
   ]
  },
  {
   "cell_type": "code",
   "execution_count": 17,
   "metadata": {},
   "outputs": [
    {
     "data": {
      "text/plain": [
       "[(5, 14)]"
      ]
     },
     "execution_count": 17,
     "metadata": {},
     "output_type": "execute_result"
    }
   ],
   "source": [
    "i = 0\n",
    "j = len(seq)-1\n",
    "match_odds = []\n",
    "while i<j :\n",
    "    if i%2 == 1 and seq[i]==\"H\": \n",
    "        if j%2 == 0 and seq[j]==\"H\" : \n",
    "            match_odds.append((i,j))\n",
    "            i+=1\n",
    "            j-=1\n",
    "        else : j-=1\n",
    "    else : \n",
    "        i+=1\n",
    "match_odds"
   ]
  },
  {
   "cell_type": "code",
   "execution_count": 18,
   "metadata": {},
   "outputs": [
    {
     "name": "stdout",
     "output_type": "stream",
     "text": [
      "evens\n"
     ]
    }
   ],
   "source": [
    "if len(match_evens)>=len(match_odds):\n",
    "    print(\"evens\")\n",
    "else : \n",
    "    print(\"odds\")"
   ]
  },
  {
   "cell_type": "code",
   "execution_count": 19,
   "metadata": {},
   "outputs": [],
   "source": [
    "def step1(seq):\n",
    "    # 1.1 match evens from left with odds from right\n",
    "    i = 0\n",
    "    j = len(seq)-1\n",
    "    match_evens = []\n",
    "    while i<j :\n",
    "        if i%2 == 0 and seq[i]==\"H\": \n",
    "            if j%2 == 1 and seq[j]==\"H\" : \n",
    "                match_evens.append((i,j))\n",
    "                i+=1\n",
    "                j-=1\n",
    "            else : j-=1\n",
    "        else : \n",
    "            i+=1\n",
    "    #match_evens done\n",
    "    \n",
    "    # 1.2 match odds from left with evens from right\n",
    "    i = 0\n",
    "    j = len(seq)-1\n",
    "    match_odds = []\n",
    "    while i<j :\n",
    "        if i%2 == 1 and seq[i]==\"H\": \n",
    "            if j%2 == 0 and seq[j]==\"H\" : \n",
    "                match_odds.append((i,j))\n",
    "                i+=1\n",
    "                j-=1\n",
    "            else : j-=1\n",
    "        else : \n",
    "            i+=1\n",
    "    # match_odds done\n",
    "    \n",
    "    # 1.3 return the longest matching\n",
    "    if len(match_evens)>=len(match_odds):\n",
    "        return(match_evens)\n",
    "    else : \n",
    "        return(match_odds)"
   ]
  },
  {
   "cell_type": "code",
   "execution_count": 20,
   "metadata": {},
   "outputs": [
    {
     "data": {
      "text/plain": [
       "[(0, 19), (2, 17), (6, 13), (8, 11)]"
      ]
     },
     "execution_count": 20,
     "metadata": {},
     "output_type": "execute_result"
    }
   ],
   "source": [
    "step1(seq)"
   ]
  },
  {
   "cell_type": "markdown",
   "metadata": {},
   "source": [
    "## Step 2"
   ]
  },
  {
   "cell_type": "code",
   "execution_count": null,
   "metadata": {},
   "outputs": [],
   "source": []
  }
 ],
 "metadata": {
  "kernelspec": {
   "display_name": "Python 3",
   "language": "python",
   "name": "python3"
  },
  "language_info": {
   "codemirror_mode": {
    "name": "ipython",
    "version": 3
   },
   "file_extension": ".py",
   "mimetype": "text/x-python",
   "name": "python",
   "nbconvert_exporter": "python",
   "pygments_lexer": "ipython3",
   "version": "3.8.5"
  }
 },
 "nbformat": 4,
 "nbformat_minor": 4
}
