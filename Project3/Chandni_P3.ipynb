{
 "cells": [
  {
   "cell_type": "markdown",
   "metadata": {},
   "source": [
    "## SP Exact Algorithm for 3 sequences"
   ]
  },
  {
   "cell_type": "code",
   "execution_count": 10,
   "metadata": {},
   "outputs": [],
   "source": [
    "import numpy as np\n",
    "import sys\n",
    "import math"
   ]
  },
  {
   "cell_type": "code",
   "execution_count": 11,
   "metadata": {},
   "outputs": [],
   "source": [
    "#list = numpy.array(list, dtype=numpy.float64)\n",
    "\n",
    "subst_mat = np.array([\n",
    "        [0,5,2,5],\n",
    "        [5,0,5,2],\n",
    "        [2,5,0,5],\n",
    "        [5,2,5,0]\n",
    "    ], dtype=np.float64)\n",
    "\n"
   ]
  },
  {
   "cell_type": "code",
   "execution_count": 12,
   "metadata": {},
   "outputs": [],
   "source": [
    "def C(i,j,k,a):\n",
    "    if T[i,j,k] == None:        \n",
    "        dict_subst = {\"A\":0, \"C\": 1, \"G\":2, \"T\":3}\n",
    "        v1,v2,v3,v4,v5,v6,v7,v8 = sys.maxsize,sys.maxsize,sys.maxsize,sys.maxsize,sys.maxsize,sys.maxsize,sys.maxsize,sys.maxsize\n",
    "        if i>0 and j>0 and k>0:\n",
    "            v1 = C(i-1,j-1,k-1,a)+subst_mat[dict_subst[seq1[i-1]], dict_subst[seq2[j-1]]]+subst_mat[dict_subst[seq2[j-1]], dict_subst[seq3[k-1]]]+subst_mat[dict_subst[seq1[i-1]], dict_subst[seq3[k-1]]]\n",
    "        if i>0 and j>0 and k>=0: \n",
    "            v2 = C(i-1,j-1,k,a)+subst_mat[dict_subst[seq1[i-1]], dict_subst[seq2[j-1]]]+(2*a)\n",
    "        if i>0 and j>=0 and k>0: \n",
    "            v3 = C(i-1,j,k-1,a)+subst_mat[dict_subst[seq1[i-1]], dict_subst[seq3[k-1]]]+(2*a)\n",
    "        if i>=0 and j>0 and k>0: \n",
    "            v4 = C(i,j-1,k-1,a)+subst_mat[dict_subst[seq2[j-1]], dict_subst[seq3[k-1]]]+(2*a)\n",
    "        if i>0 and j>=0 and k>=0:\n",
    "            v5 = C(i-1,j,k,a)+(2*a)\n",
    "        if i>=0 and j>0 and k>=0:\n",
    "            v6 = C(i,j-1,k,a)+(2*a)\n",
    "        if i>=0 and j>=0 and k>0:\n",
    "            v7 = C(i,j,k-1,a)+(2*a)\n",
    "        if i==0 and j==0 and k==0:\n",
    "            v8 = 0                                                                       \n",
    "        T[i,j,k] = min(v1,v2,v3,v4,v5,v6,v7,v8)\n",
    "    return T[i,j,k]"
   ]
  },
  {
   "cell_type": "code",
   "execution_count": 13,
   "metadata": {},
   "outputs": [
    {
     "name": "stdout",
     "output_type": "stream",
     "text": [
      "198.0\n"
     ]
    }
   ],
   "source": [
    "#testdata_short.txt\n",
    "\n",
    "seq1 = \"GTTCCGAAAGGCTAGCGCTAGGCGCC\"\n",
    "seq2 = \"ATGGATTTATCTGCTCTTCG\"\n",
    "seq3 = \"TGCATGCTGAAACTTCTCAACCA\"\n",
    "\n",
    "m = len(seq1)\n",
    "n = len(seq2)\n",
    "o = len(seq3)\n",
    "\n",
    "T = np.full([m+1,n+1,o+1], None)\n",
    "\n",
    "print(C(m,n,o,5))"
   ]
  },
  {
   "cell_type": "code",
   "execution_count": 14,
   "metadata": {},
   "outputs": [
    {
     "name": "stdout",
     "output_type": "stream",
     "text": [
      "1482.0\n"
     ]
    }
   ],
   "source": [
    "#testdata_long.txt\n",
    "\n",
    "seq1 = \"GTTCCGAAAGGCTAGCGCTAGGCGCCAAGCGGCCGGTTTCCTTGGCGACGGAGAGCGCGGGAATTTTAGATAGATTGTAATTGCGGCTGCGCGGCCGCTGCCCGTGCAGCCAGAGGATCCAGCACCTCTCTTGGGGCTTCTCCGTCCTCGGCGCTTGGAAGTACGGATCTTTTTTCTCGGAGAAAAGTTCACTGGAACTG\"\n",
    "seq2 = \"ATGGATTTATCTGCTCTTCGCGTTGAAGAAGTACAAAATGTCATTAACGCTATGCAGAAAATCTTAGAGTGTCCCATCTGTCTGGAGTTGATCAAGGAACCTGTCTCCACAAAGTGTGACCACATATTTTGCAAATTTTGCATGCTGAAACTTCTCAACCAGAAGAAAGGGCCTTCACAGTGTCCTTTATGTAAGAATGA\"\n",
    "seq3 = \"CGCTGGTGCAACTCGAAGACCTATCTCCTTCCCGGGGGGGCTTCTCCGGCATTTAGGCCTCGGCGTTTGGAAGTACGGAGGTTTTTCTCGGAAGAAAGTTCACTGGAAGTGGAAGAAATGGATTTATCTGCTGTTCGAATTCAAGAAGTACAAAATGTCCTTCATGCTATGCAGAAAATCTTGGAGTGTCCAATCTGTTT\"\n",
    "\n",
    "m = len(seq1)\n",
    "n = len(seq2)\n",
    "o = len(seq3)\n",
    "\n",
    "T = np.full([m+1,n+1,o+1], None)\n",
    "\n",
    "print(C(m,n,o,5))"
   ]
  },
  {
   "cell_type": "markdown",
   "metadata": {},
   "source": [
    "## Backtracking\n"
   ]
  },
  {
   "cell_type": "code",
   "execution_count": 64,
   "metadata": {},
   "outputs": [],
   "source": [
    "def RecurBackTrack(i,j, k, seq1, seq2, seq3, a, T, align1=\"\", align2=\"\", align3=\"\"):\n",
    "    dict_subst = {\"A\":0, \"C\": 1, \"G\":2, \"T\":3}\n",
    "    if i>0 and j>0 and k>0 and T[i,j]==T[i-1,j-1,k-1]+ subst_mat[dict_subst[seq1[i-1]], dict_subst[seq2[j-1]]]+subst_mat[dict_subst[seq2[j-1]], dict_subst[seq3[k-1]]]+subst_mat[dict_subst[seq1[i-1]], dict_subst[seq3[k-1]]] :\n",
    "        align1 = seq1[i-1] + align1\n",
    "        align2 = seq2[j-1] + align2\n",
    "        align3 = seq3[k-1] + align3\n",
    "        RecurBackTrack(i-1,j-1,k-1,seq1, seq2, seq3, a, T, align1, align2, align3)\n",
    "    elif i>0 and j>0 and k>=0 and T[i,j]==T[i-1,j-1,k]+ subst_mat[dict_subst[seq1[i-1]], dict_subst[seq2[j-1]]]+(2*a) :\n",
    "        align1 = seq1[i-1] + align1\n",
    "        align2 = seq2[j-1] + align2\n",
    "        align3 = \"_\" + align3\n",
    "        RecurBackTrack(i-1,j-1,k, seq1, seq2, seq3, a, T, align1, align2, align3)\n",
    "    elif i>0 and j>=0 and k>0 and T[i,j]==T[i-1,j,k-1]+  subst_mat[dict_subst[seq1[i-1]], dict_subst[seq3[k-1]]]+(2*a) :\n",
    "        align1 = seq1[i-1] + align1\n",
    "        align2 = \"_\" + align2\n",
    "        align3 = seq3[k-1]  + align3\n",
    "        RecurBackTrack(i-1,j,k-1, seq1, seq2, seq3, a, T, align1, align2, align3)\n",
    "    elif i>=0 and j>0 and k>=0 and T[i,j]==T[i,j-1,k-1]+subst_mat[dict_subst[seq2[j-1]], dict_subst[seq3[k-1]]]+(2*a) :\n",
    "        align1 = \"_\" + align1\n",
    "        align2 = seq2[j-1] + align2\n",
    "        align3 = \"_\" + align3\n",
    "        RecurBackTrack(i,j-1,k-1, seq1, seq2,seq3, a, T, align1, align2, align3)\n",
    "    elif i>0 and j>=0 and k>=0 and T[i,j]==T[i-1,j,k]+(2*a) :\n",
    "        align1 = seq1[i-1]+ align1\n",
    "        align2 = \"_\" + align2\n",
    "        align3 = \"_\" + align3\n",
    "        RecurBackTrack(i-1,j,k, seq1, seq2,seq3, a, T, align1, align2, align3)   \n",
    "    elif i>=0 and j>0 and k>=0 and T[i,j]==T[i,j-1,k]+(2*a) :\n",
    "        align1 = \"_\" + align1\n",
    "        align2 = seq2[j-1]+ align2\n",
    "        align3 = \"_\" + align3\n",
    "        RecurBackTrack(i,j-1,k, seq1, seq2,seq3, a, T, align1, align2, align3)   \n",
    "    elif i>=0 and j>=0 and k>0 and T[i,j]==T[i,j,k-1]+(2*a) :\n",
    "        align1 = \"_\" + align1\n",
    "        align2 = \"_\"+ align2\n",
    "        align3 = seq3[k-1] + align3\n",
    "        RecurBackTrack(i,j,k-1, seq1, seq2,seq3, a, T, align1, align2, align3) \n",
    "    \n",
    "    else:\n",
    "        print (align1, align2, align3)\n",
    "        return None"
   ]
  },
  {
   "cell_type": "code",
   "execution_count": 65,
   "metadata": {},
   "outputs": [
    {
     "ename": "IndexError",
     "evalue": "too many indices for array",
     "output_type": "error",
     "traceback": [
      "\u001b[0;31m---------------------------------------------------------------------------\u001b[0m",
      "\u001b[0;31mIndexError\u001b[0m                                Traceback (most recent call last)",
      "\u001b[0;32m<ipython-input-65-d4c28233655c>\u001b[0m in \u001b[0;36m<module>\u001b[0;34m\u001b[0m\n\u001b[1;32m     14\u001b[0m \u001b[0;34m\u001b[0m\u001b[0m\n\u001b[1;32m     15\u001b[0m \u001b[0;34m\u001b[0m\u001b[0m\n\u001b[0;32m---> 16\u001b[0;31m \u001b[0mprint\u001b[0m\u001b[0;34m(\u001b[0m\u001b[0mRecurBackTrack\u001b[0m\u001b[0;34m(\u001b[0m\u001b[0mm\u001b[0m\u001b[0;34m,\u001b[0m\u001b[0mn\u001b[0m\u001b[0;34m,\u001b[0m\u001b[0mo\u001b[0m\u001b[0;34m,\u001b[0m \u001b[0mseq1\u001b[0m\u001b[0;34m,\u001b[0m \u001b[0mseq2\u001b[0m\u001b[0;34m,\u001b[0m \u001b[0mseq3\u001b[0m\u001b[0;34m,\u001b[0m \u001b[0;36m5\u001b[0m\u001b[0;34m,\u001b[0m \u001b[0mT\u001b[0m\u001b[0;34m)\u001b[0m\u001b[0;34m)\u001b[0m\u001b[0;34m\u001b[0m\u001b[0;34m\u001b[0m\u001b[0m\n\u001b[0m",
      "\u001b[0;32m<ipython-input-64-2719b294f0d8>\u001b[0m in \u001b[0;36mRecurBackTrack\u001b[0;34m(i, j, k, seq1, seq2, seq3, a, T, align1, align2, align3)\u001b[0m\n\u001b[1;32m      1\u001b[0m \u001b[0;32mdef\u001b[0m \u001b[0mRecurBackTrack\u001b[0m\u001b[0;34m(\u001b[0m\u001b[0mi\u001b[0m\u001b[0;34m,\u001b[0m\u001b[0mj\u001b[0m\u001b[0;34m,\u001b[0m \u001b[0mk\u001b[0m\u001b[0;34m,\u001b[0m \u001b[0mseq1\u001b[0m\u001b[0;34m,\u001b[0m \u001b[0mseq2\u001b[0m\u001b[0;34m,\u001b[0m \u001b[0mseq3\u001b[0m\u001b[0;34m,\u001b[0m \u001b[0ma\u001b[0m\u001b[0;34m,\u001b[0m \u001b[0mT\u001b[0m\u001b[0;34m,\u001b[0m \u001b[0malign1\u001b[0m\u001b[0;34m=\u001b[0m\u001b[0;34m\"\"\u001b[0m\u001b[0;34m,\u001b[0m \u001b[0malign2\u001b[0m\u001b[0;34m=\u001b[0m\u001b[0;34m\"\"\u001b[0m\u001b[0;34m,\u001b[0m \u001b[0malign3\u001b[0m\u001b[0;34m=\u001b[0m\u001b[0;34m\"\"\u001b[0m\u001b[0;34m)\u001b[0m\u001b[0;34m:\u001b[0m\u001b[0;34m\u001b[0m\u001b[0;34m\u001b[0m\u001b[0m\n\u001b[1;32m      2\u001b[0m     \u001b[0mdict_subst\u001b[0m \u001b[0;34m=\u001b[0m \u001b[0;34m{\u001b[0m\u001b[0;34m\"A\"\u001b[0m\u001b[0;34m:\u001b[0m\u001b[0;36m0\u001b[0m\u001b[0;34m,\u001b[0m \u001b[0;34m\"C\"\u001b[0m\u001b[0;34m:\u001b[0m \u001b[0;36m1\u001b[0m\u001b[0;34m,\u001b[0m \u001b[0;34m\"G\"\u001b[0m\u001b[0;34m:\u001b[0m\u001b[0;36m2\u001b[0m\u001b[0;34m,\u001b[0m \u001b[0;34m\"T\"\u001b[0m\u001b[0;34m:\u001b[0m\u001b[0;36m3\u001b[0m\u001b[0;34m}\u001b[0m\u001b[0;34m\u001b[0m\u001b[0;34m\u001b[0m\u001b[0m\n\u001b[0;32m----> 3\u001b[0;31m     \u001b[0;32mif\u001b[0m \u001b[0mi\u001b[0m\u001b[0;34m>\u001b[0m\u001b[0;36m0\u001b[0m \u001b[0;32mand\u001b[0m \u001b[0mj\u001b[0m\u001b[0;34m>\u001b[0m\u001b[0;36m0\u001b[0m \u001b[0;32mand\u001b[0m \u001b[0mk\u001b[0m\u001b[0;34m>\u001b[0m\u001b[0;36m0\u001b[0m \u001b[0;32mand\u001b[0m \u001b[0mT\u001b[0m\u001b[0;34m[\u001b[0m\u001b[0mi\u001b[0m\u001b[0;34m,\u001b[0m\u001b[0mj\u001b[0m\u001b[0;34m]\u001b[0m\u001b[0;34m==\u001b[0m\u001b[0mT\u001b[0m\u001b[0;34m[\u001b[0m\u001b[0mi\u001b[0m\u001b[0;34m-\u001b[0m\u001b[0;36m1\u001b[0m\u001b[0;34m,\u001b[0m\u001b[0mj\u001b[0m\u001b[0;34m-\u001b[0m\u001b[0;36m1\u001b[0m\u001b[0;34m,\u001b[0m\u001b[0mk\u001b[0m\u001b[0;34m-\u001b[0m\u001b[0;36m1\u001b[0m\u001b[0;34m]\u001b[0m\u001b[0;34m+\u001b[0m \u001b[0msubst_mat\u001b[0m\u001b[0;34m[\u001b[0m\u001b[0mdict_subst\u001b[0m\u001b[0;34m[\u001b[0m\u001b[0mseq1\u001b[0m\u001b[0;34m[\u001b[0m\u001b[0mi\u001b[0m\u001b[0;34m-\u001b[0m\u001b[0;36m1\u001b[0m\u001b[0;34m]\u001b[0m\u001b[0;34m]\u001b[0m\u001b[0;34m,\u001b[0m \u001b[0mdict_subst\u001b[0m\u001b[0;34m[\u001b[0m\u001b[0mseq2\u001b[0m\u001b[0;34m[\u001b[0m\u001b[0mj\u001b[0m\u001b[0;34m-\u001b[0m\u001b[0;36m1\u001b[0m\u001b[0;34m]\u001b[0m\u001b[0;34m]\u001b[0m\u001b[0;34m]\u001b[0m\u001b[0;34m+\u001b[0m\u001b[0msubst_mat\u001b[0m\u001b[0;34m[\u001b[0m\u001b[0mdict_subst\u001b[0m\u001b[0;34m[\u001b[0m\u001b[0mseq2\u001b[0m\u001b[0;34m[\u001b[0m\u001b[0mj\u001b[0m\u001b[0;34m-\u001b[0m\u001b[0;36m1\u001b[0m\u001b[0;34m]\u001b[0m\u001b[0;34m]\u001b[0m\u001b[0;34m,\u001b[0m \u001b[0mdict_subst\u001b[0m\u001b[0;34m[\u001b[0m\u001b[0mseq3\u001b[0m\u001b[0;34m[\u001b[0m\u001b[0mk\u001b[0m\u001b[0;34m-\u001b[0m\u001b[0;36m1\u001b[0m\u001b[0;34m]\u001b[0m\u001b[0;34m]\u001b[0m\u001b[0;34m]\u001b[0m\u001b[0;34m+\u001b[0m\u001b[0msubst_mat\u001b[0m\u001b[0;34m[\u001b[0m\u001b[0mdict_subst\u001b[0m\u001b[0;34m[\u001b[0m\u001b[0mseq1\u001b[0m\u001b[0;34m[\u001b[0m\u001b[0mi\u001b[0m\u001b[0;34m-\u001b[0m\u001b[0;36m1\u001b[0m\u001b[0;34m]\u001b[0m\u001b[0;34m]\u001b[0m\u001b[0;34m,\u001b[0m \u001b[0mdict_subst\u001b[0m\u001b[0;34m[\u001b[0m\u001b[0mseq3\u001b[0m\u001b[0;34m[\u001b[0m\u001b[0mk\u001b[0m\u001b[0;34m-\u001b[0m\u001b[0;36m1\u001b[0m\u001b[0;34m]\u001b[0m\u001b[0;34m]\u001b[0m\u001b[0;34m]\u001b[0m \u001b[0;34m:\u001b[0m\u001b[0;34m\u001b[0m\u001b[0;34m\u001b[0m\u001b[0m\n\u001b[0m\u001b[1;32m      4\u001b[0m         \u001b[0malign1\u001b[0m \u001b[0;34m=\u001b[0m \u001b[0mseq1\u001b[0m\u001b[0;34m[\u001b[0m\u001b[0mi\u001b[0m\u001b[0;34m-\u001b[0m\u001b[0;36m1\u001b[0m\u001b[0;34m]\u001b[0m \u001b[0;34m+\u001b[0m \u001b[0malign1\u001b[0m\u001b[0;34m\u001b[0m\u001b[0;34m\u001b[0m\u001b[0m\n\u001b[1;32m      5\u001b[0m         \u001b[0malign2\u001b[0m \u001b[0;34m=\u001b[0m \u001b[0mseq2\u001b[0m\u001b[0;34m[\u001b[0m\u001b[0mj\u001b[0m\u001b[0;34m-\u001b[0m\u001b[0;36m1\u001b[0m\u001b[0;34m]\u001b[0m \u001b[0;34m+\u001b[0m \u001b[0malign2\u001b[0m\u001b[0;34m\u001b[0m\u001b[0;34m\u001b[0m\u001b[0m\n",
      "\u001b[0;31mIndexError\u001b[0m: too many indices for array"
     ]
    }
   ],
   "source": [
    "seq1 = \"GTTCCGAAAGGCTAGCGCTAGGCGCC\"\n",
    "seq2 = \"ATGGATTTATCTGCTCTTCG\"\n",
    "seq3 = \"TGCATGCTGAAACTTCTCAACCA\"\n",
    "\n",
    "m = len(seq1)\n",
    "n = len(seq2)\n",
    "o = len(seq3)\n",
    "\n",
    "T = np.full([m+1,n+1], None)\n",
    "\n",
    "align1 = \"\"\n",
    "align2 = \"\"\n",
    "align3 = \"\"\n",
    "\n",
    "\n",
    "print(RecurBackTrack(m,n,o, seq1, seq2, seq3, 5, T))"
   ]
  },
  {
   "cell_type": "code",
   "execution_count": null,
   "metadata": {},
   "outputs": [],
   "source": []
  },
  {
   "cell_type": "code",
   "execution_count": null,
   "metadata": {},
   "outputs": [],
   "source": []
  }
 ],
 "metadata": {
  "kernelspec": {
   "display_name": "Python 3",
   "language": "python",
   "name": "python3"
  },
  "language_info": {
   "codemirror_mode": {
    "name": "ipython",
    "version": 3
   },
   "file_extension": ".py",
   "mimetype": "text/x-python",
   "name": "python",
   "nbconvert_exporter": "python",
   "pygments_lexer": "ipython3",
   "version": "3.7.4"
  }
 },
 "nbformat": 4,
 "nbformat_minor": 2
}
