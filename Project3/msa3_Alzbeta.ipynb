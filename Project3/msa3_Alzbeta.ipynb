{
 "cells": [
  {
   "cell_type": "code",
   "execution_count": 10,
   "metadata": {},
   "outputs": [],
   "source": [
    "import numpy as np\n",
    "import sys"
   ]
  },
  {
   "cell_type": "code",
   "execution_count": 11,
   "metadata": {},
   "outputs": [],
   "source": [
    "subst_mat = np.array([\n",
    "        [0,5,2,5],\n",
    "        [5,0,5,2],\n",
    "        [2,5,0,5],\n",
    "        [5,2,5,0]\n",
    "    ])"
   ]
  },
  {
   "cell_type": "code",
   "execution_count": 14,
   "metadata": {},
   "outputs": [],
   "source": [
    "def C(i,j,k,a):\n",
    "    if T[i,j,k] == None:        \n",
    "        dict_subst = {\"A\":0, \"C\": 1, \"G\":2, \"T\":3}\n",
    "        v1,v2,v3,v4,v5,v6,v7,v8 = sys.maxsize,sys.maxsize,sys.maxsize,sys.maxsize,sys.maxsize,sys.maxsize,sys.maxsize,sys.maxsize\n",
    "        if i>0 and j>0 and k>0:\n",
    "            v1 = C(i-1,j-1,k-1,a)+subst_mat[dict_subst[seq1[i-1]], dict_subst[seq2[j-1]]]+subst_mat[dict_subst[seq2[j-1]], dict_subst[seq3[k-1]]]+subst_mat[dict_subst[seq1[i-1]], dict_subst[seq3[k-1]]]\n",
    "        if i>0 and j>0 and k>=0: \n",
    "            v2 = C(i-1,j-1,k,a)+subst_mat[dict_subst[seq1[i-1]], dict_subst[seq2[j-1]]]+(2*a)\n",
    "        if i>0 and j>=0 and k>0: \n",
    "            v3 = C(i-1,j,k-1,a)+subst_mat[dict_subst[seq1[i-1]], dict_subst[seq3[k-1]]]+(2*a)\n",
    "        if i>=0 and j>0 and k>=0: \n",
    "            v4 = C(i,j-1,k-1,a)+subst_mat[dict_subst[seq2[j-1]], dict_subst[seq3[k-1]]]+(2*a)\n",
    "        if i>0 and j>=0 and k>=0:\n",
    "            v5 = C(i-1,j,k,a)+(2*a)\n",
    "        if i>=0 and j>0 and k>=0:\n",
    "            v6 = C(i,j-1,k,a)+(2*a)\n",
    "        if i>=0 and j>=0 and k>0:\n",
    "            v7 = C(i,j,k-1,a)+(2*a)\n",
    "        if i==0 and j==0 and k==0:\n",
    "            v8 = 0                                                                       \n",
    "        T[i,j,k] = min(v1,v2,v3,v4,v5,v6,v7,v8)\n",
    "    return T[i,j,k]"
   ]
  },
  {
   "cell_type": "code",
   "execution_count": 15,
   "metadata": {},
   "outputs": [
    {
     "name": "stdout",
     "output_type": "stream",
     "text": [
      "-9223372036854775789\n"
     ]
    },
    {
     "name": "stderr",
     "output_type": "stream",
     "text": [
      "<ipython-input-14-2dfd5b793bfe>:12: RuntimeWarning: overflow encountered in longlong_scalars\n",
      "  v4 = C(i,j-1,k-1,a)+subst_mat[dict_subst[seq2[j-1]], dict_subst[seq3[k-1]]]+(2*a)\n",
      "<ipython-input-14-2dfd5b793bfe>:8: RuntimeWarning: overflow encountered in longlong_scalars\n",
      "  v2 = C(i-1,j-1,k,a)+subst_mat[dict_subst[seq1[i-1]], dict_subst[seq2[j-1]]]+(2*a)\n"
     ]
    }
   ],
   "source": [
    "seq1 = \"ACGTGTCAACGT\"\n",
    "seq2 = \"ACGTCGTAGCTA\"\n",
    "seq3 = \"ACGTCTCAAGTT\"\n",
    "\n",
    "m = len(seq1)\n",
    "n = len(seq2)\n",
    "o = len(seq3)\n",
    "\n",
    "T = np.full([m+1,n+1,o+1], None)\n",
    "\n",
    "print(C(m,n,o,5))"
   ]
  }
 ],
 "metadata": {
  "kernelspec": {
   "display_name": "Python 3",
   "language": "python",
   "name": "python3"
  },
  "language_info": {
   "codemirror_mode": {
    "name": "ipython",
    "version": 3
   },
   "file_extension": ".py",
   "mimetype": "text/x-python",
   "name": "python",
   "nbconvert_exporter": "python",
   "pygments_lexer": "ipython3",
   "version": "3.8.5"
  }
 },
 "nbformat": 4,
 "nbformat_minor": 4
}
