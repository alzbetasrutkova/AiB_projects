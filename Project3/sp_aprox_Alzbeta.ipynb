{
 "cells": [
  {
   "cell_type": "markdown",
   "metadata": {},
   "source": [
    "**Sp_approx**"
   ]
  },
  {
   "cell_type": "code",
   "execution_count": 6,
   "metadata": {},
   "outputs": [],
   "source": [
    "import numpy as np\n",
    "import sys"
   ]
  },
  {
   "cell_type": "code",
   "execution_count": 12,
   "metadata": {},
   "outputs": [],
   "source": [
    "#this will return S1 and the rest of the seqs in a matrix\n",
    "def find_center_seq(S, gap_cost, subst_mat):\n",
    "    #this will hold sum of scores for each seq, between itself and the other ones\n",
    "    scores = np.zeros([len(S)])\n",
    "    for i in range(0,len(S)):\n",
    "        for j in range(i+1,len(S)):\n",
    "            n = len(S[i])\n",
    "            m =  len(S[j])\n",
    "            L = np.full([n+1,m+1], None)\n",
    "            cost = global_linear_cost(S[i],S[j],gap_cost,subst_mat,L,n,m)\n",
    "            scores[i] += cost\n",
    "            scores[j] += cost\n",
    "    min_seq_idx = smallest(scores)\n",
    "    S1 = S[min_seq_idx]\n",
    "    S = [i for i in S if not np.array_equal(i, S1)]\n",
    "    return S1,S"
   ]
  },
  {
   "cell_type": "code",
   "execution_count": 8,
   "metadata": {},
   "outputs": [],
   "source": [
    "def smallest(arr): \n",
    "    min = arr[0] \n",
    "    min_idx = 0\n",
    "    for i in range(1, len(arr)): \n",
    "        if arr[i] < min: \n",
    "            min = arr[i] \n",
    "            min_idx = i\n",
    "    return min_idx"
   ]
  },
  {
   "cell_type": "code",
   "execution_count": 4,
   "metadata": {},
   "outputs": [],
   "source": [
    "def global_linear_cost(seq1, seq2, gap_cost, subst_mat, L, i, j):\n",
    "    if L[i, j] == None:        \n",
    "        dict_subst = {\"A\":0, \"C\": 1, \"G\":2, \"T\":3}\n",
    "        v1,v2,v3,v4 = sys.maxsize,sys.maxsize,sys.maxsize,sys.maxsize\n",
    "        if i>0 and j>0 : \n",
    "            v1 = global_linear_cost(seq1, seq2, gap_cost, subst_mat, L, i-1, j-1)+subst_mat[dict_subst[seq1[i-1]], dict_subst[seq2[j-1]]]\n",
    "        if i>0 and j>=0 : \n",
    "            v2 = global_linear_cost(seq1, seq2, gap_cost, subst_mat, L, i-1, j)+ gap_cost\n",
    "        if i>=0 and j>0 : \n",
    "            v3 = global_linear_cost(seq1, seq2, gap_cost, subst_mat, L, i, j-1)+ gap_cost\n",
    "        if i==0 and j==0 : \n",
    "            v4 = 0\n",
    "        L[i,j] = min(v1,v2,v3,v4)\n",
    "    return L[i,j]"
   ]
  },
  {
   "cell_type": "code",
   "execution_count": 13,
   "metadata": {},
   "outputs": [
    {
     "name": "stdout",
     "output_type": "stream",
     "text": [
      "[['A', 'A', 'C', 'T', 'G'], ['A', 'C', 'T']]\n",
      "['A', 'C', 'T']\n",
      "[['A', 'A', 'C', 'T', 'G'], ['A', 'C', 'T']]\n"
     ]
    }
   ],
   "source": [
    "S = [['A','A','C','T','G'], \n",
    "    ['A','C','C','T'],\n",
    "    ['A','C','T']]\n",
    "\n",
    "subst_mat = np.array([\n",
    "        [0,5,2,5],\n",
    "        [5,0,5,2],\n",
    "        [2,5,0,5],\n",
    "        [5,2,5,0]\n",
    "    ])\n",
    "\n",
    "S1,S_rest = find_center_seq(S,5,subst_mat)\n",
    "print(S1)\n",
    "print(S_rest)"
   ]
  }
 ],
 "metadata": {
  "kernelspec": {
   "display_name": "Python 3",
   "language": "python",
   "name": "python3"
  },
  "language_info": {
   "codemirror_mode": {
    "name": "ipython",
    "version": 3
   },
   "file_extension": ".py",
   "mimetype": "text/x-python",
   "name": "python",
   "nbconvert_exporter": "python",
   "pygments_lexer": "ipython3",
   "version": "3.8.5"
  }
 },
 "nbformat": 4,
 "nbformat_minor": 4
}
