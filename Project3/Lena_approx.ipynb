{
 "cells": [
  {
   "cell_type": "code",
   "execution_count": 1,
   "metadata": {},
   "outputs": [],
   "source": [
    "import numpy as np\n",
    "import sys"
   ]
  },
  {
   "cell_type": "code",
   "execution_count": 2,
   "metadata": {},
   "outputs": [],
   "source": [
    "subst_mat = np.array([\n",
    "        [0,5,2,5],\n",
    "        [5,0,5,2],\n",
    "        [2,5,0,5],\n",
    "        [5,2,5,0]\n",
    "    ], dtype=np.float64)"
   ]
  },
  {
   "cell_type": "code",
   "execution_count": 3,
   "metadata": {},
   "outputs": [],
   "source": [
    "def global_linear_cost(seq1, seq2, gap_cost, subst_mat, L, i, j):\n",
    "    if L[i, j] == None:        \n",
    "        dict_subst = {\"A\":0, \"C\": 1, \"G\":2, \"T\":3}\n",
    "        v1,v2,v3,v4 = sys.maxsize,sys.maxsize,sys.maxsize,sys.maxsize\n",
    "        if i>0 and j>0 : \n",
    "            v1 = global_linear_cost(seq1, seq2, gap_cost, subst_mat, L, i-1, j-1)+subst_mat[dict_subst[seq1[i-1]], dict_subst[seq2[j-1]]]\n",
    "        if i>0 and j>=0 : \n",
    "            v2 = global_linear_cost(seq1, seq2, gap_cost, subst_mat, L, i-1, j)+ gap_cost\n",
    "        if i>=0 and j>0 : \n",
    "            v3 = global_linear_cost(seq1, seq2, gap_cost, subst_mat, L, i, j-1)+ gap_cost\n",
    "        if i==0 and j==0 : \n",
    "            v4 = 0\n",
    "        L[i,j] = min(v1,v2,v3,v4)\n",
    "    return L[i,j] "
   ]
  },
  {
   "cell_type": "code",
   "execution_count": 24,
   "metadata": {},
   "outputs": [],
   "source": [
    "def find_center_string(S, gap_cost, subst_mat) : \n",
    "    nb_str = len(S)\n",
    "    minS = 0\n",
    "    center = 0\n",
    "    PairwiseCostMat = np.full([len(S)+1, len(S)+1], None)\n",
    "    for k in range(1,nb_str):\n",
    "        if PairwiseCostMat[0,k] != None : \n",
    "            minS += PairwiseCostMat[0,k] \n",
    "        else : \n",
    "            L = np.full([len(S[0])+1, len(S[k])+1], None)\n",
    "            PairwiseCostMat [0,k] = global_linear_cost(S[0], S[k], gap_cost, subst_mat, L, len(S[0]), len(S[k]))\n",
    "            PairwiseCostMat [k,0] = PairwiseCostMat [0,k]\n",
    "            minS += PairwiseCostMat [0,k] \n",
    "    for i in range(1,nb_str):\n",
    "        sum_pairwise = 0\n",
    "        for j in range(nb_str):\n",
    "            if j == i :\n",
    "                pass\n",
    "            else : \n",
    "                if PairwiseCostMat[i,j] != None : \n",
    "                    sum_pairwise += PairwiseCostMat[i,j] \n",
    "                else : \n",
    "                    L = np.full([len(S[i])+1, len(S[j])+1], None)\n",
    "                    PairwiseCostMat [i,j] = global_linear_cost(S[i], S[j], gap_cost, subst_mat, L, len(S[i]), len(S[j]))\n",
    "                    PairwiseCostMat [j,i] = PairwiseCostMat [i,j]\n",
    "                    sum_pairwise += PairwiseCostMat [i,j]\n",
    "            if sum_pairwise > minS : \n",
    "                # we already know that min is not going to be reached with this sequence\n",
    "                break\n",
    "                \n",
    "        if sum_pairwise < minS :\n",
    "            # A new min has been found\n",
    "            minS = sum_pairwise\n",
    "            center = i\n",
    "    return center\n",
    "            "
   ]
  },
  {
   "cell_type": "code",
   "execution_count": 28,
   "metadata": {},
   "outputs": [
    {
     "name": "stdout",
     "output_type": "stream",
     "text": [
      "['GTTCCGAAAGGCTAGCGCTAGGCGCC', 'ATGGATTTATCTGCTCTTCG', 'TGCATGCTGAAACTTCTCAACCA']\n",
      "1\n",
      "122.0 136.0\n",
      "after this turn, min = 122.0 center = 1\n",
      "2\n",
      "116.0 122.0\n",
      "after this turn, min = 116.0 center = 2\n"
     ]
    },
    {
     "data": {
      "text/plain": [
       "2"
      ]
     },
     "execution_count": 28,
     "metadata": {},
     "output_type": "execute_result"
    }
   ],
   "source": [
    "seq1 = \"GTTCCGAAAGGCTAGCGCTAGGCGCC\"\n",
    "seq2 = \"ATGGATTTATCTGCTCTTCG\"\n",
    "seq3 = \"TGCATGCTGAAACTTCTCAACCA\"\n",
    "S = [seq1, seq2, seq3]\n",
    "print(S)\n",
    "\n",
    "find_center_string(S, 5, subst_mat)"
   ]
  },
  {
   "cell_type": "code",
   "execution_count": 30,
   "metadata": {},
   "outputs": [
    {
     "name": "stdout",
     "output_type": "stream",
     "text": [
      "['TGCATGCTGAAACTTCTCAACCA', 'GTTCCGAAAGGCTAGCGCTAGGCGCC', 'ATGGATTTATCTGCTCTTCG']\n",
      "1\n",
      "136.0 116.0\n",
      "after this turn, min = 116.0 center = 0\n",
      "2\n",
      "122.0 116.0\n",
      "after this turn, min = 116.0 center = 0\n"
     ]
    },
    {
     "data": {
      "text/plain": [
       "0"
      ]
     },
     "execution_count": 30,
     "metadata": {},
     "output_type": "execute_result"
    }
   ],
   "source": [
    "seq3 = \"ATGGATTTATCTGCTCTTCG\"\n",
    "seq2 = \"GTTCCGAAAGGCTAGCGCTAGGCGCC\"\n",
    "seq1 = \"TGCATGCTGAAACTTCTCAACCA\"\n",
    "S = [seq1, seq2, seq3]\n",
    "print(S)\n",
    "find_center_string(S, 5, subst_mat)"
   ]
  },
  {
   "cell_type": "code",
   "execution_count": 27,
   "metadata": {},
   "outputs": [
    {
     "data": {
      "text/plain": [
       "['ATGGATTTATCTGCTCTTCG',\n",
       " 'GTTCCGAAAGGCTAGCGCTAGGCGCC',\n",
       " 'TGCATGCTGAAACTTCTCAACCA']"
      ]
     },
     "execution_count": 27,
     "metadata": {},
     "output_type": "execute_result"
    }
   ],
   "source": [
    "S"
   ]
  }
 ],
 "metadata": {
  "kernelspec": {
   "display_name": "Python 3",
   "language": "python",
   "name": "python3"
  },
  "language_info": {
   "codemirror_mode": {
    "name": "ipython",
    "version": 3
   },
   "file_extension": ".py",
   "mimetype": "text/x-python",
   "name": "python",
   "nbconvert_exporter": "python",
   "pygments_lexer": "ipython3",
   "version": "3.8.5"
  }
 },
 "nbformat": 4,
 "nbformat_minor": 4
}
