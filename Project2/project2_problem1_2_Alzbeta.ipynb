{
 "cells": [
  {
   "cell_type": "markdown",
   "metadata": {},
   "source": [
    "The code below is only relevant for the second part of the first problem in project 2 "
   ]
  },
  {
   "cell_type": "code",
   "execution_count": 1,
   "metadata": {},
   "outputs": [],
   "source": [
    "import math \n",
    "import sys\n",
    "import Bio\n",
    "from Bio import SeqIO\n",
    "import numpy as np"
   ]
  },
  {
   "cell_type": "code",
   "execution_count": 2,
   "metadata": {},
   "outputs": [],
   "source": [
    "#this function returns the cost of an optimal alignment of seq1 and seq2 \n",
    "#based on scores in the subst_mat and affine gapcost with parameters\n",
    "def cost_affine(seq1,seq2,subst_mat,a,b):\n",
    "    m = len(seq1)\n",
    "    n = len(seq2)\n",
    "    \n",
    "    S = np.full([m+1,n+1], None)\n",
    "    I = np.full([m+1,n+1], None)\n",
    "    D = np.full([m+1,n+1], None)\n",
    "    \n",
    "    dict_subst = {\"a\":0, \"c\": 1, \"g\":2, \"t\":3}\n",
    "    \n",
    "    for i in range(0, m+1):\n",
    "        for j in range(0, n+1):\n",
    "        # Compute D[i,j]\n",
    "            v1,v2 = sys.maxsize,sys.maxsize\n",
    "            if i>0 and j>=0 : \n",
    "                v1 = S[i-1,j]+(a+b)\n",
    "            if i>1 and j>=0:\n",
    "                v2 = D[i-1,j]+a\n",
    "            D[i,j] = min(v1,v2)\n",
    "                    \n",
    "        # Compute I[i,j]\n",
    "            v1,v2 = sys.maxsize,sys.maxsize\n",
    "            if i>=0 and j>0:\n",
    "                v1 = S[i,j-1]+(a+b)\n",
    "            if i>=0 and j>1:\n",
    "                v2 = I[i,j-1]+a\n",
    "            I[i,j] = min(v1,v2)\n",
    "                 \n",
    "        # Compute S[i,j] \n",
    "            v1,v2,v3,v4 = sys.maxsize,sys.maxsize,sys.maxsize,sys.maxsize\n",
    "            if i==0 and j==0 :\n",
    "                v1 = 0                \n",
    "            if i>0 and j>0:\n",
    "                v2 = S[i-1,j-1] + subst_mat[dict_subst[seq1[i-1]], dict_subst[seq2[j-1]]]\n",
    "            if i>0 and j>=0:\n",
    "                v3 = D[i,j]\n",
    "            if i>=0 and j>0:\n",
    "                v4 = I[i,j]\n",
    "            S[i,j] = min(v1,v2,v3,v4)        \n",
    "    return S"
   ]
  },
  {
   "cell_type": "code",
   "execution_count": 3,
   "metadata": {},
   "outputs": [],
   "source": [
    "#this functionreturns the optimal alignment of seq1 and seq2 \n",
    "#based on the previously calculated S matrix given scores in the subst_mat and affine gapcost with parameters a and b\n",
    "def backtrack_affine(seq1,seq2,S,subst_mat,a,b):\n",
    "    i = len(seq1)\n",
    "    j = len(seq2)\n",
    "    align1 = \"\"\n",
    "    align2 = \"\"\n",
    "    dict_subst = {\"a\":0, \"c\": 1, \"g\":2, \"t\":3}\n",
    "    while (i>0 or j>0):\n",
    "        if (i>0 and j>0) and (S[i,j] == S[i-1,j-1] + subst_mat[dict_subst[seq1[i-1]], dict_subst[seq2[j-1]]]):\n",
    "            align1 = seq1[i-1] + align1\n",
    "            align2 = seq2[j-1] + align2\n",
    "            i = i-1\n",
    "            j = j-1\n",
    "        else:\n",
    "            k = 1\n",
    "            while True:\n",
    "                if i>=k and S[i,j] == S[i-k,j] + (a+b*k):\n",
    "                    l = i\n",
    "                    while(l>=i-k+1):\n",
    "                        align1 = seq1[l-1] + align1\n",
    "                        align2 = \"-\" + align2\n",
    "                        l = l-1\n",
    "                    i = i-k\n",
    "                    break\n",
    "                elif j>=k and S[i,j] == S[i,j-k] + (a+b*k):\n",
    "                    l = j\n",
    "                    while(l>=i-k+1):\n",
    "                        align1 = \"-\" + align1\n",
    "                        align2 = seq2[l-1] + align2\n",
    "                        l = l-1\n",
    "                    j = j-k\n",
    "                    break\n",
    "                else:\n",
    "                    k = k+1\n",
    "    return align1, align2"
   ]
  },
  {
   "cell_type": "code",
   "execution_count": 4,
   "metadata": {},
   "outputs": [],
   "source": [
    "#this function reads a FASTA file (given the filename) and returns its contents as a dictionary\n",
    "#where each seq in the file is represented as a key-value pair\n",
    "#The key is the seq header (everything that folllows '>') and the value is the sequence itself\n",
    "def read_FASTA(filename):\n",
    "    records_dict = {}\n",
    "    for seq_record in SeqIO.parse(filename, \"fasta\"):\n",
    "        records_dict[seq_record.id] = seq_record.seq        \n",
    "    return records_dict"
   ]
  },
  {
   "cell_type": "code",
   "execution_count": 5,
   "metadata": {},
   "outputs": [],
   "source": [
    "#this function reads a substitution matrix from a file and returns its contants in 4x4 matrix \n",
    "#Assumptions: the subst matrix is in phylip-like format in a txt file\n",
    "#             the matrix is only DNA and the nucleotides are in the order: A,C,G,T\n",
    "#therefore it \"skips\" the first line completely and first (non-whitespace) character of every other line following the first one\n",
    "def read_subst_mtrx(filename):\n",
    "    subst_mat = np.zeros((4,4))\n",
    "    #skipping the first line\n",
    "    f = open(filename,'r')\n",
    "    f.readline()\n",
    "    for i in range(0,4):\n",
    "        line = f.readline()\n",
    "        nums_in_line = line.split()\n",
    "        for j in range(1,5):\n",
    "            subst_mat[i,j-1] = nums_in_line[j]\n",
    "    f.close()\n",
    "    return subst_mat   \n",
    "    "
   ]
  },
  {
   "cell_type": "code",
   "execution_count": 6,
   "metadata": {},
   "outputs": [],
   "source": [
    "#this function given two parts of an alignment prints the alignment in the FASTA format\n",
    "def FASTA_out(align1,align2):\n",
    "    print(\">seq1\")\n",
    "    print(align1)\n",
    "    print()\n",
    "    print(\">seq2\")\n",
    "    print(align2)"
   ]
  },
  {
   "cell_type": "code",
   "execution_count": 7,
   "metadata": {},
   "outputs": [],
   "source": [
    "#this function wraps all the other ones, this function will be called by the user\n",
    "#it takes in 6 params:\n",
    "#            seq1_filename,seq2_filename ... filenames of seqs in FASTA files\n",
    "#            subst_matrx_filename .......... filename of substritution matrix in text file\n",
    "#            a,b ........................... affine gapcost coefficients (g(k)=a+bk)\n",
    "#            align ......................... boolean value (True,False) which indicates, whether the user wants to output an optimal alignment as well\n",
    "def global_affine(seq1_filename,seq2_filename,subst_matrx_filename,a,b,align):\n",
    "    seq1 = list(read_FASTA(seq1_filename).values())[0].lower()\n",
    "    seq2 = list(read_FASTA(seq2_filename).values())[0].lower()\n",
    "    \n",
    "    subst_mat = read_subst_mtrx(subst_matrx_filename)\n",
    "\n",
    "    S = cost_affine(seq1,seq2,subst_mat,a,b)\n",
    "    print(S[len(seq1),len(seq2)])\n",
    "    \n",
    "    if align:\n",
    "        align1,align2 = backtrack_affine(seq1,seq2,S,subst_mat,a,b)\n",
    "        FASTA_out(align1,align2)"
   ]
  },
  {
   "cell_type": "code",
   "execution_count": 8,
   "metadata": {
    "scrolled": false
   },
   "outputs": [
    {
     "name": "stdout",
     "output_type": "stream",
     "text": [
      "24.0\n",
      ">seq1\n",
      "acgtgtcaacgt\n",
      "\n",
      ">seq2\n",
      "acgtcgtagcta\n"
     ]
    }
   ],
   "source": [
    "global_affine(\"C:/Users/alzbe/Documents/AU_Bioinfo_Masters/Spring_2021/AiB/Projects/Project_01/test_data/case1_seq1.fasta\",\"C:/Users/alzbe/Documents/AU_Bioinfo_Masters/Spring_2021/AiB/Projects/Project_01/test_data/case1_seq2.fasta\",\"C:/Users/alzbe/Documents/AU_Bioinfo_Masters/Spring_2021/AiB/Projects/Project_01/test_data/subst_matrix.txt\",5,5,True)"
   ]
  }
 ],
 "metadata": {
  "kernelspec": {
   "display_name": "Python 3",
   "language": "python",
   "name": "python3"
  },
  "language_info": {
   "codemirror_mode": {
    "name": "ipython",
    "version": 3
   },
   "file_extension": ".py",
   "mimetype": "text/x-python",
   "name": "python",
   "nbconvert_exporter": "python",
   "pygments_lexer": "ipython3",
   "version": "3.8.5"
  }
 },
 "nbformat": 4,
 "nbformat_minor": 4
}
