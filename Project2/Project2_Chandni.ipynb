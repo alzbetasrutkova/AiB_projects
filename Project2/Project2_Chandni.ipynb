{
 "cells": [
  {
   "cell_type": "code",
   "execution_count": 22,
   "metadata": {},
   "outputs": [],
   "source": [
    "import numpy as np\n",
    "subst_mat = np.array([\n",
    "        [0,5,2,5],\n",
    "        [5,0,5,2],\n",
    "        [2,5,0,5],\n",
    "        [5,2,5,0]\n",
    "    ])"
   ]
  },
  {
   "cell_type": "markdown",
   "metadata": {},
   "source": [
    "## Linear Gap Cost"
   ]
  },
  {
   "cell_type": "code",
   "execution_count": 31,
   "metadata": {},
   "outputs": [],
   "source": [
    "import sys\n",
    "def global_linear(i,j, g):\n",
    "    if T[i, j] == None:        \n",
    "        dict_subst = {\"a\":0, \"c\": 1, \"g\":2, \"t\":3}\n",
    "        #v1,v2,v3,v4 = 0,0,0,0\n",
    "        v1,v2,v3,v4 = sys.maxsize,sys.maxsize,sys.maxsize,sys.maxsize\n",
    "        if i>0 and j>0 : \n",
    "            v1 = global_linear(i-1,j-1,g)+ subst_mat[dict_subst[seq1[i-1]], dict_subst[seq2[j-1]]]\n",
    "        if i>0 and j>=0 : \n",
    "            v2 = global_linear(i-1,j,g)+g\n",
    "        if i>=0 and j>0 : \n",
    "            v3 = global_linear(i, j-1,g)+g\n",
    "        if i==0 and j==0 : \n",
    "            v4 = 0\n",
    "        T[i,j] = min(v1,v2,v3,v4)\n",
    "    return T[i,j]"
   ]
  },
  {
   "cell_type": "code",
   "execution_count": 32,
   "metadata": {},
   "outputs": [
    {
     "name": "stdout",
     "output_type": "stream",
     "text": [
      "22\n",
      "[[0 5 10 15 20 25 30 35 40 45 50 55 60]\n",
      " [5 0 5 10 15 20 25 30 35 40 45 50 55]\n",
      " [10 5 0 5 10 15 20 25 30 35 40 45 50]\n",
      " [15 10 5 0 5 10 15 20 25 30 35 40 45]\n",
      " [20 15 10 5 0 5 10 15 20 25 30 35 40]\n",
      " [25 20 15 10 5 5 5 10 15 20 25 30 35]\n",
      " [30 25 20 15 10 7 10 5 10 15 20 25 30]\n",
      " [35 30 25 20 15 10 12 10 10 15 15 20 25]\n",
      " [40 35 30 25 20 15 12 15 10 12 17 20 20]\n",
      " [45 40 35 30 25 20 17 17 15 12 17 22 20]\n",
      " [50 45 40 35 30 25 22 19 20 17 12 17 22]\n",
      " [55 50 45 40 35 30 25 24 21 20 17 17 19]\n",
      " [60 55 50 45 40 35 30 25 26 25 22 17 22]]\n"
     ]
    }
   ],
   "source": [
    "#Case 1\n",
    "seq1 = \"acgtgtcaacgt\"  \n",
    "seq2 = \"acgtcgtagcta\"   \n",
    "\n",
    "m = len(seq1)\n",
    "n = len(seq2)\n",
    "\n",
    "T = np.full([m+1,n+1], None)\n",
    "\n",
    "print(global_linear(m,n,5))\n",
    "print(T)"
   ]
  },
  {
   "cell_type": "code",
   "execution_count": 34,
   "metadata": {},
   "outputs": [
    {
     "name": "stdout",
     "output_type": "stream",
     "text": [
      "14\n",
      "[[0 5 10 15 20]\n",
      " [5 0 5 10 15]\n",
      " [10 5 0 5 10]\n",
      " [15 10 5 5 10]\n",
      " [20 15 10 7 7]\n",
      " [25 20 15 12 9]\n",
      " [30 25 20 17 14]]\n"
     ]
    }
   ],
   "source": [
    "#Case 2\n",
    "\n",
    "seq1 = \"aataat\"  \n",
    "seq2 = \"aagg\"  \n",
    "\n",
    "m = len(seq1)\n",
    "n = len(seq2)\n",
    "\n",
    "T = np.full([m+1,n+1], None)\n",
    "\n",
    "\n",
    "print(global_linear(m,n,5))\n",
    "print(T)"
   ]
  },
  {
   "cell_type": "code",
   "execution_count": 35,
   "metadata": {},
   "outputs": [
    {
     "name": "stdout",
     "output_type": "stream",
     "text": [
      "20\n",
      "[[0 5 10 15 20 25]\n",
      " [5 0 5 10 15 20]\n",
      " [10 5 0 5 10 15]\n",
      " [15 10 5 5 10 12]\n",
      " [20 15 10 7 5 10]\n",
      " [25 20 15 10 9 10]\n",
      " [30 25 20 15 10 14]\n",
      " [35 30 25 20 15 15]\n",
      " [40 35 30 25 20 20]]\n"
     ]
    }
   ],
   "source": [
    "#Case 3\n",
    "\n",
    "seq1 = \"tccagaga\"  \n",
    "seq2 = \"tcgat\"  \n",
    "\n",
    "m = len(seq1)\n",
    "n = len(seq2)\n",
    "\n",
    "T = np.full([m+1,n+1], None)\n",
    "\n",
    "\n",
    "print(global_linear(m,n,5))\n",
    "print(T)"
   ]
  },
  {
   "cell_type": "code",
   "execution_count": 36,
   "metadata": {},
   "outputs": [
    {
     "name": "stdout",
     "output_type": "stream",
     "text": [
      "325\n",
      "[[0 5 10 ... 980 985 990]\n",
      " [5 0 5 ... 975 980 985]\n",
      " [10 5 0 ... 970 975 980]\n",
      " ...\n",
      " [980 975 970 ... 325 330 335]\n",
      " [985 980 975 ... 330 325 330]\n",
      " [990 985 980 ... 333 330 325]]\n"
     ]
    }
   ],
   "source": [
    "#Case 4\n",
    "\n",
    "seq1 = \"ggcctaaaggcgccggtctttcgtaccccaaaatctcggcattttaagataagtgagtgttgcgttacactagcgatctaccgcgtcttatacttaagcgtatgcccagatctgactaatcgtgcccccggattagacgggcttgatgggaaagaacagctcgtctgtttacgtataaacagaatcgcctgggttcgc\"  \n",
    "seq2 = \"gggctaaaggttagggtctttcacactaaagagtggtgcgtatcgtggctaatgtaccgcttctggtatcgtggcttacggccagacctacaagtactagacctgagaactaatcttgtcgagccttccattgagggtaatgggagagaacatcgagtcagaagttattcttgtttacgtagaatcgcctgggtccgc\"  \n",
    "\n",
    "m = len(seq1)\n",
    "n = len(seq2)\n",
    "\n",
    "T = np.full([m+1,n+1], None)\n",
    "\n",
    "print(global_linear(m,n,5))\n",
    "print(T)"
   ]
  },
  {
   "cell_type": "code",
   "execution_count": 37,
   "metadata": {},
   "outputs": [],
   "source": [
    "import Bio"
   ]
  },
  {
   "cell_type": "code",
   "execution_count": 38,
   "metadata": {},
   "outputs": [],
   "source": [
    "from Bio import SeqIO\n",
    "import numpy as np\n",
    "\n",
    "def read_FASTA(filename):\n",
    "    records_dict = {}\n",
    "    for seq_record in SeqIO.parse(filename, \"fasta\"):\n",
    "        records_dict[seq_record.id] = seq_record.seq        \n",
    "    return records_dict"
   ]
  },
  {
   "cell_type": "code",
   "execution_count": 41,
   "metadata": {},
   "outputs": [
    {
     "name": "stdout",
     "output_type": "stream",
     "text": [
      "325\n",
      "[[0 5 10 ... 980 985 990]\n",
      " [5 0 5 ... 975 980 985]\n",
      " [10 5 0 ... 970 975 980]\n",
      " ...\n",
      " [980 975 970 ... 325 330 335]\n",
      " [985 980 975 ... 330 325 330]\n",
      " [990 985 980 ... 333 330 325]]\n"
     ]
    }
   ],
   "source": [
    "#case 4\n",
    "seq1 = list(read_FASTA(\"/Users/chandnishaw/Desktop/AiB/Project1/seq1.fasta\").values())[0].lower()\n",
    "seq2 = list(read_FASTA(\"/Users/chandnishaw/Desktop/AiB/Project1/seq2.fasta\").values())[0].lower()\n",
    "\n",
    "m = len(seq1)\n",
    "n = len(seq2)\n",
    "\n",
    "T = np.full([m+1,n+1], None)\n",
    "\n",
    "\n",
    "print(global_linear(m,n,5))\n",
    "print(T)"
   ]
  },
  {
   "cell_type": "code",
   "execution_count": 46,
   "metadata": {},
   "outputs": [],
   "source": [
    "def RecurBackTrack(i,j, seq1, seq2, gap_cost, T, align1=\"\", align2=\"\"):\n",
    "    dict_subst = {\"a\":0, \"c\": 1, \"g\":2, \"t\":3}\n",
    "    if i>0 and j>0 and T[i,j]==T[i-1,j-1]+ subst_mat[dict_subst[seq1[i-1]], dict_subst[seq2[j-1]]] :\n",
    "        align1 = seq1[i-1] + align1\n",
    "        align2 = seq2[j-1] + align2\n",
    "        RecurBackTrack(i-1,j-1,seq1, seq2, gap_cost, T, align1, align2)\n",
    "    elif i>0 and j>=0 and T[i,j]==T[i-1,j]+ gap_cost :\n",
    "        align1 = seq1[i-1] + align1\n",
    "        align2 = \"_\" + align2\n",
    "        RecurBackTrack(i-1,j,seq1, seq2, gap_cost, T, align1, align2)\n",
    "    elif i>=0 and j>0 and T[i,j]==T[i,j-1]+gap_cost :\n",
    "        align1 = \"_\" + align1\n",
    "        align2 = seq2[j-1] + align2\n",
    "        RecurBackTrack(i,j-1, seq1, seq2, gap_cost, T, align1, align2)\n",
    "    else:\n",
    "        print (align1, align2)\n",
    "        return None"
   ]
  },
  {
   "cell_type": "code",
   "execution_count": 47,
   "metadata": {},
   "outputs": [
    {
     "name": "stdout",
     "output_type": "stream",
     "text": [
      "22\n",
      "acgt_gtcaacgt acgtcgt_agcta\n",
      "None\n"
     ]
    }
   ],
   "source": [
    "#Case 1\n",
    "seq1 = \"acgtgtcaacgt\"  \n",
    "seq2 = \"acgtcgtagcta\" \n",
    "\n",
    "m = len(seq1)\n",
    "n = len(seq2)\n",
    "\n",
    "T = np.full([m+1,n+1], None)\n",
    "\n",
    "align1 = \"\"\n",
    "align2 = \"\"\n",
    "\n",
    "\n",
    "print(global_linear(m,n,5))\n",
    "\n",
    "print(RecurBackTrack(m,n, seq1, seq2, 5, T))"
   ]
  },
  {
   "cell_type": "code",
   "execution_count": 48,
   "metadata": {},
   "outputs": [
    {
     "name": "stdout",
     "output_type": "stream",
     "text": [
      "226\n",
      "tatgga_gagaataaaagaactgagagatct_aatgtcgcagtcccgcac_tcgcgagatact_cactaagac_cactgtggaccatatggccataatcaaaaag _atggatgtcaatccga_ctctacttttcctaaaaattccagcgcaaaatgccataag_caccacattcccttatactggagatcct_cca_tacagccatggaa\n",
      "None\n"
     ]
    }
   ],
   "source": [
    "#project2_eval.txt Question 1\n",
    "#seq1 and seq2\n",
    "\n",
    "seq1 = \"tatggagagaataaaagaactgagagatctaatgtcgcagtcccgcactcgcgagatactcactaagaccactgtggaccatatggccataatcaaaaag\"  \n",
    "seq2 = \"atggatgtcaatccgactctacttttcctaaaaattccagcgcaaaatgccataagcaccacattcccttatactggagatcctccatacagccatggaa\" \n",
    "\n",
    "m = len(seq1)\n",
    "n = len(seq2)\n",
    "\n",
    "T = np.full([m+1,n+1], None)\n",
    "\n",
    "align1 = \"\"\n",
    "align2 = \"\"\n",
    "\n",
    "\n",
    "print(global_linear(m,n,5))\n",
    "\n",
    "print(RecurBackTrack(m,n, seq1, seq2, 5, T))"
   ]
  },
  {
   "cell_type": "code",
   "execution_count": 50,
   "metadata": {},
   "outputs": [
    {
     "name": "stdout",
     "output_type": "stream",
     "text": [
      "206\n",
      "tatggagagaataaaaga_actgagagatctaatgtcgcagtcccgcactcg_cgagatactcactaagaccactgtggaccatatggccataat_c__aaa___aag t_c_ca_a_aatggaagactttgtgcga_c_aatgcttcaatccaatgatcgtcgagct_tgcggaaaaggcaatg_aaagaatatggggaagatccgaaaatcgaaa\n",
      "None\n"
     ]
    }
   ],
   "source": [
    "#project2_eval.txt Question 3\n",
    "#seq1 and seq3\n",
    "\n",
    "seq1 = \"tatggagagaataaaagaactgagagatctaatgtcgcagtcccgcactcgcgagatactcactaagaccactgtggaccatatggccataatcaaaaag\"  \n",
    "seq2 = \"tccaaaatggaagactttgtgcgacaatgcttcaatccaatgatcgtcgagcttgcggaaaaggcaatgaaagaatatggggaagatccgaaaatcgaaa\" \n",
    "\n",
    "m = len(seq1)\n",
    "n = len(seq2)\n",
    "\n",
    "T = np.full([m+1,n+1], None)\n",
    "\n",
    "align1 = \"\"\n",
    "align2 = \"\"\n",
    "\n",
    "\n",
    "print(global_linear(m,n,5))\n",
    "\n",
    "print(RecurBackTrack(m,n, seq1, seq2, 5, T))"
   ]
  },
  {
   "cell_type": "code",
   "execution_count": 51,
   "metadata": {},
   "outputs": [
    {
     "name": "stdout",
     "output_type": "stream",
     "text": [
      "202\n",
      "_tatg_ga_gagaataaaag__a_actgagagatctaatgt_cgcagtcccgcactcgcgagatactcactaagaccac_tgtggaccat_atggccataatcaaaaag aaaagcaacaaaaatgaaggcaatactagtagttctgctatataca_t_ttgcaaccgc_aaatgcagac__acattatgtataggttatcat_g_cg_aa_caattca\n",
      "None\n"
     ]
    }
   ],
   "source": [
    "#project2_eval.txt Question 3\n",
    "#seq1 and seq4\n",
    "\n",
    "seq1 = \"tatggagagaataaaagaactgagagatctaatgtcgcagtcccgcactcgcgagatactcactaagaccactgtggaccatatggccataatcaaaaag\"  \n",
    "seq2 = \"aaaagcaacaaaaatgaaggcaatactagtagttctgctatatacatttgcaaccgcaaatgcagacacattatgtataggttatcatgcgaacaattca\" \n",
    "\n",
    "m = len(seq1)\n",
    "n = len(seq2)\n",
    "\n",
    "T = np.full([m+1,n+1], None)\n",
    "\n",
    "align1 = \"\"\n",
    "align2 = \"\"\n",
    "\n",
    "\n",
    "print(global_linear(m,n,5))\n",
    "\n",
    "print(RecurBackTrack(m,n, seq1, seq2, 5, T))"
   ]
  },
  {
   "cell_type": "code",
   "execution_count": 52,
   "metadata": {},
   "outputs": [
    {
     "name": "stdout",
     "output_type": "stream",
     "text": [
      "209\n",
      "tatggagaga_ataaaagaactgagagatctaatgtcgcagtcccgcactcgcgagatactcactaagaccactgtgga___cca_tatggc_ca_taatcaaaa_ag _at_gagtgacatcgaag__ccatggcgtctcaag__gca_ccaaacgatcatatga_acaaatggagactggtggggagcgccaggatgccacagaaatcagagcat\n",
      "None\n"
     ]
    }
   ],
   "source": [
    "#project2_eval.txt Question 3\n",
    "#seq1 and seq5\n",
    "\n",
    "seq1 = \"tatggagagaataaaagaactgagagatctaatgtcgcagtcccgcactcgcgagatactcactaagaccactgtggaccatatggccataatcaaaaag\"  \n",
    "seq2 = \"atgagtgacatcgaagccatggcgtctcaaggcaccaaacgatcatatgaacaaatggagactggtggggagcgccaggatgccacagaaatcagagcat\" \n",
    "\n",
    "m = len(seq1)\n",
    "n = len(seq2)\n",
    "\n",
    "T = np.full([m+1,n+1], None)\n",
    "\n",
    "align1 = \"\"\n",
    "align2 = \"\"\n",
    "\n",
    "\n",
    "print(global_linear(m,n,5))\n",
    "\n",
    "print(RecurBackTrack(m,n, seq1, seq2, 5, T))"
   ]
  },
  {
   "cell_type": "code",
   "execution_count": 53,
   "metadata": {},
   "outputs": [
    {
     "name": "stdout",
     "output_type": "stream",
     "text": [
      "239\n",
      "______atggatg__tcaatccgactctacttt_tcctaaaaattccagcgcaaaatgccataagcaccacattcccttatactggagatcctccatacagccatggaa tccaaaatggaagactttgtgcgacaatgcttcaatccaatga_t_cgtcg_agcttg_cggaaaaggca_atgaaagaata_tggggaagatccg_aaaatc__gaaa\n",
      "None\n"
     ]
    }
   ],
   "source": [
    "#project2_eval.txt Question 3\n",
    "#seq2 and seq3\n",
    "\n",
    "seq1 = \"atggatgtcaatccgactctacttttcctaaaaattccagcgcaaaatgccataagcaccacattcccttatactggagatcctccatacagccatggaa\"  \n",
    "seq2 = \"tccaaaatggaagactttgtgcgacaatgcttcaatccaatgatcgtcgagcttgcggaaaaggcaatgaaagaatatggggaagatccgaaaatcgaaa\" \n",
    "\n",
    "m = len(seq1)\n",
    "n = len(seq2)\n",
    "\n",
    "T = np.full([m+1,n+1], None)\n",
    "\n",
    "align1 = \"\"\n",
    "align2 = \"\"\n",
    "\n",
    "\n",
    "print(global_linear(m,n,5))\n",
    "\n",
    "print(RecurBackTrack(m,n, seq1, seq2, 5, T))"
   ]
  },
  {
   "cell_type": "code",
   "execution_count": 54,
   "metadata": {},
   "outputs": [
    {
     "name": "stdout",
     "output_type": "stream",
     "text": [
      "223\n",
      "atggatgtcaatccgactcta_cttttcctaaaaattccagcgca_aaatgccataa__gc_accacattc_ccttatactggagatcctccatac_agccatggaa a_aaa_g_caacaaaaatgaaggcaatactagtagttctgctatatacat_ttgcaaccgcaaatgcagacacattatg_tataggttat_catgcgaacaat_tca\n",
      "None\n"
     ]
    }
   ],
   "source": [
    "#project2_eval.txt Question 3\n",
    "#seq2 and seq4\n",
    "\n",
    "seq1 = \"atggatgtcaatccgactctacttttcctaaaaattccagcgcaaaatgccataagcaccacattcccttatactggagatcctccatacagccatggaa\"  \n",
    "seq2 = \"aaaagcaacaaaaatgaaggcaatactagtagttctgctatatacatttgcaaccgcaaatgcagacacattatgtataggttatcatgcgaacaattca\" \n",
    "\n",
    "m = len(seq1)\n",
    "n = len(seq2)\n",
    "\n",
    "T = np.full([m+1,n+1], None)\n",
    "\n",
    "align1 = \"\"\n",
    "align2 = \"\"\n",
    "\n",
    "\n",
    "print(global_linear(m,n,5))\n",
    "\n",
    "print(RecurBackTrack(m,n, seq1, seq2, 5, T))"
   ]
  },
  {
   "cell_type": "code",
   "execution_count": 55,
   "metadata": {},
   "outputs": [
    {
     "name": "stdout",
     "output_type": "stream",
     "text": [
      "220\n",
      "atggatgtcaatccgactctacttttcctaaaaattcc_agcg_caaaatgccataagcaccacattcccttata_c_tggagatcctccatacagccatgg_aa atgagtgac_at_cgaagccatggcgtctcaaggcaccaaacgatcatatg_aacaaatg_gagactggtggggagcgccaggatgccacaga_aatcagagcat\n",
      "None\n"
     ]
    }
   ],
   "source": [
    "#project2_eval.txt Question 3\n",
    "#seq2 and seq5\n",
    "\n",
    "seq1 = \"atggatgtcaatccgactctacttttcctaaaaattccagcgcaaaatgccataagcaccacattcccttatactggagatcctccatacagccatggaa\"  \n",
    "seq2 = \"atgagtgacatcgaagccatggcgtctcaaggcaccaaacgatcatatgaacaaatggagactggtggggagcgccaggatgccacagaaatcagagcat\" \n",
    "\n",
    "m = len(seq1)\n",
    "n = len(seq2)\n",
    "\n",
    "T = np.full([m+1,n+1], None)\n",
    "\n",
    "align1 = \"\"\n",
    "align2 = \"\"\n",
    "\n",
    "\n",
    "print(global_linear(m,n,5))\n",
    "\n",
    "print(RecurBackTrack(m,n, seq1, seq2, 5, T))"
   ]
  },
  {
   "cell_type": "code",
   "execution_count": 56,
   "metadata": {},
   "outputs": [
    {
     "name": "stdout",
     "output_type": "stream",
     "text": [
      "219\n",
      "tccaaaatggaagactttgtgcgacaatgct_tcaa_tccaatg_at_cg_tcg_agcttgcgga_aaaggca_atgaaagaatatggggaagatccgaa_aatcgaaa __aaaagcaacaaa_aatg_aaggcaatactagtagttctgctatatacatttgcaac_cgcaaatgcagacacat_tatgtata_ggttatcatgcgaacaatt__ca\n",
      "None\n"
     ]
    }
   ],
   "source": [
    "#project2_eval.txt Question 3\n",
    "#seq3 and seq4\n",
    "\n",
    "seq1 = \"tccaaaatggaagactttgtgcgacaatgcttcaatccaatgatcgtcgagcttgcggaaaaggcaatgaaagaatatggggaagatccgaaaatcgaaa\"  \n",
    "seq2 = \"aaaagcaacaaaaatgaaggcaatactagtagttctgctatatacatttgcaaccgcaaatgcagacacattatgtataggttatcatgcgaacaattca\" \n",
    "\n",
    "m = len(seq1)\n",
    "n = len(seq2)\n",
    "\n",
    "T = np.full([m+1,n+1], None)\n",
    "\n",
    "align1 = \"\"\n",
    "align2 = \"\"\n",
    "\n",
    "\n",
    "print(global_linear(m,n,5))\n",
    "\n",
    "print(RecurBackTrack(m,n, seq1, seq2, 5, T))"
   ]
  },
  {
   "cell_type": "code",
   "execution_count": 57,
   "metadata": {},
   "outputs": [
    {
     "name": "stdout",
     "output_type": "stream",
     "text": [
      "205\n",
      "_t__ccaaaatggaagactttgtgcgacaatgcttcaatccaatgatcgtcgagcttgcggaaaaggcaatgaaagaatatggggaagatccgaaaatc_gaa_a_ atgagtgacatcgaagccatggcgtctcaaggcaccaa_acgatcat_at_gaacaaatgg_aga_ctggtg_gggagcgccaggatgccacagaaatcagagcat\n",
      "None\n"
     ]
    }
   ],
   "source": [
    "#project2_eval.txt Question 3\n",
    "#seq3 and seq5\n",
    "\n",
    "seq1 = \"tccaaaatggaagactttgtgcgacaatgcttcaatccaatgatcgtcgagcttgcggaaaaggcaatgaaagaatatggggaagatccgaaaatcgaaa\"  \n",
    "seq2 = \"atgagtgacatcgaagccatggcgtctcaaggcaccaaacgatcatatgaacaaatggagactggtggggagcgccaggatgccacagaaatcagagcat\" \n",
    "\n",
    "m = len(seq1)\n",
    "n = len(seq2)\n",
    "\n",
    "T = np.full([m+1,n+1], None)\n",
    "\n",
    "align1 = \"\"\n",
    "align2 = \"\"\n",
    "\n",
    "\n",
    "print(global_linear(m,n,5))\n",
    "\n",
    "print(RecurBackTrack(m,n, seq1, seq2, 5, T))"
   ]
  },
  {
   "cell_type": "code",
   "execution_count": 58,
   "metadata": {},
   "outputs": [
    {
     "name": "stdout",
     "output_type": "stream",
     "text": [
      "210\n",
      "aaaagcaaca__aaaatgaaggcaatactagtagttctgctatatacatt_tgcaaccgcaaatgcagac__acattatgta_taggttatcatgcgaa_caattca_ atgagtgacatcgaagccatggc_gt_ctca_ag_gc_accaaacg_atcatatga__acaaatggagactggtggggagcgccaggatgccacagaaatcagagcat\n",
      "None\n"
     ]
    }
   ],
   "source": [
    "#project2_eval.txt Question 3\n",
    "#seq4 and seq5\n",
    "\n",
    "seq1 = \"aaaagcaacaaaaatgaaggcaatactagtagttctgctatatacatttgcaaccgcaaatgcagacacattatgtataggttatcatgcgaacaattca\"  \n",
    "seq2 = \"atgagtgacatcgaagccatggcgtctcaaggcaccaaacgatcatatgaacaaatggagactggtggggagcgccaggatgccacagaaatcagagcat\" \n",
    "\n",
    "m = len(seq1)\n",
    "n = len(seq2)\n",
    "\n",
    "T = np.full([m+1,n+1], None)\n",
    "\n",
    "align1 = \"\"\n",
    "align2 = \"\"\n",
    "\n",
    "\n",
    "print(global_linear(m,n,5))\n",
    "\n",
    "print(RecurBackTrack(m,n, seq1, seq2, 5, T))"
   ]
  },
  {
   "cell_type": "code",
   "execution_count": 59,
   "metadata": {},
   "outputs": [],
   "source": [
    "def read_subst_mtrx(filename):\n",
    "    subst_mat = np.zeros((4,4))\n",
    "    #skipping the first line\n",
    "    f = open(filename,'r')\n",
    "    f.readline()\n",
    "    for i in range(0,4):\n",
    "        line = f.readline()\n",
    "        nums_in_line = line.split()\n",
    "        for j in range(1,4):\n",
    "            subst_mat[i,j-1] = nums_in_line[j]\n",
    "    f.close()\n",
    "    return subst_mat  "
   ]
  },
  {
   "cell_type": "code",
   "execution_count": 60,
   "metadata": {},
   "outputs": [
    {
     "name": "stdout",
     "output_type": "stream",
     "text": [
      "[[0. 5. 2. 0.]\n",
      " [5. 0. 5. 0.]\n",
      " [2. 5. 0. 0.]\n",
      " [5. 2. 5. 0.]]\n"
     ]
    }
   ],
   "source": [
    "subst_mat = read_subst_mtrx(\"/Users/chandnishaw/Downloads/subst_matrix.txt\")\n",
    "print(subst_mat)"
   ]
  },
  {
   "cell_type": "code",
   "execution_count": 61,
   "metadata": {},
   "outputs": [],
   "source": [
    "def read_subst_mtrx(filename):\n",
    "    opt_score = np.zeros((5,5))\n",
    "    #skipping the first line\n",
    "    f = open(filename,'r')\n",
    "    f.readline()\n",
    "    for i in range(0,5):\n",
    "        line = f.readline()\n",
    "        nums_in_line = line.split()\n",
    "        for j in range(1,6):\n",
    "            opt_score[i,j-1] = nums_in_line[j]\n",
    "    f.close()\n",
    "    return opt_score  "
   ]
  },
  {
   "cell_type": "code",
   "execution_count": 62,
   "metadata": {},
   "outputs": [
    {
     "name": "stdout",
     "output_type": "stream",
     "text": [
      "[[  0. 226. 206. 202. 209.]\n",
      " [226.   0. 239. 223. 220.]\n",
      " [206. 239.   0. 219. 205.]\n",
      " [202. 223. 219.   0. 210.]\n",
      " [209. 220. 205. 210.   0.]]\n"
     ]
    }
   ],
   "source": [
    "opt_score = read_subst_mtrx(\"/Users/chandnishaw/Desktop/AiB/Project2/optimal_score.txt\")\n",
    "print(opt_score)"
   ]
  },
  {
   "cell_type": "markdown",
   "metadata": {},
   "source": [
    "## Affine Gap cost"
   ]
  },
  {
   "cell_type": "code",
   "execution_count": 26,
   "metadata": {},
   "outputs": [],
   "source": [
    "def global_affine_cost(seq1, seq2, a,b):\n",
    "    dict_subst = {\"a\":0, \"c\": 1, \"g\":2, \"t\":3}\n",
    "    m = len(seq1)\n",
    "    n = len(seq2)\n",
    "    \n",
    "    for i in range(0, m+1):\n",
    "        for j in range(0, n+1):\n",
    "        # Compute D[i,j]\n",
    "            v1,v2 = sys.maxsize,sys.maxsize\n",
    "            if i>0 and j>=0 : \n",
    "                v1 = S[i-1,j]+(a+b)\n",
    "            if i>1 and j>=0:\n",
    "                v2 = D[i-1,j]+a\n",
    "            D[i,j] = min(v1,v2)\n",
    "                    \n",
    "        # Compute I[i,j]\n",
    "            v1,v2 = sys.maxsize,sys.maxsize\n",
    "            if i>=0 and j>0:\n",
    "                v1 = S[i,j-1]+(a+b)\n",
    "            if i>=0 and j>1:\n",
    "                v2 = I[i,j-1]+a\n",
    "            I[i,j] = min(v1,v2)\n",
    "                 \n",
    "        # Compute S[i,j] \n",
    "            v1,v2,v3,v4 = sys.maxsize,sys.maxsize,sys.maxsize,sys.maxsize\n",
    "            if i==0 and j==0 :\n",
    "                v1 = 0                \n",
    "            if i>0 and j>0:\n",
    "                v2 = S[i-1,j-1] + subst_mat[dict_subst[seq1[i-1]], dict_subst[seq2[j-1]]]\n",
    "            if i>0 and j>=0:\n",
    "                v3 = D[i,j]\n",
    "            if i>=0 and j>0:\n",
    "                v4 = I[i,j]\n",
    "            S[i,j] = min(v1,v2,v3,v4)        \n",
    "    return S[i,j]"
   ]
  },
  {
   "cell_type": "code",
   "execution_count": 27,
   "metadata": {},
   "outputs": [],
   "source": [
    "def backtrack_affine(seq1, seq2, a, b):\n",
    "    i = len(seq1)\n",
    "    j = len(seq2)\n",
    "    align1 = \"\"\n",
    "    align2 = \"\"\n",
    "    dict_subst = {\"a\":0, \"c\": 1, \"g\":2, \"t\":3}\n",
    "    while (i>0 or j>0):\n",
    "        if (i>0 and j>0) and (S[i,j] == S[i-1,j-1] + subst_mat[dict_subst[seq1[i-1]], dict_subst[seq2[j-1]]]):\n",
    "            align1 = seq1[i-1] + align1\n",
    "            align2 = seq2[j-1] + align2\n",
    "            i = i-1\n",
    "            j = j-1\n",
    "        else:\n",
    "            k = 1\n",
    "            while True:\n",
    "                if i>=k and S[i,j] == S[i-k,j] + (a+b*k):\n",
    "                    l = i\n",
    "                    while(l>=i-k+1):\n",
    "                        align1 = seq1[l-1] + align1\n",
    "                        align2 = \"-\" + align2\n",
    "                        l = l-1\n",
    "                    i = i-k\n",
    "                    break\n",
    "                elif j>=k and S[i,j] == S[i,j-k] + (a+b*k):\n",
    "                    l = j\n",
    "                    while(l>=i-k+1):\n",
    "                        align1 = \"-\" + align1\n",
    "                        align2 = seq2[l-1] + align2\n",
    "                        l = l-1\n",
    "                    j = j-k\n",
    "                    break\n",
    "                else:\n",
    "                    k = k+1\n",
    "    f = open('alignment_with_affine_gap_cost.fasta','w')\n",
    "    f.write(\">Seq1 \\n\")\n",
    "    f.write(align1)\n",
    "    f.write(\"\\n \\n>Seq2 \\n\")\n",
    "    f.write(align2)\n",
    "    f.close()\n",
    "    return align1, align2"
   ]
  },
  {
   "cell_type": "code",
   "execution_count": 28,
   "metadata": {},
   "outputs": [
    {
     "name": "stdout",
     "output_type": "stream",
     "text": [
      "22\n",
      "[[0 10 15 20 25]\n",
      " [10 0 10 15 20]\n",
      " [15 10 0 10 15]\n",
      " [20 15 10 5 15]\n",
      " [25 20 15 12 7]\n",
      " [30 25 20 17 14]\n",
      " [35 30 25 25 22]]\n",
      "('aataat', 'a--agg')\n"
     ]
    }
   ],
   "source": [
    "#case 2\n",
    "seq1 = \"aataat\"\n",
    "seq2 = \"aagg\"\n",
    "\n",
    "m = len(seq1)\n",
    "n = len(seq2)\n",
    "\n",
    "S = np.full([m+1,n+1], None)\n",
    "I = np.full([m+1,n+1], None)\n",
    "D = np.full([m+1,n+1], None)\n",
    "\n",
    "print(global_affine_cost(seq1, seq2, 5,5))\n",
    "print(S)\n",
    "print(backtrack_affine(seq1, seq2, 5,5))"
   ]
  },
  {
   "cell_type": "code",
   "execution_count": 29,
   "metadata": {},
   "outputs": [
    {
     "name": "stdout",
     "output_type": "stream",
     "text": [
      "29\n",
      "[[0 10 15 20 25 30]\n",
      " [10 0 10 15 20 25]\n",
      " [15 10 0 10 15 20]\n",
      " [20 15 10 5 15 17]\n",
      " [25 20 15 12 5 15]\n",
      " [30 25 20 15 14 10]\n",
      " [35 30 25 22 15 19]\n",
      " [40 35 30 25 24 20]\n",
      " [45 40 35 32 25 29]]\n",
      "('tccagaga', 'tc---gat')\n"
     ]
    }
   ],
   "source": [
    "#case 3\n",
    "seq1 = \"tccagaga\"\n",
    "seq2 = \"tcgat\"\n",
    "\n",
    "m = len(seq1)\n",
    "n = len(seq2)\n",
    "\n",
    "S = np.full([m+1,n+1], None)\n",
    "I = np.full([m+1,n+1], None)\n",
    "D = np.full([m+1,n+1], None)\n",
    "\n",
    "print(global_affine_cost(seq1, seq2, 5,5))\n",
    "print(S)\n",
    "print(backtrack_affine(seq1, seq2, 5,5))"
   ]
  },
  {
   "cell_type": "code",
   "execution_count": 30,
   "metadata": {},
   "outputs": [
    {
     "name": "stdout",
     "output_type": "stream",
     "text": [
      "266\n",
      "[[0 10 15 ... 495 500 505]\n",
      " [10 5 10 ... 495 500 505]\n",
      " [15 10 10 ... 490 495 500]\n",
      " ...\n",
      " [495 490 490 ... 264 269 268]\n",
      " [500 495 495 ... 274 264 269]\n",
      " [505 502 500 ... 277 274 266]]\n",
      "('tatggagagaataaaagaactgagagatct-aatgtcgcagtcccgcac--tcgcgagatactcactaagac---cactgtggaccatatggccataatcaaaaag', '-atggatgtcaatccgactctacttttcctaaaaattccagcgcaaaattgccataagcaccacattcccttttatactggagatcctcca--tacagccatggaa')\n"
     ]
    }
   ],
   "source": [
    "#project2_eval.txt Question 2\n",
    "\n",
    "seq1 = \"tatggagagaataaaagaactgagagatctaatgtcgcagtcccgcactcgcgagatactcactaagaccactgtggaccatatggccataatcaaaaag\"\n",
    "seq2 = \"atggatgtcaatccgactctacttttcctaaaaattccagcgcaaaatgccataagcaccacattcccttatactggagatcctccatacagccatggaa\"\n",
    "\n",
    "m = len(seq1)\n",
    "n = len(seq2)\n",
    "\n",
    "S = np.full([m+1,n+1], None)\n",
    "I = np.full([m+1,n+1], None)\n",
    "D = np.full([m+1,n+1], None)\n",
    "\n",
    "print(global_affine_cost(seq1, seq2, 5,5))\n",
    "print(S)\n",
    "print(backtrack_affine(seq1, seq2, 5,5))"
   ]
  },
  {
   "cell_type": "code",
   "execution_count": null,
   "metadata": {},
   "outputs": [],
   "source": []
  }
 ],
 "metadata": {
  "kernelspec": {
   "display_name": "Python 3",
   "language": "python",
   "name": "python3"
  },
  "language_info": {
   "codemirror_mode": {
    "name": "ipython",
    "version": 3
   },
   "file_extension": ".py",
   "mimetype": "text/x-python",
   "name": "python",
   "nbconvert_exporter": "python",
   "pygments_lexer": "ipython3",
   "version": "3.7.4"
  }
 },
 "nbformat": 4,
 "nbformat_minor": 2
}
