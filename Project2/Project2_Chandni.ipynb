{
 "cells": [
  {
   "cell_type": "code",
   "execution_count": 211,
   "metadata": {},
   "outputs": [],
   "source": [
    "import numpy as np\n",
    "subst_mat = np.array([\n",
    "        [0,5,2,5],\n",
    "        [5,0,5,2],\n",
    "        [2,5,0,5],\n",
    "        [5,2,5,0]\n",
    "    ])"
   ]
  },
  {
   "cell_type": "code",
   "execution_count": 212,
   "metadata": {},
   "outputs": [],
   "source": [
    "def global_linear(i,j):\n",
    "    if T[i, j] == None:        \n",
    "        dict_subst = {\"a\":0, \"c\": 1, \"g\":2, \"t\":3}\n",
    "        v1,v2,v3,v4 = 0,0,0,0\n",
    "        if i>0 and j>0 : \n",
    "            v1 = global_linear(i-1,j-1)+ subst_mat[dict_subst[seq1[i-1]], dict_subst[seq2[j-1]]]\n",
    "        if i>0 and j>=0 : \n",
    "            v2 = global_linear(i-1,j)+5\n",
    "        if i>=0 and j>0 : \n",
    "            v3 = global_linear(i, j-1)+5\n",
    "        if i==0 and j==0 : \n",
    "            v4 = 0\n",
    "        T[i,j] = min(v1,v2,v3)\n",
    "    return T[i,j]"
   ]
  },
  {
   "cell_type": "code",
   "execution_count": 213,
   "metadata": {},
   "outputs": [
    {
     "name": "stdout",
     "output_type": "stream",
     "text": [
      "12\n"
     ]
    }
   ],
   "source": [
    "#Example in slide\n",
    "seq1 = \"aggt\"  \n",
    "seq2 = \"acta\"  \n",
    "\n",
    "m = len(seq1)\n",
    "n = len(seq2)\n",
    "\n",
    "T = np.full([m+1,n+1], None)\n",
    "\n",
    "print(global_linear(m,n))"
   ]
  },
  {
   "cell_type": "code",
   "execution_count": 214,
   "metadata": {},
   "outputs": [
    {
     "name": "stdout",
     "output_type": "stream",
     "text": [
      "22\n"
     ]
    }
   ],
   "source": [
    "#Case 1\n",
    "\n",
    "seq1 = \"acgtgtcaacgt\"  \n",
    "seq2 = \"acgtcgtagcta\"  \n",
    "\n",
    "m = len(seq1)\n",
    "n = len(seq2)\n",
    "\n",
    "T = np.full([m+1,n+1], None)\n",
    "\n",
    "print(global_linear(m,n))"
   ]
  },
  {
   "cell_type": "code",
   "execution_count": 160,
   "metadata": {},
   "outputs": [
    {
     "name": "stdout",
     "output_type": "stream",
     "text": [
      "10\n"
     ]
    }
   ],
   "source": [
    "#Case 2\n",
    "\n",
    "seq1 = \"aataat\"  \n",
    "seq2 = \"aagg\"  \n",
    "\n",
    "m = len(seq1)\n",
    "n = len(seq2)\n",
    "\n",
    "T = np.full([m+1,n+1], None)\n",
    "\n",
    "print(global_linear(m,n))"
   ]
  },
  {
   "cell_type": "code",
   "execution_count": 161,
   "metadata": {},
   "outputs": [
    {
     "name": "stdout",
     "output_type": "stream",
     "text": [
      "15\n"
     ]
    }
   ],
   "source": [
    "#Case 3\n",
    "\n",
    "seq1 = \"tccagaga\"  \n",
    "seq2 = \"tcgat\"  \n",
    "\n",
    "m = len(seq1)\n",
    "n = len(seq2)\n",
    "\n",
    "T = np.full([m+1,n+1], None)\n",
    "\n",
    "print(global_linear(m,n))"
   ]
  },
  {
   "cell_type": "code",
   "execution_count": 167,
   "metadata": {},
   "outputs": [],
   "source": [
    "def RecurBackTrack(i,j, align1,align2, gapcost):\n",
    "    print(align1)\n",
    "    print(align2)\n",
    "   \n",
    "    dict_subst = {\"a\":0, \"c\": 1, \"g\":2, \"t\":3}\n",
    "    if i>0 and j>0 and T[i,j] == T[i-1,j-1] + subst_mat[dict_subst[seq1[i-1]], dict_subst[seq2[j-1]]]:   \n",
    "        align1 = seq1[i-1] + align1\n",
    "        align2 = seq2[j-1] + align2 \n",
    "        RecurBackTrack(i-1,j-1,align1,align2,gapcost)\n",
    "    if i>0 and j>=0 and T[i,j] == T[i-1,j]+gapcost:        \n",
    "        align1 = seq1[i-1] + align1\n",
    "        align2 = \"-\" + align2 \n",
    "        RecurBackTrack(i-1,j,align1,align2,gapcost)\n",
    "    if i>=0 and j>0 and T[i,j] == T[i,j-1]+gapcost:\n",
    "        align1 = \"-\" + align1\n",
    "        align2 = seq2[j-1] + align2\n",
    "        RecurBackTrack(i,j-1,align1,align2,gapcost) \n",
    "    return \"hello\""
   ]
  },
  {
   "cell_type": "code",
   "execution_count": 168,
   "metadata": {},
   "outputs": [
    {
     "name": "stdout",
     "output_type": "stream",
     "text": [
      "12\n",
      "\n",
      "\n"
     ]
    },
    {
     "data": {
      "text/plain": [
       "'hello'"
      ]
     },
     "execution_count": 168,
     "metadata": {},
     "output_type": "execute_result"
    }
   ],
   "source": [
    "seq1 = \"aggt\"\n",
    "seq2 = \"acta\"\n",
    "\n",
    "m = len(seq1)\n",
    "n = len(seq2)\n",
    "\n",
    "T = np.full([m+1,n+1], None)\n",
    "\n",
    "align1 = \"\"\n",
    "align2 = \"\"\n",
    "\n",
    "\n",
    "print(global_linear(m,n))\n",
    "\n",
    "RecurBackTrack(m,n,align1,align2, -1)"
   ]
  },
  {
   "cell_type": "code",
   "execution_count": 196,
   "metadata": {},
   "outputs": [],
   "source": [
    "def global_affine(i,j):\n",
    "    if S[i, j] and D[i, j] and I[i, j] == None:   \n",
    "        dict_subst = {\"a\":0, \"c\": 1, \"g\":2, \"t\":3}\n",
    "    \n",
    "    for i in range(0, m):\n",
    "        for j in range(0, n):\n",
    "        # Compute D[i,j]\n",
    "            v1,v2 = 0,0\n",
    "            if i>0 and j>0 : \n",
    "                v1 = S[i-1,j]-10\n",
    "            if i>1 and j>=0:\n",
    "                v2 = D[i-1,j]-5\n",
    "            D[i,j] = max(v1,v2)\n",
    "            return D[i,j]\n",
    "            \n",
    "        # Compute I[i,j]\n",
    "            v1, v2 = 0, 0\n",
    "            if i>=0 and j>0:\n",
    "                v1 = S[i-1,j]-10\n",
    "            if i>=0 and j>1:\n",
    "                v2 = I[i,j-1]-5\n",
    "            I[i,j] = max(v1,v2)\n",
    "            return I[i,j]\n",
    "        \n",
    "        # Compute S[i,j]\n",
    "            v1,v2,v3,v4 = 0,0,0,0\n",
    "            if i==0 and j==0 : \n",
    "                v1 = 0\n",
    "            if i>0 and j>0:\n",
    "                v2 = S[i-1,j-1] + subst_mat[dict_subst[seq1[i-1]], dict_subst[seq2[j-1]]]\n",
    "            if i>0 and j>=0:\n",
    "                v3 = D[i,j]\n",
    "            if i>=0 and j>0:\n",
    "                v4 = I[i,j]\n",
    "            S[i,j] = max(v1,v2,v3,v4)\n",
    "            return S[i,j]\n",
    "        \n",
    "        \n",
    "    #return D[i,j], I[i,j], S[i,j]"
   ]
  },
  {
   "cell_type": "code",
   "execution_count": 197,
   "metadata": {},
   "outputs": [
    {
     "name": "stdout",
     "output_type": "stream",
     "text": [
      "0\n"
     ]
    }
   ],
   "source": [
    "#Case 1\n",
    "\n",
    "seq1 = \"acgtgtcaacgt\"  \n",
    "seq2 = \"acgtcgtagcta\"  \n",
    "\n",
    "m = len(seq1)\n",
    "n = len(seq2)\n",
    "\n",
    "D = np.full([m+1,n+1], None)\n",
    "I = np.full([m+1,n+1], None)\n",
    "S = np.full([m+1,n+1], None)\n",
    "\n",
    "print(global_affine(m,n))"
   ]
  },
  {
   "cell_type": "code",
   "execution_count": 198,
   "metadata": {},
   "outputs": [
    {
     "data": {
      "text/plain": [
       "array([[0, None, None, None, None, None, None, None, None, None, None,\n",
       "        None, None],\n",
       "       [None, None, None, None, None, None, None, None, None, None, None,\n",
       "        None, None],\n",
       "       [None, None, None, None, None, None, None, None, None, None, None,\n",
       "        None, None],\n",
       "       [None, None, None, None, None, None, None, None, None, None, None,\n",
       "        None, None],\n",
       "       [None, None, None, None, None, None, None, None, None, None, None,\n",
       "        None, None],\n",
       "       [None, None, None, None, None, None, None, None, None, None, None,\n",
       "        None, None],\n",
       "       [None, None, None, None, None, None, None, None, None, None, None,\n",
       "        None, None],\n",
       "       [None, None, None, None, None, None, None, None, None, None, None,\n",
       "        None, None],\n",
       "       [None, None, None, None, None, None, None, None, None, None, None,\n",
       "        None, None],\n",
       "       [None, None, None, None, None, None, None, None, None, None, None,\n",
       "        None, None],\n",
       "       [None, None, None, None, None, None, None, None, None, None, None,\n",
       "        None, None],\n",
       "       [None, None, None, None, None, None, None, None, None, None, None,\n",
       "        None, None],\n",
       "       [None, None, None, None, None, None, None, None, None, None, None,\n",
       "        None, None]], dtype=object)"
      ]
     },
     "execution_count": 198,
     "metadata": {},
     "output_type": "execute_result"
    }
   ],
   "source": [
    "D"
   ]
  },
  {
   "cell_type": "code",
   "execution_count": 202,
   "metadata": {},
   "outputs": [],
   "source": [
    "import numpy as np\n",
    "subst_mat = np.array([\n",
    "        [0,5,2,5],\n",
    "        [5,0,5,2],\n",
    "        [2,5,0,5],\n",
    "        [5,2,5,0]\n",
    "    ])"
   ]
  },
  {
   "cell_type": "code",
   "execution_count": 205,
   "metadata": {},
   "outputs": [],
   "source": [
    "def global_affine(i,j, seq1, seq2, a, b):\n",
    "    if S[i, j] and D[i, j] and I[i, j] == None:   \n",
    "        global dict_subst\n",
    "        dict_subst = {\"a\":0, \"c\": 1, \"g\":2, \"t\":3}\n",
    "    \n",
    "    for i in range(0, m):\n",
    "        for j in range(0, n):\n",
    "        # Compute D[i,j]\n",
    "            v1,v2 = 0,0\n",
    "            if i>0 and j>0 : \n",
    "                v1 = S[i-1,j]-(a+b)\n",
    "            if i>1 and j>=0:\n",
    "                v2 = D[i-1,j]-a\n",
    "            D[i,j] = max(v1,v2)\n",
    "            \n",
    "        # Compute I[i,j]\n",
    "            v1, v2 = 0, 0\n",
    "            if i>=0 and j>0:\n",
    "                v1 = S[i,j-1]-(a+b)\n",
    "            if i>=0 and j>1:\n",
    "                v2 = I[i,j-1]-a\n",
    "            I[i,j] = max(v1,v2)\n",
    "        \n",
    "        # Compute S[i,j]\n",
    "            v1,v2,v3,v4 = 0,0,0,0\n",
    "            if i==0 and j==0 : \n",
    "                v1 = 0\n",
    "            if i>0 and j>0:\n",
    "                #v2 = S[i-1,j-1] + s(A[i],B[j])\n",
    "                v2 = S[i-1,j-1] + subst_mat[dict_subst[seq1[i-1]], dict_subst[seq2[j-1]]]\n",
    "            if i>0 and j>=0:\n",
    "                v3 = D[i,j]\n",
    "            if i>=0 and j>0:\n",
    "                v4 = I[i,j]\n",
    "            S[i,j] = max(v1,v2,v3,v4)\n",
    "        \n",
    "        \n",
    "    return D[i,j], I[i,j], S[i,j]"
   ]
  },
  {
   "cell_type": "code",
   "execution_count": 206,
   "metadata": {},
   "outputs": [
    {
     "ename": "NameError",
     "evalue": "name 'dict_subst' is not defined",
     "output_type": "error",
     "traceback": [
      "\u001b[0;31m---------------------------------------------------------------------------\u001b[0m",
      "\u001b[0;31mNameError\u001b[0m                                 Traceback (most recent call last)",
      "\u001b[0;32m<ipython-input-206-11233a7319f6>\u001b[0m in \u001b[0;36m<module>\u001b[0;34m\u001b[0m\n\u001b[1;32m     11\u001b[0m \u001b[0mS\u001b[0m \u001b[0;34m=\u001b[0m \u001b[0mnp\u001b[0m\u001b[0;34m.\u001b[0m\u001b[0mfull\u001b[0m\u001b[0;34m(\u001b[0m\u001b[0;34m[\u001b[0m\u001b[0mm\u001b[0m\u001b[0;34m+\u001b[0m\u001b[0;36m1\u001b[0m\u001b[0;34m,\u001b[0m\u001b[0mn\u001b[0m\u001b[0;34m+\u001b[0m\u001b[0;36m1\u001b[0m\u001b[0;34m]\u001b[0m\u001b[0;34m,\u001b[0m \u001b[0;32mNone\u001b[0m\u001b[0;34m)\u001b[0m\u001b[0;34m\u001b[0m\u001b[0;34m\u001b[0m\u001b[0m\n\u001b[1;32m     12\u001b[0m \u001b[0;34m\u001b[0m\u001b[0m\n\u001b[0;32m---> 13\u001b[0;31m \u001b[0mprint\u001b[0m\u001b[0;34m(\u001b[0m\u001b[0mglobal_affine\u001b[0m\u001b[0;34m(\u001b[0m\u001b[0mm\u001b[0m\u001b[0;34m,\u001b[0m\u001b[0mn\u001b[0m\u001b[0;34m,\u001b[0m\u001b[0mseq1\u001b[0m\u001b[0;34m,\u001b[0m \u001b[0mseq2\u001b[0m\u001b[0;34m,\u001b[0m \u001b[0;36m5\u001b[0m\u001b[0;34m,\u001b[0m \u001b[0;36m5\u001b[0m\u001b[0;34m)\u001b[0m\u001b[0;34m)\u001b[0m\u001b[0;34m\u001b[0m\u001b[0;34m\u001b[0m\u001b[0m\n\u001b[0m",
      "\u001b[0;32m<ipython-input-205-1faf7f39ee07>\u001b[0m in \u001b[0;36mglobal_affine\u001b[0;34m(i, j, seq1, seq2, a, b)\u001b[0m\n\u001b[1;32m     28\u001b[0m             \u001b[0;32mif\u001b[0m \u001b[0mi\u001b[0m\u001b[0;34m>\u001b[0m\u001b[0;36m0\u001b[0m \u001b[0;32mand\u001b[0m \u001b[0mj\u001b[0m\u001b[0;34m>\u001b[0m\u001b[0;36m0\u001b[0m\u001b[0;34m:\u001b[0m\u001b[0;34m\u001b[0m\u001b[0;34m\u001b[0m\u001b[0m\n\u001b[1;32m     29\u001b[0m                 \u001b[0;31m#v2 = S[i-1,j-1] + s(A[i],B[j])\u001b[0m\u001b[0;34m\u001b[0m\u001b[0;34m\u001b[0m\u001b[0;34m\u001b[0m\u001b[0m\n\u001b[0;32m---> 30\u001b[0;31m                 \u001b[0mv2\u001b[0m \u001b[0;34m=\u001b[0m \u001b[0mS\u001b[0m\u001b[0;34m[\u001b[0m\u001b[0mi\u001b[0m\u001b[0;34m-\u001b[0m\u001b[0;36m1\u001b[0m\u001b[0;34m,\u001b[0m\u001b[0mj\u001b[0m\u001b[0;34m-\u001b[0m\u001b[0;36m1\u001b[0m\u001b[0;34m]\u001b[0m \u001b[0;34m+\u001b[0m \u001b[0msubst_mat\u001b[0m\u001b[0;34m[\u001b[0m\u001b[0mdict_subst\u001b[0m\u001b[0;34m[\u001b[0m\u001b[0mseq1\u001b[0m\u001b[0;34m[\u001b[0m\u001b[0mi\u001b[0m\u001b[0;34m-\u001b[0m\u001b[0;36m1\u001b[0m\u001b[0;34m]\u001b[0m\u001b[0;34m]\u001b[0m\u001b[0;34m,\u001b[0m \u001b[0mdict_subst\u001b[0m\u001b[0;34m[\u001b[0m\u001b[0mseq2\u001b[0m\u001b[0;34m[\u001b[0m\u001b[0mj\u001b[0m\u001b[0;34m-\u001b[0m\u001b[0;36m1\u001b[0m\u001b[0;34m]\u001b[0m\u001b[0;34m]\u001b[0m\u001b[0;34m]\u001b[0m\u001b[0;34m\u001b[0m\u001b[0;34m\u001b[0m\u001b[0m\n\u001b[0m\u001b[1;32m     31\u001b[0m             \u001b[0;32mif\u001b[0m \u001b[0mi\u001b[0m\u001b[0;34m>\u001b[0m\u001b[0;36m0\u001b[0m \u001b[0;32mand\u001b[0m \u001b[0mj\u001b[0m\u001b[0;34m>=\u001b[0m\u001b[0;36m0\u001b[0m\u001b[0;34m:\u001b[0m\u001b[0;34m\u001b[0m\u001b[0;34m\u001b[0m\u001b[0m\n\u001b[1;32m     32\u001b[0m                 \u001b[0mv3\u001b[0m \u001b[0;34m=\u001b[0m \u001b[0mD\u001b[0m\u001b[0;34m[\u001b[0m\u001b[0mi\u001b[0m\u001b[0;34m,\u001b[0m\u001b[0mj\u001b[0m\u001b[0;34m]\u001b[0m\u001b[0;34m\u001b[0m\u001b[0;34m\u001b[0m\u001b[0m\n",
      "\u001b[0;31mNameError\u001b[0m: name 'dict_subst' is not defined"
     ]
    }
   ],
   "source": [
    "#Case 1\n",
    "\n",
    "seq1 = \"acgtgtcaacgt\"  \n",
    "seq2 = \"acgtcgtagcta\"  \n",
    "\n",
    "m = len(seq1)\n",
    "n = len(seq2)\n",
    "\n",
    "D = np.full([m+1,n+1], None)\n",
    "I = np.full([m+1,n+1], None)\n",
    "S = np.full([m+1,n+1], None)\n",
    "\n",
    "print(global_affine(m,n,seq1, seq2, 5, 5))"
   ]
  },
  {
   "cell_type": "code",
   "execution_count": 191,
   "metadata": {},
   "outputs": [
    {
     "ename": "TypeError",
     "evalue": "unsupported operand type(s) for -: 'NoneType' and 'int'",
     "output_type": "error",
     "traceback": [
      "\u001b[0;31m---------------------------------------------------------------------------\u001b[0m",
      "\u001b[0;31mTypeError\u001b[0m                                 Traceback (most recent call last)",
      "\u001b[0;32m<ipython-input-191-380a453ce776>\u001b[0m in \u001b[0;36m<module>\u001b[0;34m\u001b[0m\n\u001b[1;32m     40\u001b[0m \u001b[0;34m\u001b[0m\u001b[0m\n\u001b[1;32m     41\u001b[0m \u001b[0;34m\u001b[0m\u001b[0m\n\u001b[0;32m---> 42\u001b[0;31m \u001b[0mprint\u001b[0m\u001b[0;34m(\u001b[0m\u001b[0mglobal_affine\u001b[0m\u001b[0;34m(\u001b[0m\u001b[0mi\u001b[0m\u001b[0;34m,\u001b[0m \u001b[0mj\u001b[0m\u001b[0;34m,\u001b[0m \u001b[0mseq1\u001b[0m\u001b[0;34m,\u001b[0m \u001b[0mseq2\u001b[0m\u001b[0;34m,\u001b[0m \u001b[0;36m5\u001b[0m\u001b[0;34m,\u001b[0m \u001b[0;36m5\u001b[0m\u001b[0;34m)\u001b[0m\u001b[0;34m)\u001b[0m\u001b[0;34m\u001b[0m\u001b[0;34m\u001b[0m\u001b[0m\n\u001b[0m",
      "\u001b[0;32m<ipython-input-191-380a453ce776>\u001b[0m in \u001b[0;36mglobal_affine\u001b[0;34m(i, j, seq1, seq2, a, b)\u001b[0m\n\u001b[1;32m      8\u001b[0m     \u001b[0;32mfor\u001b[0m \u001b[0mi\u001b[0m \u001b[0;32min\u001b[0m \u001b[0mrange\u001b[0m\u001b[0;34m(\u001b[0m\u001b[0;36m1\u001b[0m\u001b[0;34m,\u001b[0m \u001b[0mlen\u001b[0m\u001b[0;34m(\u001b[0m\u001b[0mseq1\u001b[0m\u001b[0;34m)\u001b[0m\u001b[0;34m+\u001b[0m\u001b[0;36m1\u001b[0m\u001b[0;34m)\u001b[0m\u001b[0;34m:\u001b[0m\u001b[0;34m\u001b[0m\u001b[0;34m\u001b[0m\u001b[0m\n\u001b[1;32m      9\u001b[0m         \u001b[0;31m# Compute D[i,j]\u001b[0m\u001b[0;34m\u001b[0m\u001b[0;34m\u001b[0m\u001b[0;34m\u001b[0m\u001b[0m\n\u001b[0;32m---> 10\u001b[0;31m                 \u001b[0md1\u001b[0m \u001b[0;34m=\u001b[0m \u001b[0mS\u001b[0m\u001b[0;34m[\u001b[0m\u001b[0mi\u001b[0m\u001b[0;34m-\u001b[0m\u001b[0;36m1\u001b[0m\u001b[0;34m,\u001b[0m\u001b[0;36m0\u001b[0m\u001b[0;34m]\u001b[0m \u001b[0;34m-\u001b[0m \u001b[0;34m(\u001b[0m\u001b[0ma\u001b[0m\u001b[0;34m+\u001b[0m\u001b[0mb\u001b[0m\u001b[0;34m)\u001b[0m\u001b[0;34m\u001b[0m\u001b[0;34m\u001b[0m\u001b[0m\n\u001b[0m\u001b[1;32m     11\u001b[0m                 \u001b[0md2\u001b[0m \u001b[0;34m=\u001b[0m \u001b[0mD\u001b[0m\u001b[0;34m[\u001b[0m\u001b[0mi\u001b[0m\u001b[0;34m-\u001b[0m\u001b[0;36m1\u001b[0m\u001b[0;34m,\u001b[0m\u001b[0;36m0\u001b[0m\u001b[0;34m]\u001b[0m \u001b[0;34m-\u001b[0m \u001b[0ma\u001b[0m\u001b[0;34m\u001b[0m\u001b[0;34m\u001b[0m\u001b[0m\n\u001b[1;32m     12\u001b[0m                 \u001b[0mD\u001b[0m\u001b[0;34m[\u001b[0m\u001b[0mi\u001b[0m\u001b[0;34m,\u001b[0m\u001b[0;36m0\u001b[0m\u001b[0;34m]\u001b[0m \u001b[0;34m=\u001b[0m \u001b[0mmax\u001b[0m\u001b[0;34m(\u001b[0m\u001b[0md1\u001b[0m\u001b[0;34m,\u001b[0m \u001b[0md2\u001b[0m\u001b[0;34m)\u001b[0m\u001b[0;34m\u001b[0m\u001b[0;34m\u001b[0m\u001b[0m\n",
      "\u001b[0;31mTypeError\u001b[0m: unsupported operand type(s) for -: 'NoneType' and 'int'"
     ]
    }
   ],
   "source": [
    "seq1 = \"acgtgtcaacgt\"  \n",
    "seq2 = \"acgtcgtagcta\"  \n",
    "\n",
    "i, j = 1, 1\n",
    "\n",
    "def global_affine(i,j, seq1, seq2, a, b):\n",
    "    \n",
    "    for i in range(1, len(seq1)+1):\n",
    "        # Compute D[i,j]\n",
    "                d1 = S[i-1,0] - (a+b)\n",
    "                d2 = D[i-1,0] - a\n",
    "                D[i,0] = max(d1, d2)\n",
    "            \n",
    "                S[i,0] = D[i,0]\n",
    "    \n",
    "    for j in range(1, len(seq2)+1):\n",
    "        # Compute I[i,j]\n",
    "                i1 = S[0,j-1]-(a+b)\n",
    "                i2 = I[0,j-1]-a\n",
    "                I[0,j] = max(i1,i2)\n",
    "            \n",
    "                S[0,j] =  I[0,j]\n",
    "            \n",
    "            \n",
    "    for j in range(1, len(seq2)+1):\n",
    "        for i in range(1, len(seq1)+1):\n",
    "        # Compute S[i,j]\n",
    "                d1 = S[i-1,j]-(a+b)\n",
    "                d2 = D[i-1,0]-a\n",
    "                D[i,j] = max(v1,v2)\n",
    "            \n",
    "                i1 = S[i,j-1]-(a+b)\n",
    "                i2 = I[i,j-1]-a\n",
    "                I[i,j] = max(i1,i2)\n",
    "        \n",
    "                s1 = S[i-1,j-1] + subst_mat[dict_subst[seq1[i-1]], dict_subst[seq2[j-1]]]\n",
    "                S[i,j] = max(D[i,j], I[i,j], s1)\n",
    "            \n",
    "    return(S, D, I, S[-1,-1])\n",
    "\n",
    "            \n",
    "print(global_affine(i, j, seq1, seq2, 5, 5))"
   ]
  },
  {
   "cell_type": "code",
   "execution_count": null,
   "metadata": {},
   "outputs": [],
   "source": []
  }
 ],
 "metadata": {
  "kernelspec": {
   "display_name": "Python 3",
   "language": "python",
   "name": "python3"
  },
  "language_info": {
   "codemirror_mode": {
    "name": "ipython",
    "version": 3
   },
   "file_extension": ".py",
   "mimetype": "text/x-python",
   "name": "python",
   "nbconvert_exporter": "python",
   "pygments_lexer": "ipython3",
   "version": "3.7.4"
  }
 },
 "nbformat": 4,
 "nbformat_minor": 2
}
