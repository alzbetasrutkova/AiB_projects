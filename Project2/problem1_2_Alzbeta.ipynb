{
 "cells": [
  {
   "cell_type": "code",
   "execution_count": 36,
   "metadata": {},
   "outputs": [],
   "source": [
    "import math \n",
    "import sys\n",
    "#a and b are coefficients for the gap function\n",
    "def global_affine(a,b):\n",
    "    dict_subst = {\"a\":0, \"c\": 1, \"g\":2, \"t\":3}\n",
    "    \n",
    "    for i in range(0, m+1):\n",
    "        for j in range(0, n+1):\n",
    "        # Compute D[i,j]\n",
    "            v1,v2 = sys.maxsize,sys.maxsize\n",
    "            if i>0 and j>=0 : \n",
    "                v1 = S[i-1,j]+(a+b)\n",
    "            if i>1 and j>=0:\n",
    "                v2 = D[i-1,j]+a\n",
    "            D[i,j] = min(v1,v2)\n",
    "                    \n",
    "        # Compute I[i,j]\n",
    "            v1,v2 = sys.maxsize,sys.maxsize\n",
    "            if i>=0 and j>0:\n",
    "                v1 = S[i,j-1]+(a+b)\n",
    "            if i>=0 and j>1:\n",
    "                v2 = I[i,j-1]+a\n",
    "            I[i,j] = min(v1,v2)\n",
    "                 \n",
    "        # Compute S[i,j] \n",
    "            v1,v2,v3,v4 = sys.maxsize,sys.maxsize,sys.maxsize,sys.maxsize\n",
    "            if i==0 and j==0 :\n",
    "                v1 = 0                \n",
    "            if i>0 and j>0:\n",
    "                v2 = S[i-1,j-1] + subst_mat[dict_subst[seq1[i-1]], dict_subst[seq2[j-1]]]\n",
    "            if i>0 and j>=0:\n",
    "                v3 = D[i,j]\n",
    "            if i>=0 and j>0:\n",
    "                v4 = I[i,j]\n",
    "            S[i,j] = min(v1,v2,v3,v4)        \n",
    "    return S[i,j]"
   ]
  },
  {
   "cell_type": "code",
   "execution_count": 37,
   "metadata": {},
   "outputs": [],
   "source": [
    "#a and b are the parameters for the affine gap function g(k) = a+b*k\n",
    "def backtrack_affine(a,b):\n",
    "    i = m\n",
    "    j = n\n",
    "    align1 = \"\"\n",
    "    align2 = \"\"\n",
    "    dict_subst = {\"a\":0, \"c\": 1, \"g\":2, \"t\":3}\n",
    "    while (i>0 or j>0):\n",
    "        if (i>0 and j>0) and (S[i,j] == S[i-1,j-1] + subst_mat[dict_subst[seq1[i-1]], dict_subst[seq2[j-1]]]):\n",
    "            align1 = seq1[i-1] + align1\n",
    "            align2 = seq2[j-1] + align2\n",
    "            i = i-1\n",
    "            j = j-1\n",
    "        else:\n",
    "            k = 1\n",
    "            while True:\n",
    "                if i>=k and S[i,j] == S[i-k,j] + (a+b*k):\n",
    "                    l = i\n",
    "                    while(l>=i-k+1):\n",
    "                        align1 = seq1[l-1] + align1\n",
    "                        align2 = \"-\" + align2\n",
    "                        l = l-1\n",
    "                    i = i-k\n",
    "                    break\n",
    "                elif j>=k and S[i,j] == S[i,j-k] + (a+b*k):\n",
    "                    l = j\n",
    "                    while(l>=i-k+1):\n",
    "                        align1 = \"-\" + align1\n",
    "                        align2 = seq2[l-1] + align2\n",
    "                        l = l-1\n",
    "                    j = j-k\n",
    "                    break\n",
    "                else:\n",
    "                    k = k+1\n",
    "    return align1, align2"
   ]
  },
  {
   "cell_type": "code",
   "execution_count": 38,
   "metadata": {},
   "outputs": [
    {
     "name": "stdout",
     "output_type": "stream",
     "text": [
      "22\n",
      "[[0 10 15 20 25]\n",
      " [10 0 10 15 20]\n",
      " [15 10 0 10 15]\n",
      " [20 15 10 5 15]\n",
      " [25 20 15 12 7]\n",
      " [30 25 20 17 14]\n",
      " [35 30 25 25 22]]\n",
      "('aataat', 'a--agg')\n"
     ]
    }
   ],
   "source": [
    "seq1 = \"aataat\"\n",
    "seq2 = \"aagg\"\n",
    "\n",
    "m = len(seq1)\n",
    "n = len(seq2)\n",
    "\n",
    "S = np.full([m+1,n+1], None)\n",
    "I = np.full([m+1,n+1], None)\n",
    "D = np.full([m+1,n+1], None)\n",
    "\n",
    "print(global_affine(5,5))\n",
    "print(S)\n",
    "print(backtrack_affine(5,5))"
   ]
  },
  {
   "cell_type": "code",
   "execution_count": 39,
   "metadata": {},
   "outputs": [],
   "source": [
    "import Bio"
   ]
  },
  {
   "cell_type": "code",
   "execution_count": 40,
   "metadata": {},
   "outputs": [],
   "source": [
    "from Bio import SeqIO\n",
    "import numpy as np\n",
    "\n",
    "def read_FASTA(filename):\n",
    "    records_dict = {}\n",
    "    for seq_record in SeqIO.parse(filename, \"fasta\"):\n",
    "        records_dict[seq_record.id] = seq_record.seq        \n",
    "    return records_dict"
   ]
  },
  {
   "cell_type": "code",
   "execution_count": 65,
   "metadata": {},
   "outputs": [],
   "source": [
    "#this reader assumes phylip-like format in txt file\n",
    "# and that the matrix is DNA related and the nucleotides are in the order A,C,G,T\n",
    "#therefore \"skips\" the first line and first character of each line following the first one\n",
    "def read_subst_mtrx(filename):\n",
    "    subst_mat = np.zeros((4,4))\n",
    "    #skipping the first line\n",
    "    f = open(filename,'r')\n",
    "    f.readline()\n",
    "    for i in range(0,4):\n",
    "        line = f.readline()\n",
    "        nums_in_line = line.split()\n",
    "        for j in range(1,4):\n",
    "            subst_mat[i,j-1] = nums_in_line[j]\n",
    "    f.close()\n",
    "    return subst_mat   \n",
    "    "
   ]
  },
  {
   "cell_type": "code",
   "execution_count": 66,
   "metadata": {},
   "outputs": [
    {
     "name": "stdout",
     "output_type": "stream",
     "text": [
      "[[0. 5. 2. 0.]\n",
      " [5. 0. 5. 0.]\n",
      " [2. 5. 0. 0.]\n",
      " [5. 2. 5. 0.]]\n"
     ]
    }
   ],
   "source": [
    "seq1 = list(read_FASTA(\"C:/Users/alzbe/Documents/AU_Bioinfo_Masters/Spring_2021/AiB/Projects/Project_01/seq1.fasta\").values())[0].lower()\n",
    "seq2 = list(read_FASTA(\"C:/Users/alzbe/Documents/AU_Bioinfo_Masters/Spring_2021/AiB/Projects/Project_01/seq2.fasta\").values())[0].lower()\n",
    "print(seq1)\n",
    "print(seq2)\n",
    "subst_mat = read_subst_mtrx(\"C:/Users/alzbe/Documents/AU_Bioinfo_Masters/Spring_2021/AiB/Projects/Project_02/subst_matrix.txt\")\n",
    "print(subst_mat)"
   ]
  },
  {
   "cell_type": "code",
   "execution_count": 35,
   "metadata": {},
   "outputs": [
    {
     "name": "stdout",
     "output_type": "stream",
     "text": [
      "395\n",
      "[[0 10 15 ... 985 990 995]\n",
      " [10 0 10 ... 980 985 990]\n",
      " [15 10 0 ... 975 980 985]\n",
      " ...\n",
      " [985 980 975 ... 395 405 410]\n",
      " [990 985 980 ... 405 395 405]\n",
      " [995 990 985 ... 410 405 395]]\n",
      "('ggcctaaaggcgccggtctttcgtaccccaaaatctcggcattttaagataagtgagtgttgcgttacactagcgatctaccgcgtcttatacttaagcgtatgcccagatctgactaatcgtgcccccggattagacgggcttgatgggaaagaacagctcgtc------tgtttacgtataaacagaatcgcctgggttcgc', 'gggctaaaggttagggtctttcacactaaagagtggt-gcgtatcgtggctaatgtaccgcttctggtatc-gtggcttacggc--cagacctacaagtactagacctga--gaactaatcttgtcgagccttccattgagggtaatgggagagaacatcgagtcagaagttattcttgtttacgtagaatcgcctgggtccgc')\n"
     ]
    }
   ],
   "source": [
    "m = len(seq1)\n",
    "n = len(seq2)\n",
    "\n",
    "S = np.full([m+1,n+1], None)\n",
    "I = np.full([m+1,n+1], None)\n",
    "D = np.full([m+1,n+1], None)\n",
    "\n",
    "print(global_affine(5,5))\n",
    "print(S)\n",
    "print(backtrack_affine(5,5))"
   ]
  }
 ],
 "metadata": {
  "kernelspec": {
   "display_name": "Python 3",
   "language": "python",
   "name": "python3"
  },
  "language_info": {
   "codemirror_mode": {
    "name": "ipython",
    "version": 3
   },
   "file_extension": ".py",
   "mimetype": "text/x-python",
   "name": "python",
   "nbconvert_exporter": "python",
   "pygments_lexer": "ipython3",
   "version": "3.8.5"
  }
 },
 "nbformat": 4,
 "nbformat_minor": 4
}
