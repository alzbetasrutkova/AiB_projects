{
 "cells": [
  {
   "cell_type": "code",
   "execution_count": 1,
   "metadata": {},
   "outputs": [],
   "source": [
    "import numpy as np\n",
    "subst_mat = np.array([\n",
    "        [0,5,2,5],\n",
    "        [5,0,5,2],\n",
    "        [2,5,0,5],\n",
    "        [5,2,5,0]\n",
    "    ])"
   ]
  },
  {
   "cell_type": "code",
   "execution_count": 2,
   "metadata": {},
   "outputs": [],
   "source": [
    "import sys\n",
    "def C(i,j,a):\n",
    "    if T[i, j] == None:        \n",
    "        dict_subst = {\"A\":0, \"C\": 1, \"G\":2, \"T\":3}\n",
    "        v1,v2,v3,v4 = sys.maxsize,sys.maxsize,sys.maxsize,sys.maxsize\n",
    "        if i>0 and j>0 : \n",
    "            v1 = C(i-1,j-1,a)+subst_mat[dict_subst[seq1[i-1]], dict_subst[seq2[j-1]]]\n",
    "        if i>0 and j>=0 : \n",
    "            v2 = C(i-1,j,a)+a\n",
    "        if i>=0 and j>0 : \n",
    "            v3 = C(i, j-1,a)+a\n",
    "        if i==0 and j==0 : \n",
    "            v4 = 0\n",
    "        T[i,j] = min(v1,v2,v3,v4)\n",
    "    return T[i,j] "
   ]
  },
  {
   "cell_type": "code",
   "execution_count": 46,
   "metadata": {},
   "outputs": [],
   "source": [
    "def RecurBackTrack(i,j, seq1, seq2, gap_cost, T, align1=\"\", align2=\"\"):\n",
    "    dict_subst = {\"A\":0, \"C\": 1, \"G\":2, \"T\":3}\n",
    "    if i>0 and j>0 and T[i,j]==T[i-1,j-1]+ subst_mat[dict_subst[seq1[i-1]], dict_subst[seq2[j-1]]] :\n",
    "        align1 = seq1[i-1] + align1\n",
    "        align2 = seq2[j-1] + align2\n",
    "        RecurBackTrack(i-1,j-1,seq1, seq2, gap_cost, T, align1, align2)\n",
    "    elif i>0 and j>=0 and T[i,j]==T[i-1,j]+ gap_cost :\n",
    "        align1 = seq1[i-1] + align1\n",
    "        align2 = \"_\" + align2\n",
    "        RecurBackTrack(i-1,j,seq1, seq2, gap_cost, T, align1, align2)\n",
    "    elif i>=0 and j>0 and T[i,j]==T[i,j-1]+gap_cost :\n",
    "        align1 = \"_\" + align1\n",
    "        align2 = seq2[j-1] + align2\n",
    "        RecurBackTrack(i,j-1, seq1, seq2, gap_cost, T, align1, align2)\n",
    "    else:\n",
    "        print(align1, align2)\n",
    "        return None"
   ]
  },
  {
   "cell_type": "code",
   "execution_count": 5,
   "metadata": {},
   "outputs": [],
   "source": [
    "import Bio"
   ]
  },
  {
   "cell_type": "code",
   "execution_count": 6,
   "metadata": {},
   "outputs": [],
   "source": [
    "from Bio import SeqIO\n",
    "import numpy as np\n",
    "\n",
    "def read_FASTA(filename):\n",
    "    records_dict = {}\n",
    "    for seq_record in SeqIO.parse(filename, \"fasta\"):\n",
    "        records_dict[seq_record.id] = seq_record.seq        \n",
    "    return records_dict"
   ]
  },
  {
   "cell_type": "code",
   "execution_count": 48,
   "metadata": {},
   "outputs": [
    {
     "name": "stdout",
     "output_type": "stream",
     "text": [
      "325\n",
      "GGCCTAAAGGCGCCGGTCTTTCGTACCCCAAAATCTCG_GCATTTTAAGATAA_GTGAGTGTTGCGTTACACTAGCGATCTACCGCGTCTTATACT_TAAGCG_TATGCCC_AGATCTGA_CTAATCGTGCCCCCGGATTAGACGGGCTTGATGGGAAAGAACA__G_CTC_G__TCTGTTTACGTATAAACAGAATCGCCTGGGTTCGC GGGCTAAAGGTTAGGGTCTTTCACACTAAAGAGTGGTGCGTATCGT_GGCTAATGT_ACCGCTTC_TGGTATC_GTGGCTTA_CG_GCCAGAC_CTACAAGTACTAGACCTGAGAACTAATCTTGTCGAGCCTTC_CATT_GA_GGG__TAATGGGAGAGAACATCGAGTCAGAAGTTATTCTTGTTTACGTAGAATCGCCTGGGTCCGC\n",
      "None\n"
     ]
    }
   ],
   "source": [
    "# Case 4\n",
    "seq1 = list(read_FASTA(\"C:/Users/lenab/Documents/AU/Algorithms_in_bioinformatics/Week_1/seq1.fasta\").values())[0]\n",
    "seq2 = list(read_FASTA(\"C:/Users/lenab/Documents/AU/Algorithms_in_bioinformatics/Week_1/seq2.fasta\").values())[0]\n",
    "m = len(seq1)\n",
    "n = len(seq2)\n",
    "\n",
    "T = np.full([m+1,n+1], None)\n",
    "\n",
    "print(C(m,n,5))\n",
    "print(RecurBackTrack(m,n, seq1, seq2, 5, T))\n",
    "\n"
   ]
  },
  {
   "cell_type": "code",
   "execution_count": 49,
   "metadata": {},
   "outputs": [
    {
     "name": "stdout",
     "output_type": "stream",
     "text": [
      "22\n",
      "ACGT_GTCAACGT ACGTCGT_AGCTA\n",
      "None\n"
     ]
    }
   ],
   "source": [
    "#Case 1\n",
    "\n",
    "seq1 = \"ACGTGTCAACGT\"\n",
    "seq2 = \"ACGTCGTAGCTA\"\n",
    "\n",
    "m = len(seq1)\n",
    "n = len(seq2)\n",
    "\n",
    "T = np.full([m+1,n+1], None)\n",
    "\n",
    "print(C(m,n,5))\n",
    "print(RecurBackTrack(m,n, seq1, seq2, 5, T))"
   ]
  },
  {
   "cell_type": "code",
   "execution_count": 51,
   "metadata": {},
   "outputs": [
    {
     "name": "stdout",
     "output_type": "stream",
     "text": [
      "14\n",
      "AATAAT AA_GG_\n",
      "None\n"
     ]
    }
   ],
   "source": [
    "# Case 2\n",
    "seq1 = \"AATAAT\"\n",
    "seq2= \"AAGG\"\n",
    "m = len(seq1)\n",
    "n = len(seq2)\n",
    "\n",
    "T = np.full([m+1,n+1], None)\n",
    "\n",
    "print(C(m,n,5))\n",
    "print(RecurBackTrack(m,n, seq1, seq2, 5, T))"
   ]
  },
  {
   "cell_type": "code",
   "execution_count": 50,
   "metadata": {},
   "outputs": [
    {
     "name": "stdout",
     "output_type": "stream",
     "text": [
      "20\n",
      "TCCAGAGA T_C_GA_T\n",
      "None\n"
     ]
    }
   ],
   "source": [
    "# Case 3\n",
    "seq1 = \"TCCAGAGA\"\n",
    "seq2= \"TCGAT\" \n",
    "m = len(seq1)\n",
    "n = len(seq2)\n",
    "\n",
    "T = np.full([m+1,n+1], None)\n",
    "\n",
    "print(C(m,n,5))\n",
    "print(RecurBackTrack(m,n, seq1, seq2, 5, T))"
   ]
  },
  {
   "cell_type": "markdown",
   "metadata": {},
   "source": [
    "Test of the running time"
   ]
  },
  {
   "cell_type": "code",
   "execution_count": 23,
   "metadata": {},
   "outputs": [],
   "source": [
    "import random"
   ]
  },
  {
   "cell_type": "code",
   "execution_count": 24,
   "metadata": {},
   "outputs": [],
   "source": [
    "DNA = 'ACGT'\n",
    "LINE_WIDTH = 60\n",
    "\n",
    "\n",
    "def simulate_string(m):\n",
    "    \"\"\"Simulate a DNA sequence of length m.\"\"\"\n",
    "    nucleotides = [random.choice(DNA) for _ in range(m)]\n",
    "    lines = []\n",
    "    for i in range(0, m, LINE_WIDTH):\n",
    "        lines.append(''.join(nucleotides[i:(i+LINE_WIDTH)]))\n",
    "    return '\\n'.join(lines)"
   ]
  },
  {
   "cell_type": "code",
   "execution_count": 25,
   "metadata": {},
   "outputs": [
    {
     "data": {
      "text/plain": [
       "'TTCGTTCGCA'"
      ]
     },
     "execution_count": 25,
     "metadata": {},
     "output_type": "execute_result"
    }
   ],
   "source": [
    "simulate_string(10)"
   ]
  },
  {
   "cell_type": "code",
   "execution_count": 30,
   "metadata": {},
   "outputs": [
    {
     "name": "stdout",
     "output_type": "stream",
     "text": [
      "0.0009970664978027344\n",
      "0.000997304916381836\n",
      "0.000997781753540039\n",
      "0.0009982585906982422\n",
      "0.0009975433349609375\n",
      "0.0009965896606445312\n",
      "0.0009975433349609375\n",
      "0.0\n",
      "0.000997781753540039\n",
      "0.0010039806365966797\n",
      "0.0019948482513427734\n",
      "0.001993894577026367\n",
      "0.0019943714141845703\n",
      "0.0029926300048828125\n",
      "0.003022432327270508\n",
      "0.001966238021850586\n",
      "0.0019960403442382812\n",
      "0.0019788742065429688\n",
      "0.0019936561584472656\n",
      "0.0029594898223876953\n",
      "0.006010770797729492\n",
      "0.0049610137939453125\n",
      "0.00500178337097168\n",
      "0.005013704299926758\n",
      "0.005957126617431641\n",
      "0.004956960678100586\n",
      "0.006019115447998047\n",
      "0.004950046539306641\n",
      "0.004982709884643555\n",
      "0.005019426345825195\n"
     ]
    }
   ],
   "source": [
    "import os\n",
    "import time\n",
    "\n",
    "Ns = [10,50,100,200,300,400,500,1000,1500,2000,2500,3000,3500,4000,4500,5000,5500,6000,6500,7000,7500,8000,8500,9000,9500,10000]\n",
    "of = open(\"eval_times_st_construct.txt\", \"w\")\n",
    "construction_times= {}\n",
    "Ns = [10,20,30]\n",
    "\n",
    "for n in Ns : \n",
    "    for i in range(10) : \n",
    "            seq1 = simulate_string(n)\n",
    "            seq2 = simulate_string(n)\n",
    "            T = np.full([n+1,n+1], None)\n",
    "            start_time = time.time()\n",
    "            C(n,n,5)\n",
    "            st_const_time = time.time() - start_time\n",
    "            print(st_const_time)\n",
    "            thisline = str(n*n) + \" : \" + str(st_const_time) + \"\\n\"\n",
    "            of.write(thisline)\n",
    "            if (n*n) in construction_times:\n",
    "                construction_times[(n*n)] += [st_const_time]\n",
    "            else:\n",
    "                construction_times[(n*n)] = [st_const_time]\n",
    "\n",
    "\n",
    "construction_mean_times = {k: np.mean(construction_times[k]) for k in construction_times}            "
   ]
  },
  {
   "cell_type": "code",
   "execution_count": 35,
   "metadata": {},
   "outputs": [
    {
     "name": "stdout",
     "output_type": "stream",
     "text": [
      "[100, 400, 900] [8.983850479125976e-06, 5.723118782043456e-06, 5.874739752875434e-06]\n"
     ]
    }
   ],
   "source": [
    "xs = list(construction_mean_times.keys())\n",
    "ys = []\n",
    "for i in range(len(xs)) : \n",
    "    ys.append(construction_mean_times[xs[i]]/xs[i])\n",
    "print(xs,ys)"
   ]
  },
  {
   "cell_type": "code",
   "execution_count": 38,
   "metadata": {},
   "outputs": [
    {
     "data": {
      "image/png": "[encoded data removed]",
      "text/plain": [
       "<Figure size 432x288 with 1 Axes>"
      ]
     },
     "metadata": {
      "needs_background": "light"
     },
     "output_type": "display_data"
    }
   ],
   "source": [
    "import matplotlib.pyplot as plt\n",
    "\n",
    "plt.plot(xs, ys)\n",
    "plt.xlabel(\"complexity\")\n",
    "plt.ylabel(\"\")\n",
    "plt.title(\" exact pattern matching\")\n",
    "plt.show()"
   ]
  }
 ],
 "metadata": {
  "kernelspec": {
   "display_name": "Python 3",
   "language": "python",
   "name": "python3"
  },
  "language_info": {
   "codemirror_mode": {
    "name": "ipython",
    "version": 3
   },
   "file_extension": ".py",
   "mimetype": "text/x-python",
   "name": "python",
   "nbconvert_exporter": "python",
   "pygments_lexer": "ipython3",
   "version": "3.8.5"
  }
 },
 "nbformat": 4,
 "nbformat_minor": 4
}
