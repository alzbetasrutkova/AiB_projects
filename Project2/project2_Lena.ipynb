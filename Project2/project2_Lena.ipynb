{
 "cells": [
  {
   "cell_type": "code",
   "execution_count": 1,
   "metadata": {},
   "outputs": [],
   "source": [
    "import numpy as np\n",
    "import sys\n",
    "import math\n",
    "from Bio import SeqIO\n",
    "import random\n",
    "import matplotlib.pyplot as plt\n",
    "import os\n",
    "import time"
   ]
  },
  {
   "cell_type": "code",
   "execution_count": 2,
   "metadata": {},
   "outputs": [],
   "source": [
    "subst_mat = np.array([\n",
    "        [0,5,2,5],\n",
    "        [5,0,5,2],\n",
    "        [2,5,0,5],\n",
    "        [5,2,5,0]\n",
    "    ])"
   ]
  },
  {
   "cell_type": "code",
   "execution_count": 3,
   "metadata": {},
   "outputs": [],
   "source": [
    "def C(i,j,a):\n",
    "    if T[i, j] == None:        \n",
    "        dict_subst = {\"A\":0, \"C\": 1, \"G\":2, \"T\":3}\n",
    "        v1,v2,v3,v4 = sys.maxsize,sys.maxsize,sys.maxsize,sys.maxsize\n",
    "        if i>0 and j>0 : \n",
    "            v1 = C(i-1,j-1,a)+subst_mat[dict_subst[seq1[i-1]], dict_subst[seq2[j-1]]]\n",
    "        if i>0 and j>=0 : \n",
    "            v2 = C(i-1,j,a)+a\n",
    "        if i>=0 and j>0 : \n",
    "            v3 = C(i, j-1,a)+a\n",
    "        if i==0 and j==0 : \n",
    "            v4 = 0\n",
    "        T[i,j] = min(v1,v2,v3,v4)\n",
    "    return T[i,j] "
   ]
  },
  {
   "cell_type": "code",
   "execution_count": 35,
   "metadata": {},
   "outputs": [],
   "source": [
    "def RecurBackTrack(i,j, seq1, seq2, gap_cost, T, align1=\"\", align2=\"\"):\n",
    "    dict_subst = {\"A\":0, \"C\": 1, \"G\":2, \"T\":3}\n",
    "    if i>0 and j>0 and T[i,j]==T[i-1,j-1]+ subst_mat[dict_subst[seq1[i-1]], dict_subst[seq2[j-1]]] :\n",
    "        align1 = seq1[i-1] + align1\n",
    "        align2 = seq2[j-1] + align2\n",
    "        RecurBackTrack(i-1,j-1,seq1, seq2, gap_cost, T, align1, align2)\n",
    "    elif i>0 and j>=0 and T[i,j]==T[i-1,j]+ gap_cost :\n",
    "        align1 = seq1[i-1] + align1\n",
    "        align2 = \"_\" + align2\n",
    "        RecurBackTrack(i-1,j,seq1, seq2, gap_cost, T, align1, align2)\n",
    "    elif i>=0 and j>0 and T[i,j]==T[i,j-1]+gap_cost :\n",
    "        align1 = \"_\" + align1\n",
    "        align2 = seq2[j-1] + align2\n",
    "        RecurBackTrack(i,j-1, seq1, seq2, gap_cost, T, align1, align2)\n",
    "    else:\n",
    "        print (align1, align2)\n",
    "        return None"
   ]
  },
  {
   "cell_type": "code",
   "execution_count": 5,
   "metadata": {},
   "outputs": [],
   "source": [
    "def read_FASTA(filename):\n",
    "    records_dict = {}\n",
    "    for seq_record in SeqIO.parse(filename, \"fasta\"):\n",
    "        records_dict[seq_record.id] = seq_record.seq        \n",
    "    return records_dict"
   ]
  },
  {
   "cell_type": "code",
   "execution_count": 34,
   "metadata": {},
   "outputs": [
    {
     "name": "stdout",
     "output_type": "stream",
     "text": [
      "325\n",
      "None\n"
     ]
    }
   ],
   "source": [
    "# Case 4\n",
    "seq1 = list(read_FASTA(\"C:/Users/lenab/Documents/AU/Algorithms_in_bioinformatics/Week_1/seq1.fasta\").values())[0]\n",
    "seq2 = list(read_FASTA(\"C:/Users/lenab/Documents/AU/Algorithms_in_bioinformatics/Week_1/seq2.fasta\").values())[0]\n",
    "m = len(seq1)\n",
    "n = len(seq2)\n",
    "\n",
    "T = np.full([m+1,n+1], None)\n",
    "\n",
    "print(C(m,n,5))\n",
    "print(RecurBackTrack(m,n, seq1, seq2, 5, T))\n",
    "\n"
   ]
  },
  {
   "cell_type": "code",
   "execution_count": 7,
   "metadata": {},
   "outputs": [
    {
     "name": "stdout",
     "output_type": "stream",
     "text": [
      "22\n",
      "ACGT_GTCAACGT ACGTCGT_AGCTA\n",
      "None\n"
     ]
    }
   ],
   "source": [
    "#Case 1\n",
    "\n",
    "seq1 = \"ACGTGTCAACGT\"\n",
    "seq2 = \"ACGTCGTAGCTA\"\n",
    "\n",
    "m = len(seq1)\n",
    "n = len(seq2)\n",
    "\n",
    "T = np.full([m+1,n+1], None)\n",
    "\n",
    "print(C(m,n,5))\n",
    "print(RecurBackTrack(m,n, seq1, seq2, 5, T))"
   ]
  },
  {
   "cell_type": "code",
   "execution_count": 8,
   "metadata": {},
   "outputs": [
    {
     "name": "stdout",
     "output_type": "stream",
     "text": [
      "14\n",
      "AATAAT AA_GG_\n",
      "None\n"
     ]
    }
   ],
   "source": [
    "# Case 2\n",
    "seq1 = \"AATAAT\"\n",
    "seq2= \"AAGG\"\n",
    "m = len(seq1)\n",
    "n = len(seq2)\n",
    "\n",
    "T = np.full([m+1,n+1], None)\n",
    "\n",
    "print(C(m,n,5))\n",
    "print(RecurBackTrack(m,n, seq1, seq2, 5, T))"
   ]
  },
  {
   "cell_type": "code",
   "execution_count": 9,
   "metadata": {},
   "outputs": [
    {
     "name": "stdout",
     "output_type": "stream",
     "text": [
      "20\n",
      "TCCAGAGA T_C_GA_T\n",
      "None\n"
     ]
    }
   ],
   "source": [
    "# Case 3\n",
    "seq1 = \"TCCAGAGA\"\n",
    "seq2= \"TCGAT\" \n",
    "m = len(seq1)\n",
    "n = len(seq2)\n",
    "\n",
    "T = np.full([m+1,n+1], None)\n",
    "\n",
    "print(C(m,n,5))\n",
    "print(RecurBackTrack(m,n, seq1, seq2, 5, T))"
   ]
  },
  {
   "cell_type": "markdown",
   "metadata": {},
   "source": [
    "Definition of the substitution matrix format"
   ]
  },
  {
   "cell_type": "code",
   "execution_count": 15,
   "metadata": {},
   "outputs": [],
   "source": [
    "#this reader assumes phylip-like format in txt file\n",
    "# and that the matrix is DNA related and the nucleotides are in the order A,C,G,T\n",
    "#therefore \"skips\" the first line and first character of each line following the first one\n",
    "def read_subst_mtrx(filename):\n",
    "    subst_mat = np.zeros((4,4))\n",
    "    #skipping the first line\n",
    "    f = open(filename,'r')\n",
    "    f.readline()\n",
    "    for i in range(0,4):\n",
    "        line = f.readline()\n",
    "        nums_in_line = line.split()\n",
    "        for j in range(1,4):\n",
    "            subst_mat[i,j-1] = nums_in_line[j]\n",
    "    f.close()\n",
    "    return subst_mat   "
   ]
  },
  {
   "cell_type": "code",
   "execution_count": null,
   "metadata": {},
   "outputs": [],
   "source": [
    "seq1 = list(read_FASTA(\"C:/Users/alzbe/Documents/AU_Bioinfo_Masters/Spring_2021/AiB/Projects/Project_01/seq1.fasta\").values())[0].lower()\n",
    "seq2 = list(read_FASTA(\"C:/Users/alzbe/Documents/AU_Bioinfo_Masters/Spring_2021/AiB/Projects/Project_01/seq2.fasta\").values())[0].lower()\n",
    "print(seq1)\n",
    "print(seq2)\n",
    "subst_mat = read_subst_mtrx(\"C:/Users/alzbe/Documents/AU_Bioinfo_Masters/Spring_2021/AiB/Projects/Project_02/subst_matrix.txt\")\n",
    "print(subst_mat)"
   ]
  },
  {
   "cell_type": "markdown",
   "metadata": {},
   "source": [
    "Function for linear gapcost with fasta files"
   ]
  },
  {
   "cell_type": "code",
   "execution_count": 26,
   "metadata": {},
   "outputs": [],
   "source": [
    "def global_linear_cost(i,j, seq1, seq2, gap_cost, subst_mat, L):\n",
    "    # if L== np.full([5,5],0):\n",
    "     #   L = np.full([len(seq1)+1,len(seq2)+1], None)\n",
    "    if L[i, j] == None:        \n",
    "        dict_subst = {\"A\":0, \"C\": 1, \"G\":2, \"T\":3}\n",
    "        v1,v2,v3,v4 = sys.maxsize,sys.maxsize,sys.maxsize,sys.maxsize\n",
    "        if i>0 and j>0 : \n",
    "            v1 = global_linear_cost(i-1, j-1, seq1, seq2, gap_cost, subst_mat, L)+subst_mat[dict_subst[seq1[i-1]], dict_subst[seq2[j-1]]]\n",
    "        if i>0 and j>=0 : \n",
    "            v2 = global_linear_cost(i-1, j, seq1, seq2, gap_cost, subst_mat, L)+ gap_cost\n",
    "        if i>=0 and j>0 : \n",
    "            v3 = global_linear_cost(i, j-1, seq1, seq2, gap_cost, subst_mat, L)+ gap_cost\n",
    "        if i==0 and j==0 : \n",
    "            v4 = 0\n",
    "        L[i,j] = min(v1,v2,v3,v4)\n",
    "    return L[i,j] "
   ]
  },
  {
   "cell_type": "code",
   "execution_count": 38,
   "metadata": {},
   "outputs": [],
   "source": [
    "# We redefine the backtrack function such as it writes the output in a fasta file\n",
    "def RecurBackTrack(i,j, seq1, seq2, gap_cost, T, align1=\"\", align2=\"\"):\n",
    "    dict_subst = {\"A\":0, \"C\": 1, \"G\":2, \"T\":3}\n",
    "    if i>0 and j>0 and T[i,j]==T[i-1,j-1]+ subst_mat[dict_subst[seq1[i-1]], dict_subst[seq2[j-1]]] :\n",
    "        align1 = seq1[i-1] + align1\n",
    "        align2 = seq2[j-1] + align2\n",
    "        RecurBackTrack(i-1,j-1,seq1, seq2, gap_cost, T, align1, align2)\n",
    "    elif i>0 and j>=0 and T[i,j]==T[i-1,j]+ gap_cost :\n",
    "        align1 = seq1[i-1] + align1\n",
    "        align2 = \"_\" + align2\n",
    "        RecurBackTrack(i-1,j,seq1, seq2, gap_cost, T, align1, align2)\n",
    "    elif i>=0 and j>0 and T[i,j]==T[i,j-1]+gap_cost :\n",
    "        align1 = \"_\" + align1\n",
    "        align2 = seq2[j-1] + align2\n",
    "        RecurBackTrack(i,j-1, seq1, seq2, gap_cost, T, align1, align2)\n",
    "    else:\n",
    "        f = open('alignment_with_linear_gap_cost.fasta','w')\n",
    "        f.write(\">Seq1 \\n\")\n",
    "        f.write(align1)\n",
    "        f.write(\"\\n \\n>Seq2 \\n\")\n",
    "        f.write(align2)\n",
    "        f.close()\n",
    "        print (align1, align2)\n",
    "        return None"
   ]
  },
  {
   "cell_type": "code",
   "execution_count": 44,
   "metadata": {},
   "outputs": [
    {
     "name": "stdout",
     "output_type": "stream",
     "text": [
      "14\n",
      "14\n",
      "AATAAT AA_GG_\n",
      "None\n"
     ]
    }
   ],
   "source": [
    "# Case 2\n",
    "seq1 = \"AATAAT\"\n",
    "seq2= \"AAGG\"\n",
    "m = len(seq1)\n",
    "n = len(seq2)\n",
    "\n",
    "T = np.full([m+1,n+1], None)\n",
    "\n",
    "print(C(m,n,5))\n",
    "print(global_linear_cost(m,n, seq1, seq2, 5, subst_mat, np.full([m+1,n+1], None)  ))\n",
    "print(RecurBackTrack(m,n,seq1, seq2, 5, T))"
   ]
  },
  {
   "cell_type": "code",
   "execution_count": 29,
   "metadata": {},
   "outputs": [
    {
     "name": "stdout",
     "output_type": "stream",
     "text": [
      "15\n"
     ]
    }
   ],
   "source": [
    "seq1=\"ACCGTA\"\n",
    "seq2= \"AGCTAC\"\n",
    "m=len(seq1)\n",
    "n=len(seq2)\n",
    "print(global_linear_cost(m,n, seq1, seq2, 5, subst_mat, np.full([len(seq1)+1,len(seq2)+1], None)))"
   ]
  },
  {
   "cell_type": "code",
   "execution_count": 30,
   "metadata": {},
   "outputs": [
    {
     "name": "stdout",
     "output_type": "stream",
     "text": [
      "20\n"
     ]
    }
   ],
   "source": [
    "seq1 = \"TCCAGAGA\"\n",
    "seq2= \"TCGAT\" \n",
    "m = len(seq1)\n",
    "n = len(seq2)\n",
    "\n",
    "print(global_linear_cost(m,n, seq1, seq2, 5, subst_mat, np.full([len(seq1)+1,len(seq2)+1], None)))"
   ]
  },
  {
   "cell_type": "markdown",
   "metadata": {},
   "source": [
    "# Affine gap cost"
   ]
  },
  {
   "cell_type": "code",
   "execution_count": 58,
   "metadata": {},
   "outputs": [],
   "source": [
    "#a and b are coefficients for the gap function\n",
    "def global_affine_cost(seq1, seq2, a,b):\n",
    "    dict_subst = {\"A\":0, \"C\": 1, \"G\":2, \"T\":3}\n",
    "    m = len(seq1)\n",
    "    n = len(seq2)\n",
    "    \n",
    "    for i in range(0, m+1):\n",
    "        for j in range(0, n+1):\n",
    "        # Compute D[i,j]\n",
    "            v1,v2 = sys.maxsize,sys.maxsize\n",
    "            if i>0 and j>=0 : \n",
    "                v1 = S[i-1,j]+(a+b)\n",
    "            if i>1 and j>=0:\n",
    "                v2 = D[i-1,j]+a\n",
    "            D[i,j] = min(v1,v2)\n",
    "                    \n",
    "        # Compute I[i,j]\n",
    "            v1,v2 = sys.maxsize,sys.maxsize\n",
    "            if i>=0 and j>0:\n",
    "                v1 = S[i,j-1]+(a+b)\n",
    "            if i>=0 and j>1:\n",
    "                v2 = I[i,j-1]+a\n",
    "            I[i,j] = min(v1,v2)\n",
    "                 \n",
    "        # Compute S[i,j] \n",
    "            v1,v2,v3,v4 = sys.maxsize,sys.maxsize,sys.maxsize,sys.maxsize\n",
    "            if i==0 and j==0 :\n",
    "                v1 = 0                \n",
    "            if i>0 and j>0:\n",
    "                v2 = S[i-1,j-1] + subst_mat[dict_subst[seq1[i-1]], dict_subst[seq2[j-1]]]\n",
    "            if i>0 and j>=0:\n",
    "                v3 = D[i,j]\n",
    "            if i>=0 and j>0:\n",
    "                v4 = I[i,j]\n",
    "            S[i,j] = min(v1,v2,v3,v4)        \n",
    "    return S[i,j]"
   ]
  },
  {
   "cell_type": "code",
   "execution_count": 59,
   "metadata": {},
   "outputs": [],
   "source": [
    "#a and b are the parameters for the affine gap function g(k) = a+b*k\n",
    "def backtrack_affine(seq1, seq2, a, b):\n",
    "    i = len(seq1)\n",
    "    j = len(seq2)\n",
    "    align1 = \"\"\n",
    "    align2 = \"\"\n",
    "    dict_subst = {\"A\":0, \"C\": 1, \"G\":2, \"T\":3}\n",
    "    while (i>0 or j>0):\n",
    "        if (i>0 and j>0) and (S[i,j] == S[i-1,j-1] + subst_mat[dict_subst[seq1[i-1]], dict_subst[seq2[j-1]]]):\n",
    "            align1 = seq1[i-1] + align1\n",
    "            align2 = seq2[j-1] + align2\n",
    "            i = i-1\n",
    "            j = j-1\n",
    "        else:\n",
    "            k = 1\n",
    "            while True:\n",
    "                if i>=k and S[i,j] == S[i-k,j] + (a+b*k):\n",
    "                    l = i\n",
    "                    while(l>=i-k+1):\n",
    "                        align1 = seq1[l-1] + align1\n",
    "                        align2 = \"-\" + align2\n",
    "                        l = l-1\n",
    "                    i = i-k\n",
    "                    break\n",
    "                elif j>=k and S[i,j] == S[i,j-k] + (a+b*k):\n",
    "                    l = j\n",
    "                    while(l>=i-k+1):\n",
    "                        align1 = \"-\" + align1\n",
    "                        align2 = seq2[l-1] + align2\n",
    "                        l = l-1\n",
    "                    j = j-k\n",
    "                    break\n",
    "                else:\n",
    "                    k = k+1\n",
    "    f = open('alignment_with_affine_gap_cost.fasta','w')\n",
    "    f.write(\">Seq1 \\n\")\n",
    "    f.write(align1)\n",
    "    f.write(\"\\n \\n>Seq2 \\n\")\n",
    "    f.write(align2)\n",
    "    f.close()\n",
    "    return align1, align2"
   ]
  },
  {
   "cell_type": "code",
   "execution_count": 60,
   "metadata": {},
   "outputs": [
    {
     "name": "stdout",
     "output_type": "stream",
     "text": [
      "22\n",
      "[[0 10 15 20 25]\n",
      " [10 0 10 15 20]\n",
      " [15 10 0 10 15]\n",
      " [20 15 10 5 15]\n",
      " [25 20 15 12 7]\n",
      " [30 25 20 17 14]\n",
      " [35 30 25 25 22]]\n",
      "('AATAAT', 'A--AGG')\n"
     ]
    }
   ],
   "source": [
    "seq1 = \"AATAAT\"\n",
    "seq2 = \"AAGG\"\n",
    "\n",
    "m = len(seq1)\n",
    "n = len(seq2)\n",
    "\n",
    "S = np.full([m+1,n+1], None)\n",
    "I = np.full([m+1,n+1], None)\n",
    "D = np.full([m+1,n+1], None)\n",
    "\n",
    "print(global_affine_cost(seq1, seq2, 5,5))\n",
    "print(S)\n",
    "print(backtrack_affine(seq1, seq2, 5,5))"
   ]
  },
  {
   "cell_type": "markdown",
   "metadata": {},
   "source": [
    "# Problem 2 : tests"
   ]
  },
  {
   "cell_type": "markdown",
   "metadata": {},
   "source": [
    "## Running time of global_linear_cost"
   ]
  },
  {
   "cell_type": "code",
   "execution_count": null,
   "metadata": {},
   "outputs": [],
   "source": [
    "DNA = 'ACGT'\n",
    "LINE_WIDTH = 60\n",
    "\n",
    "def simulate_string(m):\n",
    "    \"\"\"Simulate a DNA sequence of length m.\"\"\"\n",
    "    nucleotides = [random.choice(DNA) for _ in range(m)]\n",
    "    lines = []\n",
    "    for i in range(0, m, LINE_WIDTH):\n",
    "        lines.append(''.join(nucleotides[i:(i+LINE_WIDTH)]))\n",
    "    return '\\n'.join(lines)"
   ]
  },
  {
   "cell_type": "code",
   "execution_count": null,
   "metadata": {},
   "outputs": [],
   "source": [
    "Ns = [10,50,100,200,300,400,500,1000,1500,2000,2500,3000,3500,4000,4500,5000,5500,6000,6500,7000,7500,8000,8500,9000,9500,10000]\n",
    "of = open(\"eval_times_global_linear_cost.txt\", \"w\")\n",
    "construction_times= {}\n",
    "\n",
    "for n in Ns : \n",
    "    for i in range(10) : \n",
    "            seq1 = simulate_string(n)\n",
    "            seq2 = simulate_string(n)\n",
    "            T = np.full([n+1,n+1], None)\n",
    "            start_time = time.time()\n",
    "            C(n,n,5)\n",
    "            st_const_time = time.time() - start_time\n",
    "            thisline = str(n*n) + \" : \" + str(st_const_time) + \"\\n\"\n",
    "            of.write(thisline)\n",
    "            if (n*n) in construction_times:\n",
    "                construction_times[(n*n)] += [st_const_time]\n",
    "            else:\n",
    "                construction_times[(n*n)] = [st_const_time]\n",
    "\n",
    "\n",
    "construction_mean_times = {k: np.mean(construction_times[k]) for k in construction_times}"
   ]
  },
  {
   "cell_type": "code",
   "execution_count": null,
   "metadata": {},
   "outputs": [],
   "source": [
    "# Construction of the axis data\n",
    "xs = list(construction_mean_times.keys())\n",
    "ys = []\n",
    "for i in range(len(xs)) : \n",
    "    ys.append(construction_mean_times[xs[i]]/xs[i])\n",
    "print(xs,ys)"
   ]
  },
  {
   "cell_type": "code",
   "execution_count": null,
   "metadata": {},
   "outputs": [],
   "source": [
    "plt.plot(xs, ys)\n",
    "plt.xlabel(\"complexity\")\n",
    "plt.ylabel(\"\")\n",
    "plt.title(\" Global linear gap cost\")\n",
    "plt.show()"
   ]
  },
  {
   "cell_type": "markdown",
   "metadata": {},
   "source": [
    "## Running time of global_affine_cost"
   ]
  },
  {
   "cell_type": "code",
   "execution_count": 61,
   "metadata": {},
   "outputs": [],
   "source": [
    "Ns = [10,50,100,200,300,400,500,1000,1500,2000,2500,3000,3500,4000,4500,5000,5500,6000,6500,7000,7500,8000,8500,9000,9500,10000]\n",
    "of = open(\"eval_times_global_affine_cost.txt\", \"w\")\n",
    "construction_times= {}\n",
    "\n",
    "for n in Ns : \n",
    "    for i in range(10) : \n",
    "            seq1 = simulate_string(n)\n",
    "            seq2 = simulate_string(n)\n",
    "            S = np.full([n+1,n+1], None)\n",
    "            I = np.full([n+1,n+1], None)\n",
    "            D = np.full([n+1,n+1], None)\n",
    "            start_time = time.time()\n",
    "            global_affine_cost(seq1, seq2, 5, 5)\n",
    "            st_const_time = time.time() - start_time\n",
    "            thisline = str(n*n) + \" : \" + str(st_const_time) + \"\\n\"\n",
    "            of.write(thisline)\n",
    "            if (n*n) in construction_times:\n",
    "                construction_times[(n*n)] += [st_const_time]\n",
    "            else:\n",
    "                construction_times[(n*n)] = [st_const_time]\n",
    "\n",
    "\n",
    "construction_mean_times = {k: np.mean(construction_times[k]) for k in construction_times}"
   ]
  },
  {
   "cell_type": "code",
   "execution_count": 63,
   "metadata": {},
   "outputs": [
    {
     "name": "stdout",
     "output_type": "stream",
     "text": [
      "[100, 400, 900] [8.976221084594727e-06, 7.985234260559082e-06, 6.302568647596572e-06]\n"
     ]
    },
    {
     "data": {
      "image/png": "[encoded data removed]",
      "text/plain": [
       "<Figure size 432x288 with 1 Axes>"
      ]
     },
     "metadata": {
      "needs_background": "light"
     },
     "output_type": "display_data"
    }
   ],
   "source": [
    "# Construction of the axis data\n",
    "xs = list(construction_mean_times.keys())\n",
    "ys = []\n",
    "for i in range(len(xs)) : \n",
    "    ys.append(construction_mean_times[xs[i]]/xs[i])\n",
    "print(xs,ys)\n",
    "\n",
    "# Plot\n",
    "plt.plot(xs, ys)\n",
    "plt.xlabel(\"complexity\")\n",
    "plt.ylabel(\"\")\n",
    "plt.title(\" Global affine gap cost\")\n",
    "plt.show()"
   ]
  },
  {
   "cell_type": "markdown",
   "metadata": {},
   "source": [
    "## Compare the running time for computing an optimal alignment using linear gap cost in quadratic space and the running time for computing an optimal alignment using affine gap cost"
   ]
  },
  {
   "cell_type": "code",
   "execution_count": null,
   "metadata": {},
   "outputs": [],
   "source": [
    "Ns = [10,50,100,200,300,400,500,1000,1500,2000,2500,3000,3500,4000,4500,5000,5500,6000,6500,7000,7500,8000,8500,9000,9500,10000]\n",
    "oa = open(\"affine_backtracking_time.txt\", \"w\")\n",
    "ol = open(\"linear_backtracking_time.txt\", \"w\")\n",
    "affine_times = {}\n",
    "linear_times = {}\n",
    "\n",
    "for n in Ns : \n",
    "    for i in range(10) : \n",
    "            seq1 = simulate_string(n)\n",
    "            seq2 = simulate_string(n)\n",
    "            \n",
    "            # Affine backtracking\n",
    "            S = np.full([n+1,n+1], None)\n",
    "            I = np.full([n+1,n+1], None)\n",
    "            D = np.full([n+1,n+1], None)\n",
    "            global_affine_cost(seq1, seq2, 5, 5)\n",
    "            start_time_affine = time.time()\n",
    "            backtrack_affine(seq1, seq2, 5, 5)\n",
    "            affine_backtrack_time = time.time() - start_time_affine\n",
    "            thisline = str(n) + \" : \" + str(affine_backtrack_time) + \"\\n\"\n",
    "            oa.write(thisline)\n",
    "            if (n) in affine_times:\n",
    "                affine_times[(n)] += [affine_backtrack_time]\n",
    "            else:\n",
    "                affine_times[(n)] = [affine_backtrack_time]\n",
    "                \n",
    "            # Linear backtracking\n",
    "            T = np.full([n+1,n+1], None)\n",
    "            global_linear_cost(n,n, seq1, seq2, 5, subst_mat, T) \n",
    "            start_time_linear = time.time()\n",
    "            linear_backtrack_time = time.time() - start_time_linear\n",
    "            thisline = str(n) + \" : \" + str(linear_backtrack_time) + \"\\n\"\n",
    "            ol.write(thisline)\n",
    "            if (n) in linear_times:\n",
    "                linear_times[(n)] += [linear_backtrack_time]\n",
    "            else:\n",
    "                linear_times[(n)] = [linear_backtrack_time]\n",
    "\n",
    "affine_mean_times = {k: np.mean(affine_times[k]) for k in affine_times}\n",
    "linear_mean_times = {k: np.mean(linear_times[k]) for k in linear_times}"
   ]
  }
 ],
 "metadata": {
  "kernelspec": {
   "display_name": "Python 3",
   "language": "python",
   "name": "python3"
  },
  "language_info": {
   "codemirror_mode": {
    "name": "ipython",
    "version": 3
   },
   "file_extension": ".py",
   "mimetype": "text/x-python",
   "name": "python",
   "nbconvert_exporter": "python",
   "pygments_lexer": "ipython3",
   "version": "3.8.5"
  }
 },
 "nbformat": 4,
 "nbformat_minor": 4
}
