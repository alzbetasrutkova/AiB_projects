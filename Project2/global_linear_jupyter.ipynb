{
 "cells": [
  {
   "cell_type": "code",
   "execution_count": 1,
   "metadata": {},
   "outputs": [],
   "source": [
    "import numpy as np\n",
    "import sys\n",
    "import math\n",
    "from Bio import SeqIO\n",
    "import random\n",
    "import matplotlib.pyplot as plt\n",
    "import os\n",
    "import time"
   ]
  },
  {
   "cell_type": "code",
   "execution_count": 2,
   "metadata": {},
   "outputs": [],
   "source": [
    "def read_FASTA(filename):\n",
    "    records_dict = {}\n",
    "    for seq_record in SeqIO.parse(filename, \"fasta\"):\n",
    "        records_dict[seq_record.id] = seq_record.seq        \n",
    "    return records_dict"
   ]
  },
  {
   "cell_type": "code",
   "execution_count": 3,
   "metadata": {},
   "outputs": [],
   "source": [
    "#this reader assumes phylip-like format in txt file\n",
    "# and that the matrix is DNA related and the nucleotides are in the order A,C,G,T\n",
    "#therefore \"skips\" the first line and first character of each line following the first one\n",
    "def read_subst_mtrx(filename):\n",
    "    subst_mat = np.zeros((4,4))\n",
    "    #skipping the first line\n",
    "    f = open(filename,'r')\n",
    "    f.readline()\n",
    "    for i in range(0,4):\n",
    "        line = f.readline()\n",
    "        nums_in_line = line.split()\n",
    "        for j in range(1,5):\n",
    "            subst_mat[i,j-1] = nums_in_line[j]\n",
    "    f.close()\n",
    "    return subst_mat   "
   ]
  },
  {
   "cell_type": "code",
   "execution_count": 4,
   "metadata": {},
   "outputs": [],
   "source": [
    "def global_linear_cost(seq1, seq2, gap_cost, subst_mat, L, i, j):\n",
    "    if L[i, j] == None:        \n",
    "        dict_subst = {\"A\":0, \"C\": 1, \"G\":2, \"T\":3}\n",
    "        v1,v2,v3,v4 = sys.maxsize,sys.maxsize,sys.maxsize,sys.maxsize\n",
    "        if i>0 and j>0 : \n",
    "            v1 = global_linear_cost(seq1, seq2, gap_cost, subst_mat, L, i-1, j-1)+subst_mat[dict_subst[seq1[i-1]], dict_subst[seq2[j-1]]]\n",
    "        if i>0 and j>=0 : \n",
    "            v2 = global_linear_cost(seq1, seq2, gap_cost, subst_mat, L, i-1, j)+ gap_cost\n",
    "        if i>=0 and j>0 : \n",
    "            v3 = global_linear_cost(seq1, seq2, gap_cost, subst_mat, L, i, j-1)+ gap_cost\n",
    "        if i==0 and j==0 : \n",
    "            v4 = 0\n",
    "        L[i,j] = min(v1,v2,v3,v4)\n",
    "    return L[i,j] "
   ]
  },
  {
   "cell_type": "code",
   "execution_count": 7,
   "metadata": {},
   "outputs": [],
   "source": [
    "def RecurBackTrack(seq1, seq2, gap_cost, subst_mat, T, i, j, align1=\"\", align2=\"\"):\n",
    "    dict_subst = {\"A\":0, \"C\": 1, \"G\":2, \"T\":3}\n",
    "        \n",
    "    if i>0 and j>0 and T[i,j]==T[i-1,j-1]+ subst_mat[dict_subst[seq1[i-1]], dict_subst[seq2[j-1]]] :\n",
    "        align1 = seq1[i-1] + align1\n",
    "        align2 = seq2[j-1] + align2\n",
    "        RecurBackTrack(seq1, seq2, gap_cost, subst_mat, T,i-1, j-1, align1, align2)\n",
    "    elif i>0 and j>=0 and T[i,j]==T[i-1,j]+ gap_cost :\n",
    "        align1 = seq1[i-1] + align1\n",
    "        align2 = \"_\" + align2\n",
    "        RecurBackTrack(seq1, seq2, gap_cost, subst_mat, T, i-1, j, align1, align2)\n",
    "    elif i>=0 and j>0 and T[i,j]==T[i,j-1]+gap_cost :\n",
    "        align1 = \"_\" + align1\n",
    "        align2 = seq2[j-1] + align2\n",
    "        RecurBackTrack(seq1, seq2, gap_cost, subst_mat, T, i, j-1, align1, align2)\n",
    "    else:\n",
    "        f = open('alignment_with_linear_gap_cost.fasta','w')\n",
    "        f.write(\">Seq1 \\n\")\n",
    "        f.write(align1)\n",
    "        f.write(\"\\n \\n>Seq2 \\n\")\n",
    "        f.write(align2)\n",
    "        f.close()\n",
    "        print(\">Seq1\")\n",
    "        print (align1)\n",
    "        print(\">Seq2\")\n",
    "        print(align2)\n",
    "        return None"
   ]
  },
  {
   "cell_type": "code",
   "execution_count": 14,
   "metadata": {},
   "outputs": [],
   "source": [
    "def global_linear(seq1_filename,seq2_filename,subst_matrx_filename,gap_cost,align):\n",
    "    if len(seq1_filename)>5 and seq1_filename[-5:]==\"fasta\" : \n",
    "        seq1 = list(read_FASTA(seq1_filename).values())[0].upper()\n",
    "    else : \n",
    "        seq1 = seq1_filename.upper()\n",
    "    if len(seq2_filename)>5 and seq2_filename[-5:]==\"fasta\":\n",
    "        seq2 = list(read_FASTA(seq2_filename).values())[0].upper()\n",
    "    else : \n",
    "        seq2 = seq2_filename.upper()\n",
    "    subst_mat = read_subst_mtrx(subst_matrx_filename)\n",
    "    \n",
    "    n = len(seq1)\n",
    "    m = len(seq2)\n",
    "    T = np.full([n+1,m+1], None)\n",
    "\n",
    "    C = global_linear_cost(seq1, seq2, gap_cost, subst_mat, T, n, m)\n",
    "    print()\n",
    "    print(C)\n",
    "    print()\n",
    "    \n",
    "    if align:\n",
    "        RecurBackTrack(seq1, seq2, gap_cost, subst_mat, T, n, m)"
   ]
  },
  {
   "cell_type": "code",
   "execution_count": 15,
   "metadata": {},
   "outputs": [
    {
     "name": "stdout",
     "output_type": "stream",
     "text": [
      "\n",
      "325.0\n",
      "\n",
      ">Seq1\n",
      "GGCCTAAAGGCGCCGGTCTTTCGTACCCCAAAATCTCG_GCATTTTAAGATAA_GTGAGTGTTGCGTTACACTAGCGATCTACCGCGTCTTATACT_TAAGCG_TATGCCC_AGATCTGA_CTAATCGTGCCCCCGGATTAGACGGGCTTGATGGGAAAGAACA__G_CTC_G__TCTGTTTACGTATAAACAGAATCGCCTGGGTTCGC\n",
      ">Seq2\n",
      "GGGCTAAAGGTTAGGGTCTTTCACACTAAAGAGTGGTGCGTATCGT_GGCTAATGT_ACCGCTTC_TGGTATC_GTGGCTTA_CG_GCCAGAC_CTACAAGTACTAGACCTGAGAACTAATCTTGTCGAGCCTTC_CATT_GA_GGG__TAATGGGAGAGAACATCGAGTCAGAAGTTATTCTTGTTTACGTAGAATCGCCTGGGTCCGC\n"
     ]
    }
   ],
   "source": [
    "seq1 = \"C:/Users/lenab/Documents/AU/Algorithms_in_bioinformatics/Week_1/seq1.fasta\"\n",
    "seq2 = \"C:/Users/lenab/Documents/AU/Algorithms_in_bioinformatics/Week_1/seq2.fasta\"\n",
    "subst_mat = \"C:/Users/lenab/Documents/AU/Algorithms_in_bioinformatics/Brouillons_projets/mat.txt\"\n",
    "global_linear(seq1, seq2, subst_mat, 5, True)"
   ]
  },
  {
   "cell_type": "code",
   "execution_count": 16,
   "metadata": {},
   "outputs": [
    {
     "name": "stdout",
     "output_type": "stream",
     "text": [
      "\n",
      "14.0\n",
      "\n",
      ">Seq1\n",
      "AATAAT\n",
      ">Seq2\n",
      "AA_GG_\n"
     ]
    }
   ],
   "source": [
    "seq1 = \"AATAAT\"\n",
    "seq2= \"AAGG\"\n",
    "subst_mat = \"C:/Users/lenab/Documents/AU/Algorithms_in_bioinformatics/Brouillons_projets/mat.txt\"\n",
    "global_linear(seq1, seq2, subst_mat, 5, True)"
   ]
  }
 ],
 "metadata": {
  "kernelspec": {
   "display_name": "Python 3",
   "language": "python",
   "name": "python3"
  },
  "language_info": {
   "codemirror_mode": {
    "name": "ipython",
    "version": 3
   },
   "file_extension": ".py",
   "mimetype": "text/x-python",
   "name": "python",
   "nbconvert_exporter": "python",
   "pygments_lexer": "ipython3",
   "version": "3.8.5"
  }
 },
 "nbformat": 4,
 "nbformat_minor": 4
}
