{
 "cells": [
  {
   "cell_type": "code",
   "execution_count": 33,
   "metadata": {},
   "outputs": [],
   "source": [
    "import numpy as np\n",
    "subst_mat = np.array([\n",
    "        [0,5,2,5],\n",
    "        [5,0,5,2],\n",
    "        [2,5,0,5],\n",
    "        [5,2,5,0]\n",
    "    ])"
   ]
  },
  {
   "cell_type": "code",
   "execution_count": 43,
   "metadata": {},
   "outputs": [],
   "source": [
    "#a is the gap cost\n",
    "#now we are looking for the MIN cost\n",
    "import sys\n",
    "def C(i,j,a):\n",
    "    if T[i, j] == None:        \n",
    "        dict_subst = {\"A\":0, \"C\": 1, \"G\":2, \"T\":3}\n",
    "        v1,v2,v3,v4 = sys.maxsize,sys.maxsize,sys.maxsize,sys.maxsize\n",
    "        if i>0 and j>0 : \n",
    "            v1 = C(i-1,j-1,a)+subst_mat[dict_subst[seq1[i-1]], dict_subst[seq2[j-1]]]\n",
    "        if i>0 and j>=0 : \n",
    "            v2 = C(i-1,j,a)+a\n",
    "        if i>=0 and j>0 : \n",
    "            v3 = C(i, j-1,a)+a\n",
    "        if i==0 and j==0 : \n",
    "            v4 = 0\n",
    "        T[i,j] = min(v1,v2,v3,v4)\n",
    "    return T[i,j] "
   ]
  },
  {
   "cell_type": "code",
   "execution_count": 9,
   "metadata": {},
   "outputs": [],
   "source": [
    "#not working properly\n",
    "def backtrack(i,j, align1,align2):\n",
    "    #print(align1)\n",
    "    #print(align2)    \n",
    "    dict_subst = {\"A\":0, \"C\": 1, \"G\":2, \"T\":3}\n",
    "    if i>0 and j>0 and T[i,j] == T[i-1,j-1] + subst_mat[dict_subst[seq1[i-1]], dict_subst[seq2[j-1]]]:   \n",
    "        align1 = seq1[i-1] + align1\n",
    "        align2 = seq2[j-1] + align2\n",
    "        backtrack(i-1,j-1,align1,align2)\n",
    "    if i>0 and j>=0 and T[i,j] == T[i-1,j]-5:        \n",
    "        align1 = seq1[i-1] + align1\n",
    "        align2 = \"-\" + align2\n",
    "        backtrack(i-1,j,align1,align2)\n",
    "    if i>=0 and j>0 and T[i,j] == T[i,j-1]-5:\n",
    "        align1 = \"-\" + align1\n",
    "        align2 = seq2[j-1] + align2\n",
    "        backtrack(i,j-1,align1,align2) \n",
    "    return align1,align2"
   ]
  },
  {
   "cell_type": "code",
   "execution_count": 44,
   "metadata": {},
   "outputs": [
    {
     "name": "stdout",
     "output_type": "stream",
     "text": [
      "14\n",
      "[[0 5 10 15 20]\n",
      " [5 0 5 10 15]\n",
      " [10 5 0 5 10]\n",
      " [15 10 5 5 10]\n",
      " [20 15 10 7 7]\n",
      " [25 20 15 12 9]\n",
      " [30 25 20 17 14]]\n"
     ]
    }
   ],
   "source": [
    "seq1 = \"AATAAT\"\n",
    "seq2 = \"AAGG\"\n",
    "\n",
    "m = len(seq1)\n",
    "n = len(seq2)\n",
    "\n",
    "T = np.full([m+1,n+1], None)\n",
    "\n",
    "align1 = \"\"\n",
    "align2 = \"\"\n",
    "\n",
    "print(C(m,n,5))\n",
    "print(T)\n",
    "#import sys\n",
    "#print(sys.maxsize)\n",
    "#backtrack(m,n,align1,align2)"
   ]
  },
  {
   "cell_type": "code",
   "execution_count": 7,
   "metadata": {},
   "outputs": [],
   "source": [
    "import Bio"
   ]
  },
  {
   "cell_type": "code",
   "execution_count": 8,
   "metadata": {},
   "outputs": [],
   "source": [
    "from Bio import SeqIO\n",
    "import numpy as np\n",
    "\n",
    "def read_FASTA(filename):\n",
    "    records_dict = {}\n",
    "    for seq_record in SeqIO.parse(filename, \"fasta\"):\n",
    "        records_dict[seq_record.id] = seq_record.seq        \n",
    "    return records_dict"
   ]
  },
  {
   "cell_type": "code",
   "execution_count": 9,
   "metadata": {},
   "outputs": [
    {
     "name": "stdout",
     "output_type": "stream",
     "text": [
      "GGCCTAAAGGCGCCGGTCTTTCGTACCCCAAAATCTCGGCATTTTAAGATAAGTGAGTGTTGCGTTACACTAGCGATCTACCGCGTCTTATACTTAAGCGTATGCCCAGATCTGACTAATCGTGCCCCCGGATTAGACGGGCTTGATGGGAAAGAACAGCTCGTCTGTTTACGTATAAACAGAATCGCCTGGGTTCGC\n",
      "GGGCTAAAGGTTAGGGTCTTTCACACTAAAGAGTGGTGCGTATCGTGGCTAATGTACCGCTTCTGGTATCGTGGCTTACGGCCAGACCTACAAGTACTAGACCTGAGAACTAATCTTGTCGAGCCTTCCATTGAGGGTAATGGGAGAGAACATCGAGTCAGAAGTTATTCTTGTTTACGTAGAATCGCCTGGGTCCGC\n"
     ]
    }
   ],
   "source": [
    "seq1 = list(read_FASTA(\"seq1.fasta\").values())[0]\n",
    "seq2 = list(read_FASTA(\"seq2.fasta\").values())[0]\n",
    "print(seq1)\n",
    "print(seq2)"
   ]
  },
  {
   "cell_type": "code",
   "execution_count": 10,
   "metadata": {},
   "outputs": [
    {
     "name": "stdout",
     "output_type": "stream",
     "text": [
      "1346\n"
     ]
    }
   ],
   "source": [
    "m = len(seq1)\n",
    "n = len(seq2)\n",
    "\n",
    "T = np.full([m+1,n+1], None)\n",
    "B = np.full([m+1,n+1], None)\n",
    "\n",
    "print(C(m,n))\n",
    "#print(T)"
   ]
  }
 ],
 "metadata": {
  "kernelspec": {
   "display_name": "Python 3",
   "language": "python",
   "name": "python3"
  },
  "language_info": {
   "codemirror_mode": {
    "name": "ipython",
    "version": 3
   },
   "file_extension": ".py",
   "mimetype": "text/x-python",
   "name": "python",
   "nbconvert_exporter": "python",
   "pygments_lexer": "ipython3",
   "version": "3.8.5"
  }
 },
 "nbformat": 4,
 "nbformat_minor": 4
}
